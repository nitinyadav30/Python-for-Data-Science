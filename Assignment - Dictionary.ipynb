{
 "cells": [
  {
   "cell_type": "code",
   "execution_count": 2,
   "id": "f8f7270d",
   "metadata": {},
   "outputs": [
    {
     "name": "stdout",
     "output_type": "stream",
     "text": [
      "Empty Dict is:  {}\n"
     ]
    }
   ],
   "source": [
    "#Question 1: Write a Python program to create an empty dictionary.\n",
    "dict = {}\n",
    "print(\"Empty Dict is: \", dict)"
   ]
  },
  {
   "cell_type": "code",
   "execution_count": 4,
   "id": "1d1840f8",
   "metadata": {},
   "outputs": [
    {
     "data": {
      "text/plain": [
       "{'Location': 'Indore', 'name': 'nitin'}"
      ]
     },
     "execution_count": 4,
     "metadata": {},
     "output_type": "execute_result"
    }
   ],
   "source": [
    "#Question 2: Write a Python program to add a key-value pair to a dictionary.\n",
    "dict = {\"Location\": \"Indore\"}\n",
    "dict[\"name\"]='nitin'\n",
    "print(dict)"
   ]
  },
  {
   "cell_type": "code",
   "execution_count": 6,
   "id": "46e76831",
   "metadata": {},
   "outputs": [
    {
     "name": "stdout",
     "output_type": "stream",
     "text": [
      "{'Location': 'Indore'}\n"
     ]
    }
   ],
   "source": [
    "#Question 3: Write a Python program to remove a key-value pair from a dictionary.\n",
    "dict = {'Location': 'Indore', 'name': 'nitin'}\n",
    "dict.pop(\"name\")\n",
    "print(dict)"
   ]
  },
  {
   "cell_type": "code",
   "execution_count": 19,
   "id": "f77943bb",
   "metadata": {},
   "outputs": [
    {
     "name": "stdout",
     "output_type": "stream",
     "text": [
      "Please enter a key herename\n",
      "the given key does exist in the dict\n"
     ]
    }
   ],
   "source": [
    "#Question 4: Write a Python program to check if a key exists in a dictionary.\n",
    "dict = {'Location': 'Indore', 'name': 'nitin', 'Work': 'Private', 'Profile': 'public'}\n",
    "key = str(input(\"Please enter a key here\"))\n",
    "if key in dict.keys():\n",
    "    print(\"the given key does exist in the dict\")\n",
    "else: \n",
    "    print(\"Entered key is not present in the dict\")"
   ]
  },
  {
   "cell_type": "code",
   "execution_count": 22,
   "id": "052958ab",
   "metadata": {},
   "outputs": [
    {
     "name": "stdout",
     "output_type": "stream",
     "text": [
      "('Location', 'Indore')\n",
      "('name', 'nitin')\n",
      "('Work', 'Private')\n",
      "('Profile', 'public')\n"
     ]
    }
   ],
   "source": [
    "#Question 5: Write a Python program to iterate over the keys and values of a dictionary.\n",
    "dict = {'Location': 'Indore', 'name': 'nitin', 'Work': 'Private', 'Profile': 'public'}\n",
    "for i in dict.items():\n",
    "    print(i)"
   ]
  },
  {
   "cell_type": "code",
   "execution_count": 9,
   "id": "51a1d681",
   "metadata": {},
   "outputs": [
    {
     "name": "stdout",
     "output_type": "stream",
     "text": [
      "2\n"
     ]
    }
   ],
   "source": [
    "#Question 6: Write a Python program to find the length of a dictionary.\n",
    "dict = {'Location': 'Indore', 'name': 'nitin'}\n",
    "print(len(dict))"
   ]
  },
  {
   "cell_type": "code",
   "execution_count": 17,
   "id": "bd6ab062",
   "metadata": {},
   "outputs": [
    {
     "name": "stdout",
     "output_type": "stream",
     "text": [
      "{'Location': 'Indore', 'name': 'nitin', 'Work': 'Private', 'Profile': 'public'}\n"
     ]
    }
   ],
   "source": [
    "#Question 7: Write a Python program to merge two dictionaries.\n",
    "dict1 = {'Location': 'Indore', 'name': 'nitin'}\n",
    "dict2 = {'Work': 'Private', 'Profile': 'public'}\n",
    "dict3 = (dict1|dict2)\n",
    "print(dict3)"
   ]
  },
  {
   "cell_type": "code",
   "execution_count": 24,
   "id": "539ecfb2",
   "metadata": {},
   "outputs": [
    {
     "data": {
      "text/plain": [
       "'Jadeja'"
      ]
     },
     "execution_count": 24,
     "metadata": {},
     "output_type": "execute_result"
    }
   ],
   "source": [
    "#Question 8: Write a Python program to find the maximum and minimum values in a dictionary.\n",
    "dict = {\"Sachin\": 70, \"Rohit\": 66, \"Kohli\": 85, \"Jadeja\": 105}\n",
    "max(dict, key=dict.get)"
   ]
  },
  {
   "cell_type": "code",
   "execution_count": 37,
   "id": "97b9b0e8",
   "metadata": {},
   "outputs": [
    {
     "name": "stdout",
     "output_type": "stream",
     "text": [
      "Please enter a value:85\n",
      "the count of the given value is 2\n"
     ]
    }
   ],
   "source": [
    "#Question 9: Write a Python program to count the occurrences of each value in a dictionary.\n",
    "dict = {\"Sachin\": 70, \"Rohit\": 66, \"Kohli\": 85, \"Jadeja\": 105, \"Ashwin\":85}\n",
    "value = dict.values()\n",
    "value\n",
    "input_value = int(input(\"Please enter a value:\"))\n",
    "count=0\n",
    "for i in value:\n",
    "    if i==input_value:\n",
    "        count+=1\n",
    "print(\"the count of the given value is\", count)"
   ]
  },
  {
   "cell_type": "code",
   "execution_count": 26,
   "id": "f362cb03",
   "metadata": {},
   "outputs": [
    {
     "name": "stdout",
     "output_type": "stream",
     "text": [
      "['Indore', 'Private', 'nitin', 'public']\n"
     ]
    }
   ],
   "source": [
    "#Question 10: Write a Python program to sort a dictionary by its values.\n",
    "dict = {'Location': 'Indore', 'name': 'nitin', 'Work': 'Private', 'Profile': 'public'}\n",
    "print(sorted(dict.values()))"
   ]
  },
  {
   "cell_type": "code",
   "execution_count": null,
   "id": "7ca192ff",
   "metadata": {},
   "outputs": [],
   "source": []
  }
 ],
 "metadata": {
  "kernelspec": {
   "display_name": "Python 3 (ipykernel)",
   "language": "python",
   "name": "python3"
  },
  "language_info": {
   "codemirror_mode": {
    "name": "ipython",
    "version": 3
   },
   "file_extension": ".py",
   "mimetype": "text/x-python",
   "name": "python",
   "nbconvert_exporter": "python",
   "pygments_lexer": "ipython3",
   "version": "3.10.9"
  }
 },
 "nbformat": 4,
 "nbformat_minor": 5
}
