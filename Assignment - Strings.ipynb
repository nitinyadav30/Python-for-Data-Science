{
 "cells": [
  {
   "cell_type": "code",
   "execution_count": 2,
   "id": "3278d33c",
   "metadata": {},
   "outputs": [
    {
     "data": {
      "text/plain": [
       "11"
      ]
     },
     "execution_count": 2,
     "metadata": {},
     "output_type": "execute_result"
    }
   ],
   "source": [
    "#Question 1: Write a Python program to count the number of characters in a string.\n",
    "a = 'Nitin Yadav'\n",
    "len(a)"
   ]
  },
  {
   "cell_type": "code",
   "execution_count": 6,
   "id": "23d46ed1",
   "metadata": {},
   "outputs": [
    {
     "name": "stdout",
     "output_type": "stream",
     "text": [
      "Nitin\n",
      "The number of characters in the above string are:  5\n"
     ]
    }
   ],
   "source": [
    "a = str(input())\n",
    "print(\"The number of characters in the above string are: \", len(a))"
   ]
  },
  {
   "cell_type": "code",
   "execution_count": 7,
   "id": "82491727",
   "metadata": {},
   "outputs": [
    {
     "name": "stdout",
     "output_type": "stream",
     "text": [
      "vaday nitiN\n"
     ]
    }
   ],
   "source": [
    "#Question 2: Write a Python program to reverse a string.\n",
    "a = 'Nitin yadav'\n"
   ]
  },
  {
   "cell_type": "code",
   "execution_count": 8,
   "id": "5ac66959",
   "metadata": {},
   "outputs": [
    {
     "name": "stdout",
     "output_type": "stream",
     "text": [
      "Nitin Y\n",
      "Y nitiN\n"
     ]
    }
   ],
   "source": [
    "a = str(input())\n",
    "print(a[::-1])"
   ]
  },
  {
   "cell_type": "code",
   "execution_count": 9,
   "id": "d02e5792",
   "metadata": {},
   "outputs": [
    {
     "name": "stdout",
     "output_type": "stream",
     "text": [
      "The given string is palindrome\n"
     ]
    }
   ],
   "source": [
    "#Question 3: Write a Python program to check if a string is a palindrome.\n",
    "a = \"nitin\"\n",
    "b = a[::-1]\n",
    "if a == b:\n",
    "    print('The given string is palindrome')\n",
    "else:\n",
    "    print('The given string is not palindrome')"
   ]
  },
  {
   "cell_type": "code",
   "execution_count": 13,
   "id": "16aef636",
   "metadata": {},
   "outputs": [
    {
     "name": "stdout",
     "output_type": "stream",
     "text": [
      "yadav\n",
      "The given string is not palindrome\n"
     ]
    }
   ],
   "source": [
    "a = str(input())\n",
    "b = a[::-1]\n",
    "if a == b:\n",
    "    print('The given string is palindrome')\n",
    "else:\n",
    "    print('The given string is not palindrome')"
   ]
  },
  {
   "cell_type": "code",
   "execution_count": 77,
   "id": "daa11fe9",
   "metadata": {},
   "outputs": [
    {
     "name": "stdout",
     "output_type": "stream",
     "text": [
      "{'i': 3, ' ': 2, 'a': 1, 'm': 1, 'n': 2, 't': 1}\n",
      "The most common charater in the given string is:  i\n"
     ]
    }
   ],
   "source": [
    "#Question 4: Write a Python program to find the most common character in a string.\n",
    "#string = str(input(\"Please enter a string: \"))\n",
    "string = 'i am nitin'\n",
    "freq = {}\n",
    "for i in string:\n",
    "    if i in freq:\n",
    "        freq[i] += 1\n",
    "    else:\n",
    "        freq[i] = 1\n",
    "print(freq)\n",
    "a = max(freq, key=freq.get)\n",
    "print(\"The most common charater in the given string is: \", a)"
   ]
  },
  {
   "cell_type": "code",
   "execution_count": 79,
   "id": "e6094f7c",
   "metadata": {},
   "outputs": [
    {
     "name": "stdout",
     "output_type": "stream",
     "text": [
      "Please enter a string: i play cricket\n",
      "{'i': 2, ' ': 2, 'p': 1, 'l': 1, 'a': 1, 'y': 1, 'c': 2, 'r': 1, 'k': 1, 'e': 1, 't': 1}\n",
      "The most common charater in the given string is:  i\n"
     ]
    }
   ],
   "source": [
    "string = str(input(\"Please enter a string: \"))\n",
    "freq = {}\n",
    "for i in string:\n",
    "    if i in freq:\n",
    "        freq[i] += 1\n",
    "    else:\n",
    "        freq[i] = 1\n",
    "print(freq)\n",
    "a = max(freq, key=freq.get)\n",
    "print(\"The most common charater in the given string is: \", a)"
   ]
  },
  {
   "cell_type": "code",
   "execution_count": 29,
   "id": "8d2c0e14",
   "metadata": {},
   "outputs": [
    {
     "name": "stdout",
     "output_type": "stream",
     "text": [
      "nitin\n",
      "patel\n",
      "The given strings are not Anagram\n"
     ]
    }
   ],
   "source": [
    "#Question 5: Write a Python program to check if two strings are anagrams.\n",
    "a = str(input())\n",
    "b = str(input())\n",
    "if len(a)!=len(b):\n",
    "    print(\"The given strings are not Anagram\")\n",
    "else:\n",
    "    if sorted(a)==sorted(b):\n",
    "        print(\"The given strings are Anagram\")\n",
    "    else:\n",
    "        print(\"The given strings are not Anagram\")"
   ]
  },
  {
   "cell_type": "code",
   "execution_count": 81,
   "id": "3bca4da6",
   "metadata": {},
   "outputs": [
    {
     "name": "stdout",
     "output_type": "stream",
     "text": [
      "Ntn Ydv\n"
     ]
    }
   ],
   "source": [
    "#Question 6: Write a Python program to remove all the vowels from a string.\n",
    "a = \"Nitin Yadav\"\n",
    "for i in a:\n",
    "    if i in \"AEIOUaeiou\":\n",
    "        a = a.replace(i, '')\n",
    "print(a)"
   ]
  },
  {
   "cell_type": "code",
   "execution_count": 91,
   "id": "04988381",
   "metadata": {},
   "outputs": [
    {
     "name": "stdout",
     "output_type": "stream",
     "text": [
      "Indore\n"
     ]
    }
   ],
   "source": [
    "#Question 7: Write a Python program to find the longest word in a string.\n",
    "#string = str(input())\n",
    "string = \"I am Nitin Yadav from Indore\"\n",
    "s = string.split()\n",
    "count = 0\n",
    "for i in s:\n",
    "    if len(i)>count:\n",
    "        count = len(i)\n",
    "        word = i\n",
    "print(word)        "
   ]
  },
  {
   "cell_type": "code",
   "execution_count": 93,
   "id": "38ce46ea",
   "metadata": {},
   "outputs": [
    {
     "name": "stdout",
     "output_type": "stream",
     "text": [
      "I am learning data science from Top Mentor\n",
      "The longest word in the given string is:  learning\n"
     ]
    }
   ],
   "source": [
    "string = str(input())\n",
    "s = string.split()\n",
    "count = 0\n",
    "for i in s:\n",
    "    if len(i)>count:\n",
    "        count = len(i)\n",
    "        word = i\n",
    "print(\"The longest word in the given string is: \", word)        "
   ]
  },
  {
   "cell_type": "code",
   "execution_count": 14,
   "id": "c30720f6",
   "metadata": {},
   "outputs": [
    {
     "data": {
      "text/plain": [
       "'Nitin Yadav'"
      ]
     },
     "execution_count": 14,
     "metadata": {},
     "output_type": "execute_result"
    }
   ],
   "source": [
    "#Question 8: Write a Python program to capitalize the first letter of each word in a string.\n",
    "a = \"nitin yadav\"\n",
    "print(a.title())"
   ]
  },
  {
   "cell_type": "code",
   "execution_count": 16,
   "id": "9ce573cd",
   "metadata": {},
   "outputs": [
    {
     "name": "stdout",
     "output_type": "stream",
     "text": [
      "i am nitin yadav\n",
      "I Am Nitin Yadav\n"
     ]
    }
   ],
   "source": [
    "a = str(input())\n",
    "print(a.title())"
   ]
  },
  {
   "cell_type": "code",
   "execution_count": 46,
   "id": "bcf18575",
   "metadata": {},
   "outputs": [
    {
     "name": "stdout",
     "output_type": "stream",
     "text": [
      "{'i': 3, ' ': 3, 'a': 3, 'm': 1, 'n': 2, 't': 1, 'y': 1, 'd': 1, 'v': 1}\n"
     ]
    }
   ],
   "source": [
    "#Question 9: Write a Python program to find the frequency of each character in a string.\n",
    "string = 'i am nitin yadav'\n",
    "freq = {}\n",
    "for i in string:\n",
    "    if i in freq:\n",
    "        freq[i] += 1\n",
    "    else:\n",
    "        freq[i] = 1\n",
    "print(freq)"
   ]
  },
  {
   "cell_type": "code",
   "execution_count": 47,
   "id": "519e80b1",
   "metadata": {},
   "outputs": [
    {
     "name": "stdout",
     "output_type": "stream",
     "text": [
      "Please enter a string: i am nitin Yadav\n",
      "{'i': 3, ' ': 3, 'a': 3, 'm': 1, 'n': 2, 't': 1, 'Y': 1, 'd': 1, 'v': 1}\n"
     ]
    }
   ],
   "source": [
    "string = str(input(\"Please enter a string: \"))\n",
    "freq = {}\n",
    "for i in string:\n",
    "    if i in freq:\n",
    "        freq[i] += 1\n",
    "    else:\n",
    "        freq[i] = 1\n",
    "print(freq)"
   ]
  },
  {
   "cell_type": "code",
   "execution_count": null,
   "id": "db17a2ec",
   "metadata": {},
   "outputs": [],
   "source": [
    "#Question 10: Write a Python program to check if a string is a valid email address.\n",
    "email = str(input(\"Please enter your email id: \"))\n"
   ]
  }
 ],
 "metadata": {
  "kernelspec": {
   "display_name": "Python 3 (ipykernel)",
   "language": "python",
   "name": "python3"
  },
  "language_info": {
   "codemirror_mode": {
    "name": "ipython",
    "version": 3
   },
   "file_extension": ".py",
   "mimetype": "text/x-python",
   "name": "python",
   "nbconvert_exporter": "python",
   "pygments_lexer": "ipython3",
   "version": "3.10.9"
  }
 },
 "nbformat": 4,
 "nbformat_minor": 5
}
