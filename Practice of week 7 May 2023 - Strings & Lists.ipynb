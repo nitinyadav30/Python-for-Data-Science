{
 "cells": [
  {
   "cell_type": "code",
   "execution_count": 1,
   "id": "f9e0258a",
   "metadata": {},
   "outputs": [
    {
     "data": {
      "text/plain": [
       "int"
      ]
     },
     "execution_count": 1,
     "metadata": {},
     "output_type": "execute_result"
    }
   ],
   "source": [
    "a = 125\n",
    "type(a)"
   ]
  },
  {
   "cell_type": "code",
   "execution_count": 2,
   "id": "861209d9",
   "metadata": {},
   "outputs": [
    {
     "data": {
      "text/plain": [
       "float"
      ]
     },
     "execution_count": 2,
     "metadata": {},
     "output_type": "execute_result"
    }
   ],
   "source": [
    "a = 12.4\n",
    "type(a)"
   ]
  },
  {
   "cell_type": "code",
   "execution_count": 4,
   "id": "72fa4752",
   "metadata": {},
   "outputs": [
    {
     "data": {
      "text/plain": [
       "str"
      ]
     },
     "execution_count": 4,
     "metadata": {},
     "output_type": "execute_result"
    }
   ],
   "source": [
    "a = 'inngg'\n",
    "type(a)"
   ]
  },
  {
   "cell_type": "code",
   "execution_count": 5,
   "id": "a2a80520",
   "metadata": {},
   "outputs": [
    {
     "data": {
      "text/plain": [
       "str"
      ]
     },
     "execution_count": 5,
     "metadata": {},
     "output_type": "execute_result"
    }
   ],
   "source": [
    "a = 'dahfashdf122'\n",
    "type(a)"
   ]
  },
  {
   "cell_type": "code",
   "execution_count": 6,
   "id": "9b2e3543",
   "metadata": {},
   "outputs": [
    {
     "data": {
      "text/plain": [
       "str"
      ]
     },
     "execution_count": 6,
     "metadata": {},
     "output_type": "execute_result"
    }
   ],
   "source": [
    "a = '123'\n",
    "type(a)"
   ]
  },
  {
   "cell_type": "code",
   "execution_count": 21,
   "id": "0f4917f8",
   "metadata": {},
   "outputs": [
    {
     "name": "stdout",
     "output_type": "stream",
     "text": [
      "10.0\n",
      "10.0\n",
      "10\n",
      "20.0\n",
      "0.0\n",
      "100.0\n",
      "1.0\n",
      "1.0\n",
      "0.0\n"
     ]
    }
   ],
   "source": [
    "a = 10\n",
    "b = float(a)\n",
    "print(b)\n",
    "print(str(b))\n",
    "print(str(a))\n",
    "print(a+b)\n",
    "print(a-b)\n",
    "print(a*b)\n",
    "print(a/b)\n",
    "print(a//b)\n",
    "print(a%b)"
   ]
  },
  {
   "cell_type": "code",
   "execution_count": 27,
   "id": "69597b7d",
   "metadata": {},
   "outputs": [
    {
     "name": "stdout",
     "output_type": "stream",
     "text": [
      "10000000000\n"
     ]
    }
   ],
   "source": [
    "a = 10\n",
    "b = 10\n",
    "c = pow(a,b)\n",
    "print(c)"
   ]
  },
  {
   "cell_type": "code",
   "execution_count": 33,
   "id": "fde066f5",
   "metadata": {},
   "outputs": [
    {
     "name": "stdout",
     "output_type": "stream",
     "text": [
      "True\n"
     ]
    }
   ],
   "source": [
    "a = 12\n",
    "b = 12\n",
    "print(a == b)"
   ]
  },
  {
   "cell_type": "code",
   "execution_count": 35,
   "id": "9a0dad4b",
   "metadata": {},
   "outputs": [
    {
     "name": "stdout",
     "output_type": "stream",
     "text": [
      "False\n"
     ]
    }
   ],
   "source": [
    "a = 12\n",
    "b = 12\n",
    "print(a != b)"
   ]
  },
  {
   "cell_type": "code",
   "execution_count": 61,
   "id": "bdf0359d",
   "metadata": {},
   "outputs": [
    {
     "name": "stdout",
     "output_type": "stream",
     "text": [
      "I got 100.2 rs salary and learning a course in Udemy which charges 20 rs per day\n",
      "I got 100.2 rs salary and learning a course in Udemy which charges 20 rs per day\n",
      "I got 100.200000 rs salary and learning a course in Udemy which charges 20 rs per day\n",
      "I got 100.2 rs salary and learning a course in Udemy which charges 20 rs per day\n",
      "I got 100.2 rs salary and learning a course in Udemy which charges 20 rs per day\n"
     ]
    }
   ],
   "source": [
    "salary = 100.2\n",
    "spend = 20\n",
    "course = 'Udemy'\n",
    "\n",
    "# output : I got 100.2 rs salary and learning a course in udemy which charges 20 rs per day\n",
    "\n",
    "#using , operator\n",
    "print('I got',salary, 'rs salary and learning a course in',course,'which charges',spend,'rs per day')\n",
    "\n",
    "#using + operator\n",
    "print('I got '+str(salary)+' rs salary and learning a course in '+course+' which charges '+str(spend)+' rs per day')\n",
    "\n",
    "#using % operator\n",
    "print('I got %f rs salary and learning a course in %s which charges %d rs per day'%(salary,course,spend))\n",
    "\n",
    "#Using Formatting technique - type 1\n",
    "print(f'I got {salary} rs salary and learning a course in {course} which charges {spend} rs per day')\n",
    "\n",
    "#Using Formatting technique - type 2\n",
    "print('I got {} rs salary and learning a course in {} which charges {} rs per day'.format(salary,course,spend))"
   ]
  },
  {
   "cell_type": "code",
   "execution_count": 66,
   "id": "d7e2b63a",
   "metadata": {},
   "outputs": [
    {
     "data": {
      "text/plain": [
       "1"
      ]
     },
     "execution_count": 66,
     "metadata": {},
     "output_type": "execute_result"
    }
   ],
   "source": [
    "pow(2,6,3)"
   ]
  },
  {
   "cell_type": "code",
   "execution_count": 68,
   "id": "294d6ccf",
   "metadata": {},
   "outputs": [],
   "source": [
    "#String as Data Structure"
   ]
  },
  {
   "cell_type": "code",
   "execution_count": 93,
   "id": "090bf20f",
   "metadata": {},
   "outputs": [
    {
     "name": "stdout",
     "output_type": "stream",
     "text": [
      "a\n",
      "I am Nitin Yadav, I work at RWS Group from Indore Office.\n",
      "am Nitin Yadav, I work at RWS Group from Indore Office.\n",
      "58\n",
      "Ia ii aa,\n",
      "Iminav\n",
      "I ia,\n",
      ".eciffO erodnI morf puorG SWR ta krow I ,vadaY nitiN ma I\n"
     ]
    }
   ],
   "source": [
    "a = 'I am Nitin Yadav'\n",
    "print(a[2])\n",
    "\n",
    "#slicing & Skipping\n",
    "\n",
    "a = 'I am Nitin Yadav, I work at RWS Group from Indore Office.'\n",
    "print(a[:]) #output will be as it is as there is no starting and ending point defined.\n",
    "\n",
    "print(a[2:]) #output will start from 2 index character in the string\n",
    "\n",
    "print(a.count(''))\n",
    "\n",
    "print(a[0:17:2])\n",
    "print(a[0:17:3])\n",
    "print(a[0:17:4])\n",
    "print(a[::-1])"
   ]
  },
  {
   "cell_type": "code",
   "execution_count": 112,
   "id": "3891657e",
   "metadata": {},
   "outputs": [
    {
     "name": "stdout",
     "output_type": "stream",
     "text": [
      "I are Nitin Yadav\n",
      "17\n",
      "3\n",
      "1\n",
      "True\n",
      "False\n",
      "True\n",
      "False\n"
     ]
    }
   ],
   "source": [
    "#replacing a charachter in string\n",
    "\n",
    "a = 'I am Nitin Yadav'\n",
    "b = a.replace('am', 'are')\n",
    "print(b)\n",
    "\n",
    "a = 'i am Nitin Yadav'\n",
    "a.capitalize()\n",
    "print(a.count(''))\n",
    "print(a.count('i'))\n",
    "print(a.count('am'))\n",
    "\n",
    "#startswith & endswith\n",
    "\n",
    "print(a.startswith('i'))\n",
    "print(a.startswith('am'))\n",
    "print(a.endswith('v'))\n",
    "print(a.endswith('Y'))"
   ]
  },
  {
   "cell_type": "code",
   "execution_count": 150,
   "id": "66aa691e",
   "metadata": {},
   "outputs": [
    {
     "name": "stdout",
     "output_type": "stream",
     "text": [
      "137\n",
      "1\n",
      "9\n",
      "39\n",
      "I\n",
      "C\n"
     ]
    }
   ],
   "source": [
    "#Index method \n",
    "a = 'I am Nitin Yadav, I work at RWS Group as Sr. Talent Manager. We are a team of 4 sitting in multiple locations including China and Spain.'\n",
    "print(a.count(''))\n",
    "print(a.count('4'))\n",
    "a.index('N')\n",
    "print(a.index('n',0, 138))\n",
    "print(a.index('s',0,138))\n",
    "\n",
    "#accessing a character from a string\n",
    "\n",
    "print(a[0])\n",
    "print(a[120])"
   ]
  },
  {
   "cell_type": "code",
   "execution_count": 146,
   "id": "320108fc",
   "metadata": {},
   "outputs": [
    {
     "name": "stdout",
     "output_type": "stream",
     "text": [
      "i am nitin yadav\n",
      "I AM NITIN YADAV\n",
      "I Am Nitin Yadav\n",
      "True\n",
      "False\n",
      "False\n",
      "True\n"
     ]
    }
   ],
   "source": [
    "#lower & Uppar\n",
    "\n",
    "a = 'i am Nitin Yadav'\n",
    "print(a.lower())\n",
    "print(a.upper())\n",
    "print(a.title())\n",
    "\n",
    "a = '123abb'\n",
    "b = 'kuch bhi'\n",
    "print(a.isalnum())\n",
    "print(b.isalpha())\n",
    "\n",
    "c = '100.2'\n",
    "d = '100000'\n",
    "print(c.isdecimal())\n",
    "print(d.isdigit())"
   ]
  },
  {
   "cell_type": "code",
   "execution_count": 144,
   "id": "3d54c8af",
   "metadata": {},
   "outputs": [
    {
     "name": "stdout",
     "output_type": "stream",
     "text": [
      "True\n",
      "False\n"
     ]
    }
   ],
   "source": [
    "e = 'sdfhsdfj112'\n",
    "print(e.isalnum())\n",
    "print(e.isalpha())"
   ]
  },
  {
   "cell_type": "code",
   "execution_count": 152,
   "id": "726a140b",
   "metadata": {},
   "outputs": [
    {
     "name": "stdout",
     "output_type": "stream",
     "text": [
      "IamIam\n"
     ]
    }
   ],
   "source": [
    "#string multiplication\n",
    "a = 'Iam'\n",
    "b = a*2\n",
    "print(b)"
   ]
  },
  {
   "cell_type": "code",
   "execution_count": 167,
   "id": "3b84a174",
   "metadata": {},
   "outputs": [
    {
     "name": "stdout",
     "output_type": "stream",
     "text": [
      "I am Nitin Yadav, I work at RWS Group as Sr. \n",
      "        Talent Manager. We are a team of 4 sitting in \n",
      "            multiple locations including China and Spain.\n",
      "159\n",
      "a\n",
      "S\n",
      ".niapS dna anihC gnidulcni snoitacol elpitlum            \n",
      " ni gnittis 4 fo maet a era eW .reganaM tnelaT        \n",
      " .rS sa puorG SWR ta krow I ,vadaY nitiN ma I\n",
      "3\n",
      "S Group as Sr. \n",
      "        Talent Manager. We are a team of 4 sitting in \n",
      "            multiple locations including China and Spain.\n"
     ]
    }
   ],
   "source": [
    "#multiline string: it needs to be written in 3 quotes i.e. '''abc'''\n",
    "a = '''I am Nitin Yadav, I work at RWS Group as Sr. \n",
    "        Talent Manager. We are a team of 4 sitting in \n",
    "            multiple locations including China and Spain.'''\n",
    "print(a)\n",
    "\n",
    "#accessting characters from the string\n",
    "\n",
    "print(a.count(''))\n",
    "print(a[2])\n",
    "print(a[152])\n",
    "print(a[::-1])\n",
    "print(a.count('s'))\n",
    "print(a[30:])"
   ]
  },
  {
   "cell_type": "code",
   "execution_count": 172,
   "id": "c0db436d",
   "metadata": {},
   "outputs": [
    {
     "name": "stdout",
     "output_type": "stream",
     "text": [
      "True\n",
      "True\n",
      "True\n",
      "True\n"
     ]
    }
   ],
   "source": [
    "a = '''I am Nitin Yadav, I work at RWS Group as Sr. \n",
    "        Talent Manager. We are a team of 4 sitting in \n",
    "            multiple locations including China and Spain.'''\n",
    "\n",
    "print('I' in a)\n",
    "print('4' in a)\n",
    "print('Talent Manager' in a)\n",
    "print('China and Spain' in a)"
   ]
  },
  {
   "cell_type": "code",
   "execution_count": 2,
   "id": "701c77d7",
   "metadata": {},
   "outputs": [
    {
     "name": "stdout",
     "output_type": "stream",
     "text": [
      "I am \"Nitin Yadav\"\n"
     ]
    }
   ],
   "source": [
    "#using quotes in a string in Python.\n",
    "\n",
    "a = 'I am \"Nitin Yadav\"'\n",
    "print(a)"
   ]
  },
  {
   "cell_type": "code",
   "execution_count": 3,
   "id": "14306510",
   "metadata": {},
   "outputs": [
    {
     "name": "stdout",
     "output_type": "stream",
     "text": [
      "['I', ' ', 'a', 'm', ' ', '\"', 'N', 'i', 't', 'i', 'n', ' ', 'Y', 'a', 'd', 'a', 'v', '\"']\n"
     ]
    }
   ],
   "source": [
    "b = (list(a))"
   ]
  },
  {
   "cell_type": "code",
   "execution_count": 11,
   "id": "5197f2d5",
   "metadata": {},
   "outputs": [],
   "source": [
    "#Split & Join method in Strings\n",
    "\n",
    "a = 'I am Nitin Yadav, working at RWS Group Indore.'\n",
    "b = a.split(\" \")"
   ]
  },
  {
   "cell_type": "code",
   "execution_count": 14,
   "id": "3a415a80",
   "metadata": {},
   "outputs": [
    {
     "name": "stdout",
     "output_type": "stream",
     "text": [
      "['I', 'am', 'Nitin', 'Yadav,', 'working', 'at', 'RWS', 'Group', 'Indore.']\n"
     ]
    }
   ],
   "source": [
    "print(b)"
   ]
  },
  {
   "cell_type": "code",
   "execution_count": 25,
   "id": "2d17d8e6",
   "metadata": {},
   "outputs": [
    {
     "name": "stdout",
     "output_type": "stream",
     "text": [
      "I am Nitin Yadav, working at RWS Group Indore.\n"
     ]
    }
   ],
   "source": [
    "print(' '.join(b))"
   ]
  },
  {
   "cell_type": "code",
   "execution_count": 24,
   "id": "5cda6ca1",
   "metadata": {},
   "outputs": [
    {
     "name": "stdout",
     "output_type": "stream",
     "text": [
      "['am Nitin Yadav, working at RWS Group Indore.', 'I']\n"
     ]
    }
   ],
   "source": [
    "c = (b[::-1])\n",
    "print(c)"
   ]
  },
  {
   "cell_type": "code",
   "execution_count": 29,
   "id": "83763942",
   "metadata": {},
   "outputs": [
    {
     "name": "stdout",
     "output_type": "stream",
     "text": [
      "I am Nitin Yadav, working at RWS Group Indore.\n"
     ]
    }
   ],
   "source": [
    "print(' '.join((c[::-1])))\n",
    "\n",
    "#here I am joining the string using join operation At the same time I am reversing the variable c."
   ]
  },
  {
   "cell_type": "code",
   "execution_count": 30,
   "id": "3e4d650e",
   "metadata": {},
   "outputs": [],
   "source": [
    "#List"
   ]
  },
  {
   "cell_type": "code",
   "execution_count": 64,
   "id": "19a68ca9",
   "metadata": {},
   "outputs": [
    {
     "name": "stdout",
     "output_type": "stream",
     "text": [
      "['Nitin', 'Deepak', 10, 20, 30]\n",
      "['Nitin', 'Deepak', 10, 20, 30]\n",
      "['Deepak', 10, 20, 30]\n",
      "['Nitin', 'Deepak']\n",
      "['Deepak', 10]\n",
      "[30, 20, 10, 'Deepak', 'Nitin']\n",
      "[30, 10, 'Nitin']\n",
      "[30, 'Deepak']\n"
     ]
    }
   ],
   "source": [
    "a = ['Nitin', 'Deepak', 10, 20, 30]\n",
    "print(a)\n",
    "print(a[:])\n",
    "print(a[1:])\n",
    "print(a[:2])\n",
    "print(a[1:3])\n",
    "\n",
    "#reversing the list\n",
    "print(a[::-1])\n",
    "print(a[::-2])\n",
    "print(a[::-3])"
   ]
  },
  {
   "cell_type": "code",
   "execution_count": 67,
   "id": "24d5e50d",
   "metadata": {},
   "outputs": [
    {
     "name": "stdout",
     "output_type": "stream",
     "text": [
      "['Nitin', 'Deepak', 10, 20, 30, 40, 50, 60]\n"
     ]
    }
   ],
   "source": [
    "#adding a memory space in list using append method\n",
    "a = ['Nitin', 'Deepak', 10, 20, 30]\n",
    "a.append(40)\n",
    "a.append(50)\n",
    "a.append(60)\n",
    "print(a)"
   ]
  },
  {
   "cell_type": "code",
   "execution_count": 78,
   "id": "237a9217",
   "metadata": {},
   "outputs": [
    {
     "name": "stdout",
     "output_type": "stream",
     "text": [
      "None\n"
     ]
    }
   ],
   "source": [
    "#insert method\n",
    "b = ['Nitin', 'Deepak', '10', '20', '30', '40', '50', '60']\n",
    "print(b.insert(4, 'Indore'))"
   ]
  },
  {
   "cell_type": "code",
   "execution_count": 84,
   "id": "37d199bc",
   "metadata": {},
   "outputs": [
    {
     "name": "stdout",
     "output_type": "stream",
     "text": [
      "None\n"
     ]
    }
   ],
   "source": [
    "a = [\"Nitin\" , \"Deepak\"]\n",
    "b = a.insert(1, \"Indore\")\n",
    "print(b)"
   ]
  },
  {
   "cell_type": "code",
   "execution_count": 82,
   "id": "ae9535f4",
   "metadata": {},
   "outputs": [
    {
     "name": "stdout",
     "output_type": "stream",
     "text": [
      "['apple', 'orange', 'banana', 'cherry']\n"
     ]
    }
   ],
   "source": [
    "thislist = [\"apple\", \"banana\", \"cherry\"]\n",
    "thislist.insert(1, \"orange\")\n",
    "print(thislist)"
   ]
  },
  {
   "cell_type": "code",
   "execution_count": 85,
   "id": "f22441ba",
   "metadata": {},
   "outputs": [
    {
     "name": "stdout",
     "output_type": "stream",
     "text": [
      "['indore', 'Delhi', 'Mumbai', 'Pune']\n"
     ]
    }
   ],
   "source": [
    "list = [\"indore\" , \"Mumbai\" , \"Pune\"]\n",
    "list.insert(1, \"Delhi\")\n",
    "print(list)"
   ]
  },
  {
   "cell_type": "code",
   "execution_count": 86,
   "id": "7c3a97bb",
   "metadata": {},
   "outputs": [
    {
     "name": "stdout",
     "output_type": "stream",
     "text": [
      "[10, 40, 20, 30]\n"
     ]
    }
   ],
   "source": [
    "d = [10 , 20 , 30]\n",
    "d.insert(1, 40)\n",
    "print(d)"
   ]
  },
  {
   "cell_type": "code",
   "execution_count": 88,
   "id": "1317a8dc",
   "metadata": {},
   "outputs": [
    {
     "name": "stdout",
     "output_type": "stream",
     "text": [
      "[10, 30]\n"
     ]
    }
   ],
   "source": [
    "d = [10 , 20 , 30]\n",
    "del(d[1])\n",
    "print(d)"
   ]
  },
  {
   "cell_type": "code",
   "execution_count": 92,
   "id": "f62bf3f7",
   "metadata": {},
   "outputs": [
    {
     "name": "stdout",
     "output_type": "stream",
     "text": [
      "[]\n"
     ]
    }
   ],
   "source": [
    "#clearing the list\n",
    "d.clear()\n",
    "print(d)"
   ]
  },
  {
   "cell_type": "code",
   "execution_count": 106,
   "id": "9a6e4286",
   "metadata": {},
   "outputs": [
    {
     "name": "stdout",
     "output_type": "stream",
     "text": [
      "['Deepak', 'Indore', 'Nitin Yadav']\n"
     ]
    }
   ],
   "source": [
    "#Sorting (strings gets sort by their ascii values)\n",
    "a = ['Nitin Yadav','Deepak', 'Indore']\n",
    "a.sort()\n",
    "print(a)"
   ]
  },
  {
   "cell_type": "code",
   "execution_count": 116,
   "id": "813ef281",
   "metadata": {},
   "outputs": [
    {
     "name": "stdout",
     "output_type": "stream",
     "text": [
      "['Nitin Yadav', 'Deepak', 'Indore']\n",
      "True\n"
     ]
    },
    {
     "data": {
      "text/plain": [
       "0"
      ]
     },
     "execution_count": 116,
     "metadata": {},
     "output_type": "execute_result"
    }
   ],
   "source": [
    "#Copy\n",
    "\n",
    "a = ['Nitin Yadav','Deepak', 'Indore']\n",
    "b = a.copy()\n",
    "print(b)\n",
    "print (a == b)\n",
    "a.count('N')"
   ]
  },
  {
   "cell_type": "code",
   "execution_count": 129,
   "id": "e6ca863c",
   "metadata": {},
   "outputs": [
    {
     "name": "stdout",
     "output_type": "stream",
     "text": [
      "['Nitin Yadav', 'Deepak', 'Indore', 'Patel', 'Sid', 'Mumbai']\n"
     ]
    }
   ],
   "source": [
    "#Index in list\n",
    "\n",
    "a = ['Nitin Yadav','Deepak', 'Indore']\n",
    "a.index('Deepak')\n",
    "\n",
    "#Extend\n",
    "a = ['Nitin Yadav','Deepak', 'Indore']\n",
    "b = ['Patel', 'Sid', 'Mumbai']\n",
    "a.extend(b)\n",
    "print(a)"
   ]
  },
  {
   "cell_type": "code",
   "execution_count": 125,
   "id": "66f8d472",
   "metadata": {},
   "outputs": [
    {
     "name": "stdout",
     "output_type": "stream",
     "text": [
      "['Amit', 'Patel', 'Sumit', 'Suresh']\n",
      "None\n"
     ]
    }
   ],
   "source": [
    "list1 = ['Amit', 'Sumit', 'Patel', 'Suresh']\n",
    "list1.sort()\n",
    "print(list1)\n"
   ]
  },
  {
   "cell_type": "code",
   "execution_count": null,
   "id": "015430c6",
   "metadata": {},
   "outputs": [],
   "source": []
  },
  {
   "cell_type": "code",
   "execution_count": 128,
   "id": "93983949",
   "metadata": {},
   "outputs": [
    {
     "name": "stdout",
     "output_type": "stream",
     "text": [
      "None\n"
     ]
    }
   ],
   "source": [
    "list2 = ['Amit', 'Sumit', 'Patel', 'Suresh', 'Indore']\n",
    "Z = list1.reverse()\n",
    "print(Z)\n",
    "\n",
    "#It has reversed the list but showing None it hasnt created a new list."
   ]
  },
  {
   "cell_type": "code",
   "execution_count": 131,
   "id": "38f4e8fe",
   "metadata": {},
   "outputs": [
    {
     "name": "stdout",
     "output_type": "stream",
     "text": [
      "[]\n"
     ]
    }
   ],
   "source": [
    "#Clear function\n",
    "list2 = ['Amit', 'Sumit', 'Patel', 'Suresh', 'Indore']\n",
    "list2.clear()\n",
    "print(list2)"
   ]
  },
  {
   "cell_type": "code",
   "execution_count": 146,
   "id": "92a88cb4",
   "metadata": {},
   "outputs": [
    {
     "name": "stdout",
     "output_type": "stream",
     "text": [
      "['Amit', 'Patel', 'Suresh', 'Indore']\n"
     ]
    }
   ],
   "source": [
    "#Pop function\n",
    "\n",
    "list2 = ['Amit', 'Sumit', 'Patel', 'Suresh', 'Indore']\n",
    "list2.pop(1)\n",
    "print(list2)\n"
   ]
  },
  {
   "cell_type": "code",
   "execution_count": 149,
   "id": "97dd67fb",
   "metadata": {},
   "outputs": [
    {
     "name": "stdout",
     "output_type": "stream",
     "text": [
      "['Sumit', 'Patel', 'Suresh', 'Indore']\n"
     ]
    }
   ],
   "source": [
    "list2 = ['Amit', 'Sumit', 'Patel', 'Suresh', 'Indore']\n",
    "del list2[0]\n",
    "print(list2)"
   ]
  },
  {
   "cell_type": "code",
   "execution_count": 156,
   "id": "00308b43",
   "metadata": {},
   "outputs": [
    {
     "name": "stdout",
     "output_type": "stream",
     "text": [
      "['Amit', 'Sumit', 'Patel', 'Indore']\n",
      "['Sumit', 'Suresh', 'Indore']\n"
     ]
    }
   ],
   "source": [
    "list2 = ['Amit', 'Sumit', 'Patel', 'Suresh', 'Indore']\n",
    "list2.remove('Suresh')\n",
    "print(list2)\n",
    "\n",
    "list3 = ['Amit', 'Sumit', 'Amit', 'Suresh', 'Indore']\n",
    "list3.remove('Amit')\n",
    "list3.remove('Amit')\n",
    "print(list3)"
   ]
  },
  {
   "cell_type": "code",
   "execution_count": 162,
   "id": "e35e728b",
   "metadata": {},
   "outputs": [
    {
     "name": "stdout",
     "output_type": "stream",
     "text": [
      "[10, 9, 8, 7, 6, 5, 4, 3, 2, 1]\n",
      "['Indore', 'Suresh', 'Amit', 'Sumit', 'Amit']\n"
     ]
    }
   ],
   "source": [
    "series1 = [1, 2, 3, 4, 5, 6, 7, 8, 9, 10]\n",
    "series1.reverse()\n",
    "print(series1)\n",
    "\n",
    "list3 = ['Amit', 'Sumit', 'Amit', 'Suresh', 'Indore']\n",
    "list3.reverse()\n",
    "print(list3)"
   ]
  },
  {
   "cell_type": "code",
   "execution_count": 163,
   "id": "265d51ef",
   "metadata": {},
   "outputs": [
    {
     "name": "stdout",
     "output_type": "stream",
     "text": [
      "None\n"
     ]
    }
   ],
   "source": [
    "series1 = [1, 2, 3, 4, 5, 6, 7, 8, 9, 10]\n",
    "list3 = ['Amit', 'Sumit', 'Amit', 'Suresh', 'Indore']\n",
    "series2 = series1.extend(list3)\n",
    "print(series2)"
   ]
  },
  {
   "cell_type": "code",
   "execution_count": 176,
   "id": "40a03849",
   "metadata": {},
   "outputs": [
    {
     "name": "stdout",
     "output_type": "stream",
     "text": [
      "[1, 2, 3, 4, 5, 6, 7, 8, 9, 10, 1, 2, 3, 4, 5, 6, 7, 8, 9, 10]\n",
      "[1, 1, 2, 2, 3, 3, 4, 4, 5, 5, 6, 6, 7, 7, 8, 8, 9, 9, 10, 10]\n"
     ]
    }
   ],
   "source": [
    "series1 = [1, 2, 3, 4, 5, 6, 7, 8, 9, 10]\n",
    "series2 = [1, 2, 3, 4, 5, 6, 7, 8, 9, 10]\n",
    "series1.extend(series2)\n",
    "print(series1)\n",
    "\n",
    "result = [1, 2, 3, 4, 5, 6, 7, 8, 9, 10, 1, 2, 3, 4, 5, 6, 7, 8, 9, 10]\n",
    "result.sort()\n",
    "print(result)"
   ]
  },
  {
   "cell_type": "code",
   "execution_count": 169,
   "id": "b05541d1",
   "metadata": {},
   "outputs": [
    {
     "name": "stdout",
     "output_type": "stream",
     "text": [
      "None\n"
     ]
    }
   ],
   "source": [
    "List2 = ['Amit', 'Sumit', 'Amit', 'Suresh', 'Indore']\n",
    "list3 = ['Amit', 'Sumit', 'Amit', 'Suresh', 'Indore']\n",
    "print(list2.extend(list3))"
   ]
  },
  {
   "cell_type": "code",
   "execution_count": 177,
   "id": "9c194bdc",
   "metadata": {},
   "outputs": [],
   "source": [
    "#Mathemaical operation \n"
   ]
  },
  {
   "cell_type": "code",
   "execution_count": 183,
   "id": "9f9a42ec",
   "metadata": {},
   "outputs": [
    {
     "name": "stdout",
     "output_type": "stream",
     "text": [
      "5\n",
      "Amit\n",
      "Suresh\n"
     ]
    }
   ],
   "source": [
    "List2 = ['Amit', 'Sumit', 'Amit', 'Suresh', 'Indore']\n",
    "print(len (List2))\n",
    "print(min (List2))\n",
    "print(max (List2))"
   ]
  },
  {
   "cell_type": "code",
   "execution_count": 187,
   "id": "1580127e",
   "metadata": {},
   "outputs": [
    {
     "data": {
      "text/plain": [
       "15"
      ]
     },
     "execution_count": 187,
     "metadata": {},
     "output_type": "execute_result"
    }
   ],
   "source": [
    "List2 = [1,2,3,4,5]\n",
    "sum (List2)"
   ]
  },
  {
   "cell_type": "code",
   "execution_count": 194,
   "id": "41458d50",
   "metadata": {},
   "outputs": [
    {
     "name": "stdout",
     "output_type": "stream",
     "text": [
      "['Nitin', 'Patel', 'Indore', 'Mumbai']\n"
     ]
    }
   ],
   "source": [
    "#SPLIT & JOIN\n",
    "\n",
    "list1 = ['Nitin', 'Patel']\n",
    "list2 = ['Indore', 'Mumbai']\n",
    "list3 = list1 + list2\n",
    "print(list3)"
   ]
  },
  {
   "cell_type": "code",
   "execution_count": 201,
   "id": "ac0688fd",
   "metadata": {},
   "outputs": [
    {
     "name": "stdout",
     "output_type": "stream",
     "text": [
      "['N', 'i', 't', 'i', 'n', 'yadav']\n",
      "['Nitin', 'yadav']\n"
     ]
    }
   ],
   "source": [
    "list1 = 'N i t i n yadav'\n",
    "list2 = 'Nitin yadav'\n",
    "print(list1.split(' '))\n",
    "print(list2.split(' '))"
   ]
  },
  {
   "cell_type": "code",
   "execution_count": 209,
   "id": "7a5f3289",
   "metadata": {},
   "outputs": [
    {
     "name": "stdout",
     "output_type": "stream",
     "text": [
      "N,i,t,i,n\n"
     ]
    }
   ],
   "source": [
    "string1 = 'Nitin'\n",
    "string2 = 'Yadav'\n",
    "string3 = ','.join(string1)\n",
    "print(string3)"
   ]
  },
  {
   "cell_type": "code",
   "execution_count": 216,
   "id": "c2e8ea25",
   "metadata": {},
   "outputs": [
    {
     "name": "stdout",
     "output_type": "stream",
     "text": [
      "1\n",
      "2\n"
     ]
    }
   ],
   "source": [
    "a = (1, 2, 3)\n",
    "type(a)\n",
    "print(a.count(2))\n",
    "print(a.index(3))"
   ]
  },
  {
   "cell_type": "code",
   "execution_count": null,
   "id": "db5e798a",
   "metadata": {},
   "outputs": [],
   "source": []
  }
 ],
 "metadata": {
  "kernelspec": {
   "display_name": "Python 3 (ipykernel)",
   "language": "python",
   "name": "python3"
  },
  "language_info": {
   "codemirror_mode": {
    "name": "ipython",
    "version": 3
   },
   "file_extension": ".py",
   "mimetype": "text/x-python",
   "name": "python",
   "nbconvert_exporter": "python",
   "pygments_lexer": "ipython3",
   "version": "3.10.9"
  }
 },
 "nbformat": 4,
 "nbformat_minor": 5
}
