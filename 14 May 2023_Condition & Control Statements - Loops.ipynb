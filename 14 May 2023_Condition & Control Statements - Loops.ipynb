{
 "cells": [
  {
   "cell_type": "code",
   "execution_count": 3,
   "id": "a3d12410",
   "metadata": {},
   "outputs": [
    {
     "name": "stdout",
     "output_type": "stream",
     "text": [
      "good morning Niitn Yadav\n",
      "good morning Niitn Yadav\n",
      "good morning Niitn Yadav\n",
      "good morning Niitn Yadav\n",
      "good morning Niitn Yadav\n"
     ]
    }
   ],
   "source": [
    "for i in range (5):\n",
    "    print('good morning Niitn Yadav')"
   ]
  },
  {
   "cell_type": "code",
   "execution_count": 6,
   "id": "3854122c",
   "metadata": {},
   "outputs": [
    {
     "name": "stdout",
     "output_type": "stream",
     "text": [
      "Nitin\n",
      "Nitin\n",
      "Nitin\n",
      "Nitin\n",
      "Nitin\n",
      "Nitin\n",
      "Nitin\n",
      "Nitin\n",
      "Nitin\n",
      "Nitin\n",
      "Nitin\n",
      "Nitin\n",
      "Nitin\n",
      "Nitin\n",
      "Nitin\n",
      "Nitin\n"
     ]
    }
   ],
   "source": [
    "#two for loop\n",
    "\n",
    "for i in range (1, 5):\n",
    "    for j in range (4, 8):\n",
    "        print('Nitin')"
   ]
  },
  {
   "cell_type": "code",
   "execution_count": 12,
   "id": "e594fbce",
   "metadata": {},
   "outputs": [
    {
     "name": "stdout",
     "output_type": "stream",
     "text": [
      "d\n",
      "a\n",
      "t\n",
      "a\n",
      " \n",
      "s\n",
      "c\n",
      "i\n",
      "e\n",
      "n\n",
      "c\n",
      "e\n"
     ]
    }
   ],
   "source": [
    "course = 'data science'\n",
    "for i in course:\n",
    "    print(i)"
   ]
  },
  {
   "cell_type": "code",
   "execution_count": 14,
   "id": "f7e54b49",
   "metadata": {},
   "outputs": [
    {
     "name": "stdout",
     "output_type": "stream",
     "text": [
      "p j\n",
      "p a\n",
      "p v\n",
      "p a\n",
      "y j\n",
      "y a\n",
      "y v\n",
      "y a\n",
      "t j\n",
      "t a\n",
      "t v\n",
      "t a\n",
      "h j\n",
      "h a\n",
      "h v\n",
      "h a\n",
      "o j\n",
      "o a\n",
      "o v\n",
      "o a\n",
      "n j\n",
      "n a\n",
      "n v\n",
      "n a\n"
     ]
    }
   ],
   "source": [
    "for i in 'python':\n",
    "    for j in 'java':\n",
    "        print(i,j)"
   ]
  },
  {
   "cell_type": "code",
   "execution_count": 15,
   "id": "b0f72080",
   "metadata": {},
   "outputs": [
    {
     "name": "stdout",
     "output_type": "stream",
     "text": [
      "number is an even number\n"
     ]
    }
   ],
   "source": [
    "number = 10\n",
    "if number %2 == 0 :\n",
    "    print('It is an even number')"
   ]
  },
  {
   "cell_type": "code",
   "execution_count": 18,
   "id": "c8f70b71",
   "metadata": {},
   "outputs": [
    {
     "name": "stdout",
     "output_type": "stream",
     "text": [
      "It is an odd number\n"
     ]
    }
   ],
   "source": [
    "number = 11\n",
    "if number %2 == 0 :\n",
    "    print('It is an even number')\n",
    "else:\n",
    "    print('It is an odd number')"
   ]
  },
  {
   "cell_type": "code",
   "execution_count": 28,
   "id": "bd235b12",
   "metadata": {},
   "outputs": [
    {
     "name": "stdout",
     "output_type": "stream",
     "text": [
      "2\n",
      "4\n",
      "6\n",
      "8\n",
      "10\n",
      "12\n",
      "14\n",
      "16\n",
      "18\n",
      "20\n"
     ]
    }
   ],
   "source": [
    "for i in range (1,21):\n",
    "    if i%2 == 0:\n",
    "        print(i)"
   ]
  },
  {
   "cell_type": "code",
   "execution_count": 43,
   "id": "dd7a3131",
   "metadata": {},
   "outputs": [
    {
     "name": "stdout",
     "output_type": "stream",
     "text": [
      "dt scnc\n"
     ]
    }
   ],
   "source": [
    "a = 'data science'\n",
    "c = ''\n",
    "for i in a:\n",
    "    if i not in 'aeiouAEIOU':\n",
    "        c= c+i\n",
    "print(c)"
   ]
  },
  {
   "cell_type": "code",
   "execution_count": null,
   "id": "bc7c6245",
   "metadata": {},
   "outputs": [],
   "source": [
    "a = 1\n",
    "while a > 0:\n",
    "    print(a)\n",
    "    if a == 20:\n",
    "        break\n",
    "    a = a + 1\n",
    "print('coming out of while loop')\n",
    "\n",
    "\n",
    "# * symbol on a cell means it is running contineously.\n"
   ]
  },
  {
   "cell_type": "code",
   "execution_count": null,
   "id": "7b90cd62",
   "metadata": {},
   "outputs": [],
   "source": [
    "#perfect number for 12\n",
    "\n",
    "\n",
    "a = 6\n",
    "b == a\n",
    "while a /"
   ]
  },
  {
   "cell_type": "code",
   "execution_count": null,
   "id": "2c86e2dc",
   "metadata": {},
   "outputs": [],
   "source": [
    "# take inputs\n",
    "N = 28\n",
    "\n",
    "# check perfect number\n",
    "i = 1 \n",
    "sum=0 \n",
    "while(i<N): \n",
    "   if(N%i==0): \n",
    "      sum=sum+i \n",
    "   i=i+1\n",
    "\n",
    "# display result\n",
    "if(sum == N): \n",
    "   print(N, \"is a perfect number\")\n",
    "else: \n",
    "   print(N, \"is not a perfect number\")"
   ]
  },
  {
   "cell_type": "code",
   "execution_count": null,
   "id": "2ab5a11e",
   "metadata": {},
   "outputs": [],
   "source": []
  }
 ],
 "metadata": {
  "kernelspec": {
   "display_name": "Python 3 (ipykernel)",
   "language": "python",
   "name": "python3"
  },
  "language_info": {
   "codemirror_mode": {
    "name": "ipython",
    "version": 3
   },
   "file_extension": ".py",
   "mimetype": "text/x-python",
   "name": "python",
   "nbconvert_exporter": "python",
   "pygments_lexer": "ipython3",
   "version": "3.10.9"
  }
 },
 "nbformat": 4,
 "nbformat_minor": 5
}
