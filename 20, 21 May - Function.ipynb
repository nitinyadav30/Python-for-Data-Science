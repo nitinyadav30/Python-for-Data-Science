{
 "cells": [
  {
   "cell_type": "code",
   "execution_count": 10,
   "id": "6096bab7",
   "metadata": {},
   "outputs": [],
   "source": [
    "a = 10\n",
    "b = 20\n",
    "def nitin_sum(a, b):\n",
    "    print(a+b)"
   ]
  },
  {
   "cell_type": "code",
   "execution_count": 7,
   "id": "566a7c56",
   "metadata": {},
   "outputs": [
    {
     "name": "stdout",
     "output_type": "stream",
     "text": [
      "30\n"
     ]
    }
   ],
   "source": [
    "nitin_sum()"
   ]
  },
  {
   "cell_type": "code",
   "execution_count": 8,
   "id": "c7caffb2",
   "metadata": {},
   "outputs": [
    {
     "name": "stdout",
     "output_type": "stream",
     "text": [
      "200\n"
     ]
    }
   ],
   "source": [
    "a = 100\n",
    "b = 100\n",
    "nitin_sum()"
   ]
  },
  {
   "cell_type": "code",
   "execution_count": 11,
   "id": "7f2deb46",
   "metadata": {},
   "outputs": [
    {
     "name": "stdout",
     "output_type": "stream",
     "text": [
      "30\n"
     ]
    }
   ],
   "source": [
    "nitin_sum(a, b)"
   ]
  },
  {
   "cell_type": "code",
   "execution_count": 12,
   "id": "4a44c929",
   "metadata": {},
   "outputs": [
    {
     "name": "stdout",
     "output_type": "stream",
     "text": [
      "30\n"
     ]
    }
   ],
   "source": [
    "def sum (a,b):\n",
    "    print(a+b)\n",
    "sum(10, 20)"
   ]
  },
  {
   "cell_type": "code",
   "execution_count": 13,
   "id": "e9e4b511",
   "metadata": {},
   "outputs": [
    {
     "name": "stdout",
     "output_type": "stream",
     "text": [
      "1100\n"
     ]
    }
   ],
   "source": [
    "sum (500,600)"
   ]
  },
  {
   "cell_type": "code",
   "execution_count": 14,
   "id": "0dbad8f8",
   "metadata": {},
   "outputs": [
    {
     "name": "stdout",
     "output_type": "stream",
     "text": [
      "25\n"
     ]
    }
   ],
   "source": [
    "def multiply(a, b):\n",
    "    print(a*b)\n",
    "\n",
    "multiply(5,5)"
   ]
  },
  {
   "cell_type": "code",
   "execution_count": 15,
   "id": "617e342c",
   "metadata": {},
   "outputs": [
    {
     "name": "stdout",
     "output_type": "stream",
     "text": [
      "4800000000\n"
     ]
    }
   ],
   "source": [
    "multiply(6000,800000)"
   ]
  },
  {
   "cell_type": "code",
   "execution_count": 16,
   "id": "32b6a6eb",
   "metadata": {},
   "outputs": [
    {
     "name": "stdout",
     "output_type": "stream",
     "text": [
      "665030035220933136\n"
     ]
    }
   ],
   "source": [
    "multiply(674558454,985874584)"
   ]
  },
  {
   "cell_type": "code",
   "execution_count": 18,
   "id": "a68528d7",
   "metadata": {},
   "outputs": [
    {
     "name": "stdout",
     "output_type": "stream",
     "text": [
      "0.2\n"
     ]
    }
   ],
   "source": [
    "def devide (a, b):\n",
    "    print(a/b)\n",
    "devide(10, 50)"
   ]
  },
  {
   "cell_type": "code",
   "execution_count": 19,
   "id": "f8ea54e9",
   "metadata": {},
   "outputs": [
    {
     "name": "stdout",
     "output_type": "stream",
     "text": [
      "8.333333333333334\n"
     ]
    }
   ],
   "source": [
    "devide(500, 60)"
   ]
  },
  {
   "cell_type": "code",
   "execution_count": 40,
   "id": "7f01682c",
   "metadata": {},
   "outputs": [],
   "source": [
    "def even_odd(start, end):\n",
    "    for a in range (start, end):\n",
    "        if a%2 == 0:\n",
    "            print(a, 'is an even number')\n",
    "        else:\n",
    "            print(a, 'is an odd number')\n"
   ]
  },
  {
   "cell_type": "code",
   "execution_count": 41,
   "id": "638963c9",
   "metadata": {},
   "outputs": [
    {
     "name": "stdout",
     "output_type": "stream",
     "text": [
      "1 is an odd number\n",
      "2 is an even number\n",
      "3 is an odd number\n",
      "4 is an even number\n",
      "5 is an odd number\n",
      "6 is an even number\n",
      "7 is an odd number\n",
      "8 is an even number\n",
      "9 is an odd number\n",
      "10 is an even number\n",
      "11 is an odd number\n",
      "12 is an even number\n",
      "13 is an odd number\n",
      "14 is an even number\n",
      "15 is an odd number\n",
      "16 is an even number\n",
      "17 is an odd number\n",
      "18 is an even number\n",
      "19 is an odd number\n",
      "20 is an even number\n"
     ]
    }
   ],
   "source": [
    "even_odd(1,21)"
   ]
  },
  {
   "cell_type": "code",
   "execution_count": 52,
   "id": "820bde21",
   "metadata": {},
   "outputs": [],
   "source": [
    "#Palindrome code with function\n",
    "def palindrome(number):\n",
    "    a = number\n",
    "    b = a\n",
    "    c = 0\n",
    "    while a>0:\n",
    "        d = (a%10)\n",
    "        c = (c*10)+ d\n",
    "        a = a//10\n",
    "    if b == c:\n",
    "        print('palindrome')\n",
    "    else:\n",
    "        print('not palindrome')"
   ]
  },
  {
   "cell_type": "code",
   "execution_count": 56,
   "id": "29587552",
   "metadata": {},
   "outputs": [
    {
     "name": "stdout",
     "output_type": "stream",
     "text": [
      "not palindrome\n"
     ]
    }
   ],
   "source": [
    "palindrome(25555)"
   ]
  },
  {
   "cell_type": "code",
   "execution_count": 57,
   "id": "1571de93",
   "metadata": {},
   "outputs": [
    {
     "name": "stdout",
     "output_type": "stream",
     "text": [
      "palindrome\n"
     ]
    }
   ],
   "source": [
    "palindrome(2)"
   ]
  },
  {
   "cell_type": "code",
   "execution_count": 58,
   "id": "5665b98b",
   "metadata": {},
   "outputs": [
    {
     "name": "stdout",
     "output_type": "stream",
     "text": [
      "Python\n"
     ]
    }
   ],
   "source": [
    "#printing Hello World using fuction\n",
    "\n",
    "def nitin():\n",
    "    print('Python')\n",
    "\n",
    "nitin()"
   ]
  },
  {
   "cell_type": "code",
   "execution_count": 62,
   "id": "b66db8ee",
   "metadata": {},
   "outputs": [
    {
     "data": {
      "text/plain": [
       "'Python'"
      ]
     },
     "execution_count": 62,
     "metadata": {},
     "output_type": "execute_result"
    }
   ],
   "source": [
    "\n",
    "def nitin():\n",
    "    return 'Python'\n",
    "\n",
    "nitin()"
   ]
  },
  {
   "cell_type": "code",
   "execution_count": 60,
   "id": "90af9e7a",
   "metadata": {},
   "outputs": [
    {
     "name": "stdout",
     "output_type": "stream",
     "text": [
      "Python\n"
     ]
    }
   ],
   "source": [
    "a = nitin()\n",
    "print(a)"
   ]
  },
  {
   "cell_type": "code",
   "execution_count": 66,
   "id": "edbc1077",
   "metadata": {},
   "outputs": [
    {
     "name": "stdout",
     "output_type": "stream",
     "text": [
      "Hello\n",
      "You passed: 10\n"
     ]
    }
   ],
   "source": [
    "#output: Hello\n",
    "#You passed: 10\n",
    "\n",
    "def nitin(x):\n",
    "    print('Hello')\n",
    "    print('You passed:', x)\n",
    "\n",
    "nitin(10)\n"
   ]
  },
  {
   "cell_type": "code",
   "execution_count": 1,
   "id": "8a4ead51",
   "metadata": {},
   "outputs": [],
   "source": [
    "def add(a, b):\n",
    "    print(a+b)"
   ]
  },
  {
   "cell_type": "code",
   "execution_count": 3,
   "id": "6f70d59a",
   "metadata": {},
   "outputs": [
    {
     "name": "stdout",
     "output_type": "stream",
     "text": [
      "3\n"
     ]
    }
   ],
   "source": [
    "a = 1\n",
    "b = 2\n",
    "add(a,b)"
   ]
  },
  {
   "cell_type": "code",
   "execution_count": 4,
   "id": "abc201b5",
   "metadata": {},
   "outputs": [
    {
     "name": "stdout",
     "output_type": "stream",
     "text": [
      "2100\n"
     ]
    }
   ],
   "source": [
    "add(100,2000)"
   ]
  },
  {
   "cell_type": "code",
   "execution_count": 5,
   "id": "18e971ca",
   "metadata": {},
   "outputs": [
    {
     "name": "stdout",
     "output_type": "stream",
     "text": [
      "1100\n"
     ]
    }
   ],
   "source": [
    "add(500,600)"
   ]
  },
  {
   "cell_type": "code",
   "execution_count": 7,
   "id": "0aee3aac",
   "metadata": {},
   "outputs": [
    {
     "name": "stdout",
     "output_type": "stream",
     "text": [
      "nitin yadav\n"
     ]
    }
   ],
   "source": [
    "add('nitin ', 'yadav')"
   ]
  },
  {
   "cell_type": "code",
   "execution_count": 8,
   "id": "43e6d316",
   "metadata": {},
   "outputs": [],
   "source": [
    "def even_odd(start,end):\n",
    "    for i in range (start, end):\n",
    "        if i%2==0:\n",
    "            print(i, 'is an even number')\n",
    "        elif i%2 !=0:\n",
    "            print(i, 'is an odd number')"
   ]
  },
  {
   "cell_type": "code",
   "execution_count": 9,
   "id": "50f19ef5",
   "metadata": {},
   "outputs": [
    {
     "name": "stdout",
     "output_type": "stream",
     "text": [
      "1 is an odd number\n",
      "2 is an even number\n",
      "3 is an odd number\n",
      "4 is an even number\n",
      "5 is an odd number\n",
      "6 is an even number\n",
      "7 is an odd number\n",
      "8 is an even number\n",
      "9 is an odd number\n",
      "10 is an even number\n"
     ]
    }
   ],
   "source": [
    "even_odd(1,11)"
   ]
  },
  {
   "cell_type": "code",
   "execution_count": 14,
   "id": "611d9f16",
   "metadata": {},
   "outputs": [
    {
     "name": "stdout",
     "output_type": "stream",
     "text": [
      "5001 is an odd number\n",
      "5002 is an even number\n",
      "5003 is an odd number\n",
      "5004 is an even number\n",
      "5005 is an odd number\n",
      "5006 is an even number\n",
      "5007 is an odd number\n",
      "5008 is an even number\n"
     ]
    }
   ],
   "source": [
    "even_odd(5001, 5009)"
   ]
  },
  {
   "cell_type": "code",
   "execution_count": 15,
   "id": "b1de37c7",
   "metadata": {},
   "outputs": [
    {
     "name": "stdout",
     "output_type": "stream",
     "text": [
      "-10 is an even number\n",
      "-9 is an odd number\n",
      "-8 is an even number\n",
      "-7 is an odd number\n",
      "-6 is an even number\n",
      "-5 is an odd number\n",
      "-4 is an even number\n",
      "-3 is an odd number\n",
      "-2 is an even number\n"
     ]
    }
   ],
   "source": [
    "even_odd(-10, -1)"
   ]
  },
  {
   "cell_type": "code",
   "execution_count": 56,
   "id": "a05249d8",
   "metadata": {},
   "outputs": [],
   "source": [
    "def palindrome(number):\n",
    "    \n",
    "    rev = 0\n",
    "    compare = number\n",
    "    while number>0:\n",
    "        n1 = number%10\n",
    "        rev = (rev*10)+n1\n",
    "        number = number//10\n",
    "    \n",
    "    if compare == rev:\n",
    "            print(compare, 'is palindrome')\n",
    "    else:\n",
    "            print(compare, 'is not palindrome')"
   ]
  },
  {
   "cell_type": "code",
   "execution_count": 58,
   "id": "91552bd7",
   "metadata": {},
   "outputs": [
    {
     "name": "stdout",
     "output_type": "stream",
     "text": [
      "256 is not palindrome\n"
     ]
    }
   ],
   "source": [
    "palindrome(256)"
   ]
  },
  {
   "cell_type": "code",
   "execution_count": 59,
   "id": "9ceb2d26",
   "metadata": {},
   "outputs": [
    {
     "name": "stdout",
     "output_type": "stream",
     "text": [
      "1000 is not palindrome\n"
     ]
    }
   ],
   "source": [
    "palindrome(1000)"
   ]
  },
  {
   "cell_type": "code",
   "execution_count": 60,
   "id": "b82d10dd",
   "metadata": {},
   "outputs": [
    {
     "name": "stdout",
     "output_type": "stream",
     "text": [
      "555 is palindrome\n"
     ]
    }
   ],
   "source": [
    "palindrome(555)"
   ]
  },
  {
   "cell_type": "code",
   "execution_count": 61,
   "id": "183deea4",
   "metadata": {},
   "outputs": [
    {
     "name": "stdout",
     "output_type": "stream",
     "text": [
      "565 is palindrome\n"
     ]
    }
   ],
   "source": [
    "palindrome(565)"
   ]
  },
  {
   "cell_type": "code",
   "execution_count": 62,
   "id": "88c077b4",
   "metadata": {},
   "outputs": [
    {
     "name": "stdout",
     "output_type": "stream",
     "text": [
      "896 is not palindrome\n"
     ]
    }
   ],
   "source": [
    "palindrome(896)"
   ]
  },
  {
   "cell_type": "code",
   "execution_count": 63,
   "id": "aaa6a436",
   "metadata": {},
   "outputs": [],
   "source": [
    "def value_passing_changng(value = 200):\n",
    "    print(value)"
   ]
  },
  {
   "cell_type": "code",
   "execution_count": 64,
   "id": "4d6bb8c0",
   "metadata": {},
   "outputs": [
    {
     "name": "stdout",
     "output_type": "stream",
     "text": [
      "500\n"
     ]
    }
   ],
   "source": [
    "value_passing_changng(500)"
   ]
  },
  {
   "cell_type": "code",
   "execution_count": 67,
   "id": "2ea79780",
   "metadata": {},
   "outputs": [
    {
     "name": "stdout",
     "output_type": "stream",
     "text": [
      "200\n"
     ]
    }
   ],
   "source": [
    "value_passing_changng()"
   ]
  },
  {
   "cell_type": "code",
   "execution_count": 69,
   "id": "db43d63c",
   "metadata": {},
   "outputs": [
    {
     "name": "stdout",
     "output_type": "stream",
     "text": [
      "600\n"
     ]
    }
   ],
   "source": [
    "value_passing_changng(600) #when we pass a new values, it gets replaced and the new value will be given as output"
   ]
  },
  {
   "cell_type": "code",
   "execution_count": 88,
   "id": "f5bc3799",
   "metadata": {},
   "outputs": [],
   "source": [
    "def add(number):\n",
    "    return (number+number)"
   ]
  },
  {
   "cell_type": "code",
   "execution_count": 91,
   "id": "7906ecda",
   "metadata": {},
   "outputs": [
    {
     "name": "stdout",
     "output_type": "stream",
     "text": [
      "10\n"
     ]
    }
   ],
   "source": [
    "a = add(5)\n",
    "print(a)"
   ]
  },
  {
   "cell_type": "code",
   "execution_count": 92,
   "id": "1ab82106",
   "metadata": {},
   "outputs": [],
   "source": [
    "def multiply(number):\n",
    "    return (number*number)"
   ]
  },
  {
   "cell_type": "code",
   "execution_count": 94,
   "id": "c87190d6",
   "metadata": {},
   "outputs": [
    {
     "name": "stdout",
     "output_type": "stream",
     "text": [
      "100\n"
     ]
    }
   ],
   "source": [
    "a = multiply(10)\n",
    "print(a)"
   ]
  },
  {
   "cell_type": "code",
   "execution_count": 95,
   "id": "65d6d96c",
   "metadata": {},
   "outputs": [],
   "source": [
    "b = multiply(5)"
   ]
  },
  {
   "cell_type": "code",
   "execution_count": 96,
   "id": "f719698e",
   "metadata": {},
   "outputs": [],
   "source": [
    "def multiple_valus(n1, n2):\n",
    "    return n1*n2"
   ]
  },
  {
   "cell_type": "code",
   "execution_count": 97,
   "id": "85017ff4",
   "metadata": {},
   "outputs": [
    {
     "name": "stdout",
     "output_type": "stream",
     "text": [
      "20\n"
     ]
    }
   ],
   "source": [
    "c = multiple_valus(10, 2)\n",
    "print(c)"
   ]
  },
  {
   "cell_type": "code",
   "execution_count": 99,
   "id": "bb1a666b",
   "metadata": {},
   "outputs": [
    {
     "name": "stdout",
     "output_type": "stream",
     "text": [
      "11800000\n"
     ]
    }
   ],
   "source": [
    "d = multiple_valus(200000, 59)\n",
    "print(d)"
   ]
  },
  {
   "cell_type": "code",
   "execution_count": 106,
   "id": "3c6f9d3e",
   "metadata": {},
   "outputs": [],
   "source": [
    "def multi_fn (a, b):\n",
    "    value1 = a+b\n",
    "    value2 = a*b\n",
    "    return value1, value2"
   ]
  },
  {
   "cell_type": "code",
   "execution_count": 107,
   "id": "81d032c9",
   "metadata": {},
   "outputs": [],
   "source": [
    "first, second = multi_fn(10,20)"
   ]
  },
  {
   "cell_type": "code",
   "execution_count": 108,
   "id": "be787c93",
   "metadata": {},
   "outputs": [
    {
     "name": "stdout",
     "output_type": "stream",
     "text": [
      "6.666666666666667\n"
     ]
    }
   ],
   "source": [
    "div = second/first\n",
    "print(div)"
   ]
  },
  {
   "cell_type": "code",
   "execution_count": 110,
   "id": "4791aed3",
   "metadata": {},
   "outputs": [
    {
     "name": "stdout",
     "output_type": "stream",
     "text": [
      "6000\n"
     ]
    }
   ],
   "source": [
    "multiply = first*second\n",
    "print(multiply)"
   ]
  },
  {
   "cell_type": "code",
   "execution_count": 119,
   "id": "c11daa4d",
   "metadata": {},
   "outputs": [],
   "source": [
    "def even_odd_from_list(a):\n",
    "    list1 = 0\n",
    "    list2 = 0\n",
    "    for i in a:\n",
    "        if i%2 == 0:\n",
    "            list1 = list1 + i\n",
    "        \n",
    "    for j in (a):\n",
    "        if j%3 == 0:\n",
    "            list2 = list2 + j\n",
    "            \n",
    "    print(list1)\n",
    "    print(list2)\n"
   ]
  },
  {
   "cell_type": "code",
   "execution_count": 120,
   "id": "dd37ec40",
   "metadata": {},
   "outputs": [
    {
     "name": "stdout",
     "output_type": "stream",
     "text": [
      "232\n",
      "150\n"
     ]
    }
   ],
   "source": [
    "a = [1,2,3,4,5,6,7,100,87,55,54,23,22,44]\n",
    "even_odd_from_list(a)"
   ]
  },
  {
   "cell_type": "code",
   "execution_count": 121,
   "id": "8e641b6c",
   "metadata": {},
   "outputs": [],
   "source": [
    "def even_odd_from_list(a):\n",
    "    list1 = 0\n",
    "    list2 = 0\n",
    "    for i in a:\n",
    "        if i%2 == 0:\n",
    "            list1 = list1 + i\n",
    "        \n",
    "    for j in (a):\n",
    "        if j%3 == 0:\n",
    "            list2 = list2 + j\n",
    "            \n",
    "    return list1, list2"
   ]
  },
  {
   "cell_type": "code",
   "execution_count": 123,
   "id": "abb0bb84",
   "metadata": {},
   "outputs": [
    {
     "name": "stdout",
     "output_type": "stream",
     "text": [
      "382\n",
      "34800\n"
     ]
    }
   ],
   "source": [
    "a = [1,2,3,4,5,6,7,100,87,55,54,23,22,44]\n",
    "var1, var2 = even_odd_from_list(a)\n",
    "print(var1+var2)\n",
    "print(var1*var2)"
   ]
  },
  {
   "cell_type": "code",
   "execution_count": 130,
   "id": "202ec65e",
   "metadata": {},
   "outputs": [
    {
     "name": "stdout",
     "output_type": "stream",
     "text": [
      "2 4 6 100 54 22 44 "
     ]
    }
   ],
   "source": [
    "for i in a:\n",
    "    if i%2 == 0:\n",
    "        print(i, end=' ')"
   ]
  },
  {
   "cell_type": "code",
   "execution_count": 149,
   "id": "1eda8cb9",
   "metadata": {},
   "outputs": [],
   "source": [
    "def dict(a):\n",
    "    emptydict = {}\n",
    "    for i in a:\n",
    "        if i in emptydict.keys():\n",
    "            emptydict[i] = emptydict[i]+1\n",
    "        else:\n",
    "            emptydict[i] = 1\n",
    "    return emptydict"
   ]
  },
  {
   "cell_type": "code",
   "execution_count": 150,
   "id": "1419d41f",
   "metadata": {},
   "outputs": [
    {
     "name": "stdout",
     "output_type": "stream",
     "text": [
      "{'N': 1, 'i': 2, 't': 1, 'n': 1, ' ': 1, 'Y': 1, 'a': 2, 'd': 1, 'v': 1}\n"
     ]
    }
   ],
   "source": [
    "a = 'Nitin Yadav'\n",
    "result = dict(a)\n",
    "print(result)"
   ]
  },
  {
   "cell_type": "code",
   "execution_count": 151,
   "id": "55d68ad5",
   "metadata": {},
   "outputs": [],
   "source": [
    "def dict2(b):\n",
    "    emptydict = {}\n",
    "    for i in b:\n",
    "        if i in emptydict.keys():\n",
    "            emptydict[i] = emptydict[i]+1\n",
    "        else:\n",
    "            emptydict[i] = 1\n",
    "    return emptydict\n"
   ]
  },
  {
   "cell_type": "code",
   "execution_count": 155,
   "id": "7f0ed063",
   "metadata": {},
   "outputs": [
    {
     "name": "stdout",
     "output_type": "stream",
     "text": [
      "{'p': 1, 'r': 1, 'a': 4, 'g': 1, 't': 1, 'i': 1, ' ': 1, 'y': 1, 'd': 1, 'v': 1}\n"
     ]
    }
   ],
   "source": [
    "b = 'pragati yadav'\n",
    "result = dict2(b)\n",
    "print(result)"
   ]
  },
  {
   "cell_type": "code",
   "execution_count": 156,
   "id": "f80dfdd6",
   "metadata": {},
   "outputs": [
    {
     "name": "stdout",
     "output_type": "stream",
     "text": [
      "2\n",
      "3\n",
      "4\n",
      "6\n",
      "8\n",
      "9\n",
      "10\n"
     ]
    }
   ],
   "source": [
    "for i in range (1,11):\n",
    "    if i%2 == 0 or i%3 ==  0:\n",
    "        print(i)"
   ]
  },
  {
   "cell_type": "code",
   "execution_count": 158,
   "id": "56a051dd",
   "metadata": {},
   "outputs": [
    {
     "name": "stdout",
     "output_type": "stream",
     "text": [
      "6\n",
      "12\n",
      "18\n"
     ]
    }
   ],
   "source": [
    "for i in range (1,21):\n",
    "    if i%2 == 0 and i%3 ==  0:\n",
    "        print(i)"
   ]
  },
  {
   "cell_type": "code",
   "execution_count": 159,
   "id": "62d971ab",
   "metadata": {},
   "outputs": [
    {
     "name": "stdout",
     "output_type": "stream",
     "text": [
      "15\n",
      "30\n",
      "45\n"
     ]
    }
   ],
   "source": [
    "for i in range (12,52):\n",
    "    if i%3 == 0 and i%5 == 0:\n",
    "        print(i)"
   ]
  },
  {
   "cell_type": "code",
   "execution_count": 165,
   "id": "62cfa56a",
   "metadata": {},
   "outputs": [],
   "source": [
    "def dict(a):\n",
    "    emptydict = {}\n",
    "    for i in a:\n",
    "        if i in emptydict.keys():\n",
    "            emptydict[i] = emptydict[i]+1\n",
    "        else:\n",
    "            emptydict[i] = 1\n",
    "    return emptydict\n",
    "\n"
   ]
  },
  {
   "cell_type": "code",
   "execution_count": 166,
   "id": "6d3e4ff1",
   "metadata": {},
   "outputs": [
    {
     "name": "stdout",
     "output_type": "stream",
     "text": [
      "{'i': 3, ' ': 3, 'a': 3, 'm': 1, 'n': 2, 't': 1, 'y': 1, 'd': 1, 'v': 1}\n"
     ]
    }
   ],
   "source": [
    "a = \"i am nitin yadav\"\n",
    "result1 = dict(a)\n",
    "print(result1)"
   ]
  },
  {
   "cell_type": "code",
   "execution_count": 167,
   "id": "b0e301b1",
   "metadata": {},
   "outputs": [],
   "source": [
    "def nitin():\n",
    "    print('Nitin')"
   ]
  },
  {
   "cell_type": "code",
   "execution_count": 168,
   "id": "837e0d80",
   "metadata": {},
   "outputs": [
    {
     "name": "stdout",
     "output_type": "stream",
     "text": [
      "Nitin\n"
     ]
    }
   ],
   "source": [
    "nitin()"
   ]
  },
  {
   "cell_type": "code",
   "execution_count": 169,
   "id": "0bb1a83f",
   "metadata": {},
   "outputs": [],
   "source": [
    "def nitin():\n",
    "    print('Nitin')"
   ]
  },
  {
   "cell_type": "code",
   "execution_count": 171,
   "id": "6bc1dd1a",
   "metadata": {},
   "outputs": [
    {
     "name": "stdout",
     "output_type": "stream",
     "text": [
      "Nitin\n",
      "None\n"
     ]
    }
   ],
   "source": [
    "a = nitin()\n",
    "print(a)"
   ]
  },
  {
   "cell_type": "code",
   "execution_count": 180,
   "id": "cf66a065",
   "metadata": {},
   "outputs": [
    {
     "name": "stdout",
     "output_type": "stream",
     "text": [
      "Hello\n",
      "You passed: 10\n"
     ]
    }
   ],
   "source": [
    "#Hello\n",
    "#You passed: 10\n",
    "\n",
    "def hello(x):\n",
    "    print('Hello')\n",
    "    print('You passed:', x)\n",
    "\n",
    "a = hello(10)"
   ]
  },
  {
   "cell_type": "code",
   "execution_count": 183,
   "id": "522e3e22",
   "metadata": {},
   "outputs": [
    {
     "name": "stdout",
     "output_type": "stream",
     "text": [
      "2 is even\n",
      "3 is odd\n"
     ]
    }
   ],
   "source": [
    "def even_odd(x):\n",
    "    if x%2 == 0:\n",
    "        print(x, 'is even')\n",
    "    else:\n",
    "        print(x, 'is odd')\n",
    "        \n",
    "even_odd(2)\n",
    "even_odd(3)"
   ]
  },
  {
   "cell_type": "code",
   "execution_count": 186,
   "id": "eacc88eb",
   "metadata": {},
   "outputs": [
    {
     "name": "stdout",
     "output_type": "stream",
     "text": [
      "I am playing with computer\n",
      "Soon I will be master\n",
      "You will play my written game\n",
      "I will get a huge fame\n"
     ]
    }
   ],
   "source": [
    "def poem():\n",
    "    print('I am playing with computer')\n",
    "    print('Soon I will be master')\n",
    "    print('You will play my written game')\n",
    "    print('I will get a huge fame')\n",
    "poem()"
   ]
  },
  {
   "cell_type": "code",
   "execution_count": 95,
   "id": "1054da37",
   "metadata": {},
   "outputs": [],
   "source": [
    "def number_entry():\n",
    "    a = int(input(\"please enter a number: \"))\n",
    "    b = int(input(\"please enter a number: \"))\n",
    "    print('The sum is ', a+b)"
   ]
  },
  {
   "cell_type": "code",
   "execution_count": 96,
   "id": "3ad316e9",
   "metadata": {},
   "outputs": [
    {
     "name": "stdout",
     "output_type": "stream",
     "text": [
      "please enter a number: 6\n",
      "please enter a number: 6\n",
      "The sum is  12\n"
     ]
    }
   ],
   "source": [
    "number_entry()"
   ]
  },
  {
   "cell_type": "code",
   "execution_count": 192,
   "id": "2122f9bf",
   "metadata": {},
   "outputs": [],
   "source": []
  },
  {
   "cell_type": "code",
   "execution_count": 196,
   "id": "3ae1c64d",
   "metadata": {},
   "outputs": [],
   "source": [
    "def rev(a):\n",
    "    b = a[::-1]\n",
    "    return b"
   ]
  },
  {
   "cell_type": "code",
   "execution_count": 198,
   "id": "9a055a6b",
   "metadata": {},
   "outputs": [
    {
     "name": "stdout",
     "output_type": "stream",
     "text": [
      "[43, 6, 2, 5, 3, 6, 4, 2]\n"
     ]
    }
   ],
   "source": [
    "a = [2, 4, 6, 3, 5, 2, 6, 43]\n",
    "check = rev(a)\n",
    "print(check)"
   ]
  },
  {
   "cell_type": "code",
   "execution_count": 200,
   "id": "a35eaedb",
   "metadata": {},
   "outputs": [
    {
     "name": "stdout",
     "output_type": "stream",
     "text": [
      "[43, 6, 2, 5, 3]\n"
     ]
    }
   ],
   "source": [
    "a = [3, 5, 2, 6, 43]\n",
    "check1 = rev(a)\n",
    "print(check1)"
   ]
  },
  {
   "cell_type": "code",
   "execution_count": 202,
   "id": "8989016b",
   "metadata": {},
   "outputs": [
    {
     "data": {
      "text/plain": [
       "True"
      ]
     },
     "execution_count": 202,
     "metadata": {},
     "output_type": "execute_result"
    }
   ],
   "source": [
    "def even_odd(x):\n",
    "    if x%2 == 0:\n",
    "        return True\n",
    "    else:\n",
    "        return False\n",
    "        \n",
    "even_odd(2)"
   ]
  },
  {
   "cell_type": "code",
   "execution_count": 203,
   "id": "2779290a",
   "metadata": {},
   "outputs": [
    {
     "data": {
      "text/plain": [
       "False"
      ]
     },
     "execution_count": 203,
     "metadata": {},
     "output_type": "execute_result"
    }
   ],
   "source": [
    "even_odd(3)"
   ]
  },
  {
   "cell_type": "code",
   "execution_count": 206,
   "id": "71a312ae",
   "metadata": {},
   "outputs": [
    {
     "name": "stdout",
     "output_type": "stream",
     "text": [
      "Sum is: 9 Div is: 24 SumDiv is: 20\n"
     ]
    }
   ],
   "source": [
    "#calling multiple values from a function:\n",
    "\n",
    "def calculation(a, b, c):\n",
    "    result1 = a+b+c\n",
    "    result2 = a*b*c\n",
    "    result3 = (a+b)*c\n",
    "    return result1, result2, result3\n",
    "\n",
    "sum, div, sumdiv = calculation(2,3,4)\n",
    "print('Sum is:', sum, 'Div is:', div, 'SumDiv is:', sumdiv)"
   ]
  },
  {
   "cell_type": "code",
   "execution_count": 208,
   "id": "77dc1fdd",
   "metadata": {},
   "outputs": [
    {
     "name": "stdout",
     "output_type": "stream",
     "text": [
      "Sum is: 60 Div is: 6000 SumDiv is: 900\n"
     ]
    }
   ],
   "source": [
    "j, k, l = calculation(10,20,30)\n",
    "print('Sum is:', j, 'Div is:', k, 'SumDiv is:', l)"
   ]
  },
  {
   "cell_type": "code",
   "execution_count": 209,
   "id": "a7c16ed2",
   "metadata": {},
   "outputs": [],
   "source": [
    "def even(x):\n",
    "    if x%2 == 0:\n",
    "        return True\n",
    "    else:\n",
    "        return False\n",
    "\n",
    "def div(y):\n",
    "    if even(y) and y%3 == 0:\n",
    "        return True\n",
    "    else:\n",
    "        return False"
   ]
  },
  {
   "cell_type": "code",
   "execution_count": 213,
   "id": "d54b79a1",
   "metadata": {},
   "outputs": [
    {
     "name": "stdout",
     "output_type": "stream",
     "text": [
      "True\n"
     ]
    }
   ],
   "source": [
    "y = 6\n",
    "a = div(y)\n",
    "print(a)"
   ]
  },
  {
   "cell_type": "code",
   "execution_count": 214,
   "id": "dc5d159f",
   "metadata": {},
   "outputs": [
    {
     "name": "stdout",
     "output_type": "stream",
     "text": [
      "True\n"
     ]
    }
   ],
   "source": [
    "y = 18\n",
    "a = div(y)\n",
    "print(a)"
   ]
  },
  {
   "cell_type": "code",
   "execution_count": 215,
   "id": "bed31457",
   "metadata": {},
   "outputs": [
    {
     "name": "stdout",
     "output_type": "stream",
     "text": [
      "False\n"
     ]
    }
   ],
   "source": [
    "y = 19\n",
    "a = div(y)\n",
    "print(a)"
   ]
  },
  {
   "cell_type": "code",
   "execution_count": 36,
   "id": "5e4facf0",
   "metadata": {},
   "outputs": [
    {
     "name": "stdout",
     "output_type": "stream",
     "text": [
      "please enter a number 5\n",
      "120\n"
     ]
    }
   ],
   "source": [
    "def fact(a):\n",
    "    if 1 == 0 or a == 1:\n",
    "        return 1\n",
    "    else:\n",
    "        return a*fact(a-1)\n",
    "a = int(input('please enter a number '))\n",
    "print(fact(a))"
   ]
  },
  {
   "cell_type": "code",
   "execution_count": 38,
   "id": "a30ae386",
   "metadata": {},
   "outputs": [
    {
     "name": "stdout",
     "output_type": "stream",
     "text": [
      "My name is nitin and my age is:  30\n"
     ]
    }
   ],
   "source": [
    "#My name is ashu and my age is 28\n",
    "def line(name, age):\n",
    "    print('My name is', name, 'and my age is: ', age)\n",
    "\n",
    "line('Nitin', 30)"
   ]
  },
  {
   "cell_type": "code",
   "execution_count": 39,
   "id": "7adea1d9",
   "metadata": {},
   "outputs": [
    {
     "name": "stdout",
     "output_type": "stream",
     "text": [
      "My name is Pragati and my age is:  30\n"
     ]
    }
   ],
   "source": [
    "line('Pragati', 30)"
   ]
  },
  {
   "cell_type": "code",
   "execution_count": 51,
   "id": "ec9d3e06",
   "metadata": {},
   "outputs": [],
   "source": [
    "def line1(name, age, place):\n",
    "    print('My name is', name, 'and my age is:',age,'and', 'I stay in', place)"
   ]
  },
  {
   "cell_type": "code",
   "execution_count": 50,
   "id": "73d602f3",
   "metadata": {},
   "outputs": [
    {
     "name": "stdout",
     "output_type": "stream",
     "text": [
      "My name is Nitin and my age is: 30 and I stay in  Indore\n"
     ]
    }
   ],
   "source": [
    "line1('Nitin', '30', 'Indore')"
   ]
  },
  {
   "cell_type": "code",
   "execution_count": 53,
   "id": "0a52c177",
   "metadata": {},
   "outputs": [
    {
     "name": "stdout",
     "output_type": "stream",
     "text": [
      "My name is Nitin and my age is: 30 and I stay in Indore\n",
      "<function line1 at 0x000001B4EAFCFB50>\n"
     ]
    }
   ],
   "source": [
    "line1(name = 'Nitin', age = 30, place = 'Indore')\n",
    "print(line1)"
   ]
  },
  {
   "cell_type": "code",
   "execution_count": 65,
   "id": "2d469cec",
   "metadata": {},
   "outputs": [],
   "source": [
    "#Output: Maths: 85 Physics: 90 Chemistry: 45 Biology: 50\n",
    "def mark(Maths, Physics, Chemistry, Biology):\n",
    "    print('Maths:', Maths, 'Physics:', Physics, 'Chemistry:',Chemistry, 'Biology:',Biology)"
   ]
  },
  {
   "cell_type": "code",
   "execution_count": 66,
   "id": "6e799490",
   "metadata": {},
   "outputs": [
    {
     "name": "stdout",
     "output_type": "stream",
     "text": [
      "Maths: 85 Physics: 90 Chemistry: 45 Biology: 50\n"
     ]
    }
   ],
   "source": [
    "mark(85,90,45,50)"
   ]
  },
  {
   "cell_type": "code",
   "execution_count": 67,
   "id": "395dc04f",
   "metadata": {},
   "outputs": [],
   "source": [
    "def mark(Maths =85, Physics = 90, Chemistry = 45, Biology= 50):\n",
    "    print('Maths:', Maths, 'Physics:', Physics, 'Chemistry:',Chemistry, 'Biology:',Biology)"
   ]
  },
  {
   "cell_type": "code",
   "execution_count": 68,
   "id": "0512a4e2",
   "metadata": {},
   "outputs": [
    {
     "name": "stdout",
     "output_type": "stream",
     "text": [
      "Maths: 85 Physics: 90 Chemistry: 45 Biology: 50\n"
     ]
    }
   ],
   "source": [
    "mark()"
   ]
  },
  {
   "cell_type": "code",
   "execution_count": 70,
   "id": "b68560e8",
   "metadata": {},
   "outputs": [
    {
     "name": "stdout",
     "output_type": "stream",
     "text": [
      "30\n"
     ]
    }
   ],
   "source": [
    "def sum(a,b):\n",
    "    return a+b\n",
    "a = sum(10,20)\n",
    "print(a)"
   ]
  },
  {
   "cell_type": "code",
   "execution_count": 71,
   "id": "4c3c4092",
   "metadata": {},
   "outputs": [
    {
     "name": "stdout",
     "output_type": "stream",
     "text": [
      "30\n"
     ]
    }
   ],
   "source": [
    "b = sum(a = 10, b=20)\n",
    "print(b)"
   ]
  },
  {
   "cell_type": "code",
   "execution_count": 76,
   "id": "3388ed35",
   "metadata": {},
   "outputs": [
    {
     "name": "stdout",
     "output_type": "stream",
     "text": [
      "30\n"
     ]
    }
   ],
   "source": [
    "a = 10\n",
    "b = 20\n",
    "c = lambda x, y : a+b\n",
    "print(c(a,b))"
   ]
  },
  {
   "cell_type": "code",
   "execution_count": 78,
   "id": "b3631089",
   "metadata": {},
   "outputs": [
    {
     "name": "stdout",
     "output_type": "stream",
     "text": [
      "200\n"
     ]
    }
   ],
   "source": [
    "a = 10\n",
    "b = 20\n",
    "c = lambda x, y: a*b\n",
    "print(c(a,b))"
   ]
  },
  {
   "cell_type": "code",
   "execution_count": 80,
   "id": "540b7713",
   "metadata": {},
   "outputs": [
    {
     "name": "stdout",
     "output_type": "stream",
     "text": [
      "Nitin is working at RWS\n"
     ]
    }
   ],
   "source": [
    "a = 'Nitin is working'\n",
    "b = ' at RWS'\n",
    "c = lambda x,y : a+b\n",
    "print(c(a,b))"
   ]
  },
  {
   "cell_type": "code",
   "execution_count": 81,
   "id": "200676bb",
   "metadata": {},
   "outputs": [
    {
     "name": "stdout",
     "output_type": "stream",
     "text": [
      "[10, 20, 30, 40]\n"
     ]
    }
   ],
   "source": [
    "a = [10, 20]\n",
    "b = [30, 40]\n",
    "c = lambda x, y: a+b\n",
    "print(c(a,b))"
   ]
  },
  {
   "cell_type": "code",
   "execution_count": 84,
   "id": "1dacaa63",
   "metadata": {},
   "outputs": [
    {
     "name": "stdout",
     "output_type": "stream",
     "text": [
      "Even number: [2, 4, 6, 8, 10]\n",
      "Odd number: [1, 3, 5, 7, 9]\n"
     ]
    }
   ],
   "source": [
    "numbers = [1, 2, 3, 4, 5, 6, 7, 8, 9, 10]\n",
    "\n",
    "even = lambda numbers: numbers%2 == 0\n",
    "odd = lambda numbers: numbers%2 != 0\n",
    "\n",
    "even_number = []\n",
    "odd_number = []\n",
    "for i in numbers:\n",
    "    if even(i):\n",
    "        even_number.append(i)\n",
    "    else:\n",
    "        odd_number.append(i)\n",
    "    \n",
    "print('Even number:', even_number)\n",
    "print('Odd number:', odd_number)"
   ]
  },
  {
   "cell_type": "code",
   "execution_count": 85,
   "id": "97b9b438",
   "metadata": {},
   "outputs": [
    {
     "name": "stdout",
     "output_type": "stream",
     "text": [
      "Even number: [2, 4, 6, 8, 10]\n",
      "Odd number: [1, 3, 5, 7, 9]\n"
     ]
    }
   ],
   "source": [
    "numbers = [1, 2, 3, 4, 5, 6, 7, 8, 9, 10]\n",
    "even = lambda numbers: numbers%2 == 0\n",
    "odd = lambda numbers: numbers%2 != 0\n",
    "\n",
    "even_num = []\n",
    "odd_num = []\n",
    "\n",
    "for i in numbers:\n",
    "    if odd(i):\n",
    "        odd_num.append(i)\n",
    "    else:\n",
    "        even_num.append(i)\n",
    "print('Even number:', even_num)\n",
    "print('Odd number:', odd_num)"
   ]
  },
  {
   "cell_type": "code",
   "execution_count": 86,
   "id": "baabb956",
   "metadata": {},
   "outputs": [
    {
     "name": "stdout",
     "output_type": "stream",
     "text": [
      "Please enter a number: 2\n",
      "2 * 1 = 2\n",
      "2 * 2 = 4\n",
      "2 * 3 = 6\n",
      "2 * 4 = 8\n",
      "2 * 5 = 10\n",
      "2 * 6 = 12\n",
      "2 * 7 = 14\n",
      "2 * 8 = 16\n",
      "2 * 9 = 18\n",
      "2 * 10 = 20\n"
     ]
    }
   ],
   "source": [
    "a = (int(input('Please enter a number: ')))\n",
    "for i in range (1,11):\n",
    "    print(a, '*', i, '=', a*i)"
   ]
  },
  {
   "cell_type": "code",
   "execution_count": 88,
   "id": "ba7b99c8",
   "metadata": {},
   "outputs": [
    {
     "name": "stdout",
     "output_type": "stream",
     "text": [
      "Please enter a number: 2\n",
      "2 * 1 = 2\n",
      "2 * 2 = 4\n",
      "2 * 3 = 6\n",
      "2 * 4 = 8\n",
      "2 * 5 = 10\n",
      "2 * 6 = 12\n",
      "2 * 7 = 14\n",
      "2 * 8 = 16\n",
      "2 * 9 = 18\n",
      "2 * 10 = 20\n"
     ]
    }
   ],
   "source": [
    "a = (int(input('Please enter a number: ')))\n",
    "c = lambda x, y: a*i\n",
    "for i in range (1,11):\n",
    "    print(a, '*', i, '=', c(a,i))"
   ]
  },
  {
   "cell_type": "code",
   "execution_count": 89,
   "id": "9a9107bb",
   "metadata": {},
   "outputs": [
    {
     "name": "stdout",
     "output_type": "stream",
     "text": [
      "Please enter a number: 5\n",
      "5 * 1 = 5\n",
      "5 * 2 = 10\n",
      "5 * 3 = 15\n",
      "5 * 4 = 20\n",
      "5 * 5 = 25\n",
      "5 * 6 = 30\n",
      "5 * 7 = 35\n",
      "5 * 8 = 40\n",
      "5 * 9 = 45\n",
      "5 * 10 = 50\n"
     ]
    }
   ],
   "source": [
    "a = (int(input('Please enter a number: ')))\n",
    "c = lambda x, y: a*i\n",
    "for i in range (1,11):\n",
    "    print(a, '*', i, '=', c(a,i))"
   ]
  },
  {
   "cell_type": "code",
   "execution_count": 100,
   "id": "e4e06e8c",
   "metadata": {},
   "outputs": [
    {
     "name": "stdout",
     "output_type": "stream",
     "text": [
      "[10, None, 12, None, 14, None]\n"
     ]
    }
   ],
   "source": [
    "def map_fun(a):\n",
    "    if a%2 == 0:\n",
    "        return a\n",
    "\n",
    "\n",
    "a = [10, 11, 12, 13, 14, 15]\n",
    "sol = map(map_fun, a)\n",
    "print(list(sol))"
   ]
  },
  {
   "cell_type": "code",
   "execution_count": 104,
   "id": "bc032484",
   "metadata": {},
   "outputs": [],
   "source": [
    "def nitin_even_odd(a):\n",
    "    if a%2 == 0:\n",
    "        return 'The number is even', a\n",
    "    else:\n",
    "        return 'The number is odd', a"
   ]
  },
  {
   "cell_type": "code",
   "execution_count": 103,
   "id": "73ff94f4",
   "metadata": {},
   "outputs": [
    {
     "name": "stdout",
     "output_type": "stream",
     "text": [
      "[('The number is odd', 1), ('The number is even', 2), ('The number is odd', 3), ('The number is even', 4), ('The number is odd', 5), ('The number is even', 6), ('The number is odd', 7), ('The number is even', 8), ('The number is odd', 9), ('The number is even', 10)]\n"
     ]
    }
   ],
   "source": [
    "a = [1,2,3,4,5,6,7,8,9,10]\n",
    "sol1 = map(nitin_even_odd, a)\n",
    "print(list(sol1))"
   ]
  },
  {
   "cell_type": "code",
   "execution_count": 105,
   "id": "87ccc07a",
   "metadata": {},
   "outputs": [
    {
     "name": "stdout",
     "output_type": "stream",
     "text": [
      "[(1, 'is not divisible by 2'), (2, 'is divisible by 2'), (3, 'is not divisible by 2'), (4, 'is divisible by 2'), (5, 'is not divisible by 2'), (6, 'is divisible by 2'), (7, 'is not divisible by 2'), (8, 'is divisible by 2'), (9, 'is not divisible by 2'), (10, 'is divisible by 2')]\n"
     ]
    }
   ],
   "source": [
    "def divisible_by_2(a):\n",
    "    if a%2 == 0:\n",
    "        return a, 'is divisible by 2'\n",
    "    else:\n",
    "        return a, 'is not divisible by 2'\n",
    "\n",
    "a = [1,2,3,4,5,6,7,8,9,10]\n",
    "print(list(map(divisible_by_2, a)))"
   ]
  },
  {
   "cell_type": "code",
   "execution_count": 110,
   "id": "22fadbe7",
   "metadata": {},
   "outputs": [
    {
     "name": "stdout",
     "output_type": "stream",
     "text": [
      "[('number', 1, 'is odd'), ('number', 2, 'is even'), ('number', 3, 'is odd'), ('number', 4, 'is even'), ('number', 5, 'is odd'), ('number', 6, 'is even'), ('number', 7, 'is odd'), ('number', 8, 'is even'), ('number', 9, 'is odd'), ('number', 10, 'is even')]\n"
     ]
    }
   ],
   "source": [
    "def nitin(a):\n",
    "    if a%2 == 0:\n",
    "        return 'number', a, 'is even'\n",
    "    else:\n",
    "        return 'number', a, 'is odd'\n",
    "\n",
    "a = [1,2,3,4,5,6,7,8,9,10]\n",
    "print(list(map(nitin, a)))"
   ]
  },
  {
   "cell_type": "code",
   "execution_count": 112,
   "id": "73b17e62",
   "metadata": {},
   "outputs": [
    {
     "name": "stdout",
     "output_type": "stream",
     "text": [
      "[1, 4, 9, 16]\n"
     ]
    }
   ],
   "source": [
    "a = [1,2,3,4]\n",
    "def square_map(a):\n",
    "    return a*a\n",
    "\n",
    "sq = list(map(square_map, a))\n",
    "print(sq)"
   ]
  },
  {
   "cell_type": "code",
   "execution_count": 121,
   "id": "af476dbc",
   "metadata": {},
   "outputs": [
    {
     "name": "stdout",
     "output_type": "stream",
     "text": [
      "[1, 4, 9, 16]\n"
     ]
    }
   ],
   "source": [
    "a = [1,2,3,4]\n",
    "print(list(map(lambda a: (a*a), a)))"
   ]
  },
  {
   "cell_type": "code",
   "execution_count": 122,
   "id": "7f998600",
   "metadata": {},
   "outputs": [
    {
     "name": "stdout",
     "output_type": "stream",
     "text": [
      "[1, 4, 9, 16]\n"
     ]
    }
   ],
   "source": [
    "a = [1,2,3,4]\n",
    "b = map(lambda a: a*a, a)\n",
    "print(list(b))"
   ]
  },
  {
   "cell_type": "code",
   "execution_count": 123,
   "id": "d3c4ae82",
   "metadata": {},
   "outputs": [
    {
     "name": "stdout",
     "output_type": "stream",
     "text": [
      "[11, 13, 16, 18]\n"
     ]
    }
   ],
   "source": [
    "a = [1,2,3,4]\n",
    "b = [10,11,13,14]\n",
    "#Output: [11, 13, 16, 18]\n",
    "\n",
    "c = map(lambda a,b : a+b, a, b)\n",
    "print(list(c))"
   ]
  },
  {
   "cell_type": "code",
   "execution_count": 124,
   "id": "ad7c2424",
   "metadata": {},
   "outputs": [
    {
     "name": "stdout",
     "output_type": "stream",
     "text": [
      "[20, 40, 60, 80]\n"
     ]
    }
   ],
   "source": [
    "a = [1,2,3,4]\n",
    "b = map(lambda a: a*20, a)\n",
    "print(list(b))"
   ]
  },
  {
   "cell_type": "code",
   "execution_count": 139,
   "id": "2a9b8525",
   "metadata": {},
   "outputs": [
    {
     "name": "stdout",
     "output_type": "stream",
     "text": [
      "1 is odd\n",
      "2 is even\n",
      "3 is odd\n",
      "4 is even\n",
      "5 is odd\n",
      "6 is even\n",
      "7 is odd\n",
      "8 is even\n",
      "9 is odd\n",
      "10 is even\n",
      "11 is odd\n",
      "12 is even\n",
      "13 is odd\n",
      "14 is even\n",
      "15 is odd\n",
      "16 is even\n",
      "17 is odd\n",
      "18 is even\n",
      "19 is odd\n",
      "20 is even\n",
      "[None, None, None, None, None, None, None, None, None, None, None, None, None, None, None, None, None, None, None, None]\n"
     ]
    }
   ],
   "source": [
    "a = [1, 2, 3, 4, 5, 6, 7, 8, 9, 10, 11, 12, 13, 14, 15, 16, 17, 18, 19, 20]\n",
    "def fun_even_odd(a):\n",
    "    if a%2 == 0:\n",
    "        print(a, 'is even')\n",
    "    else: \n",
    "        print(a, 'is odd')\n",
    "\n",
    "b = map(fun_even_odd,a)\n",
    "print(list(b))"
   ]
  },
  {
   "cell_type": "code",
   "execution_count": 141,
   "id": "bac920e5",
   "metadata": {},
   "outputs": [
    {
     "name": "stdout",
     "output_type": "stream",
     "text": [
      "1 is odd\n",
      "2 is even\n",
      "3 is odd\n",
      "4 is even\n",
      "5 is odd\n",
      "6 is even\n",
      "7 is odd\n",
      "8 is even\n",
      "9 is odd\n",
      "10 is even\n",
      "11 is odd\n",
      "12 is even\n",
      "13 is odd\n",
      "14 is even\n",
      "15 is odd\n",
      "16 is even\n",
      "17 is odd\n",
      "18 is even\n",
      "19 is odd\n",
      "20 is even\n",
      "[]\n"
     ]
    }
   ],
   "source": [
    "a = [1, 2, 3, 4, 5, 6, 7, 8, 9, 10, 11, 12, 13, 14, 15, 16, 17, 18, 19, 20]\n",
    "def fun_even_odd(a):\n",
    "    if a%2 == 0:\n",
    "        print(a, 'is even')\n",
    "    else: \n",
    "        print(a, 'is odd')\n",
    "\n",
    "b = filter(fun_even_odd,a)\n",
    "print(list(b))"
   ]
  },
  {
   "cell_type": "code",
   "execution_count": 154,
   "id": "f1845350",
   "metadata": {},
   "outputs": [
    {
     "name": "stdout",
     "output_type": "stream",
     "text": [
      "[False, True, False, True, False, True, False, True]\n",
      "[2, 4, 6, 8]\n"
     ]
    }
   ],
   "source": [
    "a = [1,2,3,4,5,6,7,8]\n",
    "b = map(lambda a: a%2 ==0, a)\n",
    "\n",
    "#MAP\n",
    "print(list(b))\n",
    "\n",
    "#filter\n",
    "c = filter(lambda a: a%2 ==0, a)\n",
    "print(list(c))\n"
   ]
  },
  {
   "cell_type": "code",
   "execution_count": 152,
   "id": "069f2439",
   "metadata": {},
   "outputs": [],
   "source": [
    "from functools import reduce"
   ]
  },
  {
   "cell_type": "code",
   "execution_count": 175,
   "id": "9b21c135",
   "metadata": {},
   "outputs": [
    {
     "name": "stdout",
     "output_type": "stream",
     "text": [
      "45\n"
     ]
    }
   ],
   "source": [
    "a = reduce(lambda x,y: x+y, [1,2,3,4,5,6,7,8,9])\n",
    "print(a)"
   ]
  },
  {
   "cell_type": "code",
   "execution_count": 177,
   "id": "6217d1cc",
   "metadata": {},
   "outputs": [
    {
     "name": "stdout",
     "output_type": "stream",
     "text": [
      "[4, 5, 6]\n"
     ]
    }
   ],
   "source": [
    "a = [1,2,3]\n",
    "b = map(lambda a: a+3, a)\n",
    "print(list(b))"
   ]
  },
  {
   "cell_type": "code",
   "execution_count": 183,
   "id": "2a75ad34",
   "metadata": {},
   "outputs": [
    {
     "name": "stdout",
     "output_type": "stream",
     "text": [
      "[2]\n"
     ]
    }
   ],
   "source": [
    "a = [1,2,3]\n",
    "b = filter(lambda a: a%2 ==0, a)\n",
    "print(list(b))"
   ]
  },
  {
   "cell_type": "code",
   "execution_count": 184,
   "id": "6c0b6556",
   "metadata": {},
   "outputs": [
    {
     "name": "stdout",
     "output_type": "stream",
     "text": [
      "[False, False, True]\n"
     ]
    }
   ],
   "source": [
    "a = [1,2,3]\n",
    "b = map(lambda x: x>2, a)\n",
    "print(list(b))"
   ]
  },
  {
   "cell_type": "code",
   "execution_count": 186,
   "id": "b02ce2dc",
   "metadata": {},
   "outputs": [
    {
     "name": "stdout",
     "output_type": "stream",
     "text": [
      "[3]\n"
     ]
    }
   ],
   "source": [
    "a = [1,2,3]\n",
    "b = filter(lambda x: x>2, a)\n",
    "print(list(b))"
   ]
  },
  {
   "cell_type": "code",
   "execution_count": 191,
   "id": "039d2a32",
   "metadata": {},
   "outputs": [
    {
     "name": "stdout",
     "output_type": "stream",
     "text": [
      "6\n"
     ]
    }
   ],
   "source": [
    "c = reduce(lambda a, b: a+b, [1,2,3])\n",
    "print((c))"
   ]
  },
  {
   "cell_type": "markdown",
   "id": "dd982c85",
   "metadata": {},
   "source": [
    "### filter with map"
   ]
  },
  {
   "cell_type": "code",
   "execution_count": 203,
   "id": "e1940f2e",
   "metadata": {},
   "outputs": [
    {
     "name": "stdout",
     "output_type": "stream",
     "text": [
      "[61, 71, 81, 91, 101, 111, 121, 131, 141]\n"
     ]
    }
   ],
   "source": [
    "a = [10, 20, 30, 40, 50, 60, 70, 80, 90, 100, 110, 120, 130, 140]\n",
    "b = map(lambda a: a+1, filter(lambda a:a>50, a))\n",
    "print(list(b))"
   ]
  },
  {
   "cell_type": "code",
   "execution_count": 208,
   "id": "d5127243",
   "metadata": {},
   "outputs": [
    {
     "name": "stdout",
     "output_type": "stream",
     "text": [
      "[51, 61, 71, 81, 91, 101, 111, 121, 131, 141]\n"
     ]
    }
   ],
   "source": [
    "### map with filter\n",
    "\n",
    "a = [10, 20, 30, 40, 50, 60, 70, 80, 90, 100, 110, 120, 130, 140]\n",
    "b = filter(lambda a:a>50, (map(lambda a: a+1,a)))\n",
    "\n",
    "print(list(b))\n"
   ]
  },
  {
   "cell_type": "code",
   "execution_count": 212,
   "id": "32f219f9",
   "metadata": {},
   "outputs": [
    {
     "name": "stdout",
     "output_type": "stream",
     "text": [
      "960\n"
     ]
    }
   ],
   "source": [
    "#map & filter with reduce\n",
    "\n",
    "\n",
    "a = [10, 20, 30, 40, 50, 60, 70, 80, 90, 100, 110, 120, 130, 140]\n",
    "b = reduce (lambda a, b: a+b, (filter(lambda a:a>50, (map(lambda a: a+1,a)))))\n",
    "\n",
    "print(b)\n"
   ]
  },
  {
   "cell_type": "markdown",
   "id": "3aa14e99",
   "metadata": {},
   "source": [
    "# List Comprehension"
   ]
  },
  {
   "cell_type": "code",
   "execution_count": 219,
   "id": "5b6050c4",
   "metadata": {},
   "outputs": [
    {
     "name": "stdout",
     "output_type": "stream",
     "text": [
      "1 8 27 64 125 "
     ]
    }
   ],
   "source": [
    "for i in range (1,6): print(i**3, end=' ')\n",
    "    "
   ]
  },
  {
   "cell_type": "code",
   "execution_count": 248,
   "id": "5b03332b",
   "metadata": {},
   "outputs": [
    {
     "name": "stdout",
     "output_type": "stream",
     "text": [
      "[1, 8, 27, 64, 125]\n"
     ]
    }
   ],
   "source": [
    "a = [i**3 for i in range (1,6)]\n",
    "print(a)"
   ]
  },
  {
   "cell_type": "code",
   "execution_count": 250,
   "id": "8124b41c",
   "metadata": {},
   "outputs": [
    {
     "name": "stdout",
     "output_type": "stream",
     "text": [
      "[3, 6, 9, 12, 15, 18]\n"
     ]
    }
   ],
   "source": [
    "#if condition \n",
    "a = [i for i in range (1,21) if i%3 == 0]\n",
    "print(a)"
   ]
  },
  {
   "cell_type": "code",
   "execution_count": 259,
   "id": "59f8b672",
   "metadata": {},
   "outputs": [
    {
     "name": "stdout",
     "output_type": "stream",
     "text": [
      "['NA', 'NA', 3, 'NA', 'NA', 6, 'NA', 'NA', 9, 'NA', 'NA', 12, 'NA', 'NA', 15, 'NA', 'NA', 18, 'NA', 'NA', 21, 'NA', 'NA', 24, 'NA', 'NA', 27, 'NA', 'NA', 30]\n"
     ]
    }
   ],
   "source": [
    "#if else condition \n",
    "a = [i if i%3==0 else 'NA' for i in range (1,31)]\n",
    "print(a)\n"
   ]
  },
  {
   "cell_type": "code",
   "execution_count": 230,
   "id": "136638d7",
   "metadata": {},
   "outputs": [
    {
     "name": "stdout",
     "output_type": "stream",
     "text": [
      "[2, 4, 6, 8, 10]\n"
     ]
    }
   ],
   "source": [
    "a = [i for i in range (1,11) if i%2==0]\n",
    "print(a)"
   ]
  },
  {
   "cell_type": "code",
   "execution_count": 242,
   "id": "e74fabf2",
   "metadata": {},
   "outputs": [
    {
     "name": "stdout",
     "output_type": "stream",
     "text": [
      "[(1, 'is an odd number'), (2, 'is an even number'), (3, 'is an odd number'), (4, 'is an even number'), (5, 'is an odd number'), (6, 'is an even number'), (7, 'is an odd number'), (8, 'is an even number'), (9, 'is an odd number'), (10, 'is an even number'), (11, 'is an odd number'), (12, 'is an even number'), (13, 'is an odd number'), (14, 'is an even number'), (15, 'is an odd number'), (16, 'is an even number'), (17, 'is an odd number'), (18, 'is an even number'), (19, 'is an odd number'), (20, 'is an even number')]\n"
     ]
    }
   ],
   "source": [
    "a = [(i, 'is an even number') if i%2==0 else (i,'is an odd number') for i in range (1,21)]\n",
    "print(a)"
   ]
  },
  {
   "cell_type": "code",
   "execution_count": 261,
   "id": "e72fbffe",
   "metadata": {},
   "outputs": [
    {
     "name": "stdout",
     "output_type": "stream",
     "text": [
      "[1, 2, 3, 4, 5]\n"
     ]
    }
   ],
   "source": [
    "list = []\n",
    "for i in range (1,6):\n",
    "    list.append(i)\n",
    "print(list)"
   ]
  },
  {
   "cell_type": "code",
   "execution_count": 263,
   "id": "5538689f",
   "metadata": {},
   "outputs": [
    {
     "name": "stdout",
     "output_type": "stream",
     "text": [
      "[1, 2, 3, 4, 5]\n"
     ]
    }
   ],
   "source": [
    "print([i for i in range (1,6)])"
   ]
  },
  {
   "cell_type": "code",
   "execution_count": 264,
   "id": "061900fb",
   "metadata": {},
   "outputs": [
    {
     "name": "stdout",
     "output_type": "stream",
     "text": [
      "[2, 4, 6, 8, 10]\n"
     ]
    }
   ],
   "source": [
    "print([i for i in range (1,11) if i%2==0])"
   ]
  },
  {
   "cell_type": "code",
   "execution_count": 265,
   "id": "93511dd7",
   "metadata": {},
   "outputs": [
    {
     "name": "stdout",
     "output_type": "stream",
     "text": [
      "[1, 4, 27, 16, 125, 36, 343, 64, 729, 100]\n"
     ]
    }
   ],
   "source": [
    "result = []\n",
    "\n",
    "for num in range(1, 11):\n",
    "    if num % 2 == 0:\n",
    "        result.append(num ** 2)\n",
    "    else:\n",
    "        result.append(num ** 3)\n",
    "print(result)"
   ]
  },
  {
   "cell_type": "code",
   "execution_count": 266,
   "id": "d64fefb5",
   "metadata": {},
   "outputs": [
    {
     "name": "stdout",
     "output_type": "stream",
     "text": [
      "[1, 4, 27, 16, 125, 36, 343, 64, 729, 100]\n"
     ]
    }
   ],
   "source": [
    "print([i**2 if i%2==0 else i**3 for i in range(1,11)])"
   ]
  },
  {
   "cell_type": "code",
   "execution_count": 269,
   "id": "98cb86a5",
   "metadata": {},
   "outputs": [
    {
     "name": "stdout",
     "output_type": "stream",
     "text": [
      "[3, 4]\n"
     ]
    }
   ],
   "source": [
    "a = [1,2,3,4]\n",
    "b = [3,4,5,6]\n",
    "c = []\n",
    "for i in a:\n",
    "    for j in b:\n",
    "        if i == j:\n",
    "            c.append(j)\n",
    "print(c)"
   ]
  },
  {
   "cell_type": "code",
   "execution_count": 272,
   "id": "47a08066",
   "metadata": {},
   "outputs": [
    {
     "name": "stdout",
     "output_type": "stream",
     "text": [
      "[3, 4]\n"
     ]
    }
   ],
   "source": [
    "print([i for i in range (1,5) for j in range (3,9) if i ==j])"
   ]
  },
  {
   "cell_type": "code",
   "execution_count": 1,
   "id": "4260c213",
   "metadata": {},
   "outputs": [
    {
     "name": "stdout",
     "output_type": "stream",
     "text": [
      "[2, 4, 6, 8, 10]\n",
      "[1, 3, 5, 7, 9]\n"
     ]
    }
   ],
   "source": [
    "even = []\n",
    "odd = []\n",
    "\n",
    "for i in range (1,11):\n",
    "    if i%2==0:\n",
    "        even.append(i)\n",
    "    else:\n",
    "        odd.append(i)\n",
    "print(even)\n",
    "print(odd)"
   ]
  },
  {
   "cell_type": "code",
   "execution_count": 7,
   "id": "8a21bb9f",
   "metadata": {},
   "outputs": [
    {
     "data": {
      "text/plain": [
       "[1, 2, 3, 4, 5, 6, 7, 8, 9, 10]"
      ]
     },
     "execution_count": 7,
     "metadata": {},
     "output_type": "execute_result"
    }
   ],
   "source": [
    "[i if i%2==0 else i for i in range (1,11)]"
   ]
  },
  {
   "cell_type": "code",
   "execution_count": 6,
   "id": "2dc48291",
   "metadata": {},
   "outputs": [
    {
     "name": "stdout",
     "output_type": "stream",
     "text": [
      "[1, 4, 27, 16, 125, 36, 343, 64, 729, 100]\n"
     ]
    }
   ],
   "source": [
    "a = [i ** 2 if i % 2 == 0 else i ** 3 for i in range(1,11)]\n",
    "print(a)"
   ]
  },
  {
   "cell_type": "code",
   "execution_count": 12,
   "id": "cf6e6cb4",
   "metadata": {},
   "outputs": [
    {
     "name": "stdout",
     "output_type": "stream",
     "text": [
      "[21, 22, 23, 24, 25, 26, 27, 28, 29, 30]\n"
     ]
    }
   ],
   "source": [
    "#Output: [21, 22, 23, 24, 25, 26, 27, 28, 29, 30]\n",
    "a = []\n",
    "for i in range (21,31):\n",
    "    a.append(i)\n",
    "print(a)"
   ]
  },
  {
   "cell_type": "code",
   "execution_count": 11,
   "id": "faa24fc6",
   "metadata": {},
   "outputs": [
    {
     "name": "stdout",
     "output_type": "stream",
     "text": [
      "Key of the dictionary = name\n",
      "value of the dictionary = nitin\n",
      "Key of the dictionary = age\n",
      "value of the dictionary = 30\n"
     ]
    }
   ],
   "source": [
    "a = {'name':'nitin', 'age':30}\n",
    "for i,j in a.items():\n",
    "    print('Key of the dictionary =', i)\n",
    "    print('value of the dictionary =', j)"
   ]
  },
  {
   "cell_type": "code",
   "execution_count": 20,
   "id": "897b2e4f",
   "metadata": {},
   "outputs": [
    {
     "name": "stdout",
     "output_type": "stream",
     "text": [
      "Empty dictionary converted to =   {'name': 'nitin', 'age': 30}\n"
     ]
    }
   ],
   "source": [
    "#Output: {'name': 'kamal', 'age': 24}\n",
    "\n",
    "b = {}\n",
    "\n",
    "b['name'] = 'nitin'\n",
    "b['age'] = 30\n",
    "print('Empty dictionary converted to =  ', b)"
   ]
  },
  {
   "cell_type": "code",
   "execution_count": 21,
   "id": "077f0106",
   "metadata": {},
   "outputs": [
    {
     "name": "stdout",
     "output_type": "stream",
     "text": [
      "The dictionary is  {'Name': 'Nitin', 'age': 30, 'place': 'Indore'}\n"
     ]
    }
   ],
   "source": [
    "a = {}\n",
    "a['Name'] = 'Nitin'\n",
    "a['age'] = 30\n",
    "a['place'] = 'Indore'\n",
    "print('The dictionary is ', a)"
   ]
  },
  {
   "cell_type": "code",
   "execution_count": 26,
   "id": "b252fd61",
   "metadata": {},
   "outputs": [
    {
     "name": "stdout",
     "output_type": "stream",
     "text": [
      "{1: 1, 2: 8, 3: 27}\n"
     ]
    }
   ],
   "source": [
    "#Output {1 : 1 , 2 : 8 , 3 : 27}\n",
    "a = {}\n",
    "for i in range(1,4):\n",
    "    a[i] = i**3\n",
    "print(a)"
   ]
  },
  {
   "cell_type": "code",
   "execution_count": 28,
   "id": "1365d19f",
   "metadata": {},
   "outputs": [
    {
     "name": "stdout",
     "output_type": "stream",
     "text": [
      "{1: 1, 2: 8, 3: 27}\n"
     ]
    }
   ],
   "source": [
    "a ={i:i**3 for i in range (1,4)}\n",
    "print(a)"
   ]
  },
  {
   "cell_type": "code",
   "execution_count": 29,
   "id": "c5c6561c",
   "metadata": {},
   "outputs": [
    {
     "name": "stdout",
     "output_type": "stream",
     "text": [
      "{1: 1, 2: 8, 3: 27, 4: 64, 5: 125, 6: 216, 7: 343, 8: 512, 9: 729, 10: 1000}\n"
     ]
    }
   ],
   "source": [
    "cube = {}\n",
    "for i in range (1,11):\n",
    "    cube[i] = i**3\n",
    "print(cube)"
   ]
  },
  {
   "cell_type": "code",
   "execution_count": 31,
   "id": "82caca25",
   "metadata": {},
   "outputs": [
    {
     "name": "stdout",
     "output_type": "stream",
     "text": [
      "{1: 1, 2: 8, 3: 27, 4: 64, 5: 125, 6: 216, 7: 343, 8: 512, 9: 729, 10: 1000}\n"
     ]
    }
   ],
   "source": [
    "cube = {i:i**3 for i in range (1,11)}\n",
    "print(cube)"
   ]
  },
  {
   "cell_type": "code",
   "execution_count": 36,
   "id": "faf9e2e2",
   "metadata": {},
   "outputs": [
    {
     "name": "stdout",
     "output_type": "stream",
     "text": [
      "{'mango': 80, 'banana': 20, 'cherry': 40}\n"
     ]
    }
   ],
   "source": [
    "#input: fruits = {'mango': 40, 'banana': 10, 'cherry': 20}\n",
    "#Output: {'mango': 80, 'banana': 20, 'cherry': 40}\n",
    "\n",
    "fruits = {'mango': 40, 'banana': 10, 'cherry': 20}\n",
    "newfruits = {}\n",
    "for i, j in fruits.items():\n",
    "    newfruits[i] = j*2\n",
    "print(newfruits)"
   ]
  },
  {
   "cell_type": "code",
   "execution_count": 42,
   "id": "b3759ced",
   "metadata": {},
   "outputs": [
    {
     "name": "stdout",
     "output_type": "stream",
     "text": [
      "{'mango': 80, 'banana': 20, 'cherry': 40}\n"
     ]
    }
   ],
   "source": [
    "fruits = {'mango': 40, 'banana': 10, 'cherry': 20}\n",
    "newfruits = {i:j*2 for i,j in fruits.items()}\n",
    "print(newfruits)"
   ]
  },
  {
   "cell_type": "code",
   "execution_count": 44,
   "id": "7f7c2bfe",
   "metadata": {},
   "outputs": [
    {
     "name": "stdout",
     "output_type": "stream",
     "text": [
      "{'ashu': 'pass', 'mahesh': 'pass', 'ashwini': 'fail', 'asha': 'pass'}\n"
     ]
    }
   ],
   "source": [
    "#input: {\"ashu\": 45, \"mahesh\": 70, \"ashwini\": 32, \"asha\": 65}\n",
    "#Output: {'ashu': 'Pass', 'mahesh': 'Pass', 'ashwini': 'Fail', 'asha': 'Pass'}\n",
    "\n",
    "result = {\"ashu\": 45, \"mahesh\": 70, \"ashwini\": 32, \"asha\": 65}\n",
    "newresult = {}\n",
    "for i,j in result.items():\n",
    "    if j>=40:\n",
    "        newresult[i] = 'pass'\n",
    "    else:\n",
    "        newresult[i] = 'fail'\n",
    "print(newresult)"
   ]
  },
  {
   "cell_type": "code",
   "execution_count": 46,
   "id": "2e5e09fa",
   "metadata": {},
   "outputs": [
    {
     "name": "stdout",
     "output_type": "stream",
     "text": [
      "{'ashu': 'pass', 'mahesh': 'pass', 'ashwini': 'fail', 'asha': 'pass'}\n"
     ]
    }
   ],
   "source": [
    "result = {\"ashu\": 45, \"mahesh\": 70, \"ashwini\": 32, \"asha\": 65}\n",
    "newresult = {i:('pass' if j>=40 else 'fail') for i,j in result.items()}\n",
    "print(newresult)"
   ]
  },
  {
   "cell_type": "code",
   "execution_count": 49,
   "id": "b6120e4f",
   "metadata": {},
   "outputs": [
    {
     "name": "stdout",
     "output_type": "stream",
     "text": [
      "[1, 2, 3, 4, 5, 6, 7, 8, 9, 10, 11, 12, 13, 14, 15, 16, 17, 18, 19, 20, 21, 22, 23, 24, 25, 26, 27, 28, 29, 30, 31, 32, 33, 34, 35, 36, 37, 38, 39, 40, 41, 42, 43, 44, 45, 46, 47, 48, 49, 50, 51, 52, 53, 54, 55, 56, 57, 58, 59, 60, 61, 62, 63, 64, 65, 66, 67, 68, 69, 70, 71, 72, 73, 74, 75, 76, 77, 78, 79, 80, 81, 82, 83, 84, 85, 86, 87, 88, 89, 90, 91, 92, 93, 94, 95, 96, 97, 98, 99, 100]\n"
     ]
    }
   ],
   "source": [
    "a = []\n",
    "for i in range (1,101):\n",
    "    a.append(i)\n",
    "print(a)"
   ]
  },
  {
   "cell_type": "code",
   "execution_count": 52,
   "id": "67e36ec2",
   "metadata": {},
   "outputs": [
    {
     "name": "stdout",
     "output_type": "stream",
     "text": [
      "[1, 2, 3, 4, 5, 6, 7, 8, 9, 10]\n"
     ]
    }
   ],
   "source": [
    "a = [i for i in range(1,11)]\n",
    "print(a)"
   ]
  },
  {
   "cell_type": "code",
   "execution_count": 56,
   "id": "62b4dd59",
   "metadata": {},
   "outputs": [
    {
     "name": "stdout",
     "output_type": "stream",
     "text": [
      "8,16,24,32,40,48,56,64,72,80,88,96,"
     ]
    }
   ],
   "source": [
    "#Find all of the numbers from 1–1000 that are divisible by 8\n",
    "for i in range (1,101):\n",
    "    if i%8 == 0:\n",
    "        print(i, end = ',')"
   ]
  },
  {
   "cell_type": "code",
   "execution_count": 63,
   "id": "eb01f0a1",
   "metadata": {},
   "outputs": [
    {
     "name": "stdout",
     "output_type": "stream",
     "text": [
      "[8, 16, 24, 32, 40, 48, 56, 64, 72, 80, 88, 96]\n"
     ]
    }
   ],
   "source": [
    "a = [i for i in range (1,101) if i%8 == 0]\n",
    "print(a)"
   ]
  },
  {
   "cell_type": "code",
   "execution_count": 66,
   "id": "f9538021",
   "metadata": {},
   "outputs": [
    {
     "name": "stdout",
     "output_type": "stream",
     "text": [
      "6\n",
      "16\n",
      "26\n"
     ]
    }
   ],
   "source": [
    "for i in range (1,30):\n",
    "    if '6' in str(i):\n",
    "        print(i)"
   ]
  },
  {
   "cell_type": "code",
   "execution_count": 67,
   "id": "b4edc7df",
   "metadata": {},
   "outputs": [
    {
     "name": "stdout",
     "output_type": "stream",
     "text": [
      "[6, 16, 26, 36]\n"
     ]
    }
   ],
   "source": [
    "a = [i for i in range (1,40) if '6' in str(i)]\n",
    "print(a)"
   ]
  },
  {
   "cell_type": "code",
   "execution_count": 94,
   "id": "7cd1f0b5",
   "metadata": {},
   "outputs": [
    {
     "name": "stdout",
     "output_type": "stream",
     "text": [
      "1 1 1 1 1 1 1 1 "
     ]
    }
   ],
   "source": [
    "string = \"Practice Problems to Drill List Comprehension in Your Head.\"\n",
    "for i in string:\n",
    "    if i == ' ':\n",
    "        print(len(i), end=' ')"
   ]
  },
  {
   "cell_type": "code",
   "execution_count": 93,
   "id": "0cbc8d98",
   "metadata": {},
   "outputs": [],
   "source": [
    "string = \"Practice Problems to Drill List Comprehension in Your Head.\"\n",
    "a = len([i for i in string if i == ' '])"
   ]
  },
  {
   "cell_type": "code",
   "execution_count": 97,
   "id": "f89ef0f9",
   "metadata": {},
   "outputs": [
    {
     "name": "stdout",
     "output_type": "stream",
     "text": [
      "Prctc Prblms t Drll Lst Cmprhnsn n Yr Hd."
     ]
    }
   ],
   "source": [
    "string = \"Practice Problems to Drill List Comprehension in Your Head.\"\n",
    "for i in string:\n",
    "    if i not in 'aeiouAEIOU':\n",
    "        print(i, end ='')"
   ]
  },
  {
   "cell_type": "code",
   "execution_count": 100,
   "id": "d4fce151",
   "metadata": {},
   "outputs": [
    {
     "data": {
      "text/plain": [
       "'Prctc Prblms t Drll Lst Cmprhnsn n Yr Hd.'"
      ]
     },
     "execution_count": 100,
     "metadata": {},
     "output_type": "execute_result"
    }
   ],
   "source": [
    "string = \"Practice Problems to Drill List Comprehension in Your Head.\"\n",
    "''.join([i for i in string if i not in 'aeiouAEIOU'])"
   ]
  },
  {
   "cell_type": "code",
   "execution_count": 110,
   "id": "bdff19cf",
   "metadata": {},
   "outputs": [
    {
     "name": "stdout",
     "output_type": "stream",
     "text": [
      "['Practice', 'Problems', 'to', 'Drill', 'List', 'Comprehension', 'in', 'Your', 'Head.']\n"
     ]
    }
   ],
   "source": [
    "string = \"Practice Problems to Drill List Comprehension in Your Head.\"\n",
    "a = string.split()\n",
    "print(a)"
   ]
  },
  {
   "cell_type": "code",
   "execution_count": 117,
   "id": "1548b818",
   "metadata": {},
   "outputs": [
    {
     "data": {
      "text/plain": [
       "'Practice Problems to Drill List Comprehension in Your Head.'"
      ]
     },
     "execution_count": 117,
     "metadata": {},
     "output_type": "execute_result"
    }
   ],
   "source": [
    "' '.join(a)"
   ]
  },
  {
   "cell_type": "code",
   "execution_count": 123,
   "id": "c12c4a82",
   "metadata": {},
   "outputs": [
    {
     "name": "stdout",
     "output_type": "stream",
     "text": [
      "Practice, Problems, Drill, Comprehension, Head., "
     ]
    }
   ],
   "source": [
    "string = \"Practice Problems to Drill List Comprehension in Your Head.\"\n",
    "word = string.split()\n",
    "for i in word:\n",
    "    if len(i)>=5:\n",
    "        print(i, end = ', ')"
   ]
  },
  {
   "cell_type": "code",
   "execution_count": 120,
   "id": "bf3323b6",
   "metadata": {},
   "outputs": [
    {
     "data": {
      "text/plain": [
       "['Practice', 'Problems', 'Drill', 'Comprehension', 'Head.']"
      ]
     },
     "execution_count": 120,
     "metadata": {},
     "output_type": "execute_result"
    }
   ],
   "source": [
    "string = \"Practice Problems to Drill List Comprehension in Your Head.\"\n",
    "word = string.split()\n",
    "[i for i in word if len(i)>=5]"
   ]
  },
  {
   "cell_type": "code",
   "execution_count": 128,
   "id": "0497fd0b",
   "metadata": {},
   "outputs": [
    {
     "name": "stdout",
     "output_type": "stream",
     "text": [
      "8 8 2 5 4 13 2 4 5 "
     ]
    }
   ],
   "source": [
    "string = \"Practice Problems to Drill List Comprehension in Your Head.\"\n",
    "word = string.split(' ')\n",
    "for i in word:\n",
    "    print(len(i), end=' ')"
   ]
  },
  {
   "cell_type": "code",
   "execution_count": 130,
   "id": "8fa24db9",
   "metadata": {},
   "outputs": [
    {
     "data": {
      "text/plain": [
       "{'Practice': 8,\n",
       " 'Problems': 8,\n",
       " 'to': 2,\n",
       " 'Drill': 5,\n",
       " 'List': 4,\n",
       " 'Comprehension': 13,\n",
       " 'in': 2,\n",
       " 'Your': 4,\n",
       " 'Head.': 5}"
      ]
     },
     "execution_count": 130,
     "metadata": {},
     "output_type": "execute_result"
    }
   ],
   "source": [
    "string = \"Practice Problems to Drill List Comprehension in Your Head.\"\n",
    "word = string.split()\n",
    "{i:len(i) for i in word}"
   ]
  },
  {
   "cell_type": "code",
   "execution_count": 133,
   "id": "3ac1b8e6",
   "metadata": {},
   "outputs": [
    {
     "data": {
      "text/plain": [
       "{'Practice': 8,\n",
       " 'Problems': 8,\n",
       " 'to': 2,\n",
       " 'Drill': 5,\n",
       " 'List': 4,\n",
       " 'Comprehension': 13,\n",
       " 'in': 2,\n",
       " 'Your': 4,\n",
       " 'Head.': 5}"
      ]
     },
     "execution_count": 133,
     "metadata": {},
     "output_type": "execute_result"
    }
   ],
   "source": [
    "string = \"Practice Problems to Drill List Comprehension in Your Head.\"\n",
    "words = string.split()\n",
    "{word:len(word) for word in words}"
   ]
  },
  {
   "cell_type": "code",
   "execution_count": 134,
   "id": "9fe7c8e7",
   "metadata": {},
   "outputs": [
    {
     "name": "stdout",
     "output_type": "stream",
     "text": [
      "data\n",
      "4\n",
      "science\n",
      "7\n",
      "machine\n",
      "7\n",
      "learning\n",
      "8\n"
     ]
    }
   ],
   "source": [
    "words = ['data', 'science', 'machine', 'learning']\n",
    "for i in words:\n",
    "    print(i)\n",
    "    print(len(i))"
   ]
  },
  {
   "cell_type": "code",
   "execution_count": 136,
   "id": "e784cd7f",
   "metadata": {},
   "outputs": [
    {
     "data": {
      "text/plain": [
       "[4, 7, 7, 8]"
      ]
     },
     "execution_count": 136,
     "metadata": {},
     "output_type": "execute_result"
    }
   ],
   "source": [
    "words = ['data', 'science', 'machine', 'learning']\n",
    "[len(i) for i in words]"
   ]
  },
  {
   "cell_type": "code",
   "execution_count": 137,
   "id": "aa1f7ebb",
   "metadata": {},
   "outputs": [
    {
     "data": {
      "text/plain": [
       "{'data': 4, 'science': 7, 'machine': 7, 'learning': 8}"
      ]
     },
     "execution_count": 137,
     "metadata": {},
     "output_type": "execute_result"
    }
   ],
   "source": [
    "words = ['data', 'science', 'machine', 'learning']\n",
    "{i:len(i) for i in words}"
   ]
  },
  {
   "cell_type": "code",
   "execution_count": null,
   "id": "0ade4234",
   "metadata": {},
   "outputs": [],
   "source": []
  }
 ],
 "metadata": {
  "kernelspec": {
   "display_name": "Python 3 (ipykernel)",
   "language": "python",
   "name": "python3"
  },
  "language_info": {
   "codemirror_mode": {
    "name": "ipython",
    "version": 3
   },
   "file_extension": ".py",
   "mimetype": "text/x-python",
   "name": "python",
   "nbconvert_exporter": "python",
   "pygments_lexer": "ipython3",
   "version": "3.10.9"
  }
 },
 "nbformat": 4,
 "nbformat_minor": 5
}
