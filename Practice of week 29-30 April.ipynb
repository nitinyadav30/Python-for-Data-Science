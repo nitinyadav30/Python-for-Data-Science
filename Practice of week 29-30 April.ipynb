{
 "cells": [
  {
   "cell_type": "code",
   "execution_count": 16,
   "id": "b4d2fbf1",
   "metadata": {},
   "outputs": [
    {
     "name": "stdout",
     "output_type": "stream",
     "text": [
      "12\n"
     ]
    },
    {
     "ename": "TypeError",
     "evalue": "int() can't convert non-string with explicit base",
     "output_type": "error",
     "traceback": [
      "\u001b[1;31m---------------------------------------------------------------------------\u001b[0m",
      "\u001b[1;31mTypeError\u001b[0m                                 Traceback (most recent call last)",
      "Cell \u001b[1;32mIn[16], line 5\u001b[0m\n\u001b[0;32m      3\u001b[0m \u001b[38;5;28mprint\u001b[39m(\u001b[38;5;28mint\u001b[39m(a))\n\u001b[0;32m      4\u001b[0m c\u001b[38;5;241m=\u001b[39m\u001b[38;5;28mint\u001b[39m(b)\n\u001b[1;32m----> 5\u001b[0m \u001b[38;5;28mprint\u001b[39m(\u001b[38;5;28;43mint\u001b[39;49m\u001b[43m(\u001b[49m\u001b[43ma\u001b[49m\u001b[43m,\u001b[49m\u001b[43mc\u001b[49m\u001b[43m)\u001b[49m)\n",
      "\u001b[1;31mTypeError\u001b[0m: int() can't convert non-string with explicit base"
     ]
    }
   ],
   "source": [
    "a=12\n",
    "b=12.2\n",
    "print(int(a))\n",
    "c=int(b)\n",
    "print(int(a,c))"
   ]
  },
  {
   "cell_type": "code",
   "execution_count": 2,
   "id": "f014a637",
   "metadata": {},
   "outputs": [
    {
     "data": {
      "text/plain": [
       "12"
      ]
     },
     "execution_count": 2,
     "metadata": {},
     "output_type": "execute_result"
    }
   ],
   "source": [
    "int(b)"
   ]
  },
  {
   "cell_type": "code",
   "execution_count": 3,
   "id": "813b93c8",
   "metadata": {},
   "outputs": [
    {
     "data": {
      "text/plain": [
       "12.0"
      ]
     },
     "execution_count": 3,
     "metadata": {},
     "output_type": "execute_result"
    }
   ],
   "source": [
    "float(a)"
   ]
  },
  {
   "cell_type": "code",
   "execution_count": 4,
   "id": "9111928e",
   "metadata": {},
   "outputs": [],
   "source": [
    "c='my name is Nitin Yadav'"
   ]
  },
  {
   "cell_type": "code",
   "execution_count": 5,
   "id": "9f340810",
   "metadata": {},
   "outputs": [
    {
     "name": "stdout",
     "output_type": "stream",
     "text": [
      "my name is Nitin Yadav\n"
     ]
    }
   ],
   "source": [
    "print(c)"
   ]
  },
  {
   "cell_type": "code",
   "execution_count": 6,
   "id": "e5aa245d",
   "metadata": {},
   "outputs": [
    {
     "name": "stdout",
     "output_type": "stream",
     "text": [
      "12 12.2\n"
     ]
    }
   ],
   "source": [
    "print(a,b)"
   ]
  },
  {
   "cell_type": "code",
   "execution_count": 8,
   "id": "74bc9f2b",
   "metadata": {},
   "outputs": [
    {
     "name": "stdout",
     "output_type": "stream",
     "text": [
      "24.2\n"
     ]
    }
   ],
   "source": [
    "print(a+b)"
   ]
  },
  {
   "cell_type": "code",
   "execution_count": 9,
   "id": "3c7690d5",
   "metadata": {},
   "outputs": [],
   "source": [
    "d = 'and I work at RWS Group'"
   ]
  },
  {
   "cell_type": "code",
   "execution_count": 11,
   "id": "7c205683",
   "metadata": {},
   "outputs": [
    {
     "name": "stdout",
     "output_type": "stream",
     "text": [
      "my name is Nitin Yadav and I work at RWS Group\n"
     ]
    }
   ],
   "source": [
    "print(c,d)"
   ]
  },
  {
   "cell_type": "code",
   "execution_count": 18,
   "id": "38b189a9",
   "metadata": {},
   "outputs": [
    {
     "name": "stdout",
     "output_type": "stream",
     "text": [
      "100.0\n"
     ]
    }
   ],
   "source": [
    "a=100\n",
    "print(float(a))"
   ]
  },
  {
   "cell_type": "code",
   "execution_count": 19,
   "id": "e70bb1dc",
   "metadata": {},
   "outputs": [
    {
     "name": "stdout",
     "output_type": "stream",
     "text": [
      "100\n"
     ]
    }
   ],
   "source": [
    "print(str(a))"
   ]
  },
  {
   "cell_type": "code",
   "execution_count": 21,
   "id": "7903c13c",
   "metadata": {},
   "outputs": [
    {
     "ename": "ValueError",
     "evalue": "invalid literal for int() with base 10: 'I am Nitin Yadav'",
     "output_type": "error",
     "traceback": [
      "\u001b[1;31m---------------------------------------------------------------------------\u001b[0m",
      "\u001b[1;31mValueError\u001b[0m                                Traceback (most recent call last)",
      "Cell \u001b[1;32mIn[21], line 2\u001b[0m\n\u001b[0;32m      1\u001b[0m b\u001b[38;5;241m=\u001b[39m\u001b[38;5;124m'\u001b[39m\u001b[38;5;124mI am Nitin Yadav\u001b[39m\u001b[38;5;124m'\u001b[39m\n\u001b[1;32m----> 2\u001b[0m \u001b[38;5;28mprint\u001b[39m(\u001b[38;5;28;43mint\u001b[39;49m\u001b[43m(\u001b[49m\u001b[43mb\u001b[49m\u001b[43m)\u001b[49m)\n",
      "\u001b[1;31mValueError\u001b[0m: invalid literal for int() with base 10: 'I am Nitin Yadav'"
     ]
    }
   ],
   "source": [
    "b='I am Nitin Yadav'\n",
    "print(int(b))\n",
    "\n",
    "#strigs cant only be converted to Integer when there are numbers. "
   ]
  },
  {
   "cell_type": "code",
   "execution_count": 23,
   "id": "20c05b4b",
   "metadata": {},
   "outputs": [
    {
     "name": "stdout",
     "output_type": "stream",
     "text": [
      "100\n"
     ]
    }
   ],
   "source": [
    "c='100'\n",
    "print(int(c))\n",
    "\n",
    "#This is reflecting the output as string is a number."
   ]
  },
  {
   "cell_type": "code",
   "execution_count": 24,
   "id": "7a85db5a",
   "metadata": {},
   "outputs": [
    {
     "name": "stdout",
     "output_type": "stream",
     "text": [
      "1000\n"
     ]
    }
   ],
   "source": [
    "d=1000.586\n",
    "print(int(d))"
   ]
  },
  {
   "cell_type": "code",
   "execution_count": 25,
   "id": "0d6b6394",
   "metadata": {},
   "outputs": [
    {
     "name": "stdout",
     "output_type": "stream",
     "text": [
      "1000.586\n"
     ]
    }
   ],
   "source": [
    "print(str(d))"
   ]
  },
  {
   "cell_type": "code",
   "execution_count": 26,
   "id": "e2afc99e",
   "metadata": {},
   "outputs": [
    {
     "name": "stdout",
     "output_type": "stream",
     "text": [
      "30\n"
     ]
    }
   ],
   "source": [
    "a=10\n",
    "b=20\n",
    "print(a+b)"
   ]
  },
  {
   "cell_type": "code",
   "execution_count": 27,
   "id": "606ca2f4",
   "metadata": {},
   "outputs": [
    {
     "name": "stdout",
     "output_type": "stream",
     "text": [
      "-10\n"
     ]
    }
   ],
   "source": [
    "print(a-b)"
   ]
  },
  {
   "cell_type": "code",
   "execution_count": 29,
   "id": "80d3ea86",
   "metadata": {},
   "outputs": [
    {
     "name": "stdout",
     "output_type": "stream",
     "text": [
      "200\n"
     ]
    }
   ],
   "source": [
    "print(a*b)"
   ]
  },
  {
   "cell_type": "code",
   "execution_count": 30,
   "id": "a86b7fbb",
   "metadata": {},
   "outputs": [
    {
     "name": "stdout",
     "output_type": "stream",
     "text": [
      "0.5\n"
     ]
    }
   ],
   "source": [
    "print(a/b)"
   ]
  },
  {
   "cell_type": "code",
   "execution_count": 31,
   "id": "3d4efb8a",
   "metadata": {},
   "outputs": [
    {
     "name": "stdout",
     "output_type": "stream",
     "text": [
      "2.0\n"
     ]
    }
   ],
   "source": [
    "print(b/a)"
   ]
  },
  {
   "cell_type": "code",
   "execution_count": 32,
   "id": "638b6d9d",
   "metadata": {},
   "outputs": [
    {
     "name": "stdout",
     "output_type": "stream",
     "text": [
      "0\n"
     ]
    }
   ],
   "source": [
    "print(a//b)"
   ]
  },
  {
   "cell_type": "code",
   "execution_count": 33,
   "id": "290ae5d5",
   "metadata": {},
   "outputs": [
    {
     "name": "stdout",
     "output_type": "stream",
     "text": [
      "2\n"
     ]
    }
   ],
   "source": [
    "print(b//a)"
   ]
  },
  {
   "cell_type": "code",
   "execution_count": 34,
   "id": "81911441",
   "metadata": {},
   "outputs": [
    {
     "name": "stdout",
     "output_type": "stream",
     "text": [
      "10\n"
     ]
    }
   ],
   "source": [
    "print(a%b)"
   ]
  },
  {
   "cell_type": "code",
   "execution_count": 37,
   "id": "89368a5e",
   "metadata": {},
   "outputs": [
    {
     "ename": "TypeError",
     "evalue": "pow() missing required argument 'exp' (pos 2)",
     "output_type": "error",
     "traceback": [
      "\u001b[1;31m---------------------------------------------------------------------------\u001b[0m",
      "\u001b[1;31mTypeError\u001b[0m                                 Traceback (most recent call last)",
      "Cell \u001b[1;32mIn[37], line 1\u001b[0m\n\u001b[1;32m----> 1\u001b[0m \u001b[38;5;28mprint\u001b[39m(a,\u001b[38;5;28;43mpow\u001b[39;49m\u001b[43m(\u001b[49m\u001b[43mb\u001b[49m\u001b[43m)\u001b[49m)\n",
      "\u001b[1;31mTypeError\u001b[0m: pow() missing required argument 'exp' (pos 2)"
     ]
    }
   ],
   "source": [
    "print(a,pow(b))"
   ]
  },
  {
   "cell_type": "code",
   "execution_count": 38,
   "id": "ae030ff0",
   "metadata": {},
   "outputs": [
    {
     "data": {
      "text/plain": [
       "100000000000000000000"
      ]
     },
     "execution_count": 38,
     "metadata": {},
     "output_type": "execute_result"
    }
   ],
   "source": [
    "pow(a,b)"
   ]
  },
  {
   "cell_type": "code",
   "execution_count": 49,
   "id": "c445306f",
   "metadata": {},
   "outputs": [
    {
     "ename": "TypeError",
     "evalue": "'a' is an invalid keyword argument for print()",
     "output_type": "error",
     "traceback": [
      "\u001b[1;31m---------------------------------------------------------------------------\u001b[0m",
      "\u001b[1;31mTypeError\u001b[0m                                 Traceback (most recent call last)",
      "Cell \u001b[1;32mIn[49], line 3\u001b[0m\n\u001b[0;32m      1\u001b[0m a \u001b[38;5;241m=\u001b[39m \u001b[38;5;241m10\u001b[39m\n\u001b[0;32m      2\u001b[0m b \u001b[38;5;241m=\u001b[39m \u001b[38;5;241m20\u001b[39m\n\u001b[1;32m----> 3\u001b[0m \u001b[38;5;28;43mprint\u001b[39;49m\u001b[43m(\u001b[49m\u001b[43ma\u001b[49m\u001b[38;5;241;43m=\u001b[39;49m\u001b[43mb\u001b[49m\u001b[43m)\u001b[49m\n",
      "\u001b[1;31mTypeError\u001b[0m: 'a' is an invalid keyword argument for print()"
     ]
    }
   ],
   "source": [
    "a = 10\n",
    "b = 20\n",
    "print(a=b)"
   ]
  },
  {
   "cell_type": "code",
   "execution_count": 59,
   "id": "7f9b5bbd",
   "metadata": {},
   "outputs": [
    {
     "name": "stdout",
     "output_type": "stream",
     "text": [
      "nitin pooja ka bhai hai wo bori me rahta hai aur indore me job karta hai\n"
     ]
    }
   ],
   "source": [
    "a = 'nitin'\n",
    "b = 'pooja'\n",
    "c = 'wo bori me rahta hai'\n",
    "\n",
    "print('{} {} ka bhai hai {} aur indore me job karta hai' .format(a,b,c))\n",
    "\n",
    "#  aur indore me job karta hai"
   ]
  },
  {
   "cell_type": "code",
   "execution_count": 3,
   "id": "e582b31c",
   "metadata": {},
   "outputs": [
    {
     "name": "stdout",
     "output_type": "stream",
     "text": [
      "My age is 26\n"
     ]
    }
   ],
   "source": [
    "age = 26\n",
    "print('My age is '+str(age))"
   ]
  },
  {
   "cell_type": "code",
   "execution_count": 9,
   "id": "8ea6343e",
   "metadata": {},
   "outputs": [
    {
     "name": "stdout",
     "output_type": "stream",
     "text": [
      "I got 100.2 rs salary and learing a course in Udemy which charges 20 rs per day \n"
     ]
    }
   ],
   "source": [
    "salary = 100.2\n",
    "spend = 20\n",
    "course = 'Udemy'\n",
    "\n",
    "# output : I got 100.2 rs salary and learning a course in udemy which charges 20 rs per day\n",
    "\n",
    "print('I got ' +str(salary)+' rs salary and learing a course in '+course+' which charges '+str(spend)+' rs per day ')"
   ]
  },
  {
   "cell_type": "code",
   "execution_count": 15,
   "id": "951a18e5",
   "metadata": {},
   "outputs": [
    {
     "name": "stdout",
     "output_type": "stream",
     "text": [
      "I need %d nariyal paani, %d straws and %f plates (10, 20, 30.2)\n"
     ]
    }
   ],
   "source": [
    "age = 30.2\n",
    "wage = 20\n",
    "rate = 10\n",
    "\n",
    "#Output = I need 10 nariyal paani, 20 straws and 30 plates.\n",
    "\n",
    "print('I need %d nariyal paani, %d straws and %f plates',(rate,wage,age))"
   ]
  },
  {
   "cell_type": "code",
   "execution_count": 19,
   "id": "f9ca01ba",
   "metadata": {},
   "outputs": [],
   "source": [
    "#Formatting Technique"
   ]
  },
  {
   "cell_type": "code",
   "execution_count": 20,
   "id": "80f46d3e",
   "metadata": {},
   "outputs": [
    {
     "name": "stdout",
     "output_type": "stream",
     "text": [
      "I am learning a Datascience with 10 rs and 34.2 rs \n"
     ]
    }
   ],
   "source": [
    "course = 'Datascience'\n",
    "cost = 10\n",
    "spend = 34.2\n",
    "\n",
    "# I am lerning a datascience with 10 rs and spend 34.2 rs\n",
    "\n",
    "print(f'I am learning a {course} with {cost} rs and {spend} rs ')"
   ]
  },
  {
   "cell_type": "code",
   "execution_count": 21,
   "id": "32166749",
   "metadata": {},
   "outputs": [
    {
     "name": "stdout",
     "output_type": "stream",
     "text": [
      "I need 10 chocolate of 20 rs each to distriute among 30 students.\n"
     ]
    }
   ],
   "source": [
    "a = 10\n",
    "b = 20\n",
    "c = 30\n",
    "\n",
    "#Output: I need 10 chocolat of 20 rs each to distribute among 30 students.\n",
    "\n",
    "print(f'I need {a} chocolate of {b} rs each to distriute among {c} students.')"
   ]
  },
  {
   "cell_type": "code",
   "execution_count": 22,
   "id": "8f2d3830",
   "metadata": {},
   "outputs": [
    {
     "name": "stdout",
     "output_type": "stream",
     "text": [
      "I need 10 chocolate of 20 rs each to distriute among 30 students.\n"
     ]
    }
   ],
   "source": [
    "## .formate tchnique\n",
    "\n",
    "a = 10\n",
    "b = 20\n",
    "c = 30\n",
    "\n",
    "#Output: I need 10 chocolat of 20 rs each to distribute among 30 students.\n",
    "\n",
    "print('I need {} chocolate of {} rs each to distriute among {} students.'.format(a,b,c))"
   ]
  },
  {
   "cell_type": "code",
   "execution_count": 25,
   "id": "a8543294",
   "metadata": {},
   "outputs": [
    {
     "name": "stdout",
     "output_type": "stream",
     "text": [
      "today is sunday and time is 10:45 am.\n"
     ]
    }
   ],
   "source": [
    "s1='sunday'\n",
    "t1='10:45 am'\n",
    "\n",
    "## today is sunday and time is 10:45\n",
    "\n",
    "print('today is {} and time is {}.'.format(s1,t1))"
   ]
  },
  {
   "cell_type": "code",
   "execution_count": 26,
   "id": "51afaf99",
   "metadata": {},
   "outputs": [
    {
     "name": "stdout",
     "output_type": "stream",
     "text": [
      "today is sunday and time is 10:45 am.\n"
     ]
    }
   ],
   "source": [
    "s1='sunday'\n",
    "t1='10:45 am'\n",
    "\n",
    "## today is sunday and time is 10:45\n",
    "\n",
    "print(f'today is {s1} and time is {t1}.')"
   ]
  },
  {
   "cell_type": "code",
   "execution_count": 31,
   "id": "1fec132e",
   "metadata": {},
   "outputs": [
    {
     "name": "stdout",
     "output_type": "stream",
     "text": [
      "welcome to 2 class of Machine Learning in the year 2021\n"
     ]
    }
   ],
   "source": [
    "a='Machine Learning'\n",
    "b= '2'\n",
    "year='2021'\n",
    "\n",
    "#Output: welocome to  2 class of  Machine Learning in the year  2021\n",
    "\n",
    "print('welcome to',b,'class of',a,'in the year',year)"
   ]
  },
  {
   "cell_type": "code",
   "execution_count": 35,
   "id": "204ad554",
   "metadata": {},
   "outputs": [
    {
     "name": "stdout",
     "output_type": "stream",
     "text": [
      "the value is = 1\n"
     ]
    }
   ],
   "source": [
    "a = 1\n",
    "# print(\"the value is = 1 \")\n",
    "\n",
    "print(\"the value is = %d\" %a)"
   ]
  },
  {
   "cell_type": "code",
   "execution_count": 37,
   "id": "b8564283",
   "metadata": {},
   "outputs": [
    {
     "name": "stdout",
     "output_type": "stream",
     "text": [
      "python is a programmig language used to work on Data science and Machine learning is an heart for Data science\n"
     ]
    }
   ],
   "source": [
    "a = 'python'\n",
    "b = \"Data science\"\n",
    "c = \"Aritficial intelligence\"\n",
    "d = \"Machine learning\"\n",
    "\n",
    "# print(\"Python is a programming language used to work on data science and Machine learning is an heart for Data science \")\n",
    "\n",
    "print('%s is a programmig language used to work on %s and %s is an heart for %s' %(a,b,d,b))"
   ]
  },
  {
   "cell_type": "code",
   "execution_count": 38,
   "id": "8b4f02ef",
   "metadata": {},
   "outputs": [
    {
     "name": "stdout",
     "output_type": "stream",
     "text": [
      "the value of a is 1 and value of b is 12.200000 and text of c is python\n"
     ]
    }
   ],
   "source": [
    "a = 1\n",
    "b = 12.2\n",
    "c = 'python'\n",
    "\n",
    "#Output: the value of a is 1 and value of b is 12.200000 and text of c is python \n",
    "\n",
    "print('the value of a is %d and value of b is %f and text of c is %s' %(a,b,c))"
   ]
  },
  {
   "cell_type": "code",
   "execution_count": 43,
   "id": "28e77f16",
   "metadata": {},
   "outputs": [
    {
     "name": "stdout",
     "output_type": "stream",
     "text": [
      "3.142857142857143\n"
     ]
    }
   ],
   "source": [
    "pie = 22/7\n",
    "print(pie)"
   ]
  },
  {
   "cell_type": "code",
   "execution_count": 50,
   "id": "7ae39540",
   "metadata": {},
   "outputs": [
    {
     "ename": "SyntaxError",
     "evalue": "invalid decimal literal (2600636033.py, line 1)",
     "output_type": "error",
     "traceback": [
      "\u001b[1;36m  Cell \u001b[1;32mIn[50], line 1\u001b[1;36m\u001b[0m\n\u001b[1;33m    print(pie %.3f)\u001b[0m\n\u001b[1;37m                ^\u001b[0m\n\u001b[1;31mSyntaxError\u001b[0m\u001b[1;31m:\u001b[0m invalid decimal literal\n"
     ]
    }
   ],
   "source": [
    "print(pie %.3f)"
   ]
  },
  {
   "cell_type": "code",
   "execution_count": 52,
   "id": "f50480d3",
   "metadata": {},
   "outputs": [],
   "source": [
    "#Data Structure in Python"
   ]
  },
  {
   "cell_type": "code",
   "execution_count": 60,
   "id": "fdb26c83",
   "metadata": {},
   "outputs": [
    {
     "name": "stdout",
     "output_type": "stream",
     "text": [
      "a\n"
     ]
    }
   ],
   "source": [
    "a = 'datascience'\n",
    "print(a[1:2])"
   ]
  },
  {
   "cell_type": "code",
   "execution_count": 62,
   "id": "a23da0cd",
   "metadata": {},
   "outputs": [
    {
     "name": "stdout",
     "output_type": "stream",
     "text": [
      "p\n"
     ]
    }
   ],
   "source": [
    "c = 'python'\n",
    "print(c[0])"
   ]
  },
  {
   "cell_type": "code",
   "execution_count": 67,
   "id": "4aa8a547",
   "metadata": {},
   "outputs": [],
   "source": [
    "#Slicing operation\n"
   ]
  },
  {
   "cell_type": "code",
   "execution_count": 71,
   "id": "fbe8f41e",
   "metadata": {},
   "outputs": [
    {
     "name": "stdout",
     "output_type": "stream",
     "text": [
      "yth\n"
     ]
    }
   ],
   "source": [
    "a = 'python'\n",
    "print(a[1:4])"
   ]
  },
  {
   "cell_type": "code",
   "execution_count": 73,
   "id": "45b51095",
   "metadata": {},
   "outputs": [
    {
     "name": "stdout",
     "output_type": "stream",
     "text": [
      "ta sc\n"
     ]
    }
   ],
   "source": [
    "b = 'data science'\n",
    "print(b[2:7])"
   ]
  },
  {
   "cell_type": "code",
   "execution_count": 82,
   "id": "7ae0163f",
   "metadata": {},
   "outputs": [
    {
     "name": "stdout",
     "output_type": "stream",
     "text": [
      "a i\n"
     ]
    }
   ],
   "source": [
    "b = 'data science'\n",
    "print(b[1 : 9 : 3])"
   ]
  },
  {
   "cell_type": "code",
   "execution_count": 83,
   "id": "e704dc07",
   "metadata": {},
   "outputs": [
    {
     "name": "stdout",
     "output_type": "stream",
     "text": [
      "data science\n"
     ]
    }
   ],
   "source": [
    "print(b[:])"
   ]
  },
  {
   "cell_type": "code",
   "execution_count": 84,
   "id": "3b8eff6f",
   "metadata": {},
   "outputs": [
    {
     "name": "stdout",
     "output_type": "stream",
     "text": [
      "ta science\n"
     ]
    }
   ],
   "source": [
    "print(b[2:])"
   ]
  },
  {
   "cell_type": "code",
   "execution_count": 85,
   "id": "4dd306a7",
   "metadata": {},
   "outputs": [
    {
     "name": "stdout",
     "output_type": "stream",
     "text": [
      "da\n"
     ]
    }
   ],
   "source": [
    "print(b[:2])"
   ]
  },
  {
   "cell_type": "code",
   "execution_count": 86,
   "id": "6b69d62e",
   "metadata": {},
   "outputs": [
    {
     "name": "stdout",
     "output_type": "stream",
     "text": [
      "ecneics atad\n"
     ]
    }
   ],
   "source": [
    "print(b[::-1])"
   ]
  },
  {
   "cell_type": "code",
   "execution_count": 87,
   "id": "f5bf5f4e",
   "metadata": {},
   "outputs": [
    {
     "name": "stdout",
     "output_type": "stream",
     "text": [
      "vaday nitin\n"
     ]
    }
   ],
   "source": [
    "c = 'nitin yadav'\n",
    "print(c[::-1])"
   ]
  },
  {
   "cell_type": "code",
   "execution_count": 88,
   "id": "d8af5295",
   "metadata": {},
   "outputs": [
    {
     "name": "stdout",
     "output_type": "stream",
     "text": [
      "egaugnal lufrewop yrev si notyp\n"
     ]
    }
   ],
   "source": [
    "d = 'pyton is very powerful language'\n",
    "print(d[::-1])"
   ]
  },
  {
   "cell_type": "code",
   "execution_count": 89,
   "id": "7277a336",
   "metadata": {},
   "outputs": [],
   "source": [
    "#String Concepts & Method"
   ]
  },
  {
   "cell_type": "code",
   "execution_count": 6,
   "id": "9b84f48b",
   "metadata": {},
   "outputs": [
    {
     "name": "stdout",
     "output_type": "stream",
     "text": [
      "I am pitip Yadav\n"
     ]
    }
   ],
   "source": [
    "a = 'I am nitin Yadav'\n",
    "print(a.replace('n','p'))\n",
    "\n",
    "#if same character are appearing in the string, it will replace both."
   ]
  },
  {
   "cell_type": "code",
   "execution_count": 8,
   "id": "d45fd15b",
   "metadata": {},
   "outputs": [
    {
     "data": {
      "text/plain": [
       "'I am nitin yadav'"
      ]
     },
     "execution_count": 8,
     "metadata": {},
     "output_type": "execute_result"
    }
   ],
   "source": [
    "b = 'i am nitin yadav'\n",
    "b.capitalize()"
   ]
  },
  {
   "cell_type": "code",
   "execution_count": 12,
   "id": "7ad5c3fb",
   "metadata": {},
   "outputs": [
    {
     "data": {
      "text/plain": [
       "17"
      ]
     },
     "execution_count": 12,
     "metadata": {},
     "output_type": "execute_result"
    }
   ],
   "source": [
    "b.count('')"
   ]
  },
  {
   "cell_type": "code",
   "execution_count": 19,
   "id": "08199743",
   "metadata": {},
   "outputs": [
    {
     "data": {
      "text/plain": [
       "1"
      ]
     },
     "execution_count": 19,
     "metadata": {},
     "output_type": "execute_result"
    }
   ],
   "source": [
    "c = 'I stay in Indore'\n",
    "c.count(\"in\")"
   ]
  },
  {
   "cell_type": "code",
   "execution_count": 21,
   "id": "0b6a8bc0",
   "metadata": {},
   "outputs": [
    {
     "data": {
      "text/plain": [
       "True"
      ]
     },
     "execution_count": 21,
     "metadata": {},
     "output_type": "execute_result"
    }
   ],
   "source": [
    "c.startswith('I')"
   ]
  },
  {
   "cell_type": "code",
   "execution_count": 22,
   "id": "9ef7f190",
   "metadata": {},
   "outputs": [
    {
     "data": {
      "text/plain": [
       "True"
      ]
     },
     "execution_count": 22,
     "metadata": {},
     "output_type": "execute_result"
    }
   ],
   "source": [
    "c.endswith('e')"
   ]
  },
  {
   "cell_type": "code",
   "execution_count": 23,
   "id": "aeeb8b29",
   "metadata": {},
   "outputs": [
    {
     "data": {
      "text/plain": [
       "False"
      ]
     },
     "execution_count": 23,
     "metadata": {},
     "output_type": "execute_result"
    }
   ],
   "source": [
    "c.startswith('s')"
   ]
  },
  {
   "cell_type": "code",
   "execution_count": 24,
   "id": "12b63450",
   "metadata": {},
   "outputs": [
    {
     "data": {
      "text/plain": [
       "False"
      ]
     },
     "execution_count": 24,
     "metadata": {},
     "output_type": "execute_result"
    }
   ],
   "source": [
    "c.endswith('d')"
   ]
  },
  {
   "cell_type": "code",
   "execution_count": 32,
   "id": "4ffcdd70",
   "metadata": {},
   "outputs": [
    {
     "data": {
      "text/plain": [
       "16"
      ]
     },
     "execution_count": 32,
     "metadata": {},
     "output_type": "execute_result"
    }
   ],
   "source": [
    "d = ('I am working at RWS Group')\n",
    "d.index('RWS')"
   ]
  },
  {
   "cell_type": "code",
   "execution_count": 34,
   "id": "4ac242a2",
   "metadata": {},
   "outputs": [
    {
     "data": {
      "text/plain": [
       "2"
      ]
     },
     "execution_count": 34,
     "metadata": {},
     "output_type": "execute_result"
    }
   ],
   "source": [
    "d.index(\"a\", 0, 20)"
   ]
  },
  {
   "cell_type": "code",
   "execution_count": 35,
   "id": "bfb0b3fc",
   "metadata": {},
   "outputs": [
    {
     "data": {
      "text/plain": [
       "'i am working at rws group'"
      ]
     },
     "execution_count": 35,
     "metadata": {},
     "output_type": "execute_result"
    }
   ],
   "source": [
    "d.lower()"
   ]
  },
  {
   "cell_type": "code",
   "execution_count": 44,
   "id": "e6e1cdc2",
   "metadata": {},
   "outputs": [
    {
     "name": "stdout",
     "output_type": "stream",
     "text": [
      "I AM WORKING AT RWS GROUP\n"
     ]
    }
   ],
   "source": [
    "e = d.upper()\n",
    "print(e)"
   ]
  },
  {
   "cell_type": "code",
   "execution_count": 38,
   "id": "4b3be05b",
   "metadata": {},
   "outputs": [
    {
     "data": {
      "text/plain": [
       "False"
      ]
     },
     "execution_count": 38,
     "metadata": {},
     "output_type": "execute_result"
    }
   ],
   "source": [
    "d.isupper()"
   ]
  },
  {
   "cell_type": "code",
   "execution_count": 39,
   "id": "6cdd58ec",
   "metadata": {},
   "outputs": [
    {
     "data": {
      "text/plain": [
       "False"
      ]
     },
     "execution_count": 39,
     "metadata": {},
     "output_type": "execute_result"
    }
   ],
   "source": [
    "d.islower()"
   ]
  },
  {
   "cell_type": "code",
   "execution_count": 45,
   "id": "f4727229",
   "metadata": {},
   "outputs": [
    {
     "data": {
      "text/plain": [
       "True"
      ]
     },
     "execution_count": 45,
     "metadata": {},
     "output_type": "execute_result"
    }
   ],
   "source": [
    "e.isupper()"
   ]
  },
  {
   "cell_type": "code",
   "execution_count": 46,
   "id": "a78b06db",
   "metadata": {},
   "outputs": [
    {
     "data": {
      "text/plain": [
       "False"
      ]
     },
     "execution_count": 46,
     "metadata": {},
     "output_type": "execute_result"
    }
   ],
   "source": [
    "e.isalpha()"
   ]
  },
  {
   "cell_type": "code",
   "execution_count": 49,
   "id": "0d8a0833",
   "metadata": {},
   "outputs": [
    {
     "data": {
      "text/plain": [
       "False"
      ]
     },
     "execution_count": 49,
     "metadata": {},
     "output_type": "execute_result"
    }
   ],
   "source": [
    "a = 'I am'\n",
    "a.isalpha()"
   ]
  },
  {
   "cell_type": "code",
   "execution_count": 55,
   "id": "1b088849",
   "metadata": {},
   "outputs": [
    {
     "data": {
      "text/plain": [
       "False"
      ]
     },
     "execution_count": 55,
     "metadata": {},
     "output_type": "execute_result"
    }
   ],
   "source": [
    "b = \"190\"\n",
    "b.isalpha()"
   ]
  },
  {
   "cell_type": "code",
   "execution_count": 52,
   "id": "40d1d881",
   "metadata": {},
   "outputs": [
    {
     "data": {
      "text/plain": [
       "True"
      ]
     },
     "execution_count": 52,
     "metadata": {},
     "output_type": "execute_result"
    }
   ],
   "source": [
    "b.isnumeric()"
   ]
  },
  {
   "cell_type": "code",
   "execution_count": 60,
   "id": "43741a6e",
   "metadata": {},
   "outputs": [
    {
     "data": {
      "text/plain": [
       "True"
      ]
     },
     "execution_count": 60,
     "metadata": {},
     "output_type": "execute_result"
    }
   ],
   "source": [
    "c = 'abc10'\n",
    "c.isalnum()"
   ]
  },
  {
   "cell_type": "code",
   "execution_count": 61,
   "id": "5016b41a",
   "metadata": {},
   "outputs": [
    {
     "data": {
      "text/plain": [
       "False"
      ]
     },
     "execution_count": 61,
     "metadata": {},
     "output_type": "execute_result"
    }
   ],
   "source": [
    "c.isnumeric()"
   ]
  },
  {
   "cell_type": "code",
   "execution_count": 64,
   "id": "9b231aa4",
   "metadata": {},
   "outputs": [
    {
     "data": {
      "text/plain": [
       "'I Am Nitin Yadav Working At Rws Group'"
      ]
     },
     "execution_count": 64,
     "metadata": {},
     "output_type": "execute_result"
    }
   ],
   "source": [
    "a = 'I am Nitin Yadav working at RWS Group'\n",
    "a.title()"
   ]
  },
  {
   "cell_type": "code",
   "execution_count": 66,
   "id": "f19ef39a",
   "metadata": {},
   "outputs": [],
   "source": [
    "#List in python"
   ]
  },
  {
   "cell_type": "code",
   "execution_count": 74,
   "id": "2bed8057",
   "metadata": {},
   "outputs": [
    {
     "name": "stdout",
     "output_type": "stream",
     "text": [
      "[10, 20, 30, 40, 'Nitin']\n"
     ]
    }
   ],
   "source": [
    "a = [10, 20, 30, 40, 'Nitin']\n",
    "print(a)"
   ]
  },
  {
   "cell_type": "code",
   "execution_count": 75,
   "id": "30953bfd",
   "metadata": {},
   "outputs": [
    {
     "name": "stdout",
     "output_type": "stream",
     "text": [
      "40\n"
     ]
    }
   ],
   "source": [
    "print(a[3])"
   ]
  },
  {
   "cell_type": "code",
   "execution_count": 76,
   "id": "5dd8ed36",
   "metadata": {},
   "outputs": [
    {
     "name": "stdout",
     "output_type": "stream",
     "text": [
      "Nitin\n"
     ]
    }
   ],
   "source": [
    "print(a[4])"
   ]
  },
  {
   "cell_type": "code",
   "execution_count": 78,
   "id": "abae1d08",
   "metadata": {},
   "outputs": [
    {
     "name": "stdout",
     "output_type": "stream",
     "text": [
      "t\n"
     ]
    }
   ],
   "source": [
    "print(a[4][2])"
   ]
  },
  {
   "cell_type": "code",
   "execution_count": 80,
   "id": "612f36e2",
   "metadata": {},
   "outputs": [
    {
     "name": "stdout",
     "output_type": "stream",
     "text": [
      "i\n"
     ]
    }
   ],
   "source": [
    "print(a[-1][-4])"
   ]
  },
  {
   "cell_type": "code",
   "execution_count": 85,
   "id": "00e00b6d",
   "metadata": {},
   "outputs": [
    {
     "name": "stdout",
     "output_type": "stream",
     "text": [
      "['Nitin', 40, 30, 20, 10]\n"
     ]
    }
   ],
   "source": [
    "b = print(a[:])"
   ]
  },
  {
   "cell_type": "code",
   "execution_count": 89,
   "id": "52eb9cac",
   "metadata": {},
   "outputs": [
    {
     "name": "stdout",
     "output_type": "stream",
     "text": [
      "[10, 20, 30, 40, 'Nitin']\n"
     ]
    }
   ],
   "source": [
    "print(a[::-1])"
   ]
  },
  {
   "cell_type": "code",
   "execution_count": 95,
   "id": "bde6e32d",
   "metadata": {},
   "outputs": [
    {
     "data": {
      "text/plain": [
       "4"
      ]
     },
     "execution_count": 95,
     "metadata": {},
     "output_type": "execute_result"
    }
   ],
   "source": [
    "a = [10, 20, 30, 40, 'Nitin']\n",
    "a.index('Nitin')"
   ]
  },
  {
   "cell_type": "code",
   "execution_count": 98,
   "id": "e06f5ed0",
   "metadata": {},
   "outputs": [
    {
     "name": "stdout",
     "output_type": "stream",
     "text": [
      "[10, 20, 30, 40, 'Nitin', 'pragati', 'pragati']\n"
     ]
    }
   ],
   "source": [
    "a.append('pragati')\n",
    "print(a)"
   ]
  },
  {
   "cell_type": "code",
   "execution_count": null,
   "id": "28e774bd",
   "metadata": {},
   "outputs": [],
   "source": [
    "a.append('')"
   ]
  }
 ],
 "metadata": {
  "kernelspec": {
   "display_name": "Python 3 (ipykernel)",
   "language": "python",
   "name": "python3"
  },
  "language_info": {
   "codemirror_mode": {
    "name": "ipython",
    "version": 3
   },
   "file_extension": ".py",
   "mimetype": "text/x-python",
   "name": "python",
   "nbconvert_exporter": "python",
   "pygments_lexer": "ipython3",
   "version": "3.10.9"
  }
 },
 "nbformat": 4,
 "nbformat_minor": 5
}
