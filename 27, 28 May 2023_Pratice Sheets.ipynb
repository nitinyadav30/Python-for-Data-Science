{
 "cells": [
  {
   "cell_type": "code",
   "execution_count": 17,
   "id": "437b87db",
   "metadata": {
    "scrolled": true
   },
   "outputs": [
    {
     "name": "stdout",
     "output_type": "stream",
     "text": [
      "2\n",
      "True\n",
      "True\n",
      "7\n",
      "nitin yadav\n",
      "NITIN YADAV\n",
      "False\n",
      "True\n",
      "Nitin Yadav\n"
     ]
    }
   ],
   "source": [
    "a = 'nitin yadav'\n",
    "print(a.count('n'))\n",
    "print(a.startswith('n'))\n",
    "print(a.endswith('v'))\n",
    "print(a.index('a'))\n",
    "print(a.lower())\n",
    "print(a.upper())\n",
    "print(a.isupper())\n",
    "print(a.islower())\n",
    "print(a.title())"
   ]
  },
  {
   "cell_type": "code",
   "execution_count": 18,
   "id": "8b20cdbc",
   "metadata": {},
   "outputs": [
    {
     "name": "stdout",
     "output_type": "stream",
     "text": [
      "['nitin', 'yadav']\n"
     ]
    }
   ],
   "source": [
    "a = 'nitin yadav'\n",
    "b = a.split()\n",
    "print(b)"
   ]
  },
  {
   "cell_type": "code",
   "execution_count": 21,
   "id": "8e941116",
   "metadata": {},
   "outputs": [
    {
     "data": {
      "text/plain": [
       "'nitin yadav is in Indore'"
      ]
     },
     "execution_count": 21,
     "metadata": {},
     "output_type": "execute_result"
    }
   ],
   "source": [
    "a = 'nitin', 'yadav', 'is', 'in', 'Indore'\n",
    "' '.join(a)"
   ]
  },
  {
   "cell_type": "code",
   "execution_count": 38,
   "id": "ff05ae22",
   "metadata": {},
   "outputs": [
    {
     "name": "stdout",
     "output_type": "stream",
     "text": [
      "[1, 2, 2, 3, 4, 5, 6, 7, 8, 9, 10, 11, 14, 15, 19, 21, 25]\n"
     ]
    }
   ],
   "source": [
    "a = [1, 2, 3, 4, 5, 6, 7, 8, 9, 10, 2, 15, 14, 11, 19,25,21]\n",
    "a.sort()\n",
    "print(a)"
   ]
  },
  {
   "cell_type": "code",
   "execution_count": 40,
   "id": "8602906a",
   "metadata": {},
   "outputs": [
    {
     "name": "stdout",
     "output_type": "stream",
     "text": [
      "[25, 21, 19, 15, 14, 11, 10, 9, 8, 7, 6, 5, 4, 3, 2, 2, 1]\n"
     ]
    }
   ],
   "source": [
    "a = [1, 2, 3, 4, 5, 6, 7, 8, 9, 10, 2, 15, 14, 11, 19,25,21]\n",
    "a.sort(reverse=True)\n",
    "print(a)"
   ]
  },
  {
   "cell_type": "code",
   "execution_count": 42,
   "id": "f3d7aafe",
   "metadata": {},
   "outputs": [
    {
     "name": "stdout",
     "output_type": "stream",
     "text": [
      "[]\n"
     ]
    }
   ],
   "source": [
    "a = [1, 2, 3, 4, 5, 6, 7, 8, 9, 10, 2, 15, 14, 11, 19,25,21]\n",
    "a.clear()\n",
    "print(a)"
   ]
  },
  {
   "cell_type": "code",
   "execution_count": 46,
   "id": "7914c4ac",
   "metadata": {},
   "outputs": [
    {
     "name": "stdout",
     "output_type": "stream",
     "text": [
      "[1, 2, 3, 4, 5, 6, 7, 8, 9, 10, 2, 15, 14, 11, 19, 25, 21]\n",
      "[1, 2, 3, 4, 5, 6, 7, 8, 9, 10, 2, 15, 14, 11, 19, 25, 21]\n"
     ]
    }
   ],
   "source": [
    "a = [1, 2, 3, 4, 5, 6, 7, 8, 9, 10, 2, 15, 14, 11, 19,25,21]\n",
    "b = a.copy()\n",
    "print(a)\n",
    "print(b)"
   ]
  },
  {
   "cell_type": "code",
   "execution_count": 44,
   "id": "cc6dd75b",
   "metadata": {},
   "outputs": [
    {
     "data": {
      "text/plain": [
       "17"
      ]
     },
     "execution_count": 44,
     "metadata": {},
     "output_type": "execute_result"
    }
   ],
   "source": [
    "a = [1, 2, 3, 4, 5, 6, 7, 8, 9, 10, 2, 15, 14, 11, 19,25,21]\n",
    "len(a)"
   ]
  },
  {
   "cell_type": "code",
   "execution_count": 47,
   "id": "75e45269",
   "metadata": {},
   "outputs": [
    {
     "name": "stdout",
     "output_type": "stream",
     "text": [
      "[2, 3, 4, 5, 6, 7, 8, 9, 10, 2, 15, 14, 11, 19, 25, 21]\n"
     ]
    }
   ],
   "source": [
    "a = [1, 2, 3, 4, 5, 6, 7, 8, 9, 10, 2, 15, 14, 11, 19,25,21]\n",
    "del(a[0])\n",
    "print(a)"
   ]
  },
  {
   "cell_type": "code",
   "execution_count": 48,
   "id": "ed07e253",
   "metadata": {},
   "outputs": [
    {
     "name": "stdout",
     "output_type": "stream",
     "text": [
      "[1, 2, 3, 4, 5, 6, 7, 8, 9, 10, 2, 15, 14, 11, 19, 25]\n"
     ]
    }
   ],
   "source": [
    "a = [1, 2, 3, 4, 5, 6, 7, 8, 9, 10, 2, 15, 14, 11, 19,25,21]\n",
    "del(a[-1])\n",
    "print(a)"
   ]
  },
  {
   "cell_type": "code",
   "execution_count": 53,
   "id": "348cf513",
   "metadata": {},
   "outputs": [
    {
     "data": {
      "text/plain": [
       "2"
      ]
     },
     "execution_count": 53,
     "metadata": {},
     "output_type": "execute_result"
    }
   ],
   "source": [
    "a = [1, 2, 3, 4, 5, 6, 7, 8, 9, 10, 2, 15, 14, 11, 19,25,21]\n",
    "a.count(2)"
   ]
  },
  {
   "cell_type": "code",
   "execution_count": 54,
   "id": "ee2efecc",
   "metadata": {},
   "outputs": [
    {
     "data": {
      "text/plain": [
       "15"
      ]
     },
     "execution_count": 54,
     "metadata": {},
     "output_type": "execute_result"
    }
   ],
   "source": [
    "a = [1, 2, 3, 4, 5, 6, 7, 8, 9, 10, 2, 15, 14, 11, 19,25,21]\n",
    "a.index(25)"
   ]
  },
  {
   "cell_type": "code",
   "execution_count": 57,
   "id": "4008e557",
   "metadata": {},
   "outputs": [
    {
     "name": "stdout",
     "output_type": "stream",
     "text": [
      "21\n",
      "[1, 2, 3, 4, 5, 6, 7, 8, 9, 10, 2, 15, 14, 11, 19, 25]\n"
     ]
    }
   ],
   "source": [
    "a = [1, 2, 3, 4, 5, 6, 7, 8, 9, 10, 2, 15, 14, 11, 19,25,21]\n",
    "print(a.pop())\n",
    "print(a)"
   ]
  },
  {
   "cell_type": "code",
   "execution_count": 58,
   "id": "08859eb7",
   "metadata": {},
   "outputs": [
    {
     "name": "stdout",
     "output_type": "stream",
     "text": [
      "[1, 2, 3, 5, 6, 7, 8, 9, 10, 2, 15, 14, 11, 19, 25, 21]\n"
     ]
    }
   ],
   "source": [
    "a = [1, 2, 3, 4, 5, 6, 7, 8, 9, 10, 2, 15, 14, 11, 19,25,21]\n",
    "a.remove(4)\n",
    "print(a)"
   ]
  },
  {
   "cell_type": "code",
   "execution_count": 63,
   "id": "4b556c60",
   "metadata": {},
   "outputs": [
    {
     "name": "stdout",
     "output_type": "stream",
     "text": [
      "[21, 25, 19, 11, 14, 15, 2, 10, 9, 8, 7, 6, 5, 4, 3, 2, 1]\n"
     ]
    }
   ],
   "source": [
    "a = [1, 2, 3, 4, 5, 6, 7, 8, 9, 10, 2, 15, 14, 11, 19,25,21]\n",
    "a.reverse()\n",
    "print(a)"
   ]
  },
  {
   "cell_type": "code",
   "execution_count": 65,
   "id": "621f44da",
   "metadata": {},
   "outputs": [
    {
     "name": "stdout",
     "output_type": "stream",
     "text": [
      "[1, 2, 2, 3, 4, 5, 6, 7, 8, 9, 10, 11, 14, 15, 19, 21, 25]\n"
     ]
    }
   ],
   "source": [
    "a = [1, 2, 3, 4, 5, 6, 7, 8, 9, 10, 2, 15, 14, 11, 19,25,21]\n",
    "a.sort()\n",
    "print(a)"
   ]
  },
  {
   "cell_type": "code",
   "execution_count": 66,
   "id": "49757176",
   "metadata": {},
   "outputs": [
    {
     "name": "stdout",
     "output_type": "stream",
     "text": [
      "[1, 2, 3, 4, 5, 6, 7, 8, 9, 10, 2, 15, 14, 11, 19, 25, 21, 'Nitin', 'Yadav']\n"
     ]
    }
   ],
   "source": [
    "a = [1, 2, 3, 4, 5, 6, 7, 8, 9, 10, 2, 15, 14, 11, 19,25,21]\n",
    "a.extend(['Nitin', 'Yadav'])\n",
    "print(a)"
   ]
  },
  {
   "cell_type": "code",
   "execution_count": 70,
   "id": "4c867a04",
   "metadata": {},
   "outputs": [
    {
     "name": "stdout",
     "output_type": "stream",
     "text": [
      "[1, 2, 3, 4, 5, 6, 7, 8, 9, 10, 2, 15, 14, 11, 19, 25, 21, 'Nitin', 'Yadav']\n"
     ]
    }
   ],
   "source": [
    "a = [1, 2, 3, 4, 5, 6, 7, 8, 9, 10, 2, 15, 14, 11, 19,25,21]\n",
    "b = ['Nitin', 'Yadav']\n",
    "a.extend(b)\n",
    "print(a)"
   ]
  },
  {
   "cell_type": "code",
   "execution_count": 71,
   "id": "27cb9042",
   "metadata": {},
   "outputs": [
    {
     "ename": "TypeError",
     "evalue": "'<' not supported between instances of 'str' and 'int'",
     "output_type": "error",
     "traceback": [
      "\u001b[1;31m---------------------------------------------------------------------------\u001b[0m",
      "\u001b[1;31mTypeError\u001b[0m                                 Traceback (most recent call last)",
      "Cell \u001b[1;32mIn[71], line 2\u001b[0m\n\u001b[0;32m      1\u001b[0m a \u001b[38;5;241m=\u001b[39m [\u001b[38;5;241m1\u001b[39m, \u001b[38;5;241m2\u001b[39m, \u001b[38;5;241m3\u001b[39m, \u001b[38;5;241m4\u001b[39m, \u001b[38;5;241m5\u001b[39m, \u001b[38;5;241m6\u001b[39m, \u001b[38;5;241m7\u001b[39m, \u001b[38;5;241m8\u001b[39m, \u001b[38;5;241m9\u001b[39m, \u001b[38;5;241m10\u001b[39m, \u001b[38;5;241m2\u001b[39m, \u001b[38;5;241m15\u001b[39m, \u001b[38;5;241m14\u001b[39m, \u001b[38;5;241m11\u001b[39m, \u001b[38;5;241m19\u001b[39m, \u001b[38;5;241m25\u001b[39m, \u001b[38;5;241m21\u001b[39m, \u001b[38;5;124m'\u001b[39m\u001b[38;5;124mNitin\u001b[39m\u001b[38;5;124m'\u001b[39m, \u001b[38;5;124m'\u001b[39m\u001b[38;5;124mYadav\u001b[39m\u001b[38;5;124m'\u001b[39m]\n\u001b[1;32m----> 2\u001b[0m \u001b[43ma\u001b[49m\u001b[38;5;241;43m.\u001b[39;49m\u001b[43msort\u001b[49m\u001b[43m(\u001b[49m\u001b[43m)\u001b[49m\n",
      "\u001b[1;31mTypeError\u001b[0m: '<' not supported between instances of 'str' and 'int'"
     ]
    }
   ],
   "source": [
    "a = [1, 2, 3, 4, 5, 6, 7, 8, 9, 10, 2, 15, 14, 11, 19, 25, 21, 'Nitin', 'Yadav']\n",
    "a.sort()"
   ]
  },
  {
   "cell_type": "code",
   "execution_count": 75,
   "id": "af246647",
   "metadata": {},
   "outputs": [
    {
     "name": "stdout",
     "output_type": "stream",
     "text": [
      "['Nitin', 'Yadav']\n"
     ]
    }
   ],
   "source": [
    "a = ['Yadav', 'Nitin']\n",
    "a.sort()\n",
    "print(a)"
   ]
  },
  {
   "cell_type": "code",
   "execution_count": 77,
   "id": "723e4fbc",
   "metadata": {},
   "outputs": [
    {
     "data": {
      "text/plain": [
       "17"
      ]
     },
     "execution_count": 77,
     "metadata": {},
     "output_type": "execute_result"
    }
   ],
   "source": [
    "a = [1, 2, 3, 4, 5, 6, 7, 8, 9, 10, 2, 15, 14, 11, 19,25,21]\n",
    "len(a)"
   ]
  },
  {
   "cell_type": "code",
   "execution_count": 78,
   "id": "2544d356",
   "metadata": {},
   "outputs": [
    {
     "data": {
      "text/plain": [
       "1"
      ]
     },
     "execution_count": 78,
     "metadata": {},
     "output_type": "execute_result"
    }
   ],
   "source": [
    "a = [1, 2, 3, 4, 5, 6, 7, 8, 9, 10, 2, 15, 14, 11, 19,25,21]\n",
    "min(a)"
   ]
  },
  {
   "cell_type": "code",
   "execution_count": 79,
   "id": "2c036a93",
   "metadata": {},
   "outputs": [
    {
     "data": {
      "text/plain": [
       "25"
      ]
     },
     "execution_count": 79,
     "metadata": {},
     "output_type": "execute_result"
    }
   ],
   "source": [
    "a = [1, 2, 3, 4, 5, 6, 7, 8, 9, 10, 2, 15, 14, 11, 19,25,21]\n",
    "max(a)"
   ]
  },
  {
   "cell_type": "code",
   "execution_count": 87,
   "id": "1a13bc2e",
   "metadata": {},
   "outputs": [
    {
     "name": "stdout",
     "output_type": "stream",
     "text": [
      "[1, 2, 3, 4, 5, 6, 7, 8, 9, 10, 2, 15, 14, 11, 19, 25, 21, 10]\n"
     ]
    }
   ],
   "source": [
    "a = [1, 2, 3, 4, 5, 6, 7, 8, 9, 10, 2, 15, 14, 11, 19,25,21]\n",
    "a.append(10)\n",
    "print(a)"
   ]
  },
  {
   "cell_type": "code",
   "execution_count": 98,
   "id": "8c110eb3",
   "metadata": {},
   "outputs": [
    {
     "name": "stdout",
     "output_type": "stream",
     "text": [
      "[10, 1, 2, 3, 4, 5, 6, 7, 8, 9, 10, 2, 15, 14, 11, 19, 25, 21]\n"
     ]
    }
   ],
   "source": [
    "a = [1, 2, 3, 4, 5, 6, 7, 8, 9, 10, 2, 15, 14, 11, 19,25,21]\n",
    "a.insert(0, 10)\n",
    "print(a)"
   ]
  },
  {
   "cell_type": "code",
   "execution_count": 80,
   "id": "01388b3a",
   "metadata": {},
   "outputs": [
    {
     "data": {
      "text/plain": [
       "tuple"
      ]
     },
     "execution_count": 80,
     "metadata": {},
     "output_type": "execute_result"
    }
   ],
   "source": [
    "a = (1, 2, 3, 4, 5, 6, 7, 8, 9, 10, 2, 15, 14, 11, 19,25,21)\n",
    "type(a)"
   ]
  },
  {
   "cell_type": "code",
   "execution_count": 82,
   "id": "da714c57",
   "metadata": {},
   "outputs": [
    {
     "data": {
      "text/plain": [
       "2"
      ]
     },
     "execution_count": 82,
     "metadata": {},
     "output_type": "execute_result"
    }
   ],
   "source": [
    "a = (1, 2, 3, 4, 5, 6, 7, 8, 9, 10, 2, 15, 14, 11, 19,25,21)\n",
    "a.count(2)"
   ]
  },
  {
   "cell_type": "code",
   "execution_count": 83,
   "id": "b19bf591",
   "metadata": {},
   "outputs": [
    {
     "data": {
      "text/plain": [
       "3"
      ]
     },
     "execution_count": 83,
     "metadata": {},
     "output_type": "execute_result"
    }
   ],
   "source": [
    "a = (1, 2, 3, 4, 5, 6, 7, 8, 9, 10, 2, 15, 14, 11, 19,25,21)\n",
    "a.index(4)"
   ]
  },
  {
   "cell_type": "code",
   "execution_count": 86,
   "id": "e52f6877",
   "metadata": {},
   "outputs": [
    {
     "data": {
      "text/plain": [
       "set"
      ]
     },
     "execution_count": 86,
     "metadata": {},
     "output_type": "execute_result"
    }
   ],
   "source": [
    "a = {1, 2, 3, 4, 5, 6, 7, 8, 9, 10, 2, 15, 14, 11, 19,25,21}\n",
    "type(a)"
   ]
  },
  {
   "cell_type": "code",
   "execution_count": 91,
   "id": "303170ae",
   "metadata": {},
   "outputs": [
    {
     "name": "stdout",
     "output_type": "stream",
     "text": [
      "{1, 2, 3, 4, 5, 6, 7, 8, 9, 10, 11, 14, 15, 19, 21, 25}\n"
     ]
    }
   ],
   "source": [
    "a = {1, 2, 3, 4, 5, 6, 7, 8, 9, 10, 2, 15, 14, 11, 19,25,21}\n",
    "a.add(10)\n",
    "print(a)"
   ]
  },
  {
   "cell_type": "code",
   "execution_count": 100,
   "id": "49a61df4",
   "metadata": {},
   "outputs": [
    {
     "name": "stdout",
     "output_type": "stream",
     "text": [
      "{2, 3, 4, 5, 6, 7, 8, 9, 10, 11, 14, 15, 19, 21, 25}\n"
     ]
    }
   ],
   "source": [
    "a = {1, 2, 3, 4, 5, 6, 7, 8, 9, 10, 2, 15, 14, 11, 19,25,21}\n",
    "a.pop()\n",
    "print(a)"
   ]
  },
  {
   "cell_type": "code",
   "execution_count": 103,
   "id": "f740a5d4",
   "metadata": {},
   "outputs": [
    {
     "name": "stdout",
     "output_type": "stream",
     "text": [
      "{3, 4, 5, 6, 7, 8, 9, 10, 11, 14, 15, 19, 21, 25}\n"
     ]
    }
   ],
   "source": [
    "a = {3, 4, 5, 6, 7, 8, 9, 10, 2, 15, 14, 11, 19,25,21}\n",
    "a.pop()\n",
    "print(a)"
   ]
  },
  {
   "cell_type": "code",
   "execution_count": 105,
   "id": "ae726aa4",
   "metadata": {},
   "outputs": [
    {
     "name": "stdout",
     "output_type": "stream",
     "text": [
      "{1, 2, 3, 4, 5, 6, 7, 8, 9, 10, 11, 14, 15, 19, 21}\n"
     ]
    }
   ],
   "source": [
    "a = {1, 2, 3, 4, 5, 6, 7, 8, 9, 10, 2, 15, 14, 11, 19,25,21}\n",
    "a.discard(25)\n",
    "print(a)"
   ]
  },
  {
   "cell_type": "code",
   "execution_count": 106,
   "id": "d70b1607",
   "metadata": {},
   "outputs": [
    {
     "name": "stdout",
     "output_type": "stream",
     "text": [
      "{1, 2, 3, 4, 5, 6, 7, 8, 9, 10, 11, 14, 15, 19, 21, 25}\n"
     ]
    }
   ],
   "source": [
    "a = {1, 2, 3, 4, 5, 6, 7, 8, 9, 10, 2, 15, 14, 11, 19,25,21}\n",
    "a.discard(30)\n",
    "print(a)"
   ]
  },
  {
   "cell_type": "code",
   "execution_count": 107,
   "id": "5153fde0",
   "metadata": {},
   "outputs": [
    {
     "ename": "KeyError",
     "evalue": "30",
     "output_type": "error",
     "traceback": [
      "\u001b[1;31m---------------------------------------------------------------------------\u001b[0m",
      "\u001b[1;31mKeyError\u001b[0m                                  Traceback (most recent call last)",
      "Cell \u001b[1;32mIn[107], line 2\u001b[0m\n\u001b[0;32m      1\u001b[0m a \u001b[38;5;241m=\u001b[39m {\u001b[38;5;241m1\u001b[39m, \u001b[38;5;241m2\u001b[39m, \u001b[38;5;241m3\u001b[39m, \u001b[38;5;241m4\u001b[39m, \u001b[38;5;241m5\u001b[39m, \u001b[38;5;241m6\u001b[39m, \u001b[38;5;241m7\u001b[39m, \u001b[38;5;241m8\u001b[39m, \u001b[38;5;241m9\u001b[39m, \u001b[38;5;241m10\u001b[39m, \u001b[38;5;241m2\u001b[39m, \u001b[38;5;241m15\u001b[39m, \u001b[38;5;241m14\u001b[39m, \u001b[38;5;241m11\u001b[39m, \u001b[38;5;241m19\u001b[39m,\u001b[38;5;241m25\u001b[39m,\u001b[38;5;241m21\u001b[39m}\n\u001b[1;32m----> 2\u001b[0m \u001b[43ma\u001b[49m\u001b[38;5;241;43m.\u001b[39;49m\u001b[43mremove\u001b[49m\u001b[43m(\u001b[49m\u001b[38;5;241;43m30\u001b[39;49m\u001b[43m)\u001b[49m\n",
      "\u001b[1;31mKeyError\u001b[0m: 30"
     ]
    }
   ],
   "source": [
    "a = {1, 2, 3, 4, 5, 6, 7, 8, 9, 10, 2, 15, 14, 11, 19,25,21}\n",
    "a.remove(30)"
   ]
  },
  {
   "cell_type": "code",
   "execution_count": 109,
   "id": "aceb49dc",
   "metadata": {},
   "outputs": [
    {
     "name": "stdout",
     "output_type": "stream",
     "text": [
      "{1, 2, 3, 4, 5, 6, 7, 8, 9, 10, 11, 14, 15, 19, 21, 25, 500}\n"
     ]
    }
   ],
   "source": [
    "a = {1, 2, 3, 4, 5, 6, 7, 8, 9, 10, 2, 15, 14, 11, 19,25,21}\n",
    "a.add(500)\n",
    "print(a)"
   ]
  },
  {
   "cell_type": "code",
   "execution_count": 110,
   "id": "02dac184",
   "metadata": {},
   "outputs": [
    {
     "name": "stdout",
     "output_type": "stream",
     "text": [
      "{1, 2, 3, 4, 5, 6, 7, 8, 9, 10, 11, 14, 15, 'nitin', 19, 21, 25, 500}\n"
     ]
    }
   ],
   "source": [
    "a = {1, 2, 3, 4, 5, 6, 7, 8, 9, 10, 2, 15, 14, 11, 19,25,21, 500}\n",
    "a.add('nitin')\n",
    "print(a)"
   ]
  },
  {
   "cell_type": "code",
   "execution_count": 116,
   "id": "b0c934dc",
   "metadata": {},
   "outputs": [
    {
     "name": "stdout",
     "output_type": "stream",
     "text": [
      "[1, 2, 3, 4, 5]\n",
      "[1, 2, 3, 4, 5]\n"
     ]
    }
   ],
   "source": [
    "a = []\n",
    "b = []\n",
    "for i in range (1,6):\n",
    "    a.append(i)\n",
    "print(a)\n",
    "for j in range (1,6):\n",
    "    b.append(j)\n",
    "print(b)"
   ]
  },
  {
   "cell_type": "code",
   "execution_count": 118,
   "id": "fcf1df2b",
   "metadata": {},
   "outputs": [
    {
     "name": "stdout",
     "output_type": "stream",
     "text": [
      "{'a_value': [1, 2, 3, 4, 5], 'b_value': [1, 2, 3, 4, 5]}\n"
     ]
    }
   ],
   "source": [
    "c = {'a_value': a, 'b_value':b}\n",
    "print(c)"
   ]
  },
  {
   "cell_type": "code",
   "execution_count": 120,
   "id": "b86f9023",
   "metadata": {},
   "outputs": [
    {
     "name": "stdout",
     "output_type": "stream",
     "text": [
      "{'nimbu': 20, 'apple': 30, 'pinapple': 40}\n"
     ]
    }
   ],
   "source": [
    "fruit = {}\n",
    "fruit['nimbu'] = 20\n",
    "fruit['apple'] = 30\n",
    "fruit['pinapple'] = 40\n",
    "print(fruit)"
   ]
  },
  {
   "cell_type": "code",
   "execution_count": 121,
   "id": "f566f339",
   "metadata": {},
   "outputs": [
    {
     "name": "stdout",
     "output_type": "stream",
     "text": [
      "20\n"
     ]
    }
   ],
   "source": [
    "fruit = {'nimbu': 20, 'apple': 30, 'pinapple': 40}\n",
    "print(fruit['nimbu'])"
   ]
  },
  {
   "cell_type": "code",
   "execution_count": 122,
   "id": "6a034679",
   "metadata": {},
   "outputs": [
    {
     "data": {
      "text/plain": [
       "dict_keys(['nimbu', 'apple', 'pinapple'])"
      ]
     },
     "execution_count": 122,
     "metadata": {},
     "output_type": "execute_result"
    }
   ],
   "source": [
    "fruit.keys()"
   ]
  },
  {
   "cell_type": "code",
   "execution_count": 123,
   "id": "e5c559bb",
   "metadata": {},
   "outputs": [
    {
     "data": {
      "text/plain": [
       "dict_values([20, 30, 40])"
      ]
     },
     "execution_count": 123,
     "metadata": {},
     "output_type": "execute_result"
    }
   ],
   "source": [
    "fruit.values()"
   ]
  },
  {
   "cell_type": "code",
   "execution_count": 124,
   "id": "b5b903bd",
   "metadata": {},
   "outputs": [
    {
     "name": "stdout",
     "output_type": "stream",
     "text": [
      "{'name': 'ashu', 'age': 50}\n"
     ]
    }
   ],
   "source": [
    "mydict = {'name': 'ashu', 'age': 30}\n",
    "mydict['age'] = 50\n",
    "print(mydict)"
   ]
  },
  {
   "cell_type": "code",
   "execution_count": 125,
   "id": "971136ba",
   "metadata": {},
   "outputs": [
    {
     "name": "stdout",
     "output_type": "stream",
     "text": [
      "{}\n"
     ]
    }
   ],
   "source": [
    "a = {'name': 'ashu', 'age': 45, 'gender': 'female'}\n",
    "a.clear()\n",
    "print(a)"
   ]
  },
  {
   "cell_type": "code",
   "execution_count": 126,
   "id": "0d44dc24",
   "metadata": {},
   "outputs": [
    {
     "data": {
      "text/plain": [
       "dict_items([('name', 'ashu'), ('age', 45), ('gender', 'female')])"
      ]
     },
     "execution_count": 126,
     "metadata": {},
     "output_type": "execute_result"
    }
   ],
   "source": [
    "a = {'name': 'ashu', 'age': 45, 'gender': 'female'}\n",
    "a.items()"
   ]
  },
  {
   "cell_type": "code",
   "execution_count": 129,
   "id": "ec623b56",
   "metadata": {},
   "outputs": [
    {
     "name": "stdout",
     "output_type": "stream",
     "text": [
      "{'name': 'ashu', 'gender': 'female'}\n"
     ]
    }
   ],
   "source": [
    "a = {'name': 'ashu', 'age': 45, 'gender': 'female'}\n",
    "a.pop('age')\n",
    "print(a)"
   ]
  },
  {
   "cell_type": "code",
   "execution_count": 132,
   "id": "ca9825ec",
   "metadata": {},
   "outputs": [
    {
     "name": "stdout",
     "output_type": "stream",
     "text": [
      "{'name': 'ashu', 'age': 45}\n"
     ]
    }
   ],
   "source": [
    "a = {'name': 'ashu', 'age': 45, 'gender': 'female'}\n",
    "a.popitem()\n",
    "print(a)"
   ]
  },
  {
   "cell_type": "code",
   "execution_count": 136,
   "id": "18bc1d9a",
   "metadata": {},
   "outputs": [
    {
     "name": "stdout",
     "output_type": "stream",
     "text": [
      "{'name': 'ashu', 'age': 45, 'gender': 'Male'}\n"
     ]
    }
   ],
   "source": [
    "a = {'name': 'ashu', 'age': 45, 'gender': 'female'}\n",
    "a.update(gender = 'Male')\n",
    "print(a)"
   ]
  },
  {
   "cell_type": "code",
   "execution_count": 139,
   "id": "b8e3a5b3",
   "metadata": {},
   "outputs": [
    {
     "name": "stdout",
     "output_type": "stream",
     "text": [
      "{'name': 'ashu', 'age': 45}\n"
     ]
    }
   ],
   "source": [
    "a = {'name': 'ashu', 'age': 45, 'gender': 'female'}\n",
    "del(a['gender'])\n",
    "print(a)"
   ]
  },
  {
   "cell_type": "code",
   "execution_count": 2,
   "id": "8116321e",
   "metadata": {},
   "outputs": [],
   "source": [
    "a = open('demo.txt', 'w')\n",
    "a.write('Nitin yadav is working as Sr Talent Manager')\n",
    "a.close()"
   ]
  },
  {
   "cell_type": "code",
   "execution_count": 6,
   "id": "f7911530",
   "metadata": {},
   "outputs": [],
   "source": [
    "b = open('D:\\Top Mentor Course\\demo.txt', 'w')\n",
    "b.write('I stay in Indore')\n",
    "b.close()"
   ]
  },
  {
   "cell_type": "code",
   "execution_count": 7,
   "id": "e544f98f",
   "metadata": {},
   "outputs": [],
   "source": [
    "b = open('D:\\Top Mentor Course\\demo.txt', 'w')\n",
    "b.write('I am learning AI')\n",
    "b.close()"
   ]
  },
  {
   "cell_type": "code",
   "execution_count": 11,
   "id": "06d3ca58",
   "metadata": {},
   "outputs": [
    {
     "data": {
      "text/plain": [
       "'I am learning AI'"
      ]
     },
     "execution_count": 11,
     "metadata": {},
     "output_type": "execute_result"
    }
   ],
   "source": [
    "b = open('D:\\Top Mentor Course\\demo.txt', 'r')\n",
    "b.read()"
   ]
  },
  {
   "cell_type": "code",
   "execution_count": 14,
   "id": "dd7b02c9",
   "metadata": {},
   "outputs": [],
   "source": [
    "b = open('D:\\Top Mentor Course\\demo.txt', 'a')\n",
    "b.write(' .I stay in Indore')\n",
    "b.close()"
   ]
  },
  {
   "cell_type": "code",
   "execution_count": 17,
   "id": "50b6f7eb",
   "metadata": {},
   "outputs": [],
   "source": [
    "c = open('D:\\\\Top Mentor Course\\\\filecreation.txt', 'w')\n",
    "c.write('I am Nitin Yadav')\n",
    "c.close()"
   ]
  },
  {
   "cell_type": "code",
   "execution_count": 18,
   "id": "59a0bdd2",
   "metadata": {},
   "outputs": [
    {
     "name": "stdout",
     "output_type": "stream",
     "text": [
      "I am Nitin Yadav\n"
     ]
    }
   ],
   "source": [
    "c = open('D:\\\\Top Mentor Course\\\\filecreation.txt', 'r')\n",
    "print(c.read())"
   ]
  },
  {
   "cell_type": "code",
   "execution_count": 21,
   "id": "14acf6e5",
   "metadata": {},
   "outputs": [
    {
     "data": {
      "text/plain": [
       "19"
      ]
     },
     "execution_count": 21,
     "metadata": {},
     "output_type": "execute_result"
    }
   ],
   "source": [
    "d = open('D:\\\\Top Mentor Course\\\\filecreation.txt', 'a')\n",
    "d.write(' . I stay in Indore')\n"
   ]
  },
  {
   "cell_type": "code",
   "execution_count": 22,
   "id": "3dce8751",
   "metadata": {},
   "outputs": [
    {
     "data": {
      "text/plain": [
       "19"
      ]
     },
     "execution_count": 22,
     "metadata": {},
     "output_type": "execute_result"
    }
   ],
   "source": [
    "d = open('D:\\\\Top Mentor Course\\\\filecreation.txt', 'w')\n",
    "d.write(' . I stay in Indore')\n"
   ]
  },
  {
   "cell_type": "code",
   "execution_count": 23,
   "id": "14b8c919",
   "metadata": {},
   "outputs": [
    {
     "data": {
      "text/plain": [
       "19"
      ]
     },
     "execution_count": 23,
     "metadata": {},
     "output_type": "execute_result"
    }
   ],
   "source": [
    "d = open('D:\\\\Top Mentor Course\\\\filecreation.txt', 'a')\n",
    "d.write(' . I stay in Indore')\n"
   ]
  },
  {
   "cell_type": "code",
   "execution_count": 26,
   "id": "5dd77338",
   "metadata": {},
   "outputs": [],
   "source": [
    "d = open('D:\\\\Top Mentor Course\\\\filecreation.txt', 'a')\n",
    "d.write(' . I am working at RWS Group')\n",
    "d.close()"
   ]
  },
  {
   "cell_type": "code",
   "execution_count": 27,
   "id": "d76286fa",
   "metadata": {},
   "outputs": [
    {
     "data": {
      "text/plain": [
       "' . I stay in Indore . I stay in Indore . I am working at RWS Group . I am working at RWS Group . I am working at RWS Group'"
      ]
     },
     "execution_count": 27,
     "metadata": {},
     "output_type": "execute_result"
    }
   ],
   "source": [
    "e = open('D:\\\\Top Mentor Course\\\\filecreation.txt', 'r')\n",
    "e.read()"
   ]
  },
  {
   "cell_type": "code",
   "execution_count": 29,
   "id": "e0f95f58",
   "metadata": {},
   "outputs": [
    {
     "data": {
      "text/plain": [
       "'Indore is the largest and most populous city in the Indian state of Madhya Pradesh.[15] It is consistently ranked as the cleanest city in India.[16] It serves as the headquarters of both the Indore District and the Indore Division. It is also considered as the state education hub and houses campuses of both the Indian Institute of Technology and the Indian Institute of Management.[17] Located on the southern edge of Malwa Plateau, at an average altitude of 553 meters (1,814 ft) above sea level,[18] it has the highest elevation among major cities of Central India. The city is 190 km (120 mi) west of the state capital of Bhopal. Indore had a census-estimated 2011 population of 1,994,397 (municipal corporation)[9] and 3,570,295 (urban agglomeration).[10] The city is distributed over a land area of just 530 square kilometres (200 sq mi), making Indore the most densely populated major city in the central province.[19]\\n'"
      ]
     },
     "execution_count": 29,
     "metadata": {},
     "output_type": "execute_result"
    }
   ],
   "source": [
    "a = open('D:\\\\Top Mentor Course\\\\file creation2.txt', 'r')\n",
    "a.readline()"
   ]
  },
  {
   "cell_type": "code",
   "execution_count": 30,
   "id": "86f6cf56",
   "metadata": {},
   "outputs": [
    {
     "data": {
      "text/plain": [
       "['Indore is the largest and most populous city in the Indian state of Madhya Pradesh.[15] It is consistently ranked as the cleanest city in India.[16] It serves as the headquarters of both the Indore District and the Indore Division. It is also considered as the state education hub and houses campuses of both the Indian Institute of Technology and the Indian Institute of Management.[17] Located on the southern edge of Malwa Plateau, at an average altitude of 553 meters (1,814 ft) above sea level,[18] it has the highest elevation among major cities of Central India. The city is 190 km (120 mi) west of the state capital of Bhopal. Indore had a census-estimated 2011 population of 1,994,397 (municipal corporation)[9] and 3,570,295 (urban agglomeration).[10] The city is distributed over a land area of just 530 square kilometres (200 sq mi), making Indore the most densely populated major city in the central province.[19]\\n',\n",
       " '\\n',\n",
       " 'Modern-day Indore traces its roots to its 16th-century founding as a trading hub between the Deccan and Delhi. It was founded on the banks of the Kanh and Saraswati rivers. The city came under the Maratha Empire, on 18 May 1724, after Peshwa Baji Rao I assumed the full control of Malwa. During the days of the British Raj, Indore State was a 19 Gun Salute (21 locally) princely state (a rare high rank) ruled by the Maratha Holkar dynasty, until they acceded to the Union of India.[20] Indore served as the capital of the Madhya Bharat from 1950 until 1956.\\n',\n",
       " '\\n',\n",
       " 'Indore functions as the financial capital of Madhya Pradesh and was home to the Madhya Pradesh Stock Exchange till its derecognition in 2015.\\n',\n",
       " '\\n',\n",
       " \"Indore has been selected as one of the 100 Indian cities to be developed as a smart city under the Smart Cities Mission.[21] It also qualified in the first round of Smart Cities Mission and was selected as one of the first twenty cities to be developed as Smart Cities.[22] Indore has been part of the Swachh Survekshan since its inception and had ranked 25th in 2016.[23] It has been ranked as India's cleanest city six years in a row as per the Swachh Survekshan for the years 2017, 2018, 2019, 2020, 2021 and 2022.[24][25][26][27] Meanwhile, Indore has also been declared as India's first 'water plus' city under the Swachh Survekshan 2021. Indore became the only Indian city to be selected for International Clean Air Catalyst Programme. The project, with cooperation of the Indore Municipal Corporation and the Madhya Pradesh Pollution Control Board, will be operated for a period of five years to purify the air in the city.\"]"
      ]
     },
     "execution_count": 30,
     "metadata": {},
     "output_type": "execute_result"
    }
   ],
   "source": [
    "a = open('D:\\\\Top Mentor Course\\\\file creation2.txt', 'r')\n",
    "a.readlines()"
   ]
  },
  {
   "cell_type": "markdown",
   "id": "a31ff1ac",
   "metadata": {},
   "source": [
    "# Official Way of writing the code"
   ]
  },
  {
   "cell_type": "code",
   "execution_count": 34,
   "id": "50edbffe",
   "metadata": {},
   "outputs": [],
   "source": [
    "with open('D:\\\\Top Mentor Course\\\\file creation_realtime.txt', 'w') as creation:\n",
    "    creation.write('I am Nitin yadav, learning data science from Top Mentor.')\n",
    "    creation.close()"
   ]
  },
  {
   "cell_type": "code",
   "execution_count": 36,
   "id": "a1510968",
   "metadata": {},
   "outputs": [
    {
     "name": "stdout",
     "output_type": "stream",
     "text": [
      "I am Nitin yadav, learning data science from Top Mentor.\n"
     ]
    }
   ],
   "source": [
    "with open('D:\\\\Top Mentor Course\\\\file creation_realtime.txt', 'r') as creation_read:\n",
    "    print(creation_read.read())"
   ]
  },
  {
   "cell_type": "code",
   "execution_count": 38,
   "id": "bfb9f11c",
   "metadata": {},
   "outputs": [],
   "source": [
    "with open('D:\\\\Top Mentor Course\\\\file creation_realtime.txt', 'a') as creation_add:\n",
    "    creation_add.write('I am working at RWS Indore')\n",
    "    creation_add.close()"
   ]
  },
  {
   "cell_type": "code",
   "execution_count": 40,
   "id": "2f04ea25",
   "metadata": {},
   "outputs": [
    {
     "name": "stdout",
     "output_type": "stream",
     "text": [
      "Indore is the largest and most populous city in the Indian state of Madhya Pradesh.[15] It is consistently ranked as the cleanest city in India.[16] It serves as the headquarters of both the Indore District and the Indore Division. It is also considered as the state education hub and houses campuses of both the Indian Institute of Technology and the Indian Institute of Management.[17] Located on the southern edge of Malwa Plateau, at an average altitude of 553 meters (1,814 ft) above sea level,[18] it has the highest elevation among major cities of Central India. The city is 190 km (120 mi) west of the state capital of Bhopal. Indore had a census-estimated 2011 population of 1,994,397 (municipal corporation)[9] and 3,570,295 (urban agglomeration).[10] The city is distributed over a land area of just 530 square kilometres (200 sq mi), making Indore the most densely populated major city in the central province.[19]\n",
      "\n"
     ]
    }
   ],
   "source": [
    "with open('D:\\\\Top Mentor Course\\\\file creation2.txt', 'r') as creation_read:\n",
    "    print(creation_read.readline())"
   ]
  },
  {
   "cell_type": "code",
   "execution_count": 41,
   "id": "aa33bf46",
   "metadata": {},
   "outputs": [
    {
     "name": "stdout",
     "output_type": "stream",
     "text": [
      "['Indore is the largest and most populous city in the Indian state of Madhya Pradesh.[15] It is consistently ranked as the cleanest city in India.[16] It serves as the headquarters of both the Indore District and the Indore Division. It is also considered as the state education hub and houses campuses of both the Indian Institute of Technology and the Indian Institute of Management.[17] Located on the southern edge of Malwa Plateau, at an average altitude of 553 meters (1,814 ft) above sea level,[18] it has the highest elevation among major cities of Central India. The city is 190 km (120 mi) west of the state capital of Bhopal. Indore had a census-estimated 2011 population of 1,994,397 (municipal corporation)[9] and 3,570,295 (urban agglomeration).[10] The city is distributed over a land area of just 530 square kilometres (200 sq mi), making Indore the most densely populated major city in the central province.[19]\\n', '\\n', 'Modern-day Indore traces its roots to its 16th-century founding as a trading hub between the Deccan and Delhi. It was founded on the banks of the Kanh and Saraswati rivers. The city came under the Maratha Empire, on 18 May 1724, after Peshwa Baji Rao I assumed the full control of Malwa. During the days of the British Raj, Indore State was a 19 Gun Salute (21 locally) princely state (a rare high rank) ruled by the Maratha Holkar dynasty, until they acceded to the Union of India.[20] Indore served as the capital of the Madhya Bharat from 1950 until 1956.\\n', '\\n', 'Indore functions as the financial capital of Madhya Pradesh and was home to the Madhya Pradesh Stock Exchange till its derecognition in 2015.\\n', '\\n', \"Indore has been selected as one of the 100 Indian cities to be developed as a smart city under the Smart Cities Mission.[21] It also qualified in the first round of Smart Cities Mission and was selected as one of the first twenty cities to be developed as Smart Cities.[22] Indore has been part of the Swachh Survekshan since its inception and had ranked 25th in 2016.[23] It has been ranked as India's cleanest city six years in a row as per the Swachh Survekshan for the years 2017, 2018, 2019, 2020, 2021 and 2022.[24][25][26][27] Meanwhile, Indore has also been declared as India's first 'water plus' city under the Swachh Survekshan 2021. Indore became the only Indian city to be selected for International Clean Air Catalyst Programme. The project, with cooperation of the Indore Municipal Corporation and the Madhya Pradesh Pollution Control Board, will be operated for a period of five years to purify the air in the city.\"]\n"
     ]
    }
   ],
   "source": [
    "with open('D:\\\\Top Mentor Course\\\\file creation2.txt', 'r') as full_creation_read:\n",
    "    print(full_creation_read.readlines())"
   ]
  },
  {
   "cell_type": "code",
   "execution_count": 44,
   "id": "0045f85e",
   "metadata": {},
   "outputs": [],
   "source": [
    "with open('D:\\\\Top Mentor Course\\\\file creation_realtime.txt', 'a') as creation_add:\n",
    "    creation_add.write('\\nI am from Betul')\n",
    "    creation_add.close()"
   ]
  },
  {
   "cell_type": "code",
   "execution_count": 2,
   "id": "042f6a1a",
   "metadata": {},
   "outputs": [],
   "source": [
    "with open('D:\\\\Top Mentor Course\\\\demo.txt', 'w') as a:\n",
    "    a.write('I am Nitin Yadav')\n",
    "    a.close()"
   ]
  },
  {
   "cell_type": "code",
   "execution_count": 5,
   "id": "c520fcd2",
   "metadata": {},
   "outputs": [
    {
     "name": "stdout",
     "output_type": "stream",
     "text": [
      "I am Nitin Yadav\n"
     ]
    }
   ],
   "source": [
    "with open('D:\\\\Top Mentor Course\\\\demo.txt', 'r') as b:\n",
    "    print(b.read())"
   ]
  },
  {
   "cell_type": "code",
   "execution_count": 11,
   "id": "eb282482",
   "metadata": {},
   "outputs": [],
   "source": [
    "with open('D:\\\\Top Mentor Course\\\\demo.txt', 'a') as c:\n",
    "    c.write('\\n as the financial capital of Madhya Pradesh and was home to the Madhya Pradesh Stock Exchange till its derecognition in 2015.')"
   ]
  },
  {
   "cell_type": "code",
   "execution_count": 13,
   "id": "34b61331",
   "metadata": {},
   "outputs": [
    {
     "name": "stdout",
     "output_type": "stream",
     "text": [
      "I am Nitin Yadavas the financial capital of Madhya Pradesh and was home to the Madhya Pradesh Stock Exchange till its derecognition in 2015.\n",
      "\n"
     ]
    }
   ],
   "source": [
    "with open('D:\\\\Top Mentor Course\\\\demo.txt', 'r') as d:\n",
    "    print(d.readline())"
   ]
  },
  {
   "cell_type": "code",
   "execution_count": 31,
   "id": "612ac9e3",
   "metadata": {},
   "outputs": [
    {
     "name": "stdout",
     "output_type": "stream",
     "text": [
      "['I am Nitin Yadavas the financial capital of Madhya Pradesh and was home to the Madhya Pradesh Stock Exchange till its derecognition in 2015.\\n', ' as the financial capital of Madhya Pradesh and was home to the Madhya Pradesh Stock Exchange till its derecognition in 2015.']\n"
     ]
    }
   ],
   "source": [
    "with open('D:\\\\Top Mentor Course\\\\demo.txt', 'r') as d:\n",
    "    print(d.readlines())"
   ]
  },
  {
   "cell_type": "code",
   "execution_count": 16,
   "id": "fec89a70",
   "metadata": {},
   "outputs": [
    {
     "name": "stdout",
     "output_type": "stream",
     "text": [
      "I am Nitin Yadavas the financial capital of Madhya Pradesh and was home to the Madhya Pradesh Stock Exchange till its derecognition in 2015.\n",
      " as the financial capital of Madhya Pradesh and was home to the Madhya Pradesh Stock Exchange till its derecognition in 2015.\n"
     ]
    }
   ],
   "source": [
    "with open('D:\\\\Top Mentor Course\\\\demo.txt', 'r') as d:\n",
    "    print(d.read())"
   ]
  },
  {
   "cell_type": "code",
   "execution_count": 24,
   "id": "2b69d78b",
   "metadata": {},
   "outputs": [
    {
     "name": "stdout",
     "output_type": "stream",
     "text": [
      "I am \n"
     ]
    }
   ],
   "source": [
    "with open('D:\\\\Top Mentor Course\\\\demo.txt', 'r') as d:\n",
    "    print(d.read(5))"
   ]
  },
  {
   "cell_type": "markdown",
   "id": "85bf50c2",
   "metadata": {},
   "source": [
    "### Exception Handling"
   ]
  },
  {
   "cell_type": "code",
   "execution_count": 32,
   "id": "9c79c708",
   "metadata": {},
   "outputs": [
    {
     "ename": "SyntaxError",
     "evalue": "Missing parentheses in call to 'print'. Did you mean print(...)? (3964716142.py, line 1)",
     "output_type": "error",
     "traceback": [
      "\u001b[1;36m  Cell \u001b[1;32mIn[32], line 1\u001b[1;36m\u001b[0m\n\u001b[1;33m    print'nitin'\u001b[0m\n\u001b[1;37m    ^\u001b[0m\n\u001b[1;31mSyntaxError\u001b[0m\u001b[1;31m:\u001b[0m Missing parentheses in call to 'print'. Did you mean print(...)?\n"
     ]
    }
   ],
   "source": [
    "print'nitin'"
   ]
  },
  {
   "cell_type": "code",
   "execution_count": 38,
   "id": "6b4ef4e3",
   "metadata": {},
   "outputs": [
    {
     "name": "stdout",
     "output_type": "stream",
     "text": [
      "division by zero\n"
     ]
    }
   ],
   "source": [
    "try:\n",
    "    a = 10\n",
    "    b = 0\n",
    "    c = a/b\n",
    "    print(c)\n",
    "except Exception as d:\n",
    "    print(d)"
   ]
  },
  {
   "cell_type": "code",
   "execution_count": 39,
   "id": "2f44080b",
   "metadata": {},
   "outputs": [
    {
     "ename": "NameError",
     "evalue": "name 'A' is not defined",
     "output_type": "error",
     "traceback": [
      "\u001b[1;31m---------------------------------------------------------------------------\u001b[0m",
      "\u001b[1;31mNameError\u001b[0m                                 Traceback (most recent call last)",
      "Cell \u001b[1;32mIn[39], line 2\u001b[0m\n\u001b[0;32m      1\u001b[0m a\u001b[38;5;241m=\u001b[39m \u001b[38;5;241m10\u001b[39m\n\u001b[1;32m----> 2\u001b[0m \u001b[38;5;28mprint\u001b[39m(\u001b[43mA\u001b[49m)\n",
      "\u001b[1;31mNameError\u001b[0m: name 'A' is not defined"
     ]
    }
   ],
   "source": [
    "a= 10\n",
    "print(A)"
   ]
  },
  {
   "cell_type": "code",
   "execution_count": 40,
   "id": "31e58da5",
   "metadata": {},
   "outputs": [
    {
     "name": "stdout",
     "output_type": "stream",
     "text": [
      "name 'A' is not defined\n"
     ]
    }
   ],
   "source": [
    "try: \n",
    "    a= 10\n",
    "    print(A)\n",
    "except Exception as d:\n",
    "    print(d)"
   ]
  },
  {
   "cell_type": "code",
   "execution_count": 46,
   "id": "c7a0c640",
   "metadata": {},
   "outputs": [
    {
     "ename": "IndexError",
     "evalue": "list index out of range",
     "output_type": "error",
     "traceback": [
      "\u001b[1;31m---------------------------------------------------------------------------\u001b[0m",
      "\u001b[1;31mIndexError\u001b[0m                                Traceback (most recent call last)",
      "Cell \u001b[1;32mIn[46], line 2\u001b[0m\n\u001b[0;32m      1\u001b[0m a \u001b[38;5;241m=\u001b[39m [\u001b[38;5;241m1\u001b[39m, \u001b[38;5;241m2\u001b[39m, \u001b[38;5;241m3\u001b[39m, \u001b[38;5;241m4\u001b[39m, \u001b[38;5;241m5\u001b[39m]\n\u001b[1;32m----> 2\u001b[0m \u001b[38;5;28mprint\u001b[39m(\u001b[43ma\u001b[49m\u001b[43m[\u001b[49m\u001b[38;5;241;43m6\u001b[39;49m\u001b[43m]\u001b[49m)\n",
      "\u001b[1;31mIndexError\u001b[0m: list index out of range"
     ]
    }
   ],
   "source": [
    "a = [1, 2, 3, 4, 5]\n",
    "print(a[6])"
   ]
  },
  {
   "cell_type": "code",
   "execution_count": 47,
   "id": "702059ba",
   "metadata": {},
   "outputs": [
    {
     "name": "stdout",
     "output_type": "stream",
     "text": [
      "list index out of range\n"
     ]
    }
   ],
   "source": [
    "try: \n",
    "    a = [1, 2, 3, 4, 5]\n",
    "    print(a[6])\n",
    "except Exception as b:\n",
    "    print(b)"
   ]
  },
  {
   "cell_type": "code",
   "execution_count": 50,
   "id": "a3de234d",
   "metadata": {},
   "outputs": [
    {
     "ename": "KeyError",
     "evalue": "3",
     "output_type": "error",
     "traceback": [
      "\u001b[1;31m---------------------------------------------------------------------------\u001b[0m",
      "\u001b[1;31mKeyError\u001b[0m                                  Traceback (most recent call last)",
      "Cell \u001b[1;32mIn[50], line 2\u001b[0m\n\u001b[0;32m      1\u001b[0m \u001b[38;5;28mdict\u001b[39m \u001b[38;5;241m=\u001b[39m {\u001b[38;5;124m'\u001b[39m\u001b[38;5;124ma\u001b[39m\u001b[38;5;124m'\u001b[39m:\u001b[38;5;241m1\u001b[39m, \u001b[38;5;124m'\u001b[39m\u001b[38;5;124mb\u001b[39m\u001b[38;5;124m'\u001b[39m:\u001b[38;5;241m2\u001b[39m, \u001b[38;5;124m'\u001b[39m\u001b[38;5;124mc\u001b[39m\u001b[38;5;124m'\u001b[39m:\u001b[38;5;241m3\u001b[39m, \u001b[38;5;124m'\u001b[39m\u001b[38;5;124md\u001b[39m\u001b[38;5;124m'\u001b[39m:\u001b[38;5;241m4\u001b[39m}\n\u001b[1;32m----> 2\u001b[0m \u001b[38;5;28mprint\u001b[39m(\u001b[38;5;28;43mdict\u001b[39;49m\u001b[43m[\u001b[49m\u001b[38;5;241;43m3\u001b[39;49m\u001b[43m]\u001b[49m)\n",
      "\u001b[1;31mKeyError\u001b[0m: 3"
     ]
    }
   ],
   "source": [
    "dict = {'a':1, 'b':2, 'c':3, 'd':4}\n",
    "print(dict[3])"
   ]
  },
  {
   "cell_type": "code",
   "execution_count": 56,
   "id": "b3f005ad",
   "metadata": {},
   "outputs": [
    {
     "name": "stdout",
     "output_type": "stream",
     "text": [
      "9\n"
     ]
    }
   ],
   "source": [
    "try:\n",
    "    dict = {'a':1, 'b':2, 'c':3, 'd':4}\n",
    "    print(dict[9])\n",
    "except Exception as e:\n",
    "    print(e)"
   ]
  },
  {
   "cell_type": "code",
   "execution_count": 57,
   "id": "e5004047",
   "metadata": {},
   "outputs": [
    {
     "ename": "IndentationError",
     "evalue": "expected an indented block after 'if' statement on line 1 (16720218.py, line 2)",
     "output_type": "error",
     "traceback": [
      "\u001b[1;36m  Cell \u001b[1;32mIn[57], line 2\u001b[1;36m\u001b[0m\n\u001b[1;33m    print(4)\u001b[0m\n\u001b[1;37m    ^\u001b[0m\n\u001b[1;31mIndentationError\u001b[0m\u001b[1;31m:\u001b[0m expected an indented block after 'if' statement on line 1\n"
     ]
    }
   ],
   "source": [
    "if 4<3:\n",
    "print(4)"
   ]
  },
  {
   "cell_type": "code",
   "execution_count": 65,
   "id": "bd963f2b",
   "metadata": {},
   "outputs": [
    {
     "ename": "IndentationError",
     "evalue": "expected an indented block after 'if' statement on line 2 (1587218134.py, line 3)",
     "output_type": "error",
     "traceback": [
      "\u001b[1;36m  Cell \u001b[1;32mIn[65], line 3\u001b[1;36m\u001b[0m\n\u001b[1;33m    print(5)\u001b[0m\n\u001b[1;37m    ^\u001b[0m\n\u001b[1;31mIndentationError\u001b[0m\u001b[1;31m:\u001b[0m expected an indented block after 'if' statement on line 2\n"
     ]
    }
   ],
   "source": [
    "try:\n",
    "    if 4>3:\n",
    "    print(5)\n",
    "except Excetion as e:\n",
    "    print(e)"
   ]
  },
  {
   "cell_type": "code",
   "execution_count": 66,
   "id": "3ee7b4b3",
   "metadata": {},
   "outputs": [
    {
     "name": "stdout",
     "output_type": "stream",
     "text": [
      "division by zero\n"
     ]
    }
   ],
   "source": [
    "try:\n",
    "    a = 10\n",
    "    b = 0\n",
    "    print(a/b)\n",
    "except Exception as d:\n",
    "    print(d)"
   ]
  },
  {
   "cell_type": "code",
   "execution_count": 67,
   "id": "07d93b68",
   "metadata": {},
   "outputs": [
    {
     "ename": "ValueError",
     "evalue": "invalid literal for int() with base 10: 'nitin'",
     "output_type": "error",
     "traceback": [
      "\u001b[1;31m---------------------------------------------------------------------------\u001b[0m",
      "\u001b[1;31mValueError\u001b[0m                                Traceback (most recent call last)",
      "Cell \u001b[1;32mIn[67], line 1\u001b[0m\n\u001b[1;32m----> 1\u001b[0m a \u001b[38;5;241m=\u001b[39m \u001b[38;5;28;43mint\u001b[39;49m\u001b[43m(\u001b[49m\u001b[38;5;124;43m'\u001b[39;49m\u001b[38;5;124;43mnitin\u001b[39;49m\u001b[38;5;124;43m'\u001b[39;49m\u001b[43m)\u001b[49m\n",
      "\u001b[1;31mValueError\u001b[0m: invalid literal for int() with base 10: 'nitin'"
     ]
    }
   ],
   "source": [
    "a = int('nitin')"
   ]
  },
  {
   "cell_type": "code",
   "execution_count": 68,
   "id": "379403f7",
   "metadata": {},
   "outputs": [
    {
     "name": "stdout",
     "output_type": "stream",
     "text": [
      "invalid literal for int() with base 10: 'nitin'\n"
     ]
    }
   ],
   "source": [
    "try:\n",
    "    a = int('nitin')\n",
    "    print(a)\n",
    "except Exception as b:\n",
    "    print(b)"
   ]
  },
  {
   "cell_type": "code",
   "execution_count": 70,
   "id": "e5650254",
   "metadata": {},
   "outputs": [
    {
     "name": "stdout",
     "output_type": "stream",
     "text": [
      "please enter a numberni\n",
      "invalid literal for int() with base 10: 'ni'\n"
     ]
    }
   ],
   "source": [
    "try:\n",
    "    a = int(input('please enter a number'))\n",
    "except Exception as b:\n",
    "    print(b)"
   ]
  },
  {
   "cell_type": "code",
   "execution_count": 71,
   "id": "7da67ecf",
   "metadata": {},
   "outputs": [
    {
     "name": "stdout",
     "output_type": "stream",
     "text": [
      "name 'A' is not defined\n"
     ]
    }
   ],
   "source": [
    "try:\n",
    "    a = 'nitin'\n",
    "    print(A)\n",
    "except Exception as z:\n",
    "    print(z)"
   ]
  },
  {
   "cell_type": "code",
   "execution_count": 73,
   "id": "10a23942",
   "metadata": {},
   "outputs": [
    {
     "name": "stdout",
     "output_type": "stream",
     "text": [
      "please enter a number: nitin\n",
      "invalid literal for int() with base 10: 'nitin'\n"
     ]
    }
   ],
   "source": [
    "try:\n",
    "    a = int(input('please enter a number: '))\n",
    "    b = int(a)\n",
    "except Exception as c:\n",
    "    print(c)"
   ]
  },
  {
   "cell_type": "code",
   "execution_count": 74,
   "id": "53224a13",
   "metadata": {},
   "outputs": [
    {
     "name": "stdout",
     "output_type": "stream",
     "text": [
      "please enter a number: 20\n"
     ]
    }
   ],
   "source": [
    "try:\n",
    "    a = int(input('please enter a number: '))\n",
    "    b = int(a)\n",
    "except Exception as c:\n",
    "    print(c)"
   ]
  },
  {
   "cell_type": "code",
   "execution_count": 86,
   "id": "e6da26e6",
   "metadata": {},
   "outputs": [
    {
     "name": "stdout",
     "output_type": "stream",
     "text": [
      "please enter a number: ni\n",
      "Please enter a numeric value\n"
     ]
    }
   ],
   "source": [
    "num1 = (input(\"please enter a number: \"))\n",
    "try:\n",
    "    num2 = int(num1)\n",
    "    num3 = 10/num2\n",
    "    print(num4)\n",
    "\n",
    "except ValueError:\n",
    "    print(\"Please enter a numeric value\")\n",
    "    \n",
    "except ZeroDivisionError:\n",
    "    print(\"Please enter a non-zero value\")\n",
    "\n",
    "except:\n",
    "    print(\"Some error occurred\")\n",
    "\n"
   ]
  },
  {
   "cell_type": "code",
   "execution_count": 90,
   "id": "1ca20429",
   "metadata": {},
   "outputs": [
    {
     "name": "stdout",
     "output_type": "stream",
     "text": [
      "please enter a number: an5\n",
      "please enter a numeric value\n"
     ]
    }
   ],
   "source": [
    "num1 = input(\"please enter a number: \")\n",
    "try:\n",
    "    num2 = int(num1)\n",
    "    num3 = 10/num2\n",
    "    print(num4)\n",
    "\n",
    "except ValueError:\n",
    "    print(\"please enter a numeric value\")\n",
    "    \n",
    "except ZeroDivisionError:\n",
    "    print(\"please enter a non-zero value\")\n",
    "\n",
    "except (IndexError, NameError):\n",
    "    print('There is some issue in the code!')\n",
    "\n",
    "except:\n",
    "    print(\"some error occured\")"
   ]
  },
  {
   "cell_type": "code",
   "execution_count": 94,
   "id": "168f9664",
   "metadata": {},
   "outputs": [
    {
     "name": "stdout",
     "output_type": "stream",
     "text": [
      "please enter a number: 5\n",
      "some issue in code!\n"
     ]
    }
   ],
   "source": [
    "num1 = input('please enter a number: ')\n",
    "try:\n",
    "    num2 = int(num1)\n",
    "    num3 = 10/num2\n",
    "    print(num4)\n",
    "except ValueError:\n",
    "    print('please enter a numeric value')\n",
    "except ZeroDivisionError:\n",
    "    print('please enter a non-zero value')\n",
    "except (IndexError, NameError):\n",
    "    print('some issue in code!')\n",
    "except:\n",
    "    print('some error occured')"
   ]
  },
  {
   "cell_type": "code",
   "execution_count": 96,
   "id": "e788ca60",
   "metadata": {},
   "outputs": [
    {
     "name": "stdout",
     "output_type": "stream",
     "text": [
      "please enter a number: -5\n",
      "-2.0\n"
     ]
    }
   ],
   "source": [
    "num1 = input('please enter a number: ')\n",
    "try:\n",
    "    num2 = int(num1)\n",
    "    num3 = 10/num2\n",
    "    print(num3)\n",
    "except ValueError:\n",
    "    print('please enter a numeric value')\n",
    "except ZeroDivisionError:\n",
    "    print('please enter a non-zero value')\n",
    "except (IndexError, NameError):\n",
    "    print('some issue in code!')\n",
    "except:\n",
    "    print('some error occured')"
   ]
  },
  {
   "cell_type": "code",
   "execution_count": 103,
   "id": "92a6ad21",
   "metadata": {},
   "outputs": [
    {
     "name": "stdout",
     "output_type": "stream",
     "text": [
      "please enter your age: 6\n"
     ]
    }
   ],
   "source": [
    "try:\n",
    "    age = int(input('please enter your age: '))\n",
    "    if age<5:\n",
    "        raise ValueError('not allowed you are less than 5 years of age')\n",
    "    if age>20:\n",
    "        raise ValueError('Age is more than 20, not allowed!')\n",
    "except ValueError as v:\n",
    "    print(v)"
   ]
  },
  {
   "cell_type": "code",
   "execution_count": 108,
   "id": "6f53eb05",
   "metadata": {},
   "outputs": [
    {
     "name": "stdout",
     "output_type": "stream",
     "text": [
      "please enter yourr roll number: -1\n",
      "value error shown\n"
     ]
    }
   ],
   "source": [
    "try:\n",
    "    roll_number = int(input('please enter yourr roll number: '))\n",
    "    if roll_number<=0:\n",
    "        raise ValueError ('number nnot positive')\n",
    "\n",
    "except ValueError:\n",
    "    print('value error shown')\n",
    "\n",
    "except Exception as f:\n",
    "    print(f)"
   ]
  },
  {
   "cell_type": "code",
   "execution_count": 110,
   "id": "da9167e6",
   "metadata": {},
   "outputs": [
    {
     "name": "stdout",
     "output_type": "stream",
     "text": [
      "please enter a number: c\n",
      "invalid literal for int() with base 10: 'c'\n",
      "please enter a valid number\n"
     ]
    }
   ],
   "source": [
    "num1 = input('please enter a number: ')\n",
    "try: \n",
    "    num2 = int(num1)\n",
    "    print(num2)\n",
    "except Exception as e:\n",
    "    print(e)\n",
    "    print('please enter a valid number')"
   ]
  },
  {
   "cell_type": "code",
   "execution_count": 113,
   "id": "0faba6b1",
   "metadata": {},
   "outputs": [
    {
     "name": "stdout",
     "output_type": "stream",
     "text": [
      "please enter a number: ni\n"
     ]
    }
   ],
   "source": [
    "num1 = input('please enter a number: ')\n",
    "try: \n",
    "    num2 = int(num1)\n",
    "    print(num2)\n",
    "except:\n",
    "    pass\n"
   ]
  },
  {
   "cell_type": "code",
   "execution_count": 115,
   "id": "d3412ae9",
   "metadata": {},
   "outputs": [
    {
     "name": "stdout",
     "output_type": "stream",
     "text": [
      "please enter a number: ni\n",
      "pleas enter a valid number\n"
     ]
    }
   ],
   "source": [
    "num1 = input('please enter a number: ')\n",
    "try: \n",
    "    num2 = int(num1)\n",
    "    print(num2)\n",
    "except Exception:\n",
    "    print('pleas enter a valid number')"
   ]
  },
  {
   "cell_type": "code",
   "execution_count": 117,
   "id": "c27d7566",
   "metadata": {},
   "outputs": [
    {
     "name": "stdout",
     "output_type": "stream",
     "text": [
      "please enter a number: b\n",
      "please enter a number\n"
     ]
    }
   ],
   "source": [
    "num1 = input('please enter a number: ')\n",
    "try: \n",
    "    num2 = int(num1)\n",
    "    print(num2)\n",
    "except ValueError:\n",
    "    print('please enter a number')\n",
    "    "
   ]
  },
  {
   "cell_type": "code",
   "execution_count": 124,
   "id": "6622d0e6",
   "metadata": {},
   "outputs": [
    {
     "name": "stdout",
     "output_type": "stream",
     "text": [
      "Please enter a number : +5\n",
      "please enter correct name\n"
     ]
    }
   ],
   "source": [
    "num1 = input(\"Please enter a number : \")\n",
    "try:\n",
    "    num2 = int(num1)\n",
    "    num3 = 10/num2\n",
    "    print(num4)\n",
    "except ValueError:\n",
    "    print('please enter a numeric value')\n",
    "except ZeroDivisionError: \n",
    "    print('please dont enter 0')\n",
    "    \n",
    "except NameError:\n",
    "    print('please enter correct name')\n",
    "except:\n",
    "    print('some error occured')"
   ]
  },
  {
   "cell_type": "code",
   "execution_count": 2,
   "id": "f2761907",
   "metadata": {},
   "outputs": [
    {
     "name": "stdout",
     "output_type": "stream",
     "text": [
      "200\n"
     ]
    }
   ],
   "source": [
    "class rectanngle():\n",
    "    pass\n",
    "obj = rectanngle()\n",
    "obj.length = 10\n",
    "obj.breadth = 20\n",
    "area = obj.length*obj.breadth\n",
    "print(area)"
   ]
  },
  {
   "cell_type": "code",
   "execution_count": 3,
   "id": "cdf9a147",
   "metadata": {},
   "outputs": [
    {
     "name": "stdout",
     "output_type": "stream",
     "text": [
      "10\n",
      "10\n"
     ]
    }
   ],
   "source": [
    "class nitin():\n",
    "    a = 10\n",
    "obj = nitin()\n",
    "obj1= nitin()\n",
    "\n",
    "print(obj.a)\n",
    "print(obj1.a)"
   ]
  },
  {
   "cell_type": "code",
   "execution_count": 9,
   "id": "d60c9fb3",
   "metadata": {},
   "outputs": [
    {
     "name": "stdout",
     "output_type": "stream",
     "text": [
      "I am nitin\n"
     ]
    }
   ],
   "source": [
    "class nitin():\n",
    "    def pra(x):\n",
    "        print('I am nitin')\n",
    "obj = nitin()\n",
    "obj.pra()"
   ]
  },
  {
   "cell_type": "code",
   "execution_count": 20,
   "id": "bdf214fd",
   "metadata": {},
   "outputs": [
    {
     "name": "stdout",
     "output_type": "stream",
     "text": [
      "The area is=  200\n"
     ]
    }
   ],
   "source": [
    "class nitin_rec():\n",
    "    def rectangle(x):\n",
    "        return x.length*x.breadth\n",
    "obj = nitin_rec()\n",
    "obj.length = 10\n",
    "obj.breadth = 20\n",
    "print('The area is= ', obj.rectangle())"
   ]
  },
  {
   "cell_type": "code",
   "execution_count": 22,
   "id": "c50d6f85",
   "metadata": {},
   "outputs": [
    {
     "name": "stdout",
     "output_type": "stream",
     "text": [
      "Perimeter is 40\n",
      "Perimeter of obj2 is:  80\n"
     ]
    }
   ],
   "source": [
    "class square():\n",
    "    def sq_perieter(x):\n",
    "        return x.side*4\n",
    "obj = square()\n",
    "obj.side = 10\n",
    "print('Perimeter is', obj.sq_perieter())\n",
    "\n",
    "obj2 = square()\n",
    "obj2.side = 20\n",
    "print('Perimeter of obj2 is: ', obj2.sq_perieter())"
   ]
  },
  {
   "cell_type": "code",
   "execution_count": 30,
   "id": "29aae07c",
   "metadata": {},
   "outputs": [
    {
     "name": "stdout",
     "output_type": "stream",
     "text": [
      "Sum is:  30\n"
     ]
    }
   ],
   "source": [
    "class add_nitin():\n",
    "    def add(self):\n",
    "        return self.length+self.breadth\n",
    "add = add_nitin()\n",
    "add.length = 10\n",
    "add.breadth = 20\n",
    "print('Sum is: ', add.add())"
   ]
  },
  {
   "cell_type": "code",
   "execution_count": 27,
   "id": "086e90a4",
   "metadata": {},
   "outputs": [
    {
     "name": "stdout",
     "output_type": "stream",
     "text": [
      "Sum is:  30\n"
     ]
    }
   ],
   "source": [
    "class nitin_data():\n",
    "    def addinside(x):\n",
    "        return x.a+x.b\n",
    "obj1 = nitin_data()\n",
    "obj1.a = 10\n",
    "obj1.b = 20\n",
    "print('Sum is: ', obj1.addinside())"
   ]
  },
  {
   "cell_type": "code",
   "execution_count": 37,
   "id": "cbdf4e3a",
   "metadata": {},
   "outputs": [
    {
     "name": "stdout",
     "output_type": "stream",
     "text": [
      "nitin\n",
      "30\n"
     ]
    }
   ],
   "source": [
    "class nitin():\n",
    "    def __init__(self, name,age):\n",
    "        self.a = name\n",
    "        self.b = age\n",
    "        print(self.a)\n",
    "        print(self.b)\n",
    "obj = nitin('nitin', 30)"
   ]
  },
  {
   "cell_type": "code",
   "execution_count": 42,
   "id": "04dd7c29",
   "metadata": {},
   "outputs": [
    {
     "name": "stdout",
     "output_type": "stream",
     "text": [
      "pragati\n",
      "indore\n"
     ]
    }
   ],
   "source": [
    "class pragati():\n",
    "    def __init__(self, name, place):\n",
    "        self.a = name\n",
    "        self.b = place\n",
    "        print(self.a)\n",
    "        print(self.b)\n",
    "obj = pragati('pragati', 'indore')"
   ]
  },
  {
   "cell_type": "code",
   "execution_count": 48,
   "id": "3e641dc7",
   "metadata": {},
   "outputs": [
    {
     "name": "stdout",
     "output_type": "stream",
     "text": [
      "200\n",
      "60\n"
     ]
    }
   ],
   "source": [
    "class operation():\n",
    "    def __init__(self, L, B):\n",
    "        self.L = length\n",
    "        self.B = breadth\n",
    "    def area(self):\n",
    "        return self.L*self.B\n",
    "    def perrimeter(self):\n",
    "        return 2*(self.L+self.B)\n",
    "    \n",
    "obj = operation(10,20)\n",
    "print(obj.area())\n",
    "print(obj.perrimeter())"
   ]
  },
  {
   "cell_type": "markdown",
   "id": "a0b61c17",
   "metadata": {},
   "source": [
    "# Class "
   ]
  },
  {
   "cell_type": "code",
   "execution_count": 6,
   "id": "0d06797b",
   "metadata": {},
   "outputs": [
    {
     "name": "stdout",
     "output_type": "stream",
     "text": [
      "240 60\n",
      "260 45\n"
     ]
    }
   ],
   "source": [
    "class Vehicle():\n",
    "    def __init__(self, max_speed, mileage):\n",
    "        self.max_speed = max_speed\n",
    "        self.mileage = mileage\n",
    "model = Vehicle(240, 60)\n",
    "print(model.max_speed, model.mileage)\n",
    "car_model = Vehicle(260, 45)\n",
    "print(car_model.max_speed, car_model.mileage)"
   ]
  },
  {
   "cell_type": "code",
   "execution_count": 54,
   "id": "c366b07d",
   "metadata": {},
   "outputs": [
    {
     "name": "stdout",
     "output_type": "stream",
     "text": [
      "the bus name is Volvo the max speed is 250 and the mileage is 30\n"
     ]
    }
   ],
   "source": [
    "class Vehicle():\n",
    "    def __init__(self, name, max_speed, mileage):\n",
    "        self.name = name\n",
    "        self.max_speed = max_speed\n",
    "        self.mileage = mileage\n",
    "\n",
    "class Bus(Vehicle):\n",
    "    pass\n",
    "    \n",
    "output = Bus(\"Volvo\", 250, 30)\n",
    "print('the bus name is', output.name, 'the max speed is', output.max_speed, 'and the mileage is', output.mileage)\n",
    "    "
   ]
  },
  {
   "cell_type": "code",
   "execution_count": 96,
   "id": "0dd7a614",
   "metadata": {},
   "outputs": [
    {
     "name": "stdout",
     "output_type": "stream",
     "text": [
      "('The seating capacity of', 'Volvo Bus', 'is', 50, 'passengers.')\n"
     ]
    }
   ],
   "source": [
    "class Vehicle1():\n",
    "    def __init__(self, name, maxspeed, mileage):\n",
    "        self.name = name\n",
    "        self.maxspeed = maxspeed\n",
    "        self.mileage = mileage\n",
    "    \n",
    "    def seating_capacity(self, capacity):\n",
    "        return 'The seating capacity of', self.name, 'is', capacity, \"passengers.\"\n",
    "\n",
    "class Bus(Vehicle1):\n",
    "    def seating_capacity(self, capacity=50):\n",
    "        return super() .seating_capacity(capacity=50)\n",
    "\n",
    "output = Bus('Volvo Bus', 250, 20)\n",
    "print(output.seating_capacity())"
   ]
  },
  {
   "cell_type": "code",
   "execution_count": 66,
   "id": "a8569dbe",
   "metadata": {},
   "outputs": [
    {
     "name": "stdout",
     "output_type": "stream",
     "text": [
      "The seating capacity of a School Volvo is 50 passengers\n"
     ]
    }
   ],
   "source": [
    "class Vehicle:\n",
    "    def __init__(self, name, max_speed, mileage):\n",
    "        self.name = name\n",
    "        self.max_speed = max_speed\n",
    "        self.mileage = mileage\n",
    "\n",
    "    def seating_capacity(self, capacity):\n",
    "        return f\"The seating capacity of a {self.name} is {capacity} passengers\"\n",
    "\n",
    "class Bus(Vehicle):\n",
    "    # assign default value to capacity\n",
    "    def seating_capacity(self, capacity=50):\n",
    "        return super().seating_capacity(capacity=50)\n",
    "\n",
    "School_bus = Bus(\"School Volvo\", 180, 12)\n",
    "print(School_bus.seating_capacity())"
   ]
  },
  {
   "cell_type": "code",
   "execution_count": 3,
   "id": "b9415721",
   "metadata": {},
   "outputs": [
    {
     "name": "stdout",
     "output_type": "stream",
     "text": [
      "Nitin\n",
      "31\n"
     ]
    }
   ],
   "source": [
    "class Person():\n",
    "    def __init__(self, name, age):\n",
    "        self.name = name\n",
    "        self.age = age\n",
    "p1 = Person('Nitin', 31)\n",
    "print(p1.name)\n",
    "print(p1.age)"
   ]
  },
  {
   "cell_type": "code",
   "execution_count": null,
   "id": "6e1144b4",
   "metadata": {},
   "outputs": [],
   "source": []
  },
  {
   "cell_type": "code",
   "execution_count": null,
   "id": "05ec0855",
   "metadata": {},
   "outputs": [],
   "source": []
  },
  {
   "cell_type": "code",
   "execution_count": null,
   "id": "b44eeb60",
   "metadata": {},
   "outputs": [],
   "source": []
  },
  {
   "cell_type": "code",
   "execution_count": null,
   "id": "a9b39dba",
   "metadata": {},
   "outputs": [],
   "source": []
  }
 ],
 "metadata": {
  "kernelspec": {
   "display_name": "Python 3 (ipykernel)",
   "language": "python",
   "name": "python3"
  },
  "language_info": {
   "codemirror_mode": {
    "name": "ipython",
    "version": 3
   },
   "file_extension": ".py",
   "mimetype": "text/x-python",
   "name": "python",
   "nbconvert_exporter": "python",
   "pygments_lexer": "ipython3",
   "version": "3.10.9"
  }
 },
 "nbformat": 4,
 "nbformat_minor": 5
}
