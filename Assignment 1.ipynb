{
 "cells": [
  {
   "cell_type": "markdown",
   "metadata": {},
   "source": [
    "## Question 1"
   ]
  },
  {
   "cell_type": "raw",
   "metadata": {},
   "source": [
    "Take two integer numbers and return their product. If the product is greater than 1000, then return their sum if product is less than 1000 return product value only.\n",
    "\n",
    "\n"
   ]
  },
  {
   "cell_type": "code",
   "execution_count": 36,
   "metadata": {},
   "outputs": [
    {
     "name": "stdout",
     "output_type": "stream",
     "text": [
      "Please enter a number1 20\n",
      "Please enter a number2 20\n",
      "0\n"
     ]
    }
   ],
   "source": [
    "number1 = int(input('Please enter a number1 '))\n",
    "number2 = int(input('Please enter a number2 '))\n",
    "\n",
    "prod = number1*number2\n",
    "\n",
    "b = 0\n",
    "if prod>1000:\n",
    "    #(here I am calculating the sum)\n",
    "    while prod>0:\n",
    "        b = b + (prod%10) \n",
    "        prod = prod//10\n",
    "    print(b)\n",
    "elif prod<1000:\n",
    "    while prod>0:\n",
    "        b = b*(prod%10)\n",
    "        prod = prod//10\n",
    "    print(b)"
   ]
  },
  {
   "cell_type": "code",
   "execution_count": 47,
   "metadata": {},
   "outputs": [
    {
     "name": "stdout",
     "output_type": "stream",
     "text": [
      "Please enter a number1 5\n",
      "Please enter a number2 6\n",
      "30\n"
     ]
    }
   ],
   "source": [
    "#Since I am little confused between product value I am writing two answers here. please let me know which one is the one you are seeking.\n",
    "\n",
    "\n",
    "number1 = int(input('Please enter a number1 '))\n",
    "number2 = int(input('Please enter a number2 '))\n",
    "\n",
    "prod = number1*number2\n",
    "\n",
    "b = 0\n",
    "if prod>1000:\n",
    "    #(here I am calculating the sum)\n",
    "    while prod>0:\n",
    "        b = b + (prod%10) \n",
    "        prod = prod//10\n",
    "    print(b)\n",
    "elif prod<1000:\n",
    "    print(prod)"
   ]
  },
  {
   "cell_type": "markdown",
   "metadata": {},
   "source": [
    "## question 2 "
   ]
  },
  {
   "cell_type": "raw",
   "metadata": {},
   "source": [
    "Given a range of the first 10 numbers, Iterate from the start number to the end number, and In each iteration print the sum of the current number and previous number\n",
    "\n",
    "Expected output:\n",
    "-----------------\n",
    "Printing current and previous number sum in a range(10)\n",
    "Current Number 0 Previous Number  0  Sum:  0\n",
    "Current Number 1 Previous Number  0  Sum:  1\n",
    "Current Number 2 Previous Number  1  Sum:  3\n",
    "Current Number 3 Previous Number  2  Sum:  5\n",
    "Current Number 4 Previous Number  3  Sum:  7\n",
    "Current Number 5 Previous Number  4  Sum:  9\n",
    "Current Number 6 Previous Number  5  Sum:  11\n",
    "Current Number 7 Previous Number  6  Sum:  13\n",
    "Current Number 8 Previous Number  7  Sum:  15\n",
    "Current Number 9 Previous Number  8  Sum:  17"
   ]
  },
  {
   "cell_type": "code",
   "execution_count": 182,
   "metadata": {},
   "outputs": [
    {
     "name": "stdout",
     "output_type": "stream",
     "text": [
      "Current Number  0 Previous Number  0 Sum:  0\n",
      "Current Number  1 Previous Number  0 Sum:  1\n",
      "Current Number  2 Previous Number  1 Sum:  3\n",
      "Current Number  3 Previous Number  2 Sum:  5\n",
      "Current Number  4 Previous Number  3 Sum:  7\n",
      "Current Number  5 Previous Number  4 Sum:  9\n",
      "Current Number  6 Previous Number  5 Sum:  11\n",
      "Current Number  7 Previous Number  6 Sum:  13\n",
      "Current Number  8 Previous Number  7 Sum:  15\n",
      "Current Number  9 Previous Number  8 Sum:  17\n"
     ]
    }
   ],
   "source": [
    "previous_number = 0\n",
    "for i in range (0,10):\n",
    "    j = previous_number+i\n",
    "    print('Current Number ', i, 'Previous Number ', previous_number, 'Sum: ', j )\n",
    "    previous_number=i "
   ]
  },
  {
   "cell_type": "code",
   "execution_count": null,
   "metadata": {},
   "outputs": [],
   "source": []
  },
  {
   "cell_type": "markdown",
   "metadata": {},
   "source": [
    "## question 3 "
   ]
  },
  {
   "cell_type": "raw",
   "metadata": {},
   "source": [
    "Given a string and an integer number n, remove characters from a string starting from zero up to n and return a new string\n",
    "\n",
    "Example :\n",
    "(\"pynative\", 4) so output must be tive.\n",
    "\n",
    "Note: n must be less than the length of the string."
   ]
  },
  {
   "cell_type": "code",
   "execution_count": 230,
   "metadata": {},
   "outputs": [
    {
     "name": "stdout",
     "output_type": "stream",
     "text": [
      "Please enter a number 4\n",
      "Please enter a name ni\n",
      "name must have more characters then the number you entered above\n",
      "\n"
     ]
    }
   ],
   "source": [
    "a = int(input('Please enter a number '))\n",
    "b = str(input('Please enter a name '))\n",
    "if len(b)<a:\n",
    "    print('name must have more characters then the number you entered above')\n",
    "c = b[a::]\n",
    "print(c)"
   ]
  },
  {
   "cell_type": "code",
   "execution_count": 228,
   "metadata": {},
   "outputs": [
    {
     "name": "stdout",
     "output_type": "stream",
     "text": [
      "Please enter a number 5\n",
      "Please enter a name nitin yadav\n",
      " yadav\n"
     ]
    }
   ],
   "source": [
    "a = int(input('Please enter a number '))\n",
    "b = str(input('Please enter a name '))\n",
    "if len(b)<a:\n",
    "    print('name must have more characters then the number you entered above')\n",
    "c = b[a::]\n",
    "print(c)"
   ]
  },
  {
   "cell_type": "markdown",
   "metadata": {},
   "source": [
    "## question 4"
   ]
  },
  {
   "cell_type": "raw",
   "metadata": {},
   "source": [
    "Given a list of numbers, return True if first and last number of a list is same\n",
    "\n",
    "Expected Output:\n",
    "-------------------------------------\n",
    "\n",
    "Given list is \n",
    "a =  [10, 20, 30, 40, 10]\n",
    "b = [10 , 20 , 30 , 40, 10 ]\n",
    "result is True\n",
    "\n",
    "Given list is  \n",
    "a = [10, 20, 30, 40, 50]\n",
    "b = [11 , 21 , 31 , 41 , 51 ] \n",
    "result is False"
   ]
  },
  {
   "cell_type": "code",
   "execution_count": 219,
   "metadata": {},
   "outputs": [
    {
     "name": "stdout",
     "output_type": "stream",
     "text": [
      "Given list is a =  [10, 20, 30, 40, 10] b =  [10, 20, 30, 40, 10] result is True\n"
     ]
    }
   ],
   "source": [
    "a =  [10, 20, 30, 40, 10]\n",
    "b = [10 , 20 , 30 , 40, 10 ]\n",
    "\n",
    "if a == b:\n",
    "    print('Given list is' ,'a = ', a, 'b = ', b, 'result is True')\n",
    "else:\n",
    "    print('Given list is' ,'a = ', a, 'b = ', b, 'result is False')"
   ]
  },
  {
   "cell_type": "code",
   "execution_count": 225,
   "metadata": {},
   "outputs": [
    {
     "name": "stdout",
     "output_type": "stream",
     "text": [
      "Given list is a =  [10, 20, 30, 40, 50] b =  [11, 21, 31, 41, 51] result is False\n"
     ]
    }
   ],
   "source": [
    "a = [10, 20, 30, 40, 50]\n",
    "b = [11 , 21 , 31 , 41 , 51 ] \n",
    "\n",
    "if a == b:\n",
    "    print('Given list is' ,'a = ', a, 'b = ', b, 'result is True')\n",
    "else:\n",
    "    print('Given list is' ,'a = ', a, 'b = ', b, 'result is False')"
   ]
  },
  {
   "cell_type": "code",
   "execution_count": 5,
   "metadata": {},
   "outputs": [
    {
     "name": "stdout",
     "output_type": "stream",
     "text": [
      "False\n"
     ]
    }
   ],
   "source": [
    "a = [10, 20, 30, 40, 50]\n",
    "b = [11 , 21 , 31 , 41 , 51 ] \n",
    "\n",
    "if a[0] == a[-1]:\n",
    "    print(True)\n",
    "else:\n",
    "    print(False)"
   ]
  },
  {
   "cell_type": "code",
   "execution_count": null,
   "metadata": {},
   "outputs": [],
   "source": []
  },
  {
   "cell_type": "markdown",
   "metadata": {},
   "source": [
    "## question 5"
   ]
  },
  {
   "cell_type": "raw",
   "metadata": {},
   "source": [
    "# Given a two Python list. Iterate both lists simultaneously such that list1 should display item in original order and list2 in reverse order\n",
    "\n",
    "list1 = [10, 20, 30, 40]\n",
    "list2 = [100, 200, 300, 400]\n",
    "\n",
    "\n",
    "Expected output:\n",
    "-----------------------------\n",
    "10 400\n",
    "20 300\n",
    "30 200\n",
    "40 100"
   ]
  },
  {
   "cell_type": "code",
   "execution_count": 128,
   "metadata": {},
   "outputs": [
    {
     "name": "stdout",
     "output_type": "stream",
     "text": [
      "10 400\n",
      "20 300\n",
      "30 200\n",
      "40 100\n"
     ]
    }
   ],
   "source": [
    "list1 = [10, 20, 30, 40]\n",
    "list2 = [100, 200, 300, 400]\n",
    "list3 = list2[::-1]\n",
    "for (i,j) in zip(list1, list3):    #here I have used zip function to iterate two lists simultaneously.\n",
    "    print(i,j)"
   ]
  },
  {
   "cell_type": "markdown",
   "metadata": {},
   "source": [
    "## question 6 "
   ]
  },
  {
   "cell_type": "raw",
   "metadata": {},
   "source": [
    "Remove empty strings from the list of strings\n",
    "\n",
    "\n",
    "list1 = [\"Mike\", \"\", \"Emma\", \"Kelly\", \"\", \"Brad\"]\n",
    "\n",
    "Expected output:\n",
    "----------------------\n",
    "\n",
    "[\"Mike\", \"Emma\", \"Kelly\", \"Brad\"]\n"
   ]
  },
  {
   "cell_type": "code",
   "execution_count": 100,
   "metadata": {},
   "outputs": [
    {
     "name": "stdout",
     "output_type": "stream",
     "text": [
      "['Mike', 'Emma', 'Kelly', 'Brad']\n"
     ]
    }
   ],
   "source": [
    "list1 = [\"Mike\", \"\", \"Emma\", \"Kelly\", \"\", \"Brad\"]\n",
    "list1.pop(1)\n",
    "list1.pop(3)\n",
    "print(list1)"
   ]
  },
  {
   "cell_type": "code",
   "execution_count": 104,
   "metadata": {},
   "outputs": [
    {
     "name": "stdout",
     "output_type": "stream",
     "text": [
      "['Mike', 'Emma', 'Kelly', 'Brad']\n"
     ]
    }
   ],
   "source": [
    "list1 = [\"Mike\", \"\", \"Emma\", \"Kelly\", \"\", \"Brad\"]\n",
    "list1_remove = [\"\"]\n",
    "for i in list1_remove:\n",
    "    while i in list1:\n",
    "        list1.remove(i)\n",
    "print(list1)"
   ]
  },
  {
   "cell_type": "code",
   "execution_count": 220,
   "metadata": {},
   "outputs": [
    {
     "name": "stdout",
     "output_type": "stream",
     "text": [
      "['Mike', 'Emma', 'Kelly', 'Brad']\n"
     ]
    }
   ],
   "source": [
    "list1 = [\"Mike\", \"\", \"Emma\", \"Kelly\", \"\", \"Brad\"]\n",
    "list1.remove(\"\")\n",
    "list1.remove(\"\")\n",
    "print(list1)"
   ]
  },
  {
   "cell_type": "markdown",
   "metadata": {},
   "source": [
    "### Question 7"
   ]
  },
  {
   "cell_type": "raw",
   "metadata": {},
   "source": [
    "Find the palindrome of a number \n",
    "\n",
    "input = 121\n",
    "output = 121\n",
    "\n",
    "it is a palindrome number\n",
    "\n",
    "\n",
    "input = 123\n",
    "output = 321 \n",
    "\n",
    "it is not a palindrome number \n",
    "\n",
    "\n"
   ]
  },
  {
   "cell_type": "code",
   "execution_count": 7,
   "metadata": {},
   "outputs": [
    {
     "name": "stdout",
     "output_type": "stream",
     "text": [
      "please enter a number: 123\n",
      "321 number is not palindrome\n"
     ]
    }
   ],
   "source": [
    "a = int(input('please enter a number: '))\n",
    "b = a\n",
    "c = 0\n",
    "while a>0:\n",
    "    d = (a%10)\n",
    "    c = c*10 + d\n",
    "    a = a//10\n",
    "if b == c:\n",
    "        print(c, 'number is palindrome')\n",
    "else:\n",
    "        print(c, 'number is not palindrome')\n",
    "\n",
    "#I am getting this error in all my palindrome code. I emailed you earlier as well. but still didnt understand it.\n",
    "#I relly dont know what wrong I am doing here."
   ]
  },
  {
   "cell_type": "code",
   "execution_count": 10,
   "metadata": {},
   "outputs": [
    {
     "name": "stdout",
     "output_type": "stream",
     "text": [
      "121 number is palindrome\n"
     ]
    }
   ],
   "source": [
    "a = 121\n",
    "b = a\n",
    "c = 0\n",
    "while a>0:\n",
    "    d = (a%10)\n",
    "    c = c*10 + d\n",
    "    a = a//10\n",
    "if b == c:\n",
    "        print(c, 'number is palindrome')\n",
    "else:\n",
    "        print(c, 'number is not palindrome')\n"
   ]
  },
  {
   "cell_type": "code",
   "execution_count": null,
   "metadata": {},
   "outputs": [],
   "source": []
  },
  {
   "cell_type": "code",
   "execution_count": null,
   "metadata": {},
   "outputs": [],
   "source": []
  }
 ],
 "metadata": {
  "kernelspec": {
   "display_name": "Python 3 (ipykernel)",
   "language": "python",
   "name": "python3"
  },
  "language_info": {
   "codemirror_mode": {
    "name": "ipython",
    "version": 3
   },
   "file_extension": ".py",
   "mimetype": "text/x-python",
   "name": "python",
   "nbconvert_exporter": "python",
   "pygments_lexer": "ipython3",
   "version": "3.10.9"
  }
 },
 "nbformat": 4,
 "nbformat_minor": 4
}
