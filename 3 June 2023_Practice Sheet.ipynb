{
 "cells": [
  {
   "cell_type": "code",
   "execution_count": 1,
   "id": "b1124a48",
   "metadata": {},
   "outputs": [
    {
     "data": {
      "text/plain": [
       "[8, 16, 24, 32, 40, 48, 56, 64, 72, 80, 88, 96]"
      ]
     },
     "execution_count": 1,
     "metadata": {},
     "output_type": "execute_result"
    }
   ],
   "source": [
    "#Find all of the numbers from 1–1000 that are divisible by 8\n",
    "[i for i in range (1, 100) if i%8 ==0]"
   ]
  },
  {
   "cell_type": "code",
   "execution_count": 10,
   "id": "f5b08d0d",
   "metadata": {},
   "outputs": [
    {
     "data": {
      "text/plain": [
       "[6, 16, 26, 36, 46, 56, 60, 61, 62, 63, 64, 65, 66, 67, 68, 69, 76, 86, 96]"
      ]
     },
     "execution_count": 10,
     "metadata": {},
     "output_type": "execute_result"
    }
   ],
   "source": [
    "[i for i in range(1,100) if '6' in str(i)]"
   ]
  },
  {
   "cell_type": "code",
   "execution_count": 14,
   "id": "d8f26445",
   "metadata": {},
   "outputs": [
    {
     "data": {
      "text/plain": [
       "8"
      ]
     },
     "execution_count": 14,
     "metadata": {},
     "output_type": "execute_result"
    }
   ],
   "source": [
    "string = \"Practice Problems to Drill List Comprehension in Your Head.\"\n",
    "len([i for i in string if i==' '])"
   ]
  },
  {
   "cell_type": "code",
   "execution_count": 18,
   "id": "f42f6bc5",
   "metadata": {},
   "outputs": [
    {
     "data": {
      "text/plain": [
       "'Prctc Prblms t Drll Lst Cmprhnsn n Yr Hd.'"
      ]
     },
     "execution_count": 18,
     "metadata": {},
     "output_type": "execute_result"
    }
   ],
   "source": [
    "string = \"Practice Problems to Drill List Comprehension in Your Head.\"\n",
    "\"\".join([i for i in string if i not in 'aeiouAEIOU'])"
   ]
  },
  {
   "cell_type": "code",
   "execution_count": 21,
   "id": "8d95daa7",
   "metadata": {},
   "outputs": [
    {
     "data": {
      "text/plain": [
       "['to', 'List', 'in', 'Your']"
      ]
     },
     "execution_count": 21,
     "metadata": {},
     "output_type": "execute_result"
    }
   ],
   "source": [
    "string = \"Practice Problems to Drill List Comprehension in Your Head.\"\n",
    "wor = string.split()\n",
    "[i for i in wor if len(i)<5]"
   ]
  },
  {
   "cell_type": "code",
   "execution_count": 22,
   "id": "2c9ab19c",
   "metadata": {},
   "outputs": [
    {
     "data": {
      "text/plain": [
       "[8, 8, 2, 5, 4, 13, 2, 4, 5]"
      ]
     },
     "execution_count": 22,
     "metadata": {},
     "output_type": "execute_result"
    }
   ],
   "source": [
    "string = \"Practice Problems to Drill List Comprehension in Your Head.\"\n",
    "wor = string.split()\n",
    "[len(i) for i in wor ]"
   ]
  },
  {
   "cell_type": "code",
   "execution_count": 24,
   "id": "d2ccedcd",
   "metadata": {},
   "outputs": [
    {
     "ename": "SyntaxError",
     "evalue": "invalid syntax (3522532570.py, line 1)",
     "output_type": "error",
     "traceback": [
      "\u001b[1;36m  Cell \u001b[1;32mIn[24], line 1\u001b[1;36m\u001b[0m\n\u001b[1;33m    [i for i in range (1,100) [for j in range(2,10) if i%j==0]]\u001b[0m\n\u001b[1;37m                               ^\u001b[0m\n\u001b[1;31mSyntaxError\u001b[0m\u001b[1;31m:\u001b[0m invalid syntax\n"
     ]
    }
   ],
   "source": [
    "[i for i in range (1,100) [for j in range(2,10) if i%j==0]]"
   ]
  },
  {
   "cell_type": "code",
   "execution_count": 30,
   "id": "c6fafa91",
   "metadata": {},
   "outputs": [
    {
     "name": "stdout",
     "output_type": "stream",
     "text": [
      "2 3 4 4 5 6 6 6 7 8 8 8 9 9 10 10 12 12 12 12 14 14 15 15 16 16 16 18 18 18 18 20 20 20 21 21 22 24 24 24 24 24 25 26 27 27 28 28 28 30 30 30 30 32 32 32 33 34 35 35 36 36 36 36 36 38 39 40 40 40 40 42 42 42 42 44 44 45 45 45 46 48 48 48 48 48 49 "
     ]
    }
   ],
   "source": [
    "for i in range (1,50):\n",
    "    for j in range (2,10):\n",
    "        if i%j==0:\n",
    "            print(i, end=' ')"
   ]
  },
  {
   "cell_type": "code",
   "execution_count": 43,
   "id": "a1a58db0",
   "metadata": {},
   "outputs": [
    {
     "name": "stdout",
     "output_type": "stream",
     "text": [
      "[32, 22, 10]\n"
     ]
    }
   ],
   "source": [
    "numbers = [3,5,45,97,32,22,10,19,39,43]\n",
    "resuslt = []\n",
    "for i in numbers:\n",
    "    if i%2 ==0:\n",
    "        resuslt.append(i)\n",
    "print(resuslt)"
   ]
  },
  {
   "cell_type": "code",
   "execution_count": 46,
   "id": "ea605884",
   "metadata": {},
   "outputs": [
    {
     "data": {
      "text/plain": [
       "[32, 22, 10]"
      ]
     },
     "execution_count": 46,
     "metadata": {},
     "output_type": "execute_result"
    }
   ],
   "source": [
    "numbers = [3,5,45,97,32,22,10,19,39,43]\n",
    "[i for i in numbers if i%2==0]"
   ]
  },
  {
   "cell_type": "code",
   "execution_count": 52,
   "id": "78c2a85c",
   "metadata": {},
   "outputs": [
    {
     "name": "stdout",
     "output_type": "stream",
     "text": [
      "1200 1330 1460 1590 1720 1850 1980 "
     ]
    }
   ],
   "source": [
    "#Create a list from the elements of a range from 1200 to 2000 with steps of 130, using list comprehension.\n",
    "for i in range (1200, 2001, 130):\n",
    "    print(i, end=' ')"
   ]
  },
  {
   "cell_type": "code",
   "execution_count": 53,
   "id": "d8a43d48",
   "metadata": {},
   "outputs": [
    {
     "data": {
      "text/plain": [
       "[1200, 1330, 1460, 1590, 1720, 1850, 1980]"
      ]
     },
     "execution_count": 53,
     "metadata": {},
     "output_type": "execute_result"
    }
   ],
   "source": [
    "[i for i in range (1200, 2001, 130)]"
   ]
  },
  {
   "cell_type": "code",
   "execution_count": 55,
   "id": "adbe5595",
   "metadata": {},
   "outputs": [
    {
     "name": "stdout",
     "output_type": "stream",
     "text": [
      "[50, 60, 70, 80, 110]\n"
     ]
    }
   ],
   "source": [
    "lst1=[44,54,64,74,104]\n",
    "lis2 = []\n",
    "for i in lst1:\n",
    "    lis2.append(i+6)\n",
    "print(lis2)"
   ]
  },
  {
   "cell_type": "code",
   "execution_count": 56,
   "id": "21d9ccde",
   "metadata": {},
   "outputs": [
    {
     "data": {
      "text/plain": [
       "[50, 60, 70, 80, 110]"
      ]
     },
     "execution_count": 56,
     "metadata": {},
     "output_type": "execute_result"
    }
   ],
   "source": [
    "lst1=[44,54,64,74,104]\n",
    "[i+6 for i in lst1]"
   ]
  },
  {
   "cell_type": "code",
   "execution_count": 59,
   "id": "fa734dd8",
   "metadata": {},
   "outputs": [
    {
     "name": "stdout",
     "output_type": "stream",
     "text": [
      "[4, 256, 46656, 16777216, 10000000000, 8916100448256, 11112006825558016]\n"
     ]
    }
   ],
   "source": [
    "lst1=[2, 4, 6, 8, 10, 12, 14]\n",
    "square = []\n",
    "for i in (lst1):\n",
    "    square.append(i**i)\n",
    "print(square)"
   ]
  },
  {
   "cell_type": "code",
   "execution_count": 60,
   "id": "e2b5e02b",
   "metadata": {},
   "outputs": [
    {
     "data": {
      "text/plain": [
       "[4, 256, 46656, 16777216, 10000000000, 8916100448256, 11112006825558016]"
      ]
     },
     "execution_count": 60,
     "metadata": {},
     "output_type": "execute_result"
    }
   ],
   "source": [
    "lst1=[2, 4, 6, 8, 10, 12, 14]\n",
    "[i**i for i in lst1]"
   ]
  },
  {
   "cell_type": "code",
   "execution_count": 61,
   "id": "c413b2cb",
   "metadata": {},
   "outputs": [
    {
     "data": {
      "text/plain": [
       "[256, 46656, 16777216, 10000000000, 8916100448256, 11112006825558016]"
      ]
     },
     "execution_count": 61,
     "metadata": {},
     "output_type": "execute_result"
    }
   ],
   "source": [
    "lst1=[2, 4, 6, 8, 10, 12, 14]\n",
    "[i**i for i in lst1 if (i**i)>50]"
   ]
  },
  {
   "cell_type": "code",
   "execution_count": 66,
   "id": "429404b7",
   "metadata": {},
   "outputs": [
    {
     "data": {
      "text/plain": [
       "['Sedan', 'SUV', 'Pickup', 'Minivan', 'Van', 'Bicycle', 'Motorcycle']"
      ]
     },
     "execution_count": 66,
     "metadata": {},
     "output_type": "execute_result"
    }
   ],
   "source": [
    "# Given dictionary is consisted of vehicles and their weights in kilograms. Contruct a list of the names of vehicles with \n",
    "# weight below 5000 kilograms. In the same list comprehension make the key names all upper case.\n",
    "\n",
    "dict={\"Sedan\": 1500, \"SUV\": 2000, \"Pickup\": 2500, \"Minivan\": 1600, \"Van\": 2400, \"Semi\": 13600, \"Bicycle\": 7, \"Motorcycle\": 110}\n",
    "[i for i in dict if dict[i]<5000]"
   ]
  },
  {
   "cell_type": "code",
   "execution_count": 75,
   "id": "a8ad49c9",
   "metadata": {},
   "outputs": [
    {
     "name": "stdout",
     "output_type": "stream",
     "text": [
      "[10, 20, 30, 40, 50, 60, 70, 80, 90, 100]\n",
      "[1, 3, 5, 7, 9]\n",
      "['two', 'four', 'six', 'eight', 'ten']\n"
     ]
    }
   ],
   "source": [
    "list1 = [1, 2, 3, 4, 5, 6, 7, 8, 9, 10]\n",
    "dict1 = {1 : 'one'(, 2 : 'two', 3 : 'three', 4 : 'four', 5 : 'five', 6 : 'six', 7 : 'seven', 8 : 'eight', 9 : 'nine', 10 : 'ten'}\n",
    "print([i*10 for i in list1])\n",
    "print([i for i in list1 if i%2!=0])\n",
    "print([dict1[i] for i in list1 if i%2 ==0])"
   ]
  },
  {
   "cell_type": "code",
   "execution_count": 77,
   "id": "0d70da03",
   "metadata": {},
   "outputs": [
    {
     "data": {
      "text/plain": [
       "0"
      ]
     },
     "execution_count": 77,
     "metadata": {},
     "output_type": "execute_result"
    }
   ],
   "source": [
    "def odd_or_zero(a):\n",
    "    if a%2!=0:\n",
    "        return a\n",
    "    else:\n",
    "        return 0\n"
   ]
  },
  {
   "cell_type": "code",
   "execution_count": 79,
   "id": "7ebe67f4",
   "metadata": {},
   "outputs": [
    {
     "data": {
      "text/plain": [
       "[1, 0, 3, 0, 5, 0, 7, 0, 9, 0]"
      ]
     },
     "execution_count": 79,
     "metadata": {},
     "output_type": "execute_result"
    }
   ],
   "source": [
    "[odd_or_zero(i) for i in list1]"
   ]
  },
  {
   "cell_type": "code",
   "execution_count": 89,
   "id": "704443b3",
   "metadata": {},
   "outputs": [
    {
     "name": "stdout",
     "output_type": "stream",
     "text": [
      "Please enter a number: 56\n"
     ]
    },
    {
     "data": {
      "text/plain": [
       "['five', 'six']"
      ]
     },
     "execution_count": 89,
     "metadata": {},
     "output_type": "execute_result"
    }
   ],
   "source": [
    "a = (input('Please enter a number: '))\n",
    "[dict1[int(i)] for i in a]"
   ]
  },
  {
   "cell_type": "code",
   "execution_count": 91,
   "id": "5e1b4cd1",
   "metadata": {},
   "outputs": [
    {
     "name": "stdout",
     "output_type": "stream",
     "text": [
      "Please enter a number: 56\n"
     ]
    },
    {
     "data": {
      "text/plain": [
       "'five-six'"
      ]
     },
     "execution_count": 91,
     "metadata": {},
     "output_type": "execute_result"
    }
   ],
   "source": [
    "a = (input('Please enter a number: '))\n",
    "output = [dict1[int(i)] for i in a]\n",
    "'-'.join(output)"
   ]
  },
  {
   "cell_type": "code",
   "execution_count": 93,
   "id": "e1206381",
   "metadata": {},
   "outputs": [
    {
     "data": {
      "text/plain": [
       "[3125, 3125, 4, 10000000000, 1, 46656]"
      ]
     },
     "execution_count": 93,
     "metadata": {},
     "output_type": "execute_result"
    }
   ],
   "source": [
    "list_a = [5,5,2,10,1,6]\n",
    "[i**i for i in list_a]"
   ]
  },
  {
   "cell_type": "code",
   "execution_count": 99,
   "id": "c7d447a1",
   "metadata": {},
   "outputs": [
    {
     "data": {
      "text/plain": [
       "['Captain America', 'The Incredible Hulk', 'Bla avengers ck Widow']"
      ]
     },
     "execution_count": 99,
     "metadata": {},
     "output_type": "execute_result"
    }
   ],
   "source": [
    "avengers = [\"Iron Man\", \"Captain America\", \"Thor\", \"The Incredible Hulk\", \"Bla avengers ck Widow\", \"Hawkeye\"]        \n",
    "[words for words in avengers if len(words)>8]"
   ]
  },
  {
   "cell_type": "code",
   "execution_count": 113,
   "id": "8d40994a",
   "metadata": {},
   "outputs": [
    {
     "data": {
      "text/plain": [
       "[110, 120, 130, 140]"
      ]
     },
     "execution_count": 113,
     "metadata": {},
     "output_type": "execute_result"
    }
   ],
   "source": [
    "numbers = list (range (50,150,5))\n",
    "[i for i in numbers if i%2==0 and i>100]"
   ]
  },
  {
   "cell_type": "code",
   "execution_count": 120,
   "id": "2cdd80c1",
   "metadata": {},
   "outputs": [
    {
     "data": {
      "text/plain": [
       "['%Fall%', '%is%', '%Awesome%', '%in%', '%Alabama%']"
      ]
     },
     "execution_count": 120,
     "metadata": {},
     "output_type": "execute_result"
    }
   ],
   "source": [
    "string = \"Fall is Awesome in Alabama\" \n",
    "#output = ['%Fall%','%is%','%Awesome%','%in%','%Alabama%']\n",
    "['%'+i+'%' for i in string.split()]"
   ]
  },
  {
   "cell_type": "code",
   "execution_count": 121,
   "id": "aa241eb3",
   "metadata": {},
   "outputs": [
    {
     "data": {
      "text/plain": [
       "[1, 8, 27, 64, 125]"
      ]
     },
     "execution_count": 121,
     "metadata": {},
     "output_type": "execute_result"
    }
   ],
   "source": [
    "[i**3 for i in range (1,6)]"
   ]
  },
  {
   "cell_type": "code",
   "execution_count": 122,
   "id": "6c14e71f",
   "metadata": {},
   "outputs": [
    {
     "data": {
      "text/plain": [
       "['t', 'i', 'a', 'e']"
      ]
     },
     "execution_count": 122,
     "metadata": {},
     "output_type": "execute_result"
    }
   ],
   "source": [
    "wordList = [\"this\", \"is\", \"an\", \"example\"]\n",
    "[i[0] for i in wordList]"
   ]
  },
  {
   "cell_type": "code",
   "execution_count": 124,
   "id": "67600086",
   "metadata": {},
   "outputs": [
    {
     "data": {
      "text/plain": [
       "{'NY': 'NY', 'FL': 'FL', 'CA': 'CA', 'VT': 'VT'}"
      ]
     },
     "execution_count": 124,
     "metadata": {},
     "output_type": "execute_result"
    }
   ],
   "source": [
    "lst=[\"NY\", \"FL\", \"CA\", \"VT\"]\n",
    "{i:i for i in lst}"
   ]
  },
  {
   "cell_type": "code",
   "execution_count": 131,
   "id": "190b6a6c",
   "metadata": {},
   "outputs": [
    {
     "data": {
      "text/plain": [
       "{100: 0, 110: 10, 120: 20, 130: 30, 140: 40, 150: 50}"
      ]
     },
     "execution_count": 131,
     "metadata": {},
     "output_type": "execute_result"
    }
   ],
   "source": [
    "list1 = [i for i in range (100,160, 10)]\n",
    "{i:i%100 for i in list1}"
   ]
  },
  {
   "cell_type": "code",
   "execution_count": 143,
   "id": "db9cff99",
   "metadata": {},
   "outputs": [
    {
     "name": "stdout",
     "output_type": "stream",
     "text": [
      "{'NFLX': 4950, 'TREX': 2400}\n"
     ]
    }
   ],
   "source": [
    "dict1={\"NFLX\":4950,\"TREX\":2400,\"FIZZ\":1800, \"XPO\":1700}\n",
    "dict2 = {i:j for (i,j) in dict1.items() if j>2000}\n",
    "print(dict2)"
   ]
  },
  {
   "cell_type": "code",
   "execution_count": 183,
   "id": "1e292f53",
   "metadata": {},
   "outputs": [
    {
     "name": "stdout",
     "output_type": "stream",
     "text": [
      "{'Ten': 10, 'Twenty': 20, 'Thirty': 30}\n"
     ]
    }
   ],
   "source": [
    "keys = ['Ten', 'Twenty', 'Thirty']\n",
    "values = [10, 20, 30]\n",
    "\n",
    "# empty dictionary\n",
    "res_dict = {}\n",
    "\n",
    "for i in range (len(keys)):\n",
    "    res_dict.update({keys[i]: values[i]})\n",
    "print(res_dict)"
   ]
  },
  {
   "cell_type": "code",
   "execution_count": 187,
   "id": "efa553b1",
   "metadata": {},
   "outputs": [
    {
     "name": "stdout",
     "output_type": "stream",
     "text": [
      "{'Ten': 10, 'Twenty': 20, 'Thirty': 30}\n"
     ]
    }
   ],
   "source": [
    "keys = ['Ten', 'Twenty', 'Thirty']\n",
    "values = [10, 20, 30]\n",
    "output = {}\n",
    "for i in range (len(keys)):\n",
    "    output.update({keys[i]:values[i]})\n",
    "print(output)"
   ]
  },
  {
   "cell_type": "code",
   "execution_count": 160,
   "id": "8a0d4e56",
   "metadata": {},
   "outputs": [
    {
     "name": "stdout",
     "output_type": "stream",
     "text": [
      "{'Ten': 10, 'Twenty': 20, 'Thirty': 30, 'Fourty': 40, 'Fifty': 50}\n"
     ]
    }
   ],
   "source": [
    "dict1 = {'Ten': 10, 'Twenty': 20, 'Thirty': 30}\n",
    "dict2 = {'Thirty': 30, 'Fourty': 40, 'Fifty': 50}\n",
    "(dict1.update(dict2))\n",
    "print(dict1)"
   ]
  },
  {
   "cell_type": "code",
   "execution_count": 200,
   "id": "230b43bc",
   "metadata": {},
   "outputs": [
    {
     "name": "stdout",
     "output_type": "stream",
     "text": [
      "{'Alex': 30, 'Katherine': 25, 'Jonathan': 23}\n"
     ]
    }
   ],
   "source": [
    "d = {\"Alex\": 29, \"Katherine\": 24, \"Jonathan\": 22}\n",
    "output = {}\n",
    "for i,j in d.items():\n",
    "    output[i] = j+1\n",
    "    \n",
    "print(output)"
   ]
  },
  {
   "cell_type": "code",
   "execution_count": 201,
   "id": "28d96404",
   "metadata": {},
   "outputs": [
    {
     "data": {
      "text/plain": [
       "{1: 1, 2: 4, 3: 9, 4: 16, 5: 25}"
      ]
     },
     "execution_count": 201,
     "metadata": {},
     "output_type": "execute_result"
    }
   ],
   "source": [
    "{x:x**2 for x in range (1, 6)}"
   ]
  },
  {
   "cell_type": "code",
   "execution_count": 215,
   "id": "62e0623a",
   "metadata": {},
   "outputs": [
    {
     "name": "stdout",
     "output_type": "stream",
     "text": [
      "[3, 6, 9, 12, 15]\n"
     ]
    }
   ],
   "source": [
    "a = [1, 2, 3, 4, 5]\n",
    "b = map(lambda x: x*3, a)\n",
    "print(list(b))"
   ]
  },
  {
   "cell_type": "code",
   "execution_count": 222,
   "id": "21f62189",
   "metadata": {},
   "outputs": [
    {
     "data": {
      "text/plain": [
       "[18, 21, 24, 27, 30]"
      ]
     },
     "execution_count": 222,
     "metadata": {},
     "output_type": "execute_result"
    }
   ],
   "source": [
    "a = [1, 2, 3, 4, 5]\n",
    "b = [6, 7, 8, 9, 10]\n",
    "c = [11, 12, 13, 14, 15]\n",
    "list(map(lambda x, y, z: x+y+z, a,b,c))"
   ]
  },
  {
   "cell_type": "code",
   "execution_count": 232,
   "id": "b0d195b3",
   "metadata": {},
   "outputs": [
    {
     "name": "stdout",
     "output_type": "stream",
     "text": [
      "[['R', 'e', 'd'], ['B', 'l', 'u', 'e'], ['B', 'l', 'a', 'c', 'k'], ['W', 'h', 'i', 't', 'e'], ['P', 'i', 'n', 'k']]\n"
     ]
    }
   ],
   "source": [
    "color = ['Red', 'Blue', 'Black', 'White', 'Pink'] \n",
    "result = map(list, color)\n",
    "print(list(result))"
   ]
  },
  {
   "cell_type": "code",
   "execution_count": 242,
   "id": "9d4eba10",
   "metadata": {},
   "outputs": [
    {
     "name": "stdout",
     "output_type": "stream",
     "text": [
      "[10, 400, 27000, 2560000, 312500000, 46656000000, 8235430000000, 1677721600000000, 387420489000000000, 100000000000000000000]\n"
     ]
    }
   ],
   "source": [
    "bases_num = [10, 20, 30, 40, 50, 60, 70, 80, 90, 100]\n",
    "index = [1, 2, 3, 4, 5, 6, 7, 8, 9, 10]\n",
    "b = (map(pow, bases_num, index))\n",
    "print(list(b))"
   ]
  },
  {
   "cell_type": "code",
   "execution_count": 245,
   "id": "028bf8d2",
   "metadata": {},
   "outputs": [
    {
     "name": "stdout",
     "output_type": "stream",
     "text": [
      "[1, 4, 9, 16, 25]\n"
     ]
    }
   ],
   "source": [
    "a = [1, 2, 3, 4, 5]\n",
    "square = map(lambda x: x**2, a)\n",
    "print(list(square))"
   ]
  },
  {
   "cell_type": "code",
   "execution_count": 249,
   "id": "331e65fc",
   "metadata": {},
   "outputs": [
    {
     "name": "stdout",
     "output_type": "stream",
     "text": [
      "{'i', 'b', 'a', 'U', 'E', 'o', 'f'}\n"
     ]
    }
   ],
   "source": [
    "chrars = {'a', 'b', 'E', 'f', 'a', 'i', 'o', 'U', 'a'}\n",
    "print(chrars)"
   ]
  },
  {
   "cell_type": "code",
   "execution_count": 255,
   "id": "c076ca40",
   "metadata": {},
   "outputs": [
    {
     "name": "stdout",
     "output_type": "stream",
     "text": [
      "[6, 6, 10, 16]\n",
      "[6, 4, -4, 2]\n"
     ]
    }
   ],
   "source": [
    "nums1 = [6, 5, 3, 9]\n",
    "nums2 = [0, 1, 7, 7]\n",
    "add = map(lambda x,y: x+y, nums1, nums2)\n",
    "diff = map(lambda x,y: x-y, nums1, nums2)\n",
    "print(list(add))\n",
    "print(list(diff))\n",
    "output = add+diff"
   ]
  },
  {
   "cell_type": "code",
   "execution_count": 257,
   "id": "e6ac3ca9",
   "metadata": {},
   "outputs": [
    {
     "name": "stdout",
     "output_type": "stream",
     "text": [
      "[(6, 6), (6, 4), (10, -4), (16, 2)]\n"
     ]
    }
   ],
   "source": [
    "nums1 = [6, 5, 3, 9]\n",
    "nums2 = [0, 1, 7, 7]\n",
    "def add_diff(x,y):\n",
    "    return x+y, x-y\n",
    "output = map(add_diff, nums1, nums2)\n",
    "print(list(output))"
   ]
  },
  {
   "cell_type": "code",
   "execution_count": 16,
   "id": "0576281f",
   "metadata": {},
   "outputs": [
    {
     "name": "stdout",
     "output_type": "stream",
     "text": [
      "20000\n",
      "300\n",
      "-100\n",
      "None\n"
     ]
    }
   ],
   "source": [
    "class Rectangle():\n",
    "    def __init__(self, length, breadth):\n",
    "        self.length = length\n",
    "        self.breadth = breadth\n",
    "    def multiplication(self):\n",
    "        return self.length*self.breadth\n",
    "    def addition(self):\n",
    "        return self.length+self.breadth\n",
    "    def subtraction(self):\n",
    "        return self.length-self.breadth\n",
    "    def division(self):\n",
    "        self.breadth//self.length\n",
    "\n",
    "output = Rectangle(100, 200)\n",
    "mult = output.multiplication()\n",
    "add = output.addition()\n",
    "sub = output.subtraction()\n",
    "div = output.division()\n",
    "print(mult)\n",
    "print(add)\n",
    "print(sub)\n",
    "print(div)"
   ]
  },
  {
   "cell_type": "code",
   "execution_count": 30,
   "id": "e572925f",
   "metadata": {},
   "outputs": [
    {
     "name": "stdout",
     "output_type": "stream",
     "text": [
      "My name is Nitin and my age is 31 years.\n",
      "None\n",
      "My name is Nitin and my age is 31 years.\n"
     ]
    },
    {
     "ename": "TypeError",
     "evalue": "child.place() missing 1 required positional argument: 'place'",
     "output_type": "error",
     "traceback": [
      "\u001b[1;31m---------------------------------------------------------------------------\u001b[0m",
      "\u001b[1;31mTypeError\u001b[0m                                 Traceback (most recent call last)",
      "Cell \u001b[1;32mIn[30], line 18\u001b[0m\n\u001b[0;32m     16\u001b[0m yadav \u001b[38;5;241m=\u001b[39m child(\u001b[38;5;124m'\u001b[39m\u001b[38;5;124mNitin\u001b[39m\u001b[38;5;124m'\u001b[39m, \u001b[38;5;241m31\u001b[39m)\n\u001b[0;32m     17\u001b[0m detail2 \u001b[38;5;241m=\u001b[39m yadav\u001b[38;5;241m.\u001b[39mget_detail()\n\u001b[1;32m---> 18\u001b[0m detail3 \u001b[38;5;241m=\u001b[39m \u001b[43myadav\u001b[49m\u001b[38;5;241;43m.\u001b[39;49m\u001b[43mplace\u001b[49m\u001b[43m(\u001b[49m\u001b[43m)\u001b[49m\n\u001b[0;32m     19\u001b[0m \u001b[38;5;28mprint\u001b[39m(detail3)\n",
      "\u001b[1;31mTypeError\u001b[0m: child.place() missing 1 required positional argument: 'place'"
     ]
    }
   ],
   "source": [
    "class Parent():\n",
    "    def __init__(self, name, age):\n",
    "        self. name = name\n",
    "        self.age = age\n",
    "    def get_detail(self):\n",
    "        print('My name is', self.name, 'and my age is', self.age,'years.')\n",
    "    \n",
    "class child(Parent):\n",
    "    def place(self, place):\n",
    "        print('place')\n",
    "    \n",
    "nitin = Parent('Nitin', 31)\n",
    "detail = nitin.get_detail()\n",
    "print(detail)\n",
    "\n",
    "yadav = child('Nitin', 31)\n",
    "detail2 = yadav.get_detail()\n",
    "detail3 = yadav.place()\n",
    "print(detail3)"
   ]
  },
  {
   "cell_type": "code",
   "execution_count": null,
   "id": "828d69d6",
   "metadata": {},
   "outputs": [],
   "source": []
  }
 ],
 "metadata": {
  "kernelspec": {
   "display_name": "Python 3 (ipykernel)",
   "language": "python",
   "name": "python3"
  },
  "language_info": {
   "codemirror_mode": {
    "name": "ipython",
    "version": 3
   },
   "file_extension": ".py",
   "mimetype": "text/x-python",
   "name": "python",
   "nbconvert_exporter": "python",
   "pygments_lexer": "ipython3",
   "version": "3.10.9"
  }
 },
 "nbformat": 4,
 "nbformat_minor": 5
}
