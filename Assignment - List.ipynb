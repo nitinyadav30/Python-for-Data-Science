{
 "cells": [
  {
   "cell_type": "code",
   "execution_count": 19,
   "id": "8300cdc6",
   "metadata": {},
   "outputs": [
    {
     "name": "stdout",
     "output_type": "stream",
     "text": [
      "2\n"
     ]
    }
   ],
   "source": [
    "#Question 1: Write a Python program to count the number of elements in a list.\n",
    "list = ['nitin', 'yadav']\n",
    "count = 0\n",
    "for i in list:\n",
    "    if i !=0:\n",
    "        count+=1\n",
    "print(count)"
   ]
  },
  {
   "cell_type": "code",
   "execution_count": 24,
   "id": "0d12ac9b",
   "metadata": {},
   "outputs": [
    {
     "name": "stdout",
     "output_type": "stream",
     "text": [
      "The minimum value in this list is 1\n",
      "The max value in this list is 6\n"
     ]
    }
   ],
   "source": [
    "#Question 2: Write a Python program to find the maximum and minimum values in a given list.\n",
    "list = [1,2,3,4,5,6]\n",
    "max = list[0]\n",
    "min = list[0]\n",
    "\n",
    "for i in list:\n",
    "    if i>max:\n",
    "        max = i\n",
    "    elif i<min:\n",
    "        min = i\n",
    "print(\"The minimum value in this list is\", min)\n",
    "print(\"The max value in this list is\", max)"
   ]
  },
  {
   "cell_type": "code",
   "execution_count": 35,
   "id": "363eda25",
   "metadata": {},
   "outputs": [
    {
     "data": {
      "text/plain": [
       "[1, 3, 5, 4, 8, 2, 5, 7, 6, 4, 1, 51, 1]"
      ]
     },
     "execution_count": 35,
     "metadata": {},
     "output_type": "execute_result"
    }
   ],
   "source": [
    "#Question 3: Write a Python program to remove the first occurrence of a specified element from a list.\n",
    "list1 = [1,2,3,5,4,8,2,5,7,6,4,1,51,1]\n",
    "list1.remove(2)\n",
    "list1"
   ]
  },
  {
   "cell_type": "code",
   "execution_count": 29,
   "id": "ad892edd",
   "metadata": {},
   "outputs": [
    {
     "name": "stdout",
     "output_type": "stream",
     "text": [
      "The average of the list is:  3.0\n"
     ]
    }
   ],
   "source": [
    "#Question 4: Write a Python program to find the average of all the elements in a list.\n",
    "list = [1,2,3,4,5]\n",
    "average = sum(list)/len(list)\n",
    "print(\"The average of the list is: \", average)"
   ]
  },
  {
   "cell_type": "code",
   "execution_count": 32,
   "id": "059c6dd6",
   "metadata": {},
   "outputs": [
    {
     "name": "stdout",
     "output_type": "stream",
     "text": [
      "The list1 is not an empty list\n",
      "The list2 is empty\n"
     ]
    }
   ],
   "source": [
    "#Question 5: Write a Python program to check if a list is empty or not.\n",
    "list1 = [1,2,3]\n",
    "list2 = []\n",
    "if len(list1)!=0:\n",
    "    print(\"The list1 is not an empty list\")\n",
    "else:\n",
    "    print(\"The list1 is empty\")\n",
    "\n",
    "if len(list2)==0:\n",
    "    print(\"The list2 is empty\")\n",
    "else: \n",
    "    print(\"The list2 is not an empty list\")"
   ]
  },
  {
   "cell_type": "code",
   "execution_count": 14,
   "id": "94ebc27d",
   "metadata": {},
   "outputs": [
    {
     "data": {
      "text/plain": [
       "1"
      ]
     },
     "execution_count": 14,
     "metadata": {},
     "output_type": "execute_result"
    }
   ],
   "source": [
    "#Question 6: Write a Python program to find the index of a specified element in a list.\n",
    "list1 = [1,2,3,4]\n",
    "list1.index(2)"
   ]
  },
  {
   "cell_type": "code",
   "execution_count": 17,
   "id": "e395113b",
   "metadata": {},
   "outputs": [
    {
     "name": "stdout",
     "output_type": "stream",
     "text": [
      "0\n"
     ]
    }
   ],
   "source": [
    "list = [\"nitin\", \"yadav\", \"indore\"]\n",
    "print(list.index('nitin'))"
   ]
  },
  {
   "cell_type": "code",
   "execution_count": 12,
   "id": "4c3f073a",
   "metadata": {},
   "outputs": [
    {
     "name": "stdout",
     "output_type": "stream",
     "text": [
      "[1, 2, 3, 4, 3, 4, 5, 6]\n"
     ]
    }
   ],
   "source": [
    "#Question 7: Write a Python program to concatenate two lists.\n",
    "list1 = [1,2,3,4]\n",
    "list2 = [3,4,5,6]\n",
    "output = list1 + list2\n",
    "print(output)"
   ]
  },
  {
   "cell_type": "code",
   "execution_count": 9,
   "id": "f8053f23",
   "metadata": {},
   "outputs": [
    {
     "name": "stdout",
     "output_type": "stream",
     "text": [
      "3\n",
      "4\n"
     ]
    }
   ],
   "source": [
    "#Question 8: Write a Python program to find the common elements between two lists.\n",
    "list1 = [1,2,3,4]\n",
    "list2 = [3,4,5,6]\n",
    "for i in list1:\n",
    "    for j in list2:\n",
    "        if i == j:\n",
    "            print(i)"
   ]
  },
  {
   "cell_type": "code",
   "execution_count": 10,
   "id": "6b139753",
   "metadata": {},
   "outputs": [
    {
     "name": "stdout",
     "output_type": "stream",
     "text": [
      "nitin\n"
     ]
    }
   ],
   "source": [
    "list1 = ['nitin', 'yadav']\n",
    "list2 = ['nitin', \"Indore\"]\n",
    "for i in list1:\n",
    "    for j in list2:\n",
    "        if i == j:\n",
    "            print(i)"
   ]
  },
  {
   "cell_type": "code",
   "execution_count": 36,
   "id": "78f9093e",
   "metadata": {},
   "outputs": [
    {
     "name": "stdout",
     "output_type": "stream",
     "text": [
      "[1, 2, 3, 4, 5, 6, 7, 8, 52, 9]\n"
     ]
    }
   ],
   "source": [
    "#Question 9: Write a Python program to remove the duplicates from a list while preserving the order of elements.\n",
    "list = [1,2,3,4,5,6,7,8,52,5,2,4,6,9,3,4,7,5,6,2,4,5,2]\n",
    "output = []\n",
    "for i in list:\n",
    "    if i not in output:\n",
    "        output.append(i)\n",
    "print(output)"
   ]
  },
  {
   "cell_type": "code",
   "execution_count": 5,
   "id": "010a9f26",
   "metadata": {},
   "outputs": [
    {
     "data": {
      "text/plain": [
       "['I am ', 'nitin', 'yadav']"
      ]
     },
     "execution_count": 5,
     "metadata": {},
     "output_type": "execute_result"
    }
   ],
   "source": [
    "#Question 10: Write a Python program to sort a list of strings in alphabetical order.\n",
    "list = ['I am ', 'yadav', 'nitin']\n",
    "list.sort()\n",
    "list"
   ]
  },
  {
   "cell_type": "code",
   "execution_count": 6,
   "id": "1664f45b",
   "metadata": {},
   "outputs": [
    {
     "data": {
      "text/plain": [
       "['I', 'am ', 'nitin', 'yadav']"
      ]
     },
     "execution_count": 6,
     "metadata": {},
     "output_type": "execute_result"
    }
   ],
   "source": [
    "list = ['I', 'am ', 'yadav', 'nitin']\n",
    "list.sort()\n",
    "list"
   ]
  },
  {
   "cell_type": "code",
   "execution_count": 7,
   "id": "84bd03ab",
   "metadata": {},
   "outputs": [
    {
     "data": {
      "text/plain": [
       "['cricket', 'hobby', 'is', 'my', 'playing']"
      ]
     },
     "execution_count": 7,
     "metadata": {},
     "output_type": "execute_result"
    }
   ],
   "source": [
    "list = [\"playing\", \"cricket\", \"is\", \"my\", \"hobby\"]\n",
    "list.sort()\n",
    "list"
   ]
  },
  {
   "cell_type": "code",
   "execution_count": null,
   "id": "4a6a3193",
   "metadata": {},
   "outputs": [],
   "source": []
  }
 ],
 "metadata": {
  "kernelspec": {
   "display_name": "Python 3 (ipykernel)",
   "language": "python",
   "name": "python3"
  },
  "language_info": {
   "codemirror_mode": {
    "name": "ipython",
    "version": 3
   },
   "file_extension": ".py",
   "mimetype": "text/x-python",
   "name": "python",
   "nbconvert_exporter": "python",
   "pygments_lexer": "ipython3",
   "version": "3.10.9"
  }
 },
 "nbformat": 4,
 "nbformat_minor": 5
}
