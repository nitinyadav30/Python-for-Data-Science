{
 "cells": [
  {
   "cell_type": "markdown",
   "id": "6e93eb4b",
   "metadata": {},
   "source": [
    "## Variable and variable conversion"
   ]
  },
  {
   "cell_type": "code",
   "execution_count": 11,
   "id": "bda2605d",
   "metadata": {
    "scrolled": true
   },
   "outputs": [
    {
     "name": "stdout",
     "output_type": "stream",
     "text": [
      "<class 'int'>\n",
      "<class 'float'>\n",
      "<class 'str'>\n",
      "10\n",
      "10.0\n",
      "10\n",
      "100\n",
      "100.0\n"
     ]
    },
    {
     "ename": "ValueError",
     "evalue": "invalid literal for int() with base 10: 'Nitin'",
     "output_type": "error",
     "traceback": [
      "\u001b[1;31m---------------------------------------------------------------------------\u001b[0m",
      "\u001b[1;31mValueError\u001b[0m                                Traceback (most recent call last)",
      "Cell \u001b[1;32mIn[11], line 13\u001b[0m\n\u001b[0;32m     11\u001b[0m \u001b[38;5;28mprint\u001b[39m(\u001b[38;5;28mint\u001b[39m(d)) \u001b[38;5;66;03m#This string will be converted to int OR float as there are numbers only.\u001b[39;00m\n\u001b[0;32m     12\u001b[0m \u001b[38;5;28mprint\u001b[39m(\u001b[38;5;28mfloat\u001b[39m(d))\n\u001b[1;32m---> 13\u001b[0m \u001b[38;5;28mprint\u001b[39m(\u001b[38;5;28;43mint\u001b[39;49m\u001b[43m(\u001b[49m\u001b[43mc\u001b[49m\u001b[43m)\u001b[49m)\n",
      "\u001b[1;31mValueError\u001b[0m: invalid literal for int() with base 10: 'Nitin'"
     ]
    }
   ],
   "source": [
    "a = 10\n",
    "b = 10.1\n",
    "c = 'Nitin'\n",
    "d = '100'\n",
    "print(type(a))\n",
    "print(type(b))\n",
    "print(type(c))\n",
    "print(int(b))\n",
    "print(float(a))\n",
    "print(str(a))\n",
    "print(int(d)) #This string will be converted to int OR float as there are numbers only.\n",
    "print(float(d))\n",
    "print(int(c)) #This will show error"
   ]
  },
  {
   "cell_type": "markdown",
   "id": "3d8506f3",
   "metadata": {},
   "source": [
    "# Operators Practice"
   ]
  },
  {
   "cell_type": "code",
   "execution_count": 33,
   "id": "b83c899b",
   "metadata": {},
   "outputs": [
    {
     "name": "stdout",
     "output_type": "stream",
     "text": [
      "30\n",
      "10\n",
      "200\n",
      "100000000000000000000\n",
      "2\n",
      "10\n",
      "0\n"
     ]
    }
   ],
   "source": [
    "a = 10\n",
    "b = 20\n",
    "print(a+b)\n",
    "print(b-a)\n",
    "print(a*b)\n",
    "print(a**b) #This works as power function\n",
    "print(int(b/a)) #I devided as well as converted the output to int here).\n",
    "print(a%b) #value of a itself will be the remainder.\n",
    "print(a//b) #it will give the number after division.\n"
   ]
  },
  {
   "cell_type": "markdown",
   "id": "8dda58e1",
   "metadata": {},
   "source": [
    "# Data Structures"
   ]
  },
  {
   "cell_type": "markdown",
   "id": "a6c47f12",
   "metadata": {},
   "source": [
    "### String operations:"
   ]
  },
  {
   "cell_type": "code",
   "execution_count": 92,
   "id": "82d915fa",
   "metadata": {},
   "outputs": [
    {
     "name": "stdout",
     "output_type": "stream",
     "text": [
      "itin yadav\n",
      "itin yada\n",
      "vaday nitin\n",
      "ii a\n",
      "Nitin yadav\n",
      "12\n",
      "True\n",
      "False\n",
      "True\n",
      "False\n",
      "6\n",
      "nitin yadav\n",
      "NITIN YADAV\n",
      "['nitin', 'yadav']\n",
      "nitin yadav\n",
      "['I am Nitin Yadav', ' working at RWS group']\n"
     ]
    },
    {
     "data": {
      "text/plain": [
       "'I am Nitin Yadav. working at RWS group'"
      ]
     },
     "execution_count": 92,
     "metadata": {},
     "output_type": "execute_result"
    }
   ],
   "source": [
    "a = 'nitin yadav'\n",
    "print(a[1:]) #forward dircion index\n",
    "print(a[-10:-1])\n",
    "print(a[::-1])#revesrsing the string\n",
    "print(a[1:8:2]) #(slicing)\n",
    "print(a.capitalize())\n",
    "print(a.count(''))\n",
    "print(a.startswith('n'))\n",
    "print(a.startswith('a'))\n",
    "print(a.endswith('v'))\n",
    "print(a.endswith('y'))\n",
    "print(a.index('y'))\n",
    "print(a.lower())\n",
    "print(a.upper())\n",
    "b = (a.split())\n",
    "print(b)\n",
    "print(' '.join(b))\n",
    "\n",
    "c = 'I am Nitin Yadav. working at RWS group'\n",
    "d = c.split('.')\n",
    "print(d)\n",
    "'.'.join(d)"
   ]
  },
  {
   "cell_type": "markdown",
   "id": "0c52c08b",
   "metadata": {},
   "source": [
    "### List operations\n",
    "\n"
   ]
  },
  {
   "cell_type": "code",
   "execution_count": 102,
   "id": "b9badeb7",
   "metadata": {},
   "outputs": [
    {
     "name": "stdout",
     "output_type": "stream",
     "text": [
      "[10, 20, 30, 'Nitin Yadav', 'Deepak Singh', 'Alpha Gym']\n",
      "<class 'list'>\n",
      "Nitin Yadav\n",
      "N\n",
      "i\n",
      "t\n",
      "i\n",
      "n\n",
      " \n",
      "Y\n",
      "a\n",
      "d\n",
      "a\n",
      "v\n"
     ]
    }
   ],
   "source": [
    "a = [10, 20, 30, 'Nitin Yadav', 'Deepak Singh', 'Alpha Gym']\n",
    "print(a)\n",
    "print(type(a))\n",
    "print(a[3])\n",
    "print(a[3][0])\n",
    "print(a[3][1])\n",
    "print(a[3][2])\n",
    "print(a[3][3])\n",
    "print(a[3][4])\n",
    "print(a[3][5])\n",
    "print(a[3][6])\n",
    "print(a[3][7])\n",
    "print(a[3][8])\n",
    "print(a[3][9])\n",
    "print(a[3][10])"
   ]
  },
  {
   "cell_type": "code",
   "execution_count": 110,
   "id": "a22f6281",
   "metadata": {},
   "outputs": [
    {
     "name": "stdout",
     "output_type": "stream",
     "text": [
      "[20, 30, 'Nitin Yadav', 'Deepak Singh', 'Alpha Gym']\n",
      "[10, 20, 30, 'Nitin Yadav']\n",
      "['Alpha Gym', 'Deepak Singh', 'Nitin Yadav', 30, 20, 10]\n",
      "['Alpha Gym', 30]\n"
     ]
    }
   ],
   "source": [
    "a = [10, 20, 30, 'Nitin Yadav', 'Deepak Singh', 'Alpha Gym']\n",
    "print(a[1:]) #printing from 1 index in the list\n",
    "print(a[:-2]) #printing until -2 index value of the list (with reverse indexting)\n",
    "print(a[::-1]) #reverseing from -1 index\n",
    "print(a[::-3]) #reverseing from -3 index"
   ]
  },
  {
   "cell_type": "code",
   "execution_count": 117,
   "id": "86ced323",
   "metadata": {
    "scrolled": true
   },
   "outputs": [
    {
     "name": "stdout",
     "output_type": "stream",
     "text": [
      "[10, 20, 30, 'Nitin Yadav', 'Deepak Singh', 'Alpha Gym', 1000]\n",
      "[10, 20, 30, 'Nitin Yadav', 'Deepak Singh', 'Alpha Gym', 1000, 'Indore']\n",
      "[10, 'patel', 20, 30, 'Nitin Yadav', 'Deepak Singh', 'Alpha Gym', 1000, 'Indore']\n"
     ]
    }
   ],
   "source": [
    "a = [10, 20, 30, 'Nitin Yadav', 'Deepak Singh', 'Alpha Gym']\n",
    "a.append(1000)\n",
    "print(a)\n",
    "a.append('Indore')\n",
    "print(a)\n",
    "a.insert(1, 'patel') (inserting a new index value at the given index)\n",
    "print(a)"
   ]
  },
  {
   "cell_type": "code",
   "execution_count": 119,
   "id": "d2a162a0",
   "metadata": {},
   "outputs": [
    {
     "name": "stdout",
     "output_type": "stream",
     "text": [
      "[10, 'patel', 20, 'Gyam gaye the', 'Nitin Yadav', 'Deepak Singh', 'Alpha Gym', 1000, 'Indore']\n"
     ]
    }
   ],
   "source": [
    "#replace method\n",
    "a = [10, 'patel', 20, 30, 'Nitin Yadav', 'Deepak Singh', 'Alpha Gym', 1000, 'Indore']\n",
    "a[3]\n",
    "a[3] = 'Gyam gaye the'\n",
    "print(a)"
   ]
  },
  {
   "cell_type": "code",
   "execution_count": 121,
   "id": "0fdac276",
   "metadata": {},
   "outputs": [
    {
     "name": "stdout",
     "output_type": "stream",
     "text": [
      "[]\n"
     ]
    }
   ],
   "source": [
    "a = [10, 'patel', 20, 30, 'Nitin Yadav', 'Deepak Singh', 'Alpha Gym', 1000, 'Indore']\n",
    "a.clear()\n",
    "print(a)"
   ]
  },
  {
   "cell_type": "code",
   "execution_count": 128,
   "id": "f76faff0",
   "metadata": {},
   "outputs": [
    {
     "name": "stdout",
     "output_type": "stream",
     "text": [
      "[10, 20, 30, 'Nitin Yadav', 'Deepak Singh', 'Alpha Gym', 1000, 'Indore']\n",
      "[10, 20, 30, 'Nitin Yadav', 'Deepak Singh', 1000, 'Indore']\n"
     ]
    }
   ],
   "source": [
    "a = [10, 'patel', 20, 30, 'Nitin Yadav', 'Deepak Singh', 'Alpha Gym', 1000, 'Indore']\n",
    "del a[1]\n",
    "print(a)\n",
    "del a[-3]\n",
    "print(a)"
   ]
  },
  {
   "cell_type": "code",
   "execution_count": 130,
   "id": "9d8c3eee",
   "metadata": {},
   "outputs": [
    {
     "name": "stdout",
     "output_type": "stream",
     "text": [
      "[10, 'patel', 20, 30, 'Nitin Yadav', 'Deepak Singh', 'Alpha Gym', 1000, 'Indore']\n"
     ]
    }
   ],
   "source": [
    "a = [10, 'patel', 20, 30, 'Nitin Yadav', 'Deepak Singh', 'Alpha Gym', 1000, 'Indore']\n",
    "b = a.copy()\n",
    "print(b)"
   ]
  },
  {
   "cell_type": "code",
   "execution_count": 136,
   "id": "4634fe3a",
   "metadata": {},
   "outputs": [
    {
     "data": {
      "text/plain": [
       "1"
      ]
     },
     "execution_count": 136,
     "metadata": {},
     "output_type": "execute_result"
    }
   ],
   "source": [
    "a = [10, 'patel', 20, 30, 'Nitin Yadav', 'Deepak Singh', 'Alpha Gym', 1000, 'Indore']\n",
    "a.count('patel')"
   ]
  },
  {
   "cell_type": "code",
   "execution_count": 147,
   "id": "276f4c5e",
   "metadata": {},
   "outputs": [
    {
     "name": "stdout",
     "output_type": "stream",
     "text": [
      "[10, 'patel', 20, 30, 'Nitin Yadav', 'Deepak Singh', 'Alpha Gym', 1000, 'Indore']\n"
     ]
    },
    {
     "data": {
      "text/plain": [
       "2"
      ]
     },
     "execution_count": 147,
     "metadata": {},
     "output_type": "execute_result"
    }
   ],
   "source": [
    "a = [10, 'patel', 20, 30, 'Nitin Yadav']\n",
    "a.extend(['Deepak Singh', 'Alpha Gym', 1000, 'Indore'])\n",
    "print(a)\n",
    "a.index(20)"
   ]
  },
  {
   "cell_type": "code",
   "execution_count": 153,
   "id": "d51f0a6a",
   "metadata": {},
   "outputs": [
    {
     "name": "stdout",
     "output_type": "stream",
     "text": [
      "Indore\n",
      "1000\n"
     ]
    }
   ],
   "source": [
    "a = [10, 'patel', 20, 30, 'Nitin Yadav', 'Deepak Singh', 'Alpha Gym', 1000, 'Indore']\n",
    "print(a.pop())\n",
    "print(a.pop())"
   ]
  },
  {
   "cell_type": "code",
   "execution_count": 156,
   "id": "1d7397b4",
   "metadata": {},
   "outputs": [
    {
     "name": "stdout",
     "output_type": "stream",
     "text": [
      "[10, 20, 30, 'Nitin Yadav', 'Deepak Singh', 'Alpha Gym', 1000, 'Indore']\n"
     ]
    }
   ],
   "source": [
    "a = [10, 'patel', 20, 30, 'Nitin Yadav', 'Deepak Singh', 'Alpha Gym', 1000, 'Indore']\n",
    "a.remove('patel')\n",
    "print(a)"
   ]
  },
  {
   "cell_type": "code",
   "execution_count": 157,
   "id": "5a19e774",
   "metadata": {},
   "outputs": [
    {
     "name": "stdout",
     "output_type": "stream",
     "text": [
      "['Indore', 1000, 'Alpha Gym', 'Deepak Singh', 'Nitin Yadav', 30, 20, 'patel', 10]\n"
     ]
    }
   ],
   "source": [
    "a = [10, 'patel', 20, 30, 'Nitin Yadav', 'Deepak Singh', 'Alpha Gym', 1000, 'Indore']\n",
    "print(a[::-1])"
   ]
  },
  {
   "cell_type": "code",
   "execution_count": 162,
   "id": "2171564f",
   "metadata": {},
   "outputs": [
    {
     "name": "stdout",
     "output_type": "stream",
     "text": [
      "[10, 20, 30, 1000]\n",
      "['Alpha Gym', 'Deepak Singh', 'Nitin Yadav', 'patel']\n"
     ]
    }
   ],
   "source": [
    "a = [10, 20, 30, 1000]\n",
    "a.sort()\n",
    "print(a)\n",
    "b = ['patel', 'Nitin Yadav', 'Deepak Singh', 'Alpha Gym']\n",
    "b.sort()\n",
    "print(b)"
   ]
  },
  {
   "cell_type": "code",
   "execution_count": 171,
   "id": "f13096d2",
   "metadata": {},
   "outputs": [
    {
     "name": "stdout",
     "output_type": "stream",
     "text": [
      "True\n",
      "False\n",
      "1060.6\n"
     ]
    }
   ],
   "source": [
    "# Membership, lengh, sum (it only adds the int a float value in list) function\n",
    "a = [10, 'patel', 20, 30, 'Nitin Yadav', 'Deepak Singh', 'Alpha Gym', 1000, 'Indore']\n",
    "print(10 in a)\n",
    "print(100 in a)\n",
    "len(a)\n",
    "a = [10, 20, 30.60, 1000]\n",
    "print(sum(a))"
   ]
  },
  {
   "cell_type": "code",
   "execution_count": 177,
   "id": "1b976cfe",
   "metadata": {},
   "outputs": [
    {
     "name": "stdout",
     "output_type": "stream",
     "text": [
      "10\n",
      "1000\n",
      "Alpha Gym\n",
      "patel\n"
     ]
    }
   ],
   "source": [
    "#Min & Max\n",
    "a = [10, 'patel', 20, 30, 'Nitin Yadav', 'Deepak Singh', 'Alpha Gym', 1000, 'Indore']\n",
    "a = [10, 20, 30.60, 1000]\n",
    "print(min(a))\n",
    "print(max(a))\n",
    "\n",
    "b = ['Alpha Gym', 'Deepak Singh', 'Nitin Yadav', 'patel'] #(calculates as per the ASCII value of the characters)\n",
    "print(min(b))\n",
    "print(max(b))"
   ]
  },
  {
   "cell_type": "markdown",
   "id": "81fff7eb",
   "metadata": {},
   "source": [
    "### Tuple & It's operations"
   ]
  },
  {
   "cell_type": "code",
   "execution_count": 189,
   "id": "e81038ab",
   "metadata": {},
   "outputs": [
    {
     "name": "stdout",
     "output_type": "stream",
     "text": [
      "<class 'tuple'>\n",
      "2\n",
      "1\n",
      "1\n"
     ]
    }
   ],
   "source": [
    "a = (10, 30, 90, 'ram','ram', 'sita')\n",
    "print(type(a))\n",
    "print(a.count('ram'))\n",
    "print(a.count('sita'))\n",
    "print(a.count(90))"
   ]
  },
  {
   "cell_type": "code",
   "execution_count": 193,
   "id": "7973f663",
   "metadata": {},
   "outputs": [
    {
     "name": "stdout",
     "output_type": "stream",
     "text": [
      "0\n",
      "3\n",
      "5\n"
     ]
    }
   ],
   "source": [
    "a = (10, 30, 90, 'ram','ram', 'sita')\n",
    "print(a.index(10))\n",
    "print(a.index('ram'))\n",
    "print(a.index('sita'))"
   ]
  },
  {
   "cell_type": "markdown",
   "id": "3b63185b",
   "metadata": {},
   "source": [
    "# SETS"
   ]
  },
  {
   "cell_type": "code",
   "execution_count": 1,
   "id": "e2c19051",
   "metadata": {},
   "outputs": [
    {
     "name": "stdout",
     "output_type": "stream",
     "text": [
      "<class 'set'>\n",
      "<class 'list'>\n",
      "<class 'tuple'>\n"
     ]
    }
   ],
   "source": [
    "# Sets\n",
    "# Sets are mutable\n",
    "# Sets are represented by {}\n",
    "# Sets can accept any data type\n",
    "\n",
    "a = {10, 20.5, 'Python'}\n",
    "b = [10, 20.5, 'Python']\n",
    "c = (10, 20.5, 'Python')\n",
    "\n",
    "print(type(a))\n",
    "print(type(b))\n",
    "print(type(c))"
   ]
  },
  {
   "cell_type": "code",
   "execution_count": 14,
   "id": "dfcc2813",
   "metadata": {},
   "outputs": [
    {
     "name": "stdout",
     "output_type": "stream",
     "text": [
      "{1000, 10, 20.5, 'Python'}\n"
     ]
    }
   ],
   "source": [
    "a = {10, 20.5, 'Python'}\n",
    "a.add(1000)\n",
    "print(a)"
   ]
  },
  {
   "cell_type": "code",
   "execution_count": 18,
   "id": "a35daf75",
   "metadata": {},
   "outputs": [
    {
     "name": "stdout",
     "output_type": "stream",
     "text": [
      "{'Python', 1000, 10, 2000, 20.5}\n"
     ]
    }
   ],
   "source": [
    "a.add(2000)\n",
    "print(a)"
   ]
  },
  {
   "cell_type": "code",
   "execution_count": 20,
   "id": "e8d952e0",
   "metadata": {},
   "outputs": [
    {
     "name": "stdout",
     "output_type": "stream",
     "text": [
      "{20.5, 'Python', 1000, 10}\n"
     ]
    }
   ],
   "source": [
    "a = {'Python', 1000, 10, 2000, 20.5}\n",
    "a.pop()\n",
    "print(a)"
   ]
  },
  {
   "cell_type": "code",
   "execution_count": 22,
   "id": "3ac079a8",
   "metadata": {},
   "outputs": [
    {
     "ename": "TypeError",
     "evalue": "pop expected at least 1 argument, got 0",
     "output_type": "error",
     "traceback": [
      "\u001b[1;31m---------------------------------------------------------------------------\u001b[0m",
      "\u001b[1;31mTypeError\u001b[0m                                 Traceback (most recent call last)",
      "Cell \u001b[1;32mIn[22], line 3\u001b[0m\n\u001b[0;32m      1\u001b[0m \u001b[38;5;66;03m# pop works when there is at least one arguument is there in the sets. If SETS are blank, it will through error.\u001b[39;00m\n\u001b[0;32m      2\u001b[0m b \u001b[38;5;241m=\u001b[39m {}\n\u001b[1;32m----> 3\u001b[0m \u001b[43mb\u001b[49m\u001b[38;5;241;43m.\u001b[39;49m\u001b[43mpop\u001b[49m\u001b[43m(\u001b[49m\u001b[43m)\u001b[49m\n",
      "\u001b[1;31mTypeError\u001b[0m: pop expected at least 1 argument, got 0"
     ]
    }
   ],
   "source": [
    "# pop works when there is at least one arguument is there in the sets. If SETS are blank, it will through error.\n",
    "b = {}\n",
    "b.pop()"
   ]
  },
  {
   "cell_type": "code",
   "execution_count": 23,
   "id": "278fd62a",
   "metadata": {},
   "outputs": [
    {
     "name": "stdout",
     "output_type": "stream",
     "text": [
      "{1000, 10, 20.5, 'Python'}\n"
     ]
    }
   ],
   "source": [
    "#Discard method: It will remove the value, if present in the SETS, else will show the result at it is.\n",
    "a = {20.5, 'Python', 1000, 10}\n",
    "a.discard('nitin')\n",
    "print(a)"
   ]
  },
  {
   "cell_type": "code",
   "execution_count": 24,
   "id": "5e03fbfb",
   "metadata": {},
   "outputs": [
    {
     "ename": "KeyError",
     "evalue": "'nitin'",
     "output_type": "error",
     "traceback": [
      "\u001b[1;31m---------------------------------------------------------------------------\u001b[0m",
      "\u001b[1;31mKeyError\u001b[0m                                  Traceback (most recent call last)",
      "Cell \u001b[1;32mIn[24], line 3\u001b[0m\n\u001b[0;32m      1\u001b[0m \u001b[38;5;66;03m#Remove method: It will remove the value, if present in the SETS, else will show error.\u001b[39;00m\n\u001b[0;32m      2\u001b[0m a \u001b[38;5;241m=\u001b[39m {\u001b[38;5;241m20.5\u001b[39m, \u001b[38;5;124m'\u001b[39m\u001b[38;5;124mPython\u001b[39m\u001b[38;5;124m'\u001b[39m, \u001b[38;5;241m1000\u001b[39m, \u001b[38;5;241m10\u001b[39m}\n\u001b[1;32m----> 3\u001b[0m \u001b[43ma\u001b[49m\u001b[38;5;241;43m.\u001b[39;49m\u001b[43mremove\u001b[49m\u001b[43m(\u001b[49m\u001b[38;5;124;43m'\u001b[39;49m\u001b[38;5;124;43mnitin\u001b[39;49m\u001b[38;5;124;43m'\u001b[39;49m\u001b[43m)\u001b[49m\n\u001b[0;32m      4\u001b[0m \u001b[38;5;28mprint\u001b[39m(a)\n",
      "\u001b[1;31mKeyError\u001b[0m: 'nitin'"
     ]
    }
   ],
   "source": [
    "#Remove method: It will remove the value, if present in the SETS, else will show error.\n",
    "a = {20.5, 'Python', 1000, 10}\n",
    "a.remove('nitin')\n",
    "print(a)"
   ]
  },
  {
   "cell_type": "code",
   "execution_count": 25,
   "id": "3d1a8c36",
   "metadata": {},
   "outputs": [
    {
     "name": "stdout",
     "output_type": "stream",
     "text": [
      "{1000, 10, 20.5, 'Python'}\n"
     ]
    }
   ],
   "source": [
    "#Sets remove dulicates automaically, it doesnt keep it. Dulicates are not allowed when we store the values in SETS.\n",
    "a = a = {20.5, 'Python', 1000, 10, 20.5, 'Python', 1000, 10}\n",
    "print(a)"
   ]
  },
  {
   "cell_type": "code",
   "execution_count": 26,
   "id": "0f35ffa6",
   "metadata": {},
   "outputs": [
    {
     "ename": "TypeError",
     "evalue": "unhashable type: 'list'",
     "output_type": "error",
     "traceback": [
      "\u001b[1;31m---------------------------------------------------------------------------\u001b[0m",
      "\u001b[1;31mTypeError\u001b[0m                                 Traceback (most recent call last)",
      "Cell \u001b[1;32mIn[26], line 3\u001b[0m\n\u001b[0;32m      1\u001b[0m \u001b[38;5;66;03m# Sets are mutable but it cant acceppt mutable data structure. It can only accept immutable data structure. \u001b[39;00m\n\u001b[0;32m      2\u001b[0m     \u001b[38;5;66;03m# Means LIST cant be kepts under a SET.\u001b[39;00m\n\u001b[1;32m----> 3\u001b[0m a \u001b[38;5;241m=\u001b[39m {\u001b[38;5;241m1000\u001b[39m, \u001b[38;5;241m10\u001b[39m, \u001b[38;5;241m20.5\u001b[39m, \u001b[38;5;124m'\u001b[39m\u001b[38;5;124mPython\u001b[39m\u001b[38;5;124m'\u001b[39m, [\u001b[38;5;241m1\u001b[39m , \u001b[38;5;241m2\u001b[39m , \u001b[38;5;241m3\u001b[39m]}\n\u001b[0;32m      4\u001b[0m \u001b[38;5;28mprint\u001b[39m(a)\n",
      "\u001b[1;31mTypeError\u001b[0m: unhashable type: 'list'"
     ]
    }
   ],
   "source": [
    "# Sets are mutable but it cant acceppt mutable data structure. It can only accept immutable data structure. \n",
    "    # Means LIST cant be kepts under a SET.\n",
    "a = {1000, 10, 20.5, 'Python', [1 , 2 , 3]}\n",
    "print(a)"
   ]
  },
  {
   "cell_type": "code",
   "execution_count": 28,
   "id": "c03c38ba",
   "metadata": {},
   "outputs": [
    {
     "name": "stdout",
     "output_type": "stream",
     "text": [
      "{1000, 10, 20.5, 'Python'}\n",
      "{1000, 10, 20.5, 'Python'}\n"
     ]
    }
   ],
   "source": [
    "# Copy method in SET\n",
    "\n",
    "a = {1000, 10, 20.5, 'Python'}\n",
    "print(a)\n",
    "b = a.copy()\n",
    "print(b)"
   ]
  },
  {
   "cell_type": "code",
   "execution_count": 31,
   "id": "5d051d90",
   "metadata": {},
   "outputs": [
    {
     "name": "stdout",
     "output_type": "stream",
     "text": [
      "{70, 40, 10, 80, 50, 20, 90, 60, 30}\n",
      "{70, 40, 10, 80, 50, 20, 90, 60, 30}\n",
      "{50}\n",
      "{50}\n"
     ]
    }
   ],
   "source": [
    "# Union & Intersection\n",
    "\n",
    "a = {10 , 20, 30, 40, 50}\n",
    "b = {50 , 60, 70, 80, 90}\n",
    "print(a.union(b))\n",
    "print(b.union(a))\n",
    "print(a.intersection(b))\n",
    "print(b.intersection(a))"
   ]
  },
  {
   "cell_type": "code",
   "execution_count": 205,
   "id": "e2e83a18",
   "metadata": {},
   "outputs": [
    {
     "name": "stdout",
     "output_type": "stream",
     "text": [
      "{'sita', 10, 'ram', 20}\n",
      "{'sita', 10, 20, 'ram', 30}\n",
      "sita\n",
      "{'sita', 10, 20}\n",
      "{'sita', 10, 20}\n"
     ]
    }
   ],
   "source": [
    "a = {10, 20, 'ram', 'sita'}\n",
    "print(a)\n",
    "a.add(30)\n",
    "print(a)\n",
    "b = a.pop()\n",
    "print(b)\n",
    "\n",
    "a = {10, 20, 'ram', 'sita'}\n",
    "a.discard('ram')\n",
    "print(a)\n",
    "a.discard('betul') #since betul is not there, it gives the result as is.\n",
    "print(a)"
   ]
  },
  {
   "cell_type": "code",
   "execution_count": 208,
   "id": "873de514",
   "metadata": {},
   "outputs": [
    {
     "name": "stdout",
     "output_type": "stream",
     "text": [
      "{'sita', 100, 20, 10}\n"
     ]
    }
   ],
   "source": [
    "a = {10, 20, 'ram', 'sita', 100, 10, 20, 'ram', 'sita' }\n",
    "a.remove('ram') #removed duplicates as well as the given value.\n",
    "print(a)"
   ]
  },
  {
   "cell_type": "markdown",
   "id": "97a6847e",
   "metadata": {},
   "source": [
    "#### Union and Intersection in SETS"
   ]
  },
  {
   "cell_type": "code",
   "execution_count": 209,
   "id": "58590544",
   "metadata": {},
   "outputs": [
    {
     "name": "stdout",
     "output_type": "stream",
     "text": [
      "{'sita', 10, 20, 'ram'}\n",
      "{'sita', 100, 200, 10, 20, 600, 'ram'}\n"
     ]
    }
   ],
   "source": [
    "a = {10, 20, 'ram', 'sita', 100}\n",
    "b = {10, 20, 'ram', 'sita', 200, 600}\n",
    "print(a.intersection(b))\n",
    "print(a.union(b))"
   ]
  },
  {
   "cell_type": "markdown",
   "id": "1adade32",
   "metadata": {},
   "source": [
    "# Dictionary"
   ]
  },
  {
   "cell_type": "code",
   "execution_count": 43,
   "id": "c52319fb",
   "metadata": {},
   "outputs": [
    {
     "name": "stdout",
     "output_type": "stream",
     "text": [
      "{'Nitin': 'Sr. TM', 'Kevin': 'SC Director', 'Eva': 'TM Spain', 'Marco': 'TM Granada'}\n"
     ]
    },
    {
     "data": {
      "text/plain": [
       "'Sr. TM'"
      ]
     },
     "execution_count": 43,
     "metadata": {},
     "output_type": "execute_result"
    }
   ],
   "source": [
    "a = {'Nitin' : 'Sr. TM', 'Kevin' : 'SC Director', 'Eva' : 'TM Spain', 'Marco' : 'TM Granada'}\n",
    "print(a)\n",
    "a['Nitin'] #accessing a value from the dictionary"
   ]
  },
  {
   "cell_type": "code",
   "execution_count": 40,
   "id": "547acdfa",
   "metadata": {},
   "outputs": [
    {
     "name": "stdout",
     "output_type": "stream",
     "text": [
      "{'Kevin Team': ['Nitin', 'Eva', 'Marco', 'Kamolrat', 'Amber']}\n"
     ]
    }
   ],
   "source": [
    "# We can write multiple values to one key.\n",
    "#Keys can be anything i.e. strings, int, float, \n",
    "a = {'Kevin Team' : ['Nitin', 'Eva', 'Marco', 'Kamolrat', 'Amber']}\n",
    "print(a)"
   ]
  },
  {
   "cell_type": "code",
   "execution_count": 41,
   "id": "8f9b581d",
   "metadata": {},
   "outputs": [
    {
     "data": {
      "text/plain": [
       "['Nitin', 'Eva', 'Marco', 'Kamolrat', 'Amber']"
      ]
     },
     "execution_count": 41,
     "metadata": {},
     "output_type": "execute_result"
    }
   ],
   "source": [
    "a['Kevin Team']"
   ]
  },
  {
   "cell_type": "code",
   "execution_count": 45,
   "id": "fec8ec12",
   "metadata": {},
   "outputs": [
    {
     "data": {
      "text/plain": [
       "'SC Director'"
      ]
     },
     "execution_count": 45,
     "metadata": {},
     "output_type": "execute_result"
    }
   ],
   "source": [
    "a = {'Nitin' : 'Sr. TM', 'Kevin' : 'SC Director', 'Eva' : 'TM Spain', 'Marco' : 'TM Granada'}\n",
    "a['Kevin']"
   ]
  },
  {
   "cell_type": "code",
   "execution_count": 46,
   "id": "887c4f2f",
   "metadata": {},
   "outputs": [
    {
     "data": {
      "text/plain": [
       "'SC Director'"
      ]
     },
     "execution_count": 46,
     "metadata": {},
     "output_type": "execute_result"
    }
   ],
   "source": [
    "a.get('Kevin')\n",
    "\n",
    "# This is same as the above method to call a value from a key in dictionary"
   ]
  },
  {
   "cell_type": "code",
   "execution_count": 49,
   "id": "992d3a7e",
   "metadata": {},
   "outputs": [
    {
     "name": "stdout",
     "output_type": "stream",
     "text": [
      "{}\n"
     ]
    }
   ],
   "source": [
    "#Clear method: It will give blank dictionary by clearing the entire dictionary.\n",
    "\n",
    "a = {'Nitin' : 'Sr. TM', 'Kevin' : 'SC Director', 'Eva' : 'TM Spain', 'Marco' : 'TM Granada'}\n",
    "a.clear()\n",
    "print(a)"
   ]
  },
  {
   "cell_type": "code",
   "execution_count": 52,
   "id": "81fa5825",
   "metadata": {},
   "outputs": [
    {
     "name": "stdout",
     "output_type": "stream",
     "text": [
      "dict_keys(['Nitin', 'Kevin', 'Eva', 'Marco'])\n",
      "dict_values(['Sr. TM', 'SC Director', 'TM Spain', 'TM Granada'])\n",
      "{'Nitin': 'Sr. TM', 'Kevin': 'SC Director', 'Eva': 'TM Spain', 'Marco': 'TM Granada'}\n"
     ]
    }
   ],
   "source": [
    "a = {'Nitin' : 'Sr. TM', 'Kevin' : 'SC Director', 'Eva' : 'TM Spain', 'Marco' : 'TM Granada'}\n",
    "print(a.keys()) #Keys method\n",
    "print(a.values()) #values method\n",
    "b = a.copy() = #Copy method\n",
    "print(b)"
   ]
  },
  {
   "cell_type": "code",
   "execution_count": 53,
   "id": "f76105c5",
   "metadata": {},
   "outputs": [
    {
     "data": {
      "text/plain": [
       "dict_items([('Nitin', 'Sr. TM'), ('Kevin', 'SC Director'), ('Eva', 'TM Spain'), ('Marco', 'TM Granada')])"
      ]
     },
     "execution_count": 53,
     "metadata": {},
     "output_type": "execute_result"
    }
   ],
   "source": [
    "a = {'Nitin' : 'Sr. TM', 'Kevin' : 'SC Director', 'Eva' : 'TM Spain', 'Marco' : 'TM Granada'}\n",
    "a.items()"
   ]
  },
  {
   "cell_type": "code",
   "execution_count": 55,
   "id": "67503343",
   "metadata": {},
   "outputs": [
    {
     "name": "stdout",
     "output_type": "stream",
     "text": [
      "{'Nitin': 'Sr. TM', 'Kevin': 'SC Director', 'Eva': 'TM Spain', 'Marco': 'TM Granada', 'Amber': 'TM Taiwan'}\n"
     ]
    }
   ],
   "source": [
    "#add, delete update in a dictionary:\n",
    "\n",
    "#Add method\n",
    "a = {'Nitin' : 'Sr. TM', 'Kevin' : 'SC Director', 'Eva' : 'TM Spain', 'Marco' : 'TM Granada'}\n",
    "a['Amber'] = 'TM Taiwan'\n",
    "print(a)"
   ]
  },
  {
   "cell_type": "code",
   "execution_count": 59,
   "id": "e69dd28a",
   "metadata": {},
   "outputs": [
    {
     "name": "stdout",
     "output_type": "stream",
     "text": [
      "{'Nitin': 'Sr. TM', 'Kevin': 'Sr. TM APAC & SEA Region', 'Eva': 'TM Spain', 'Marco': 'TM Granada'}\n"
     ]
    }
   ],
   "source": [
    "#Updating the existing data\n",
    "a = {'Nitin' : 'Sr. TM', 'Kevin' : 'SC Director', 'Eva' : 'TM Spain', 'Marco' : 'TM Granada'}\n",
    "a.update({'Kevin':'Sr. TM APAC & SEA Region'}) \n",
    "print(a)"
   ]
  },
  {
   "cell_type": "code",
   "execution_count": 219,
   "id": "feac70d8",
   "metadata": {},
   "outputs": [
    {
     "name": "stdout",
     "output_type": "stream",
     "text": [
      "Panna\n"
     ]
    }
   ],
   "source": [
    "a = {'Nitin' : 'Chicholi', 'Chandru' : 'Panna', 'Vishky' : 'Pune', 'Vivek' : 'Indore'}\n",
    "print(a.get('Chandru')) #To get the values from a key."
   ]
  },
  {
   "cell_type": "code",
   "execution_count": 221,
   "id": "512df1c7",
   "metadata": {},
   "outputs": [
    {
     "name": "stdout",
     "output_type": "stream",
     "text": [
      "{}\n"
     ]
    }
   ],
   "source": [
    "a = {'Nitin' : 'Chicholi', 'Chandru' : 'Panna', 'Vishky' : 'Pune', 'Vivek' : 'Indore'}\n",
    "a.clear() #It will clear the list\n",
    "print(a)"
   ]
  },
  {
   "cell_type": "code",
   "execution_count": 222,
   "id": "03cb47f0",
   "metadata": {},
   "outputs": [
    {
     "name": "stdout",
     "output_type": "stream",
     "text": [
      "{'Nitin': 'Chicholi', 'Chandru': 'Panna', 'Vishky': 'Pune', 'Vivek': 'Indore'}\n"
     ]
    }
   ],
   "source": [
    "a = {'Nitin' : 'Chicholi', 'Chandru' : 'Panna', 'Vishky' : 'Pune', 'Vivek' : 'Indore'}\n",
    "b = a.copy()\n",
    "print(b)"
   ]
  },
  {
   "cell_type": "code",
   "execution_count": 228,
   "id": "af9dab43",
   "metadata": {},
   "outputs": [
    {
     "name": "stdout",
     "output_type": "stream",
     "text": [
      "dict_items([('Nitin', 'Chicholi'), ('Chandru', 'Panna'), ('Vishky', 'Pune'), ('Vivek', 'Indore')])\n",
      "dict_values(['Chicholi', 'Panna', 'Pune', 'Indore'])\n",
      "dict_keys(['Nitin', 'Chandru', 'Vishky', 'Vivek'])\n",
      "Panna\n"
     ]
    }
   ],
   "source": [
    "a = {'Nitin' : 'Chicholi', 'Chandru' : 'Panna', 'Vishky' : 'Pune', 'Vivek' : 'Indore'}\n",
    "print(a.items())\n",
    "print(a.values())\n",
    "print(a.keys())\n",
    "print(a.get('Chandru'))"
   ]
  },
  {
   "cell_type": "code",
   "execution_count": 4,
   "id": "c2f8a8c1",
   "metadata": {},
   "outputs": [
    {
     "name": "stdout",
     "output_type": "stream",
     "text": [
      "{'Nitin': 'Indore1', 'Chandru': 'Panna', 'Vishky': 'Pune', 'Vivek': 'Indore'}\n"
     ]
    }
   ],
   "source": [
    "a = {'Nitin' : 'Chicholi', 'Chandru' : 'Panna', 'Vishky' : 'Pune', 'Vivek' : 'Indore'}\n",
    "a['Nitin'] = 'Indore1'\n",
    "print(a)"
   ]
  },
  {
   "cell_type": "code",
   "execution_count": 12,
   "id": "5554881a",
   "metadata": {},
   "outputs": [
    {
     "name": "stdout",
     "output_type": "stream",
     "text": [
      "Chicholi\n",
      "('Vivek', 'Indore')\n"
     ]
    }
   ],
   "source": [
    "a = {'Nitin' : 'Chicholi', 'Chandru' : 'Panna', 'Vishky' : 'Pune', 'Vivek' : 'Indore'}\n",
    "print(a.pop('Nitin')) #removed iven key value\n",
    "print(a.popitem()) #removes last key and it's value.\n"
   ]
  },
  {
   "cell_type": "code",
   "execution_count": 15,
   "id": "5c2a0152",
   "metadata": {},
   "outputs": [
    {
     "name": "stdout",
     "output_type": "stream",
     "text": [
      "{'Nitin': 'Chicholi', 'Vishky': 'Pune', 'Vivek': 'Indore'}\n"
     ]
    }
   ],
   "source": [
    "a = {'Nitin' : 'Chicholi', 'Chandru' : 'Panna', 'Vishky' : 'Pune', 'Vivek' : 'Indore'}\n",
    "del a ['Chandru']\n",
    "print(a)"
   ]
  },
  {
   "cell_type": "markdown",
   "id": "bcfd22c6",
   "metadata": {},
   "source": [
    "## Math Module"
   ]
  },
  {
   "cell_type": "code",
   "execution_count": 1,
   "id": "b7f787d7",
   "metadata": {},
   "outputs": [],
   "source": [
    "import math"
   ]
  },
  {
   "cell_type": "code",
   "execution_count": 2,
   "id": "b4917ed5",
   "metadata": {},
   "outputs": [],
   "source": [
    "import os"
   ]
  },
  {
   "cell_type": "code",
   "execution_count": 19,
   "id": "f2214baf",
   "metadata": {},
   "outputs": [
    {
     "name": "stdout",
     "output_type": "stream",
     "text": [
      "Requirement already satisfied: numpy in c:\\users\\fsc\\anaconda3\\lib\\site-packages (1.23.5)\n",
      "Collecting panda\n",
      "  Using cached panda-0.3.1.tar.gz (5.8 kB)\n",
      "  Preparing metadata (setup.py): started\n",
      "  Preparing metadata (setup.py): finished with status 'done'\n",
      "Requirement already satisfied: setuptools in c:\\users\\fsc\\anaconda3\\lib\\site-packages (from panda) (65.6.3)\n",
      "Requirement already satisfied: requests in c:\\users\\fsc\\anaconda3\\lib\\site-packages (from panda) (2.28.1)\n",
      "Requirement already satisfied: idna<4,>=2.5 in c:\\users\\fsc\\anaconda3\\lib\\site-packages (from requests->panda) (3.4)\n",
      "Requirement already satisfied: certifi>=2017.4.17 in c:\\users\\fsc\\anaconda3\\lib\\site-packages (from requests->panda) (2022.12.7)\n",
      "Requirement already satisfied: urllib3<1.27,>=1.21.1 in c:\\users\\fsc\\anaconda3\\lib\\site-packages (from requests->panda) (1.26.14)\n",
      "Requirement already satisfied: charset-normalizer<3,>=2 in c:\\users\\fsc\\anaconda3\\lib\\site-packages (from requests->panda) (2.0.4)\n",
      "Building wheels for collected packages: panda\n",
      "  Building wheel for panda (setup.py): started\n",
      "  Building wheel for panda (setup.py): finished with status 'done'\n",
      "  Created wheel for panda: filename=panda-0.3.1-py3-none-any.whl size=7245 sha256=b207d47934270c5b50f181462ebcd2bd4cf0581e767d12b288440999c30139ca\n",
      "  Stored in directory: c:\\users\\fsc\\appdata\\local\\pip\\cache\\wheels\\d1\\81\\6d\\0bcd1ae53614a2da2cda0de1dced1fb83050422c7cf5213c32\n",
      "Successfully built panda\n",
      "Installing collected packages: panda\n",
      "Successfully installed panda-0.3.1\n"
     ]
    }
   ],
   "source": [
    "!pip install numpy \n",
    "!pip install panda\n"
   ]
  },
  {
   "cell_type": "code",
   "execution_count": 7,
   "id": "4b797b35",
   "metadata": {},
   "outputs": [
    {
     "data": {
      "text/plain": [
       "8.48528137423857"
      ]
     },
     "execution_count": 7,
     "metadata": {},
     "output_type": "execute_result"
    }
   ],
   "source": [
    "math.sqrt(72)"
   ]
  },
  {
   "cell_type": "code",
   "execution_count": 10,
   "id": "41901cba",
   "metadata": {},
   "outputs": [
    {
     "data": {
      "text/plain": [
       "2.302585092994046"
      ]
     },
     "execution_count": 10,
     "metadata": {},
     "output_type": "execute_result"
    }
   ],
   "source": [
    "math.log(10)"
   ]
  },
  {
   "cell_type": "code",
   "execution_count": 14,
   "id": "5ab1805d",
   "metadata": {},
   "outputs": [
    {
     "data": {
      "text/plain": [
       "3.141592653589793"
      ]
     },
     "execution_count": 14,
     "metadata": {},
     "output_type": "execute_result"
    }
   ],
   "source": [
    "math.pi"
   ]
  },
  {
   "cell_type": "code",
   "execution_count": 15,
   "id": "6821d3ff",
   "metadata": {},
   "outputs": [
    {
     "data": {
      "text/plain": [
       "-0.4480736161291701"
      ]
     },
     "execution_count": 15,
     "metadata": {},
     "output_type": "execute_result"
    }
   ],
   "source": [
    "math.cos(90)"
   ]
  },
  {
   "cell_type": "code",
   "execution_count": 17,
   "id": "846ddb14",
   "metadata": {},
   "outputs": [
    {
     "data": {
      "text/plain": [
       "-6.405331196646276"
      ]
     },
     "execution_count": 17,
     "metadata": {},
     "output_type": "execute_result"
    }
   ],
   "source": [
    "math.tan(30)"
   ]
  },
  {
   "cell_type": "code",
   "execution_count": 20,
   "id": "121a3861",
   "metadata": {},
   "outputs": [
    {
     "name": "stdout",
     "output_type": "stream",
     "text": [
      "Collecting pypdf2\n",
      "  Downloading pypdf2-3.0.1-py3-none-any.whl (232 kB)\n",
      "     -------------------------------------- 232.6/232.6 kB 2.9 MB/s eta 0:00:00\n",
      "Installing collected packages: pypdf2\n",
      "Successfully installed pypdf2-3.0.1\n"
     ]
    }
   ],
   "source": [
    "!pip install pypdf2"
   ]
  },
  {
   "cell_type": "code",
   "execution_count": 21,
   "id": "7403552a",
   "metadata": {},
   "outputs": [
    {
     "data": {
      "text/plain": [
       "['.ipynb_checkpoints',\n",
       " '7 May 2023.ipynb',\n",
       " 'Condition & Control Statements - Loops_ 14 May 2023.ipynb',\n",
       " 'Data Types - 30 April 2023.ipynb',\n",
       " 'First Code.ipynb',\n",
       " 'Offline Material',\n",
       " 'Practice 13 & 14 May 2023 - Sets, Dictionary and Math Operations, Loops.ipynb',\n",
       " 'Practice of week 29-30 April.ipynb',\n",
       " 'Practice of week 7 May 2023 - Strings & Lists.ipynb',\n",
       " 'Untitled.ipynb']"
      ]
     },
     "execution_count": 21,
     "metadata": {},
     "output_type": "execute_result"
    }
   ],
   "source": [
    "os.listdir()"
   ]
  },
  {
   "cell_type": "code",
   "execution_count": 22,
   "id": "9791ace7",
   "metadata": {},
   "outputs": [
    {
     "data": {
      "text/plain": [
       "['.ipynb_checkpoints',\n",
       " '7 May 2023.ipynb',\n",
       " 'Condition & Control Statements - Loops_ 14 May 2023.ipynb',\n",
       " 'Data Types - 30 April 2023.ipynb',\n",
       " 'First Code.ipynb',\n",
       " 'Offline Material',\n",
       " 'Practice 13 & 14 May 2023 - Sets, Dictionary and Math Operations, Loops.ipynb',\n",
       " 'Practice of week 29-30 April.ipynb',\n",
       " 'Practice of week 7 May 2023 - Strings & Lists.ipynb',\n",
       " 'Untitled.ipynb']"
      ]
     },
     "execution_count": 22,
     "metadata": {},
     "output_type": "execute_result"
    }
   ],
   "source": [
    "os.listdir('./')"
   ]
  },
  {
   "cell_type": "code",
   "execution_count": 23,
   "id": "6d9f0720",
   "metadata": {},
   "outputs": [
    {
     "data": {
      "text/plain": [
       "['!qhlogs.doc',\n",
       " '$RECYCLE.BIN',\n",
       " '.ipynb_checkpoints',\n",
       " 'cfrbackup-TTOJXSAD',\n",
       " 'Quick Heal',\n",
       " 'System Volume Information',\n",
       " 'Top Mentor Course']"
      ]
     },
     "execution_count": 23,
     "metadata": {},
     "output_type": "execute_result"
    }
   ],
   "source": [
    "os.listdir('./../')"
   ]
  },
  {
   "cell_type": "code",
   "execution_count": 25,
   "id": "5d10210e",
   "metadata": {},
   "outputs": [
    {
     "data": {
      "text/plain": [
       "['!qhlogs.doc',\n",
       " '$RECYCLE.BIN',\n",
       " '.ipynb_checkpoints',\n",
       " 'cfrbackup-TTOJXSAD',\n",
       " 'Quick Heal',\n",
       " 'System Volume Information',\n",
       " 'Top Mentor Course']"
      ]
     },
     "execution_count": 25,
     "metadata": {},
     "output_type": "execute_result"
    }
   ],
   "source": [
    "os.listdir('./../../')"
   ]
  },
  {
   "cell_type": "code",
   "execution_count": null,
   "id": "5da016aa",
   "metadata": {},
   "outputs": [],
   "source": []
  }
 ],
 "metadata": {
  "kernelspec": {
   "display_name": "Python 3 (ipykernel)",
   "language": "python",
   "name": "python3"
  },
  "language_info": {
   "codemirror_mode": {
    "name": "ipython",
    "version": 3
   },
   "file_extension": ".py",
   "mimetype": "text/x-python",
   "name": "python",
   "nbconvert_exporter": "python",
   "pygments_lexer": "ipython3",
   "version": "3.10.9"
  }
 },
 "nbformat": 4,
 "nbformat_minor": 5
}
