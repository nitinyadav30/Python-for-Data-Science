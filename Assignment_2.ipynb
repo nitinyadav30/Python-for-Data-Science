{
 "cells": [
  {
   "cell_type": "raw",
   "id": "144f8dd9",
   "metadata": {},
   "source": [
    "1 . Print the input text without vowels \n",
    "\n",
    "input = 'hai'\n",
    "\n",
    "Expected output = h"
   ]
  },
  {
   "cell_type": "code",
   "execution_count": 60,
   "id": "6f177b01",
   "metadata": {},
   "outputs": [
    {
     "name": "stdout",
     "output_type": "stream",
     "text": [
      "h\n"
     ]
    }
   ],
   "source": [
    "a = 'hai'\n",
    "b = ''\n",
    "for i in a:\n",
    "    if i not in 'aeiouAEIOU':\n",
    "        b = b+i\n",
    "print(b)"
   ]
  },
  {
   "cell_type": "code",
   "execution_count": 2,
   "id": "fe1cba55",
   "metadata": {},
   "outputs": [
    {
     "name": "stdout",
     "output_type": "stream",
     "text": [
      "Please enter a string: I am nitin yadav\n",
      " m ntn ydv\n"
     ]
    }
   ],
   "source": [
    "a = input(str('Please enter a string: '))\n",
    "b = ''\n",
    "for i in a:\n",
    "    if i not in 'aeiouAEIOU':\n",
    "        b = b+i\n",
    "print(b)"
   ]
  },
  {
   "cell_type": "raw",
   "id": "9f0cbac6",
   "metadata": {},
   "source": [
    "2 . Print only vowels from the text \n",
    "\n",
    "input = data \n",
    "\n",
    "Expected output = dt \n",
    "\n",
    "Q: how can the output be dt when we only asked to print vovel from the text?"
   ]
  },
  {
   "cell_type": "code",
   "execution_count": 59,
   "id": "6b7cca5f",
   "metadata": {},
   "outputs": [
    {
     "name": "stdout",
     "output_type": "stream",
     "text": [
      "dt\n"
     ]
    }
   ],
   "source": [
    "input = 'data'\n",
    "output = ''\n",
    "#output: dt\n",
    "for i in input:\n",
    "    if i not in 'aeiouAEIOU':\n",
    "        output = output+i\n",
    "print(output)"
   ]
  },
  {
   "cell_type": "code",
   "execution_count": 58,
   "id": "ae23a442",
   "metadata": {},
   "outputs": [
    {
     "name": "stdout",
     "output_type": "stream",
     "text": [
      "aa\n"
     ]
    }
   ],
   "source": [
    "#This code is to print vovel only:\n",
    "input = 'data'\n",
    "output = ''\n",
    "#output: dt\n",
    "for i in input:\n",
    "    if i in 'aeiouAEIOU':\n",
    "        output = output+i\n",
    "print(output)"
   ]
  },
  {
   "cell_type": "raw",
   "id": "6cbfe6e1",
   "metadata": {},
   "source": [
    "3 . print each value from the list with its index \n",
    "\n",
    "\n",
    "input = [10,11,50,34]\n",
    "\n",
    "Expected output = [100 , 111 , 502 , 343]"
   ]
  },
  {
   "cell_type": "code",
   "execution_count": 78,
   "id": "ffb5130d",
   "metadata": {},
   "outputs": [
    {
     "name": "stdout",
     "output_type": "stream",
     "text": [
      "[100, 111, 502, 343]\n"
     ]
    }
   ],
   "source": [
    "input = [10,11,50,34]\n",
    "index_input = input.index(10)\n",
    "index_list_of_input = [input.index(i) for i in input] #used list comprehension to find out the list of index numbers of attributes of given input list\n",
    "str_input = list(map(str, input)) #converting  int in list to string\n",
    "str_index_list_of_input = list(map(str, index_list_of_input)) #converting  int in list to string\n",
    "output = []\n",
    "for j in range (0, len(str_input)):\n",
    "    output.append(str_input[j]+(str_index_list_of_input[j])) #adding respective values in two list, here they are added as strings.\n",
    "for k in range(0, len(output)):\n",
    "    output[k] = int(output[k]) #converting the strings to int again to get the final output\n",
    "print(output)"
   ]
  },
  {
   "cell_type": "raw",
   "id": "de670ddc",
   "metadata": {},
   "source": [
    "4 . This is a Python Program to print all integers that aren’t divisible by either 2 or 3 and lies between 1 and 50."
   ]
  },
  {
   "cell_type": "code",
   "execution_count": 41,
   "id": "42ef74d7",
   "metadata": {},
   "outputs": [
    {
     "name": "stdout",
     "output_type": "stream",
     "text": [
      "1, 2, 3, 4, 5, 7, 8, 9, 10, 11, 13, 14, 15, 16, 17, 19, 20, 21, 22, 23, 25, 26, 27, 28, 29, 31, 32, 33, 34, 35, 37, 38, 39, 40, 41, 43, 44, 45, 46, 47, 49, 50, "
     ]
    }
   ],
   "source": [
    "for i in range (1,51):\n",
    "    if i%2!=0 or i%3!=0:\n",
    "        print(i, end=', ')"
   ]
  },
  {
   "cell_type": "raw",
   "id": "9f9b54af",
   "metadata": {},
   "source": [
    "5 . The program takes in an integer and prints the smallest divisor of the integer."
   ]
  },
  {
   "cell_type": "code",
   "execution_count": 77,
   "id": "65ab24d9",
   "metadata": {},
   "outputs": [
    {
     "name": "stdout",
     "output_type": "stream",
     "text": [
      "The smallest divisor value of the given number is: 1\n"
     ]
    }
   ],
   "source": [
    "a = 20\n",
    "b = []\n",
    "for i in range (1,100):\n",
    "    if a%i==0:\n",
    "        b.append(i) == b\n",
    "c = (min(b))\n",
    "print(\"The smallest divisor value of the given number is:\", c)"
   ]
  },
  {
   "cell_type": "code",
   "execution_count": 1,
   "id": "ce8aada7",
   "metadata": {},
   "outputs": [
    {
     "name": "stdout",
     "output_type": "stream",
     "text": [
      "Please enter a number: 25\n",
      "The smallest divisor value of the given number is: 1\n"
     ]
    }
   ],
   "source": [
    "a = int(input('Please enter a number: '))\n",
    "b = []\n",
    "for i in range (1,100):\n",
    "    if a%i==0:\n",
    "        b.append(i) == b\n",
    "c = (min(b))\n",
    "print(\"The smallest divisor value of the given number is:\", c)\n",
    "\n",
    "#This code was running fine but later it is not. Please check and advise, if there is anything wrong in this code."
   ]
  },
  {
   "cell_type": "raw",
   "id": "fe7c7e96",
   "metadata": {},
   "source": [
    "6 . Write a Python program to check if it is a strong number or not ."
   ]
  },
  {
   "cell_type": "code",
   "execution_count": 19,
   "id": "e2d0106f",
   "metadata": {},
   "outputs": [
    {
     "name": "stdout",
     "output_type": "stream",
     "text": [
      "145 is a strong number\n"
     ]
    }
   ],
   "source": [
    "def fact(x):\n",
    "    b =1\n",
    "    for i in range (1, (x+1)):\n",
    "        b = b*i\n",
    "    return b\n",
    "\n",
    "number = 145\n",
    "number1 = number\n",
    "sum_of_fact = 0\n",
    "while number>0:\n",
    "    a = number%10\n",
    "    c = fact(a)\n",
    "    sum_of_fact = sum_of_fact+c\n",
    "    number = number//10\n",
    "if number1 == sum_of_fact:\n",
    "    print(number1, 'is a strong number')\n",
    "else:\n",
    "    print(number1, 'not a strong number')"
   ]
  },
  {
   "cell_type": "code",
   "execution_count": 20,
   "id": "c679d33d",
   "metadata": {},
   "outputs": [
    {
     "name": "stdout",
     "output_type": "stream",
     "text": [
      "please enter a number: 555\n",
      "555 not a strong number\n"
     ]
    }
   ],
   "source": [
    "def fact(x):\n",
    "    b =1\n",
    "    for i in range (1, (x+1)):\n",
    "        b = b*i\n",
    "    return b\n",
    "\n",
    "number = int(input('please enter a number: '))\n",
    "number1 = number\n",
    "sum_of_fact = 0\n",
    "while number>0:\n",
    "    a = number%10\n",
    "    c = fact(a)\n",
    "    sum_of_fact = sum_of_fact+c\n",
    "    number = number//10\n",
    "if number1 == sum_of_fact:\n",
    "    print(number1, 'is a strong number')\n",
    "else:\n",
    "    print(number1, 'not a strong number')"
   ]
  },
  {
   "cell_type": "raw",
   "id": "6fccfd65",
   "metadata": {},
   "source": [
    "7 . Write a Python program that takes input from the user and displays that input back in upper and lower cases."
   ]
  },
  {
   "cell_type": "code",
   "execution_count": 6,
   "id": "340f71f2",
   "metadata": {},
   "outputs": [
    {
     "name": "stdout",
     "output_type": "stream",
     "text": [
      "Please enter a value: I am Nitin Yadav\n",
      "I AM NITIN YADAV\n",
      "i am nitin yadav\n"
     ]
    }
   ],
   "source": [
    "a = str(input('Please enter a value: '))\n",
    "b = a.upper()\n",
    "c = a.lower()\n",
    "print(b)\n",
    "print(c)"
   ]
  },
  {
   "cell_type": "raw",
   "id": "8e92ebb5",
   "metadata": {},
   "source": [
    "8 . Write a Python program to remove spaces from a given string"
   ]
  },
  {
   "cell_type": "code",
   "execution_count": 113,
   "id": "5279f798",
   "metadata": {},
   "outputs": [
    {
     "name": "stdout",
     "output_type": "stream",
     "text": [
      "IamNitinYadav\n"
     ]
    }
   ],
   "source": [
    "string = 'I am Nitin Yadav'\n",
    "string1 = ''\n",
    "for i in string:\n",
    "    if i != ' ':\n",
    "        string1 = string1+i\n",
    "print(string1)"
   ]
  },
  {
   "cell_type": "code",
   "execution_count": 3,
   "id": "f45a8956",
   "metadata": {},
   "outputs": [
    {
     "name": "stdout",
     "output_type": "stream",
     "text": [
      "Please enter a valueI am Nitin Yadav\n",
      "IamNitinYadav\n"
     ]
    }
   ],
   "source": [
    "string = str(input('Please enter a value'))\n",
    "string1 = ''\n",
    "for i in string:\n",
    "    if i != ' ':\n",
    "        string1 = string1+i\n",
    "print(string1)"
   ]
  },
  {
   "cell_type": "code",
   "execution_count": 107,
   "id": "c31b0297",
   "metadata": {},
   "outputs": [
    {
     "name": "stdout",
     "output_type": "stream",
     "text": [
      "IamNitinYadav\n"
     ]
    }
   ],
   "source": [
    "def removespace(string):\n",
    "    return string.replace(\" \", \"\")\n",
    "string = 'I am Nitin Yadav'\n",
    "a = removespace(string)\n",
    "print(a)"
   ]
  },
  {
   "cell_type": "code",
   "execution_count": 4,
   "id": "0e680c96",
   "metadata": {},
   "outputs": [
    {
     "name": "stdout",
     "output_type": "stream",
     "text": [
      "Please enter a value: I am Nitin Yadav\n",
      "IamNitinYadav\n"
     ]
    }
   ],
   "source": [
    "a = str(input('Please enter a value: '))\n",
    "def remove_space(x):\n",
    "    return x.replace(' ','')\n",
    "sol = remove_space(a)\n",
    "print(sol)"
   ]
  },
  {
   "cell_type": "raw",
   "id": "0b1bc8da",
   "metadata": {},
   "source": [
    "9 . Write a Python program to capitalize first and last letters of each word of a given string."
   ]
  },
  {
   "cell_type": "code",
   "execution_count": 101,
   "id": "f6324004",
   "metadata": {},
   "outputs": [
    {
     "name": "stdout",
     "output_type": "stream",
     "text": [
      "I AM StayinG IN IndorE \n"
     ]
    }
   ],
   "source": [
    "string = 'I am staying in indore'\n",
    "string1 = string.title()\n",
    "string2 = string1.split()\n",
    "result = ''\n",
    "for i in string2:\n",
    "    result = result + i[:-1]+i[-1].upper()+' '\n",
    "print(result)"
   ]
  },
  {
   "cell_type": "code",
   "execution_count": 102,
   "id": "37b87112",
   "metadata": {},
   "outputs": [
    {
     "name": "stdout",
     "output_type": "stream",
     "text": [
      "Please enter a valuei am nitin yadav\n",
      "I AM NitiN YadaV \n"
     ]
    }
   ],
   "source": [
    "string = str(input('Please enter a value'))\n",
    "string1 = string.title()\n",
    "string2 = string1.split()\n",
    "result = ''\n",
    "for i in string2:\n",
    "    result = result + i[:-1]+i[-1].upper()+' '\n",
    "print(result)"
   ]
  },
  {
   "cell_type": "code",
   "execution_count": 4,
   "id": "2ebb4655",
   "metadata": {},
   "outputs": [
    {
     "name": "stdout",
     "output_type": "stream",
     "text": [
      "I AM NitiN YadaV \n"
     ]
    }
   ],
   "source": [
    "def CapSmall(b):\n",
    "    b = b.title()\n",
    "    b2 = b.split()\n",
    "    result = ''\n",
    "    for i in b2:\n",
    "        result = result+i[:-1]+i[-1].upper()+' '\n",
    "    return result\n",
    "\n",
    "output = CapSmall('I am nitin yadav')\n",
    "print(output)"
   ]
  },
  {
   "cell_type": "code",
   "execution_count": 12,
   "id": "3185bfa4",
   "metadata": {},
   "outputs": [
    {
     "name": "stdout",
     "output_type": "stream",
     "text": [
      "['I', 'Love', 'Indore']\n",
      "I LovE IndorE \n"
     ]
    }
   ],
   "source": [
    "string = 'i love indore'\n",
    "string1 = string.title()\n",
    "string2 = string1.split()\n",
    "print(string2)\n",
    "result = ''\n",
    "for i in string2:\n",
    "    result = result+i[:-1]+i[-1].upper()+' '\n",
    "print(result)"
   ]
  },
  {
   "cell_type": "raw",
   "id": "77b5cd36",
   "metadata": {},
   "source": [
    "10 . write a python program to find length of a string but should not use len keyword "
   ]
  },
  {
   "cell_type": "code",
   "execution_count": 69,
   "id": "0c12bbfe",
   "metadata": {},
   "outputs": [
    {
     "name": "stdout",
     "output_type": "stream",
     "text": [
      "Please enter your name: I am Nitin Yadav\n",
      "16\n"
     ]
    }
   ],
   "source": [
    "string = str(input('Please enter your name: '))\n",
    "count = 0\n",
    "for i in string:\n",
    "    count = count+1\n",
    "print(count)"
   ]
  }
 ],
 "metadata": {
  "kernelspec": {
   "display_name": "Python 3 (ipykernel)",
   "language": "python",
   "name": "python3"
  },
  "language_info": {
   "codemirror_mode": {
    "name": "ipython",
    "version": 3
   },
   "file_extension": ".py",
   "mimetype": "text/x-python",
   "name": "python",
   "nbconvert_exporter": "python",
   "pygments_lexer": "ipython3",
   "version": "3.10.9"
  }
 },
 "nbformat": 4,
 "nbformat_minor": 5
}
