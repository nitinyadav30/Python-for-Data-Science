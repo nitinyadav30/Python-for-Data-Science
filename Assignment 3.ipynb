{
 "cells": [
  {
   "cell_type": "raw",
   "id": "e5421237",
   "metadata": {},
   "source": [
    "1 . print the count of each character in your name in an dictionary format \n",
    "\n",
    "ex :\n",
    "input = sai kamal \n",
    "output = {s=1 , a = 3 , i = 1 , ' ' = 1 , k = 1 , m = 1 , l = 1}"
   ]
  },
  {
   "cell_type": "code",
   "execution_count": 106,
   "id": "b0157924",
   "metadata": {},
   "outputs": [
    {
     "name": "stdout",
     "output_type": "stream",
     "text": [
      "{'n': 2, 'i': 2, 't': 1, ' ': 1, 'y': 1, 'a': 2, 'd': 1, 'v': 1}\n"
     ]
    }
   ],
   "source": [
    "inputname = 'nitin yadav'\n",
    "output = {}\n",
    "for i in inputname:\n",
    "    if i in output:\n",
    "        output[i]+=1\n",
    "    else:\n",
    "        output[i]=1\n",
    "print(output)"
   ]
  },
  {
   "cell_type": "code",
   "execution_count": 108,
   "id": "de285e5c",
   "metadata": {},
   "outputs": [
    {
     "name": "stdout",
     "output_type": "stream",
     "text": [
      "Please enter a string: Nitin yadav\n",
      "{'N': 1, 'i': 2, 't': 1, 'n': 1, ' ': 1, 'y': 1, 'a': 2, 'd': 1, 'v': 1}\n"
     ]
    }
   ],
   "source": [
    "string = str(input('Please enter a string: '))\n",
    "output1 = {}\n",
    "for i in string:\n",
    "    if i in output1:\n",
    "        output1[i]+=1\n",
    "    else:\n",
    "        output1[i] = 1\n",
    "print(output1)"
   ]
  },
  {
   "cell_type": "raw",
   "id": "71d35bd0",
   "metadata": {},
   "source": [
    "2 . Python program to find the area of a triangle whose sides are given"
   ]
  },
  {
   "cell_type": "code",
   "execution_count": 126,
   "id": "12b1a4ad",
   "metadata": {},
   "outputs": [
    {
     "name": "stdout",
     "output_type": "stream",
     "text": [
      "Please enter the value of sidea: 5\n",
      "Please enter the value of sideb: 6\n",
      "Please enter the value of sidec: 8\n",
      "The area of the given triangle is:  14.981238266578634\n"
     ]
    }
   ],
   "source": [
    "sidea = int(input('Please enter the value of sidea: '))\n",
    "sideb = int(input('Please enter the value of sideb: '))\n",
    "sidec = int(input('Please enter the value of sidec: '))\n",
    "import math\n",
    "semiperimeter = (sidea+sideb+sidec)/2\n",
    "area = math.sqrt(semiperimeter*((semiperimeter-sidea)*(semiperimeter-sideb)*(semiperimeter-sidec)))\n",
    "print('The area of the given triangle is: ', area)"
   ]
  },
  {
   "cell_type": "raw",
   "id": "0c1eff09",
   "metadata": {},
   "source": [
    "3 . Python program to find out the average of a set of integers"
   ]
  },
  {
   "cell_type": "code",
   "execution_count": 128,
   "id": "df83fe4b",
   "metadata": {},
   "outputs": [],
   "source": [
    "from functools import reduce"
   ]
  },
  {
   "cell_type": "code",
   "execution_count": 129,
   "id": "fe0c4757",
   "metadata": {},
   "outputs": [
    {
     "name": "stdout",
     "output_type": "stream",
     "text": [
      "The average is:  2.75\n"
     ]
    }
   ],
   "source": [
    "seta = {1,2,3,5} #I have taken a set a to performm the operation\n",
    "lista = list(seta)\n",
    "suma = reduce(lambda x,y:x+y, lista)\n",
    "lena = len(lista)\n",
    "average = suma/lena\n",
    "print('The average is: ', average)"
   ]
  },
  {
   "cell_type": "raw",
   "id": "29df69bc",
   "metadata": {},
   "source": [
    "4 . Python program to display the given integer in reverse manner"
   ]
  },
  {
   "cell_type": "code",
   "execution_count": 4,
   "id": "e123fe9a",
   "metadata": {},
   "outputs": [
    {
     "name": "stdout",
     "output_type": "stream",
     "text": [
      "123\n",
      "321\n"
     ]
    }
   ],
   "source": [
    "a = 123\n",
    "b = str(a)\n",
    "print(b)\n",
    "c = b[::-1]\n",
    "print(c)"
   ]
  },
  {
   "cell_type": "code",
   "execution_count": 5,
   "id": "8cd830f0",
   "metadata": {},
   "outputs": [
    {
     "name": "stdout",
     "output_type": "stream",
     "text": [
      "Please enter a number: 256\n",
      "652\n"
     ]
    }
   ],
   "source": [
    "int1 = int(input('Please enter a number: '))\n",
    "str1 = str(int1)\n",
    "reverse = str1[::-1]\n",
    "print(reverse)"
   ]
  },
  {
   "cell_type": "raw",
   "id": "957fffc8",
   "metadata": {},
   "source": [
    "5 . Python program to find the sum of the digits of an integer using while loop"
   ]
  },
  {
   "cell_type": "code",
   "execution_count": 21,
   "id": "f24dbcdb",
   "metadata": {},
   "outputs": [
    {
     "name": "stdout",
     "output_type": "stream",
     "text": [
      "2\n"
     ]
    }
   ],
   "source": [
    "b = 11\n",
    "c = 0\n",
    "while b > 0:\n",
    "    d = b%10\n",
    "    c = c+d\n",
    "    b = b//10\n",
    "print(c)"
   ]
  },
  {
   "cell_type": "code",
   "execution_count": 22,
   "id": "6897786b",
   "metadata": {},
   "outputs": [
    {
     "name": "stdout",
     "output_type": "stream",
     "text": [
      "please enter a number: 123\n",
      "6\n"
     ]
    }
   ],
   "source": [
    "a = int(input('please enter a number: '))\n",
    "b = 0\n",
    "while a >0:\n",
    "    c = a%10\n",
    "    b = b+c\n",
    "    a = a//10\n",
    "print(b)"
   ]
  },
  {
   "cell_type": "raw",
   "id": "18d62095",
   "metadata": {},
   "source": [
    "6 . Python program to generate the prime numbers from 1 to 100"
   ]
  },
  {
   "cell_type": "code",
   "execution_count": 33,
   "id": "fcc78f00",
   "metadata": {},
   "outputs": [
    {
     "name": "stdout",
     "output_type": "stream",
     "text": [
      "2 3 5 7 11 13 17 19 23 29 31 37 41 43 47 53 59 61 67 71 73 79 83 89 97 "
     ]
    }
   ],
   "source": [
    "for number in range(1, 101):\n",
    "    factorcount = 0\n",
    "    i = 1\n",
    "    while i<=number:\n",
    "            if number%i == 0:\n",
    "                factorcount+=1\n",
    "            i+=1\n",
    "    if factorcount == 2: print(number, end=' ')"
   ]
  },
  {
   "cell_type": "raw",
   "id": "53ede651",
   "metadata": {},
   "source": [
    "7 . Python program to find the factorial of a number "
   ]
  },
  {
   "cell_type": "code",
   "execution_count": 26,
   "id": "16ffa97a",
   "metadata": {},
   "outputs": [
    {
     "name": "stdout",
     "output_type": "stream",
     "text": [
      "6\n",
      "24\n",
      "120\n",
      "3628800\n"
     ]
    }
   ],
   "source": [
    "def fact(x):\n",
    "    a = 1\n",
    "    for i in range (1, (x+1)):\n",
    "        a = a*i\n",
    "    return a\n",
    "\n",
    "print(fact(3))\n",
    "print(fact(4))\n",
    "print(fact(5))\n",
    "print(fact(10))"
   ]
  },
  {
   "cell_type": "raw",
   "id": "8794b6ed",
   "metadata": {},
   "source": [
    "8 . Python program to check whether a string is palindrome or not"
   ]
  },
  {
   "cell_type": "code",
   "execution_count": 24,
   "id": "d9a89f4f",
   "metadata": {},
   "outputs": [
    {
     "name": "stdout",
     "output_type": "stream",
     "text": [
      "malayalam is palindrome\n"
     ]
    }
   ],
   "source": [
    "a = 'malayalam'\n",
    "b = a[::-1]\n",
    "if a == b:\n",
    "    print(a, 'is palindrome')\n",
    "else:\n",
    "    print(a, 'is not palindrome')"
   ]
  },
  {
   "cell_type": "code",
   "execution_count": 25,
   "id": "71b07e61",
   "metadata": {},
   "outputs": [
    {
     "name": "stdout",
     "output_type": "stream",
     "text": [
      "please enter a stringnitin\n",
      "nitin is palindrome\n"
     ]
    }
   ],
   "source": [
    "a = str(input('please enter a string'))\n",
    "b = a[::-1]\n",
    "if a == b:\n",
    "    print(a, 'is palindrome')\n",
    "else:\n",
    "    print(a, 'is not palindrome')"
   ]
  },
  {
   "cell_type": "raw",
   "id": "8ad9741f",
   "metadata": {},
   "source": [
    "9 . Write a Python function to convert a given string to all uppercase if it contains at least 2 uppercase characters in the first 4 characters"
   ]
  },
  {
   "cell_type": "code",
   "execution_count": 85,
   "id": "e92240c1",
   "metadata": {},
   "outputs": [
    {
     "name": "stdout",
     "output_type": "stream",
     "text": [
      "I AM NITIN YADAV\n",
      "i am nitin YADAV\n"
     ]
    }
   ],
   "source": [
    "def upercase(string1):\n",
    "    count = 0\n",
    "    for i in string1[:4]:\n",
    "        if i.isupper():\n",
    "            count+=1\n",
    "    if count>=2:\n",
    "        return string1.upper()\n",
    "    else: return string1\n",
    "    \n",
    "print(upercase('I AM nitin yadav'))\n",
    "print(upercase('i am nitin YADAV'))"
   ]
  },
  {
   "cell_type": "code",
   "execution_count": 74,
   "id": "5126d7f6",
   "metadata": {},
   "outputs": [
    {
     "name": "stdout",
     "output_type": "stream",
     "text": [
      "iama am Nitin yada\n"
     ]
    }
   ],
   "source": [
    "a = 'iama am Nitin yada'\n",
    "countchr = 0\n",
    "for i in a[:4]:\n",
    "    if i.isupper():\n",
    "        countchr+=1\n",
    "if countchr>=2:\n",
    "    print(a.upper())\n",
    "else:\n",
    "    print(a)"
   ]
  },
  {
   "cell_type": "code",
   "execution_count": 78,
   "id": "4077d827",
   "metadata": {},
   "outputs": [
    {
     "name": "stdout",
     "output_type": "stream",
     "text": [
      "Please enter a string: i am NI\n",
      "i am NI\n"
     ]
    }
   ],
   "source": [
    "a = str(input('Please enter a string: '))\n",
    "count = 0\n",
    "for char in a[:4]:\n",
    "    if char.isupper():\n",
    "        count +=1\n",
    "if count>=2:\n",
    "    print(a.upper())\n",
    "else:\n",
    "    print(a)"
   ]
  },
  {
   "cell_type": "raw",
   "id": "f667276e",
   "metadata": {},
   "source": [
    "10 . Write a Python program to move spaces to the front of a given string\n",
    "ex:\n",
    "input = sai kamal\n",
    "output = ' saikamal'"
   ]
  },
  {
   "cell_type": "code",
   "execution_count": 14,
   "id": "8a1813e5",
   "metadata": {},
   "outputs": [
    {
     "name": "stdout",
     "output_type": "stream",
     "text": [
      "The output is:    nitinyadavindore\n"
     ]
    }
   ],
   "source": [
    "inputa = 'nitin yadav indore'\n",
    "spacecount = inputa.count(' ')\n",
    "inputa_nonspace = inputa.replace(' ','')\n",
    "outputa = (' '*spacecount)+inputa_nonspace\n",
    "print('The output is: ', outputa)"
   ]
  },
  {
   "cell_type": "code",
   "execution_count": 194,
   "id": "285896dd",
   "metadata": {},
   "outputs": [
    {
     "name": "stdout",
     "output_type": "stream",
     "text": [
      "  nitinyadavindore\n"
     ]
    }
   ],
   "source": [
    "inputa = 'nitin yadav indore'\n",
    "inputalist = inputa.split()\n",
    "space = []\n",
    "for i in inputa: \n",
    "    if i == ' ':\n",
    "        space.append(i)\n",
    "output = space+inputalist\n",
    "outputstr = ''\n",
    "for j in output:\n",
    "    outputstr+=j\n",
    "print(outputstr)"
   ]
  },
  {
   "cell_type": "code",
   "execution_count": 1,
   "id": "41635ab2",
   "metadata": {},
   "outputs": [
    {
     "name": "stdout",
     "output_type": "stream",
     "text": [
      "Please enter a string: nitin yada indore\n",
      "  nitinyadaindore\n"
     ]
    }
   ],
   "source": [
    "inputa = str(input('Please enter a string: '))\n",
    "inputalist = inputa.split()\n",
    "space = []\n",
    "for i in inputa: \n",
    "    if i == ' ':\n",
    "        space.append(i)\n",
    "output = space+inputalist\n",
    "outputstr = ''\n",
    "for j in output:\n",
    "    outputstr+=j\n",
    "print(outputstr)"
   ]
  },
  {
   "cell_type": "code",
   "execution_count": 12,
   "id": "a92392b9",
   "metadata": {},
   "outputs": [
    {
     "name": "stdout",
     "output_type": "stream",
     "text": [
      "   nipatyakam\n",
      "      IamNitnYadav,stainginIndore\n",
      "         Iamnitinyadav,workinginIndore,learningdatascience\n"
     ]
    }
   ],
   "source": [
    "def spacemove(string):\n",
    "    inputalist = string.split()\n",
    "    space = []\n",
    "    for i in string: \n",
    "        if i == ' ':\n",
    "            space.append(i)\n",
    "    output = space+inputalist\n",
    "    outputstr = ''\n",
    "    for j in output:\n",
    "        outputstr+=j\n",
    "    print(outputstr)\n",
    "    \n",
    "spacemove('ni pat ya kam')\n",
    "spacemove('I am Nitn Yadav, staing in Indore')\n",
    "spacemove('I am nitin yadav, working in Indore, learning data science')"
   ]
  },
  {
   "cell_type": "code",
   "execution_count": null,
   "id": "66f47de6",
   "metadata": {},
   "outputs": [],
   "source": []
  },
  {
   "cell_type": "raw",
   "id": "bf02aa26",
   "metadata": {},
   "source": [
    "11 .  Write a Python program to count Uppercase, Lowercase, special character and numeric values in a given string."
   ]
  },
  {
   "cell_type": "code",
   "execution_count": 121,
   "id": "7801bf8a",
   "metadata": {},
   "outputs": [
    {
     "name": "stdout",
     "output_type": "stream",
     "text": [
      "I am NIitn #$$ Indore 85963\n",
      "Uppercase count 4\n",
      "Lowercase count 10\n",
      "Special Character count 3\n",
      "Numeric count 5\n",
      "Space count 5\n"
     ]
    }
   ],
   "source": [
    "uppercase = 0\n",
    "lowercase = 0\n",
    "specialchar = 0\n",
    "numeric = 0\n",
    "space = 0\n",
    "string = input()\n",
    "for i in string:\n",
    "    if i>= 'A' and i<='Z':\n",
    "        uppercase+=1\n",
    "    elif i>= 'a' and i<='z':\n",
    "        lowercase+=1\n",
    "    elif i>= '0' and i<='9':\n",
    "        numeric+=1\n",
    "    elif i== ' ':\n",
    "        space+=1\n",
    "    else:\n",
    "        specialchar+=1\n",
    "    \n",
    "print('Uppercase count', uppercase)\n",
    "print('Lowercase count', lowercase)\n",
    "print('Special Character count', specialchar)\n",
    "print('Numeric count', numeric)\n",
    "print('Space count', space)"
   ]
  },
  {
   "cell_type": "code",
   "execution_count": null,
   "id": "6c4aa0b4",
   "metadata": {},
   "outputs": [],
   "source": []
  }
 ],
 "metadata": {
  "kernelspec": {
   "display_name": "Python 3 (ipykernel)",
   "language": "python",
   "name": "python3"
  },
  "language_info": {
   "codemirror_mode": {
    "name": "ipython",
    "version": 3
   },
   "file_extension": ".py",
   "mimetype": "text/x-python",
   "name": "python",
   "nbconvert_exporter": "python",
   "pygments_lexer": "ipython3",
   "version": "3.10.9"
  }
 },
 "nbformat": 4,
 "nbformat_minor": 5
}
