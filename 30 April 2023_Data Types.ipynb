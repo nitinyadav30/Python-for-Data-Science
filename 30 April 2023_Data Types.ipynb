{
 "cells": [
  {
   "cell_type": "code",
   "execution_count": 8,
   "id": "08f8984b",
   "metadata": {},
   "outputs": [
    {
     "name": "stdout",
     "output_type": "stream",
     "text": [
      "n\n"
     ]
    }
   ],
   "source": [
    "a = 'datascience'\n",
    "print(a[8]) #forward index"
   ]
  },
  {
   "cell_type": "code",
   "execution_count": 7,
   "id": "73c2844a",
   "metadata": {},
   "outputs": [
    {
     "name": "stdout",
     "output_type": "stream",
     "text": [
      "at\n"
     ]
    }
   ],
   "source": [
    "print(a[1:3])\n",
    "#slicing operation. Python follows (n-1) category (from starting as well as to end)"
   ]
  },
  {
   "cell_type": "code",
   "execution_count": 9,
   "id": "4030248c",
   "metadata": {},
   "outputs": [],
   "source": [
    "b = 'data science'"
   ]
  },
  {
   "cell_type": "code",
   "execution_count": 13,
   "id": "24251914",
   "metadata": {},
   "outputs": [
    {
     "name": "stdout",
     "output_type": "stream",
     "text": [
      "ta sc\n"
     ]
    }
   ],
   "source": [
    "print(b[2:7])\n",
    "#getting 'ta sc' printed (using FW direction)"
   ]
  },
  {
   "cell_type": "code",
   "execution_count": 17,
   "id": "0d6c7cd4",
   "metadata": {},
   "outputs": [
    {
     "name": "stdout",
     "output_type": "stream",
     "text": [
      "ta sc\n"
     ]
    }
   ],
   "source": [
    "print(b[-10:-5])"
   ]
  },
  {
   "cell_type": "code",
   "execution_count": 18,
   "id": "11a38327",
   "metadata": {},
   "outputs": [
    {
     "name": "stdout",
     "output_type": "stream",
     "text": [
      "atascience\n"
     ]
    }
   ],
   "source": [
    "print(a[1:56])"
   ]
  },
  {
   "cell_type": "code",
   "execution_count": 19,
   "id": "c2b0f01c",
   "metadata": {},
   "outputs": [],
   "source": [
    "a = 'data science'"
   ]
  },
  {
   "cell_type": "code",
   "execution_count": 24,
   "id": "691531c1",
   "metadata": {},
   "outputs": [
    {
     "name": "stdout",
     "output_type": "stream",
     "text": [
      "aasie\n"
     ]
    }
   ],
   "source": [
    "print(a[1:11:2])"
   ]
  },
  {
   "cell_type": "code",
   "execution_count": 28,
   "id": "ec576c77",
   "metadata": {},
   "outputs": [
    {
     "name": "stdout",
     "output_type": "stream",
     "text": [
      "iclnlg\n"
     ]
    }
   ],
   "source": [
    "a = 'artificial intelligence'\n",
    "print(a[3:21:3])"
   ]
  },
  {
   "cell_type": "code",
   "execution_count": 29,
   "id": "ac50e685",
   "metadata": {},
   "outputs": [],
   "source": [
    "a = \"nitin\""
   ]
  },
  {
   "cell_type": "code",
   "execution_count": 30,
   "id": "456e325b",
   "metadata": {},
   "outputs": [
    {
     "name": "stdout",
     "output_type": "stream",
     "text": [
      "nitin\n"
     ]
    }
   ],
   "source": [
    "print(a)"
   ]
  },
  {
   "cell_type": "code",
   "execution_count": 31,
   "id": "feb13fe6",
   "metadata": {},
   "outputs": [],
   "source": [
    "b = a.replace('t' , 'n')"
   ]
  },
  {
   "cell_type": "code",
   "execution_count": 32,
   "id": "3491ea1f",
   "metadata": {},
   "outputs": [
    {
     "name": "stdout",
     "output_type": "stream",
     "text": [
      "ninin\n"
     ]
    }
   ],
   "source": [
    "print(b)"
   ]
  },
  {
   "cell_type": "code",
   "execution_count": 35,
   "id": "f9129f15",
   "metadata": {},
   "outputs": [
    {
     "data": {
      "text/plain": [
       "'Nitin yadav'"
      ]
     },
     "execution_count": 35,
     "metadata": {},
     "output_type": "execute_result"
    }
   ],
   "source": [
    "a = 'nitin yadav'\n",
    "a.capitalize()"
   ]
  },
  {
   "cell_type": "code",
   "execution_count": 38,
   "id": "cf75f1b2",
   "metadata": {},
   "outputs": [
    {
     "data": {
      "text/plain": [
       "True"
      ]
     },
     "execution_count": 38,
     "metadata": {},
     "output_type": "execute_result"
    }
   ],
   "source": [
    "a.startswith('n')\n",
    "#use of startswith and endswith is to use fo boolean operations."
   ]
  },
  {
   "cell_type": "code",
   "execution_count": 37,
   "id": "adfe24b7",
   "metadata": {},
   "outputs": [
    {
     "data": {
      "text/plain": [
       "True"
      ]
     },
     "execution_count": 37,
     "metadata": {},
     "output_type": "execute_result"
    }
   ],
   "source": [
    "a.endswith('v')"
   ]
  },
  {
   "cell_type": "code",
   "execution_count": 39,
   "id": "15b1710e",
   "metadata": {},
   "outputs": [
    {
     "data": {
      "text/plain": [
       "10"
      ]
     },
     "execution_count": 39,
     "metadata": {},
     "output_type": "execute_result"
    }
   ],
   "source": [
    "a.index('v')"
   ]
  },
  {
   "cell_type": "code",
   "execution_count": null,
   "id": "fd01fe00",
   "metadata": {},
   "outputs": [],
   "source": []
  }
 ],
 "metadata": {
  "kernelspec": {
   "display_name": "Python 3 (ipykernel)",
   "language": "python",
   "name": "python3"
  },
  "language_info": {
   "codemirror_mode": {
    "name": "ipython",
    "version": 3
   },
   "file_extension": ".py",
   "mimetype": "text/x-python",
   "name": "python",
   "nbconvert_exporter": "python",
   "pygments_lexer": "ipython3",
   "version": "3.10.9"
  }
 },
 "nbformat": 4,
 "nbformat_minor": 5
}
