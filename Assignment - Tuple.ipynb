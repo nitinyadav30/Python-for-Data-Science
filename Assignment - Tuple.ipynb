{
 "cells": [
  {
   "cell_type": "code",
   "execution_count": 7,
   "id": "0d64e0a3",
   "metadata": {},
   "outputs": [
    {
     "name": "stdout",
     "output_type": "stream",
     "text": [
      "<class 'tuple'>\n"
     ]
    }
   ],
   "source": [
    "#Question 1: Write a Python program to create an empty tuple.\n",
    "tuple = ()\n",
    "print(type(tuple))"
   ]
  },
  {
   "cell_type": "code",
   "execution_count": 4,
   "id": "e7c462b9",
   "metadata": {},
   "outputs": [
    {
     "data": {
      "text/plain": [
       "0"
      ]
     },
     "execution_count": 4,
     "metadata": {},
     "output_type": "execute_result"
    }
   ],
   "source": [
    "#Question 2: Write a Python program to access the elements of a tuple.\n",
    "tuple = (\"nitin\", 'yadav', 'indore')\n",
    "tuple.index(\"nitin\")\n",
    "#In tuple we can only know the index number of a value, we cant call it using the index number"
   ]
  },
  {
   "cell_type": "code",
   "execution_count": 6,
   "id": "7180d5cb",
   "metadata": {},
   "outputs": [
    {
     "data": {
      "text/plain": [
       "('nitin', 'yadav', 'indore', 'bhopal', 'India')"
      ]
     },
     "execution_count": 6,
     "metadata": {},
     "output_type": "execute_result"
    }
   ],
   "source": [
    "#Question 3: Write a Python program to concatenate two tuples.\n",
    "tuple1 = (\"nitin\", 'yadav', 'indore')\n",
    "tuple2 = (\"bhopal\", \"India\")\n",
    "tuple3 = tuple1+tuple2\n",
    "tuple3"
   ]
  },
  {
   "cell_type": "code",
   "execution_count": 8,
   "id": "b107c4d1",
   "metadata": {},
   "outputs": [
    {
     "data": {
      "text/plain": [
       "3"
      ]
     },
     "execution_count": 8,
     "metadata": {},
     "output_type": "execute_result"
    }
   ],
   "source": [
    "#Question 4: Write a Python program to find the length of a tuple.\n",
    "tuple1 = (\"nitin\", 'yadav', 'indore')\n",
    "len(tuple1)"
   ]
  },
  {
   "cell_type": "code",
   "execution_count": 9,
   "id": "2d64e888",
   "metadata": {},
   "outputs": [
    {
     "name": "stdout",
     "output_type": "stream",
     "text": [
      "['nitin', 'yadav', 'indore']\n"
     ]
    }
   ],
   "source": [
    "#Question 5: Write a Python program to convert a tuple into a list.\n",
    "tuple1 = (\"nitin\", 'yadav', 'indore')\n",
    "list1 = list(tuple1)\n",
    "print(list1)"
   ]
  },
  {
   "cell_type": "code",
   "execution_count": 14,
   "id": "4b4a811c",
   "metadata": {},
   "outputs": [
    {
     "name": "stdout",
     "output_type": "stream",
     "text": [
      "The min value in the tuple is: indore\n",
      "The max value in the tuple is: yadav\n"
     ]
    }
   ],
   "source": [
    "#Question 6: Write a Python program to find the maximum and minimum elements in a tuple.\n",
    "tuple1 = (\"nitin\", 'yadav', 'indore')\n",
    "print(\"The min value in the tuple is:\" , min(tuple1))\n",
    "print(\"The max value in the tuple is:\" , max(tuple1))"
   ]
  },
  {
   "cell_type": "code",
   "execution_count": 15,
   "id": "4460eb78",
   "metadata": {},
   "outputs": [
    {
     "name": "stdout",
     "output_type": "stream",
     "text": [
      "The min value in the tuple is: 1\n",
      "The max value in the tuple is: 89\n"
     ]
    }
   ],
   "source": [
    "tuple1 = (1,2,5,2,5,52,56,89)\n",
    "print(\"The min value in the tuple is:\" , min(tuple1))\n",
    "print(\"The max value in the tuple is:\" , max(tuple1))"
   ]
  },
  {
   "cell_type": "code",
   "execution_count": 17,
   "id": "7cc20250",
   "metadata": {},
   "outputs": [
    {
     "name": "stdout",
     "output_type": "stream",
     "text": [
      "the eliment is there in tuple\n"
     ]
    }
   ],
   "source": [
    "#Question 7: Write a Python program to check if an element exists in a tuple.\n",
    "tuple1 = (\"nitin\", 'yadav', 'indore')\n",
    "if \"nitin\" in tuple1:\n",
    "    print(\"the eliment is there in tuple\")\n",
    "else: \n",
    "    print(\"the eliment is not there in tuple\")"
   ]
  },
  {
   "cell_type": "code",
   "execution_count": 20,
   "id": "ff858859",
   "metadata": {},
   "outputs": [
    {
     "name": "stdout",
     "output_type": "stream",
     "text": [
      "the given eliment occurance count is: 3\n"
     ]
    }
   ],
   "source": [
    "#Question 8: Write a Python program to count the number of occurrences of an element in a tuple.\n",
    "tuple1 = (\"nitin\", 'yadav', 'indore', \"nitin\", \"nitin\",)\n",
    "eliment = \"nitin\"\n",
    "count = 0\n",
    "for i in tuple1:\n",
    "    if i == eliment:\n",
    "        count+=1\n",
    "    else:\n",
    "        pass\n",
    "print(\"the given eliment occurance count is:\", count)"
   ]
  },
  {
   "cell_type": "code",
   "execution_count": 21,
   "id": "3b075fb7",
   "metadata": {},
   "outputs": [
    {
     "name": "stdout",
     "output_type": "stream",
     "text": [
      "nitin\n",
      "yadav\n",
      "indore\n",
      "nitin\n",
      "nitin\n"
     ]
    }
   ],
   "source": [
    "#Question 9: Write a Python program to slice a tuple.\n",
    "tuple1 = (\"nitin\", 'yadav', 'indore', \"nitin\", \"nitin\",)\n",
    "for i in tuple1:\n",
    "    print(i)"
   ]
  },
  {
   "cell_type": "code",
   "execution_count": 27,
   "id": "789ffed6",
   "metadata": {},
   "outputs": [
    {
     "name": "stdout",
     "output_type": "stream",
     "text": [
      "nitin\n",
      "yadav\n",
      "indore\n"
     ]
    }
   ],
   "source": [
    "#Question 10: Write a Python program to unpack a tuple into multiple variables.\n",
    "tuple1 = (\"nitin\", 'yadav', 'indore')\n",
    "var1,var2, var3 = tuple1\n",
    "print(var1)\n",
    "print(var2)\n",
    "print(var3)"
   ]
  },
  {
   "cell_type": "code",
   "execution_count": 28,
   "id": "e5b3375b",
   "metadata": {},
   "outputs": [
    {
     "name": "stdout",
     "output_type": "stream",
     "text": [
      "nitin\n",
      "yadav\n",
      "['indore', 'bhopal']\n"
     ]
    }
   ],
   "source": [
    "tuple1 = (\"nitin\", 'yadav', 'indore', \"bhopal\")\n",
    "var1,var2, *var3 = tuple1\n",
    "print(var1)\n",
    "print(var2)\n",
    "print(var3)"
   ]
  },
  {
   "cell_type": "code",
   "execution_count": null,
   "id": "a91876d4",
   "metadata": {},
   "outputs": [],
   "source": []
  }
 ],
 "metadata": {
  "kernelspec": {
   "display_name": "Python 3 (ipykernel)",
   "language": "python",
   "name": "python3"
  },
  "language_info": {
   "codemirror_mode": {
    "name": "ipython",
    "version": 3
   },
   "file_extension": ".py",
   "mimetype": "text/x-python",
   "name": "python",
   "nbconvert_exporter": "python",
   "pygments_lexer": "ipython3",
   "version": "3.10.9"
  }
 },
 "nbformat": 4,
 "nbformat_minor": 5
}
