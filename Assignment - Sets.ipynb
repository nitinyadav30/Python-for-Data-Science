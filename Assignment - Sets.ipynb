{
 "cells": [
  {
   "cell_type": "code",
   "execution_count": 37,
   "id": "0304030b",
   "metadata": {},
   "outputs": [
    {
     "ename": "TypeError",
     "evalue": "'dict' object is not callable",
     "output_type": "error",
     "traceback": [
      "\u001b[1;31m---------------------------------------------------------------------------\u001b[0m",
      "\u001b[1;31mTypeError\u001b[0m                                 Traceback (most recent call last)",
      "Cell \u001b[1;32mIn[37], line 2\u001b[0m\n\u001b[0;32m      1\u001b[0m \u001b[38;5;66;03m#Question 1: Write a Python program to create an empty set.\u001b[39;00m\n\u001b[1;32m----> 2\u001b[0m s \u001b[38;5;241m=\u001b[39m \u001b[38;5;28;43mset\u001b[39;49m\u001b[43m(\u001b[49m\u001b[43m)\u001b[49m\n\u001b[0;32m      3\u001b[0m \u001b[38;5;28mprint\u001b[39m(\u001b[38;5;28mtype\u001b[39m(s))\n",
      "\u001b[1;31mTypeError\u001b[0m: 'dict' object is not callable"
     ]
    }
   ],
   "source": [
    "#Question 1: Write a Python program to create an empty set.\n",
    "s = set()\n",
    "print(type(s))"
   ]
  },
  {
   "cell_type": "code",
   "execution_count": 9,
   "id": "8baf005a",
   "metadata": {},
   "outputs": [
    {
     "name": "stdout",
     "output_type": "stream",
     "text": [
      "both sets are not equal\n"
     ]
    }
   ],
   "source": [
    "#Question 2: Write a Python program to check if two sets are equal.\n",
    "s1 = {1,2,3,4}\n",
    "s2 = {14,2,3,4}\n",
    "if s1==s2:\n",
    "    print(\"both sets are equal\")\n",
    "else:\n",
    "    print(\"both sets are not equal\")"
   ]
  },
  {
   "cell_type": "code",
   "execution_count": 10,
   "id": "5162ca95",
   "metadata": {},
   "outputs": [
    {
     "name": "stdout",
     "output_type": "stream",
     "text": [
      "both sets are equal\n"
     ]
    }
   ],
   "source": [
    "s1 = {1,2,3,4}\n",
    "s2 = {1,2,3,4}\n",
    "if s1==s2:\n",
    "    print(\"both sets are equal\")\n",
    "else:\n",
    "    print(\"both sets are not equal\")"
   ]
  },
  {
   "cell_type": "code",
   "execution_count": 11,
   "id": "d66a8a3f",
   "metadata": {},
   "outputs": [
    {
     "name": "stdout",
     "output_type": "stream",
     "text": [
      "both sets are equal\n"
     ]
    }
   ],
   "source": [
    "s1 = {'nitin', 'yadav'}\n",
    "s2 = {'nitin', 'yadav'}\n",
    "if s1==s2:\n",
    "    print(\"both sets are equal\")\n",
    "else:\n",
    "    print(\"both sets are not equal\")"
   ]
  },
  {
   "cell_type": "code",
   "execution_count": 12,
   "id": "2f632281",
   "metadata": {},
   "outputs": [
    {
     "name": "stdout",
     "output_type": "stream",
     "text": [
      "both sets are equal\n"
     ]
    }
   ],
   "source": [
    "s1 = {'nitin', 'yadav'}\n",
    "s2 = {'yadav', 'nitin'}\n",
    "if s1==s2:\n",
    "    print(\"both sets are equal\")\n",
    "else:\n",
    "    print(\"both sets are not equal\")"
   ]
  },
  {
   "cell_type": "code",
   "execution_count": 13,
   "id": "beaf84d5",
   "metadata": {},
   "outputs": [
    {
     "name": "stdout",
     "output_type": "stream",
     "text": [
      "{'yadav', 'nitin', 'Indore'}\n"
     ]
    }
   ],
   "source": [
    "#Question 3: Write a Python program to add an element to a set.\n",
    "s1 = {'nitin', 'yadav'}\n",
    "s1.add(\"Indore\")\n",
    "print(s1)"
   ]
  },
  {
   "cell_type": "code",
   "execution_count": 14,
   "id": "9022c7fe",
   "metadata": {},
   "outputs": [
    {
     "data": {
      "text/plain": [
       "'yadav'"
      ]
     },
     "execution_count": 14,
     "metadata": {},
     "output_type": "execute_result"
    }
   ],
   "source": [
    "#Question 4: Write a Python program to remove an element from a set.\n",
    "s1 = {'yadav', 'nitin', 'Indore'}\n",
    "s1.pop()"
   ]
  },
  {
   "cell_type": "code",
   "execution_count": 17,
   "id": "6cb513eb",
   "metadata": {},
   "outputs": [
    {
     "name": "stdout",
     "output_type": "stream",
     "text": [
      "{'yadav', 'Indore'}\n"
     ]
    }
   ],
   "source": [
    "s1 = {'yadav', 'nitin', 'Indore'}\n",
    "s1.discard('nitin')\n",
    "print(s1)"
   ]
  },
  {
   "cell_type": "code",
   "execution_count": 18,
   "id": "18e74acf",
   "metadata": {},
   "outputs": [
    {
     "name": "stdout",
     "output_type": "stream",
     "text": [
      "{'yadav', 'Indore'}\n"
     ]
    }
   ],
   "source": [
    "s1 = {'yadav', 'nitin', 'Indore'}\n",
    "s1.remove('nitin')\n",
    "print(s1)"
   ]
  },
  {
   "cell_type": "code",
   "execution_count": 20,
   "id": "afff6adb",
   "metadata": {},
   "outputs": [
    {
     "name": "stdout",
     "output_type": "stream",
     "text": [
      "{'yadav', 'nitin', 'MP', 'indore'}\n"
     ]
    }
   ],
   "source": [
    "#Question 5: Write a Python program to find the union of two sets.\n",
    "s1 = {'nitin', 'yadav', \"indore\"}\n",
    "s2 = {'yadav', 'nitin', \"MP\"}\n",
    "s3 = s1.union(s2)\n",
    "print(s3)"
   ]
  },
  {
   "cell_type": "code",
   "execution_count": 21,
   "id": "b1769e9a",
   "metadata": {},
   "outputs": [
    {
     "name": "stdout",
     "output_type": "stream",
     "text": [
      "{'yadav', 'nitin'}\n"
     ]
    }
   ],
   "source": [
    "#Question 6: Write a Python program to find the intersection of two sets.\n",
    "s1 = {'nitin', 'yadav', \"indore\"}\n",
    "s2 = {'yadav', 'nitin', \"MP\"}\n",
    "s3 = s1.intersection(s2)\n",
    "print(s3)"
   ]
  },
  {
   "cell_type": "code",
   "execution_count": 24,
   "id": "effb0527",
   "metadata": {},
   "outputs": [
    {
     "name": "stdout",
     "output_type": "stream",
     "text": [
      "{'indore'}\n",
      "{'MP'}\n"
     ]
    }
   ],
   "source": [
    "#Question 7: Write a Python program to find the difference between two sets.\n",
    "s1 = {'nitin', 'yadav', \"indore\"}\n",
    "s2 = {'yadav', 'nitin', \"MP\"}\n",
    "s3 = s1.difference(s2)\n",
    "s4 = s2.difference(s1)\n",
    "print(s3)\n",
    "print(s4)"
   ]
  },
  {
   "cell_type": "code",
   "execution_count": 27,
   "id": "50636d0e",
   "metadata": {},
   "outputs": [
    {
     "name": "stdout",
     "output_type": "stream",
     "text": [
      "True\n"
     ]
    }
   ],
   "source": [
    "#Question 8: Write a Python program to check if a set is a subset of another set.\n",
    "s1 = {'nitin', 'yadav', \"indore\", \"bhopal\", \"India\"}\n",
    "s2 = {'yadav', 'nitin'}\n",
    "s3 = s2.issubset(s1)\n",
    "print(s3)"
   ]
  },
  {
   "cell_type": "code",
   "execution_count": 28,
   "id": "d746fbf3",
   "metadata": {},
   "outputs": [
    {
     "name": "stdout",
     "output_type": "stream",
     "text": [
      "{'India', 'yadav', 'nitin', 'bhopal', 'indore'}\n"
     ]
    }
   ],
   "source": [
    "#Question 9: Write a Python program to remove all duplicate elements from a set.\n",
    "s1 = {'nitin', 'yadav', \"indore\", \"bhopal\", \"India\", 'yadav', 'nitin'}\n",
    "print(s1)"
   ]
  },
  {
   "cell_type": "code",
   "execution_count": 34,
   "id": "5405a647",
   "metadata": {},
   "outputs": [
    {
     "name": "stdout",
     "output_type": "stream",
     "text": [
      "The min value in the set is:  1\n",
      "The max value in the set is:  90\n"
     ]
    }
   ],
   "source": [
    "#Question 10: Write a Python program to find the maximum and minimum elements in a set.\n",
    "s1 = {1,2,3,50,60,80,90,52,43}\n",
    "s2 = list(s1)\n",
    "print(\"The min value in the set is: \", min(s2))\n",
    "print(\"The max value in the set is: \", max(s2))"
   ]
  },
  {
   "cell_type": "code",
   "execution_count": null,
   "id": "ebec95c8",
   "metadata": {},
   "outputs": [],
   "source": []
  }
 ],
 "metadata": {
  "kernelspec": {
   "display_name": "Python 3 (ipykernel)",
   "language": "python",
   "name": "python3"
  },
  "language_info": {
   "codemirror_mode": {
    "name": "ipython",
    "version": 3
   },
   "file_extension": ".py",
   "mimetype": "text/x-python",
   "name": "python",
   "nbconvert_exporter": "python",
   "pygments_lexer": "ipython3",
   "version": "3.10.9"
  }
 },
 "nbformat": 4,
 "nbformat_minor": 5
}
